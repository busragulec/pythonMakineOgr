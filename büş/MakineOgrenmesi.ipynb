{
 "cells": [
  {
   "cell_type": "code",
   "execution_count": 1,
   "id": "e12ed952-93d1-47f9-a8ae-b733630f6e9e",
   "metadata": {},
   "outputs": [],
   "source": [
    "                                         !!!MAKİNE ÖĞRENMESİ\n",
    "\n",
    "1.  Sınıflandırma Problemleri\n",
    "\n",
    "#Sınıflandırmada, bir veri kümesi (data set) birbirinden farklı ve önceden belirlenmiş sınıflardan birine \n",
    "#atanmasıdır. Sınıflandırma algoritmaları, verilen eğitim kümesinden hangi veriyi hangi sınıfa atayacağını\n",
    "#öğrenir.  Daha sonra test verilerini doğru sınıflara atamaya çalışır.\n",
    "\n",
    "#Verilerin sınıflarını belirten değerlere etiket (label) denir.\n",
    "\n",
    "1.1.   • Lojistik Regresyon (LR)\n",
    "1.2.   • Naive Bayse (NB)\n",
    "1.3.   • K-En Yakın Komşu (KNN) \n",
    "1.4.   • Destek Vektör Sınıflandırıcı (SVC) \n",
    "1.5.   • RBF Destek Vektör Sınıflandırıcı (SVC) \n",
    "1.6.   • Çok Katmanlı Algılayıcılar (ANN) \n",
    "1.7.   • Classification and Regression Tress (CART) \n",
    "1.8.   • Random Forests (RF) \n",
    "1.9.   • Gradient Boosting Machines (GBM) \n",
    "1.10.  • Extreme Gradient Boosting (XGBoost) \n",
    "1.11.  • LightGBM \n",
    "1.12.  • CatBoost "
   ]
  },
  {
   "cell_type": "code",
   "execution_count": 2,
   "id": "0846a8aa-d937-4e37-acc7-7d3228747d2c",
   "metadata": {},
   "outputs": [],
   "source": [
    "import numpy as np\n",
    "import pandas as pd \n",
    "import statsmodels.api as sm\n",
    "import statsmodels.formula.api as smf\n",
    "import seaborn as sns\n",
    "from sklearn.preprocessing import scale \n",
    "from sklearn.model_selection import train_test_split, GridSearchCV, cross_val_score\n",
    "from sklearn.metrics import confusion_matrix, accuracy_score, classification_report\n",
    "from sklearn.metrics import roc_auc_score,roc_curve\n",
    "import statsmodels.formula.api as smf\n",
    "import matplotlib.pyplot as plt\n",
    "from sklearn.neighbors import KNeighborsClassifier\n",
    "from sklearn.discriminant_analysis import LinearDiscriminantAnalysis\n",
    "from sklearn.linear_model import LogisticRegression\n",
    "from sklearn.svm import SVC\n",
    "from sklearn.naive_bayes import GaussianNB\n",
    "from sklearn import tree\n",
    "from sklearn.ensemble import RandomForestClassifier\n",
    "from sklearn.ensemble import GradientBoostingClassifier\n",
    "from xgboost import XGBClassifier\n",
    "from lightgbm import LGBMClassifier\n",
    "from catboost import CatBoostClassifier\n",
    "\n",
    "\n",
    "from sklearn.preprocessing import StandardScaler  \n",
    "from sklearn.neural_network import MLPClassifier\n",
    "from sklearn.tree import DecisionTreeClassifier\n",
    "from skompiler import skompile\n",
    "\n",
    "\n",
    "\n",
    "from warnings import filterwarnings\n",
    "filterwarnings('ignore')"
   ]
  },
  {
   "cell_type": "code",
   "execution_count": 3,
   "id": "3a50228e-1919-4c33-923b-4befd7c10e6b",
   "metadata": {},
   "outputs": [],
   "source": [
    "                                     1.1  Lojistik Regresyon \n",
    "#Temel amaç, sınıflandırma problemleri için bağımlı ve bağımsız değişkenler arasındaki ilişkiyi tanımlayan \n",
    "#doğrusal bir model kurmaktır.\n",
    "\n",
    "#Bağımlı değişken burada kategoriktir.\n",
    "\n",
    "#Lojistik regresyon sonucu bir eşik değerinden geçirilerek karar verme işlemi gerçekleştirilir.\n",
    "\n",
    "#Lojistik fonksiyonu sayesinde üretilen değerler [0,1] arasında olur.  \n"
   ]
  },
  {
   "cell_type": "code",
   "execution_count": 4,
   "id": "1a23c234-d3ea-48fc-a252-5a87ca5c6228",
   "metadata": {},
   "outputs": [],
   "source": [
    "# Model "
   ]
  },
  {
   "cell_type": "code",
   "execution_count": 5,
   "id": "f51a364e-5bd3-44a9-a6eb-daffe51b5962",
   "metadata": {},
   "outputs": [
    {
     "data": {
      "text/html": [
       "<div>\n",
       "<style scoped>\n",
       "    .dataframe tbody tr th:only-of-type {\n",
       "        vertical-align: middle;\n",
       "    }\n",
       "\n",
       "    .dataframe tbody tr th {\n",
       "        vertical-align: top;\n",
       "    }\n",
       "\n",
       "    .dataframe thead th {\n",
       "        text-align: right;\n",
       "    }\n",
       "</style>\n",
       "<table border=\"1\" class=\"dataframe\">\n",
       "  <thead>\n",
       "    <tr style=\"text-align: right;\">\n",
       "      <th></th>\n",
       "      <th>sex</th>\n",
       "      <th>age_group</th>\n",
       "      <th>type_of_death</th>\n",
       "      <th>2020</th>\n",
       "      <th>2019</th>\n",
       "      <th>2018</th>\n",
       "      <th>2017</th>\n",
       "      <th>2016</th>\n",
       "      <th>2015</th>\n",
       "      <th>2014</th>\n",
       "      <th>2013</th>\n",
       "    </tr>\n",
       "  </thead>\n",
       "  <tbody>\n",
       "    <tr>\n",
       "      <th>0</th>\n",
       "      <td>Males</td>\n",
       "      <td>All ages</td>\n",
       "      <td>Identified deaths</td>\n",
       "      <td>430</td>\n",
       "      <td>497</td>\n",
       "      <td>478</td>\n",
       "      <td>414</td>\n",
       "      <td>414</td>\n",
       "      <td>379</td>\n",
       "      <td>348</td>\n",
       "      <td>360</td>\n",
       "    </tr>\n",
       "    <tr>\n",
       "      <th>1</th>\n",
       "      <td>Males</td>\n",
       "      <td>15-19</td>\n",
       "      <td>Identified deaths</td>\n",
       "      <td>2</td>\n",
       "      <td>1</td>\n",
       "      <td>6</td>\n",
       "      <td>2</td>\n",
       "      <td>6</td>\n",
       "      <td>2</td>\n",
       "      <td>5</td>\n",
       "      <td>3</td>\n",
       "    </tr>\n",
       "    <tr>\n",
       "      <th>2</th>\n",
       "      <td>Males</td>\n",
       "      <td>20-24</td>\n",
       "      <td>Identified deaths</td>\n",
       "      <td>11</td>\n",
       "      <td>11</td>\n",
       "      <td>16</td>\n",
       "      <td>10</td>\n",
       "      <td>15</td>\n",
       "      <td>16</td>\n",
       "      <td>14</td>\n",
       "      <td>11</td>\n",
       "    </tr>\n",
       "    <tr>\n",
       "      <th>3</th>\n",
       "      <td>Males</td>\n",
       "      <td>25-29</td>\n",
       "      <td>Identified deaths</td>\n",
       "      <td>28</td>\n",
       "      <td>26</td>\n",
       "      <td>23</td>\n",
       "      <td>29</td>\n",
       "      <td>29</td>\n",
       "      <td>28</td>\n",
       "      <td>22</td>\n",
       "      <td>22</td>\n",
       "    </tr>\n",
       "    <tr>\n",
       "      <th>4</th>\n",
       "      <td>Males</td>\n",
       "      <td>30-34</td>\n",
       "      <td>Identified deaths</td>\n",
       "      <td>37</td>\n",
       "      <td>42</td>\n",
       "      <td>53</td>\n",
       "      <td>42</td>\n",
       "      <td>35</td>\n",
       "      <td>40</td>\n",
       "      <td>38</td>\n",
       "      <td>45</td>\n",
       "    </tr>\n",
       "  </tbody>\n",
       "</table>\n",
       "</div>"
      ],
      "text/plain": [
       "     sex age_group      type_of_death  2020  2019  2018  2017  2016  2015  \\\n",
       "0  Males  All ages  Identified deaths   430   497   478   414   414   379   \n",
       "1  Males     15-19  Identified deaths     2     1     6     2     6     2   \n",
       "2  Males     20-24  Identified deaths    11    11    16    10    15    16   \n",
       "3  Males     25-29  Identified deaths    28    26    23    29    29    28   \n",
       "4  Males     30-34  Identified deaths    37    42    53    42    35    40   \n",
       "\n",
       "   2014  2013  \n",
       "0   348   360  \n",
       "1     5     3  \n",
       "2    14    11  \n",
       "3    22    22  \n",
       "4    38    45  "
      ]
     },
     "execution_count": 5,
     "metadata": {},
     "output_type": "execute_result"
    }
   ],
   "source": [
    "homele = pd.read_csv(\"data/homele.csv\", sep = \";\")\n",
    "bg = homele.copy()\n",
    "bg = bg.dropna()\n",
    "bg.head()"
   ]
  },
  {
   "cell_type": "code",
   "execution_count": 6,
   "id": "0f52cb69-0400-4691-ae79-c948fdc0eb6f",
   "metadata": {},
   "outputs": [
    {
     "data": {
      "text/html": [
       "<div>\n",
       "<style scoped>\n",
       "    .dataframe tbody tr th:only-of-type {\n",
       "        vertical-align: middle;\n",
       "    }\n",
       "\n",
       "    .dataframe tbody tr th {\n",
       "        vertical-align: top;\n",
       "    }\n",
       "\n",
       "    .dataframe thead th {\n",
       "        text-align: right;\n",
       "    }\n",
       "</style>\n",
       "<table border=\"1\" class=\"dataframe\">\n",
       "  <thead>\n",
       "    <tr style=\"text-align: right;\">\n",
       "      <th></th>\n",
       "      <th>cinsiyet</th>\n",
       "      <th>yas</th>\n",
       "      <th>olum_turu</th>\n",
       "      <th>ikibinyirmi</th>\n",
       "      <th>ikibinondokuz</th>\n",
       "      <th>ikibinonsekiz</th>\n",
       "      <th>ikibinonyedi</th>\n",
       "      <th>ikibinonalti</th>\n",
       "      <th>ikibinonbes</th>\n",
       "      <th>ikibinondort</th>\n",
       "      <th>ikibinonuc</th>\n",
       "    </tr>\n",
       "  </thead>\n",
       "  <tbody>\n",
       "    <tr>\n",
       "      <th>0</th>\n",
       "      <td>Males</td>\n",
       "      <td>All ages</td>\n",
       "      <td>Identified deaths</td>\n",
       "      <td>430</td>\n",
       "      <td>497</td>\n",
       "      <td>478</td>\n",
       "      <td>414</td>\n",
       "      <td>414</td>\n",
       "      <td>379</td>\n",
       "      <td>348</td>\n",
       "      <td>360</td>\n",
       "    </tr>\n",
       "    <tr>\n",
       "      <th>1</th>\n",
       "      <td>Males</td>\n",
       "      <td>15-19</td>\n",
       "      <td>Identified deaths</td>\n",
       "      <td>2</td>\n",
       "      <td>1</td>\n",
       "      <td>6</td>\n",
       "      <td>2</td>\n",
       "      <td>6</td>\n",
       "      <td>2</td>\n",
       "      <td>5</td>\n",
       "      <td>3</td>\n",
       "    </tr>\n",
       "    <tr>\n",
       "      <th>2</th>\n",
       "      <td>Males</td>\n",
       "      <td>20-24</td>\n",
       "      <td>Identified deaths</td>\n",
       "      <td>11</td>\n",
       "      <td>11</td>\n",
       "      <td>16</td>\n",
       "      <td>10</td>\n",
       "      <td>15</td>\n",
       "      <td>16</td>\n",
       "      <td>14</td>\n",
       "      <td>11</td>\n",
       "    </tr>\n",
       "    <tr>\n",
       "      <th>3</th>\n",
       "      <td>Males</td>\n",
       "      <td>25-29</td>\n",
       "      <td>Identified deaths</td>\n",
       "      <td>28</td>\n",
       "      <td>26</td>\n",
       "      <td>23</td>\n",
       "      <td>29</td>\n",
       "      <td>29</td>\n",
       "      <td>28</td>\n",
       "      <td>22</td>\n",
       "      <td>22</td>\n",
       "    </tr>\n",
       "    <tr>\n",
       "      <th>4</th>\n",
       "      <td>Males</td>\n",
       "      <td>30-34</td>\n",
       "      <td>Identified deaths</td>\n",
       "      <td>37</td>\n",
       "      <td>42</td>\n",
       "      <td>53</td>\n",
       "      <td>42</td>\n",
       "      <td>35</td>\n",
       "      <td>40</td>\n",
       "      <td>38</td>\n",
       "      <td>45</td>\n",
       "    </tr>\n",
       "  </tbody>\n",
       "</table>\n",
       "</div>"
      ],
      "text/plain": [
       "  cinsiyet       yas          olum_turu  ikibinyirmi  ikibinondokuz  \\\n",
       "0    Males  All ages  Identified deaths          430            497   \n",
       "1    Males     15-19  Identified deaths            2              1   \n",
       "2    Males     20-24  Identified deaths           11             11   \n",
       "3    Males     25-29  Identified deaths           28             26   \n",
       "4    Males     30-34  Identified deaths           37             42   \n",
       "\n",
       "   ikibinonsekiz  ikibinonyedi  ikibinonalti  ikibinonbes  ikibinondort  \\\n",
       "0            478           414           414          379           348   \n",
       "1              6             2             6            2             5   \n",
       "2             16            10            15           16            14   \n",
       "3             23            29            29           28            22   \n",
       "4             53            42            35           40            38   \n",
       "\n",
       "   ikibinonuc  \n",
       "0         360  \n",
       "1           3  \n",
       "2          11  \n",
       "3          22  \n",
       "4          45  "
      ]
     },
     "execution_count": 6,
     "metadata": {},
     "output_type": "execute_result"
    }
   ],
   "source": [
    "bg.columns= ['cinsiyet', 'yas', 'olum_turu', 'ikibinyirmi', 'ikibinondokuz', 'ikibinonsekiz', 'ikibinonyedi', 'ikibinonalti', 'ikibinonbes','ikibinondort', 'ikibinonuc'] \n",
    "bg.head()"
   ]
  },
  {
   "cell_type": "code",
   "execution_count": 7,
   "id": "9f8b40e2-e855-49ea-a0a6-dffbd7d74b5b",
   "metadata": {},
   "outputs": [
    {
     "name": "stdout",
     "output_type": "stream",
     "text": [
      "<class 'pandas.core.frame.DataFrame'>\n",
      "RangeIndex: 52 entries, 0 to 51\n",
      "Data columns (total 11 columns):\n",
      " #   Column         Non-Null Count  Dtype \n",
      "---  ------         --------------  ----- \n",
      " 0   cinsiyet       52 non-null     object\n",
      " 1   yas            52 non-null     object\n",
      " 2   olum_turu      52 non-null     object\n",
      " 3   ikibinyirmi    52 non-null     int64 \n",
      " 4   ikibinondokuz  52 non-null     int64 \n",
      " 5   ikibinonsekiz  52 non-null     int64 \n",
      " 6   ikibinonyedi   52 non-null     int64 \n",
      " 7   ikibinonalti   52 non-null     int64 \n",
      " 8   ikibinonbes    52 non-null     int64 \n",
      " 9   ikibinondort   52 non-null     int64 \n",
      " 10  ikibinonuc     52 non-null     int64 \n",
      "dtypes: int64(8), object(3)\n",
      "memory usage: 4.6+ KB\n"
     ]
    }
   ],
   "source": [
    "bg.info()"
   ]
  },
  {
   "cell_type": "code",
   "execution_count": 8,
   "id": "ef9b5008-561b-42d4-82c4-1d2f54988bd3",
   "metadata": {},
   "outputs": [],
   "source": [
    "from sklearn.preprocessing import LabelEncoder\n",
    "\n",
    "le=LabelEncoder()\n",
    "cols=[\"cinsiyet\", \"olum_turu\", \"yas\"]\n",
    "for i in cols:\n",
    "    bg[i]=le.fit_transform(bg[i])"
   ]
  },
  {
   "cell_type": "code",
   "execution_count": 9,
   "id": "eba82ec1-6025-4c04-91af-b424b96b5596",
   "metadata": {},
   "outputs": [],
   "source": [
    "#All ages 12\n",
    "#15-19  0\n",
    "#20-24  1\n",
    "#25-29  2\n",
    "#30-34  3\n",
    "#36-39  4\n",
    "#40-44  5\n",
    "#45-49  6\n",
    "#50-54  7\n",
    "#55-59  8\n",
    "#60-64  9\n",
    "#65-69  10\n",
    "#70-74  11"
   ]
  },
  {
   "cell_type": "code",
   "execution_count": 10,
   "id": "c20f3548-3c54-4374-9b17-fa9083decad4",
   "metadata": {},
   "outputs": [
    {
     "data": {
      "text/html": [
       "<div>\n",
       "<style scoped>\n",
       "    .dataframe tbody tr th:only-of-type {\n",
       "        vertical-align: middle;\n",
       "    }\n",
       "\n",
       "    .dataframe tbody tr th {\n",
       "        vertical-align: top;\n",
       "    }\n",
       "\n",
       "    .dataframe thead th {\n",
       "        text-align: right;\n",
       "    }\n",
       "</style>\n",
       "<table border=\"1\" class=\"dataframe\">\n",
       "  <thead>\n",
       "    <tr style=\"text-align: right;\">\n",
       "      <th></th>\n",
       "      <th>cinsiyet</th>\n",
       "      <th>yas</th>\n",
       "      <th>olum_turu</th>\n",
       "      <th>ikibinyirmi</th>\n",
       "      <th>ikibinondokuz</th>\n",
       "      <th>ikibinonsekiz</th>\n",
       "      <th>ikibinonyedi</th>\n",
       "      <th>ikibinonalti</th>\n",
       "      <th>ikibinonbes</th>\n",
       "      <th>ikibinondort</th>\n",
       "      <th>ikibinonuc</th>\n",
       "    </tr>\n",
       "  </thead>\n",
       "  <tbody>\n",
       "    <tr>\n",
       "      <th>0</th>\n",
       "      <td>1</td>\n",
       "      <td>12</td>\n",
       "      <td>1</td>\n",
       "      <td>430</td>\n",
       "      <td>497</td>\n",
       "      <td>478</td>\n",
       "      <td>414</td>\n",
       "      <td>414</td>\n",
       "      <td>379</td>\n",
       "      <td>348</td>\n",
       "      <td>360</td>\n",
       "    </tr>\n",
       "    <tr>\n",
       "      <th>1</th>\n",
       "      <td>1</td>\n",
       "      <td>0</td>\n",
       "      <td>1</td>\n",
       "      <td>2</td>\n",
       "      <td>1</td>\n",
       "      <td>6</td>\n",
       "      <td>2</td>\n",
       "      <td>6</td>\n",
       "      <td>2</td>\n",
       "      <td>5</td>\n",
       "      <td>3</td>\n",
       "    </tr>\n",
       "    <tr>\n",
       "      <th>2</th>\n",
       "      <td>1</td>\n",
       "      <td>1</td>\n",
       "      <td>1</td>\n",
       "      <td>11</td>\n",
       "      <td>11</td>\n",
       "      <td>16</td>\n",
       "      <td>10</td>\n",
       "      <td>15</td>\n",
       "      <td>16</td>\n",
       "      <td>14</td>\n",
       "      <td>11</td>\n",
       "    </tr>\n",
       "    <tr>\n",
       "      <th>3</th>\n",
       "      <td>1</td>\n",
       "      <td>2</td>\n",
       "      <td>1</td>\n",
       "      <td>28</td>\n",
       "      <td>26</td>\n",
       "      <td>23</td>\n",
       "      <td>29</td>\n",
       "      <td>29</td>\n",
       "      <td>28</td>\n",
       "      <td>22</td>\n",
       "      <td>22</td>\n",
       "    </tr>\n",
       "    <tr>\n",
       "      <th>4</th>\n",
       "      <td>1</td>\n",
       "      <td>3</td>\n",
       "      <td>1</td>\n",
       "      <td>37</td>\n",
       "      <td>42</td>\n",
       "      <td>53</td>\n",
       "      <td>42</td>\n",
       "      <td>35</td>\n",
       "      <td>40</td>\n",
       "      <td>38</td>\n",
       "      <td>45</td>\n",
       "    </tr>\n",
       "    <tr>\n",
       "      <th>5</th>\n",
       "      <td>1</td>\n",
       "      <td>4</td>\n",
       "      <td>1</td>\n",
       "      <td>55</td>\n",
       "      <td>69</td>\n",
       "      <td>68</td>\n",
       "      <td>64</td>\n",
       "      <td>50</td>\n",
       "      <td>54</td>\n",
       "      <td>41</td>\n",
       "      <td>50</td>\n",
       "    </tr>\n",
       "    <tr>\n",
       "      <th>6</th>\n",
       "      <td>1</td>\n",
       "      <td>5</td>\n",
       "      <td>1</td>\n",
       "      <td>56</td>\n",
       "      <td>72</td>\n",
       "      <td>68</td>\n",
       "      <td>59</td>\n",
       "      <td>77</td>\n",
       "      <td>60</td>\n",
       "      <td>67</td>\n",
       "      <td>67</td>\n",
       "    </tr>\n",
       "    <tr>\n",
       "      <th>7</th>\n",
       "      <td>1</td>\n",
       "      <td>6</td>\n",
       "      <td>1</td>\n",
       "      <td>77</td>\n",
       "      <td>85</td>\n",
       "      <td>87</td>\n",
       "      <td>75</td>\n",
       "      <td>51</td>\n",
       "      <td>51</td>\n",
       "      <td>49</td>\n",
       "      <td>56</td>\n",
       "    </tr>\n",
       "    <tr>\n",
       "      <th>8</th>\n",
       "      <td>1</td>\n",
       "      <td>7</td>\n",
       "      <td>1</td>\n",
       "      <td>74</td>\n",
       "      <td>81</td>\n",
       "      <td>68</td>\n",
       "      <td>49</td>\n",
       "      <td>65</td>\n",
       "      <td>47</td>\n",
       "      <td>44</td>\n",
       "      <td>47</td>\n",
       "    </tr>\n",
       "    <tr>\n",
       "      <th>9</th>\n",
       "      <td>1</td>\n",
       "      <td>8</td>\n",
       "      <td>1</td>\n",
       "      <td>47</td>\n",
       "      <td>50</td>\n",
       "      <td>40</td>\n",
       "      <td>39</td>\n",
       "      <td>40</td>\n",
       "      <td>31</td>\n",
       "      <td>31</td>\n",
       "      <td>23</td>\n",
       "    </tr>\n",
       "    <tr>\n",
       "      <th>10</th>\n",
       "      <td>1</td>\n",
       "      <td>9</td>\n",
       "      <td>1</td>\n",
       "      <td>22</td>\n",
       "      <td>35</td>\n",
       "      <td>23</td>\n",
       "      <td>20</td>\n",
       "      <td>18</td>\n",
       "      <td>32</td>\n",
       "      <td>13</td>\n",
       "      <td>17</td>\n",
       "    </tr>\n",
       "    <tr>\n",
       "      <th>11</th>\n",
       "      <td>1</td>\n",
       "      <td>10</td>\n",
       "      <td>1</td>\n",
       "      <td>16</td>\n",
       "      <td>16</td>\n",
       "      <td>12</td>\n",
       "      <td>15</td>\n",
       "      <td>19</td>\n",
       "      <td>13</td>\n",
       "      <td>16</td>\n",
       "      <td>9</td>\n",
       "    </tr>\n",
       "    <tr>\n",
       "      <th>12</th>\n",
       "      <td>1</td>\n",
       "      <td>11</td>\n",
       "      <td>1</td>\n",
       "      <td>5</td>\n",
       "      <td>9</td>\n",
       "      <td>14</td>\n",
       "      <td>10</td>\n",
       "      <td>9</td>\n",
       "      <td>5</td>\n",
       "      <td>8</td>\n",
       "      <td>10</td>\n",
       "    </tr>\n",
       "    <tr>\n",
       "      <th>13</th>\n",
       "      <td>0</td>\n",
       "      <td>12</td>\n",
       "      <td>1</td>\n",
       "      <td>60</td>\n",
       "      <td>66</td>\n",
       "      <td>63</td>\n",
       "      <td>77</td>\n",
       "      <td>58</td>\n",
       "      <td>46</td>\n",
       "      <td>53</td>\n",
       "      <td>32</td>\n",
       "    </tr>\n",
       "    <tr>\n",
       "      <th>14</th>\n",
       "      <td>0</td>\n",
       "      <td>0</td>\n",
       "      <td>1</td>\n",
       "      <td>1</td>\n",
       "      <td>0</td>\n",
       "      <td>0</td>\n",
       "      <td>1</td>\n",
       "      <td>1</td>\n",
       "      <td>0</td>\n",
       "      <td>0</td>\n",
       "      <td>1</td>\n",
       "    </tr>\n",
       "    <tr>\n",
       "      <th>15</th>\n",
       "      <td>0</td>\n",
       "      <td>1</td>\n",
       "      <td>1</td>\n",
       "      <td>0</td>\n",
       "      <td>4</td>\n",
       "      <td>4</td>\n",
       "      <td>0</td>\n",
       "      <td>3</td>\n",
       "      <td>2</td>\n",
       "      <td>4</td>\n",
       "      <td>0</td>\n",
       "    </tr>\n",
       "    <tr>\n",
       "      <th>16</th>\n",
       "      <td>0</td>\n",
       "      <td>2</td>\n",
       "      <td>1</td>\n",
       "      <td>5</td>\n",
       "      <td>4</td>\n",
       "      <td>4</td>\n",
       "      <td>8</td>\n",
       "      <td>2</td>\n",
       "      <td>6</td>\n",
       "      <td>5</td>\n",
       "      <td>5</td>\n",
       "    </tr>\n",
       "    <tr>\n",
       "      <th>17</th>\n",
       "      <td>0</td>\n",
       "      <td>3</td>\n",
       "      <td>1</td>\n",
       "      <td>10</td>\n",
       "      <td>8</td>\n",
       "      <td>8</td>\n",
       "      <td>7</td>\n",
       "      <td>12</td>\n",
       "      <td>8</td>\n",
       "      <td>9</td>\n",
       "      <td>2</td>\n",
       "    </tr>\n",
       "    <tr>\n",
       "      <th>18</th>\n",
       "      <td>0</td>\n",
       "      <td>4</td>\n",
       "      <td>1</td>\n",
       "      <td>7</td>\n",
       "      <td>8</td>\n",
       "      <td>12</td>\n",
       "      <td>19</td>\n",
       "      <td>9</td>\n",
       "      <td>7</td>\n",
       "      <td>8</td>\n",
       "      <td>4</td>\n",
       "    </tr>\n",
       "    <tr>\n",
       "      <th>19</th>\n",
       "      <td>0</td>\n",
       "      <td>5</td>\n",
       "      <td>1</td>\n",
       "      <td>16</td>\n",
       "      <td>15</td>\n",
       "      <td>10</td>\n",
       "      <td>15</td>\n",
       "      <td>7</td>\n",
       "      <td>7</td>\n",
       "      <td>11</td>\n",
       "      <td>5</td>\n",
       "    </tr>\n",
       "    <tr>\n",
       "      <th>20</th>\n",
       "      <td>0</td>\n",
       "      <td>6</td>\n",
       "      <td>1</td>\n",
       "      <td>9</td>\n",
       "      <td>7</td>\n",
       "      <td>10</td>\n",
       "      <td>9</td>\n",
       "      <td>9</td>\n",
       "      <td>7</td>\n",
       "      <td>5</td>\n",
       "      <td>7</td>\n",
       "    </tr>\n",
       "    <tr>\n",
       "      <th>21</th>\n",
       "      <td>0</td>\n",
       "      <td>7</td>\n",
       "      <td>1</td>\n",
       "      <td>9</td>\n",
       "      <td>10</td>\n",
       "      <td>4</td>\n",
       "      <td>7</td>\n",
       "      <td>11</td>\n",
       "      <td>3</td>\n",
       "      <td>5</td>\n",
       "      <td>1</td>\n",
       "    </tr>\n",
       "    <tr>\n",
       "      <th>22</th>\n",
       "      <td>0</td>\n",
       "      <td>8</td>\n",
       "      <td>1</td>\n",
       "      <td>2</td>\n",
       "      <td>4</td>\n",
       "      <td>6</td>\n",
       "      <td>3</td>\n",
       "      <td>1</td>\n",
       "      <td>2</td>\n",
       "      <td>2</td>\n",
       "      <td>3</td>\n",
       "    </tr>\n",
       "    <tr>\n",
       "      <th>23</th>\n",
       "      <td>0</td>\n",
       "      <td>9</td>\n",
       "      <td>1</td>\n",
       "      <td>1</td>\n",
       "      <td>4</td>\n",
       "      <td>3</td>\n",
       "      <td>3</td>\n",
       "      <td>1</td>\n",
       "      <td>3</td>\n",
       "      <td>2</td>\n",
       "      <td>2</td>\n",
       "    </tr>\n",
       "    <tr>\n",
       "      <th>24</th>\n",
       "      <td>0</td>\n",
       "      <td>10</td>\n",
       "      <td>1</td>\n",
       "      <td>0</td>\n",
       "      <td>1</td>\n",
       "      <td>0</td>\n",
       "      <td>3</td>\n",
       "      <td>1</td>\n",
       "      <td>0</td>\n",
       "      <td>0</td>\n",
       "      <td>1</td>\n",
       "    </tr>\n",
       "    <tr>\n",
       "      <th>25</th>\n",
       "      <td>0</td>\n",
       "      <td>11</td>\n",
       "      <td>1</td>\n",
       "      <td>0</td>\n",
       "      <td>1</td>\n",
       "      <td>2</td>\n",
       "      <td>2</td>\n",
       "      <td>1</td>\n",
       "      <td>1</td>\n",
       "      <td>2</td>\n",
       "      <td>1</td>\n",
       "    </tr>\n",
       "    <tr>\n",
       "      <th>26</th>\n",
       "      <td>1</td>\n",
       "      <td>12</td>\n",
       "      <td>0</td>\n",
       "      <td>604</td>\n",
       "      <td>687</td>\n",
       "      <td>641</td>\n",
       "      <td>503</td>\n",
       "      <td>496</td>\n",
       "      <td>453</td>\n",
       "      <td>412</td>\n",
       "      <td>443</td>\n",
       "    </tr>\n",
       "    <tr>\n",
       "      <th>27</th>\n",
       "      <td>1</td>\n",
       "      <td>0</td>\n",
       "      <td>0</td>\n",
       "      <td>3</td>\n",
       "      <td>1</td>\n",
       "      <td>8</td>\n",
       "      <td>2</td>\n",
       "      <td>7</td>\n",
       "      <td>2</td>\n",
       "      <td>6</td>\n",
       "      <td>4</td>\n",
       "    </tr>\n",
       "    <tr>\n",
       "      <th>28</th>\n",
       "      <td>1</td>\n",
       "      <td>1</td>\n",
       "      <td>0</td>\n",
       "      <td>15</td>\n",
       "      <td>15</td>\n",
       "      <td>21</td>\n",
       "      <td>12</td>\n",
       "      <td>18</td>\n",
       "      <td>19</td>\n",
       "      <td>17</td>\n",
       "      <td>14</td>\n",
       "    </tr>\n",
       "    <tr>\n",
       "      <th>29</th>\n",
       "      <td>1</td>\n",
       "      <td>2</td>\n",
       "      <td>0</td>\n",
       "      <td>39</td>\n",
       "      <td>36</td>\n",
       "      <td>31</td>\n",
       "      <td>35</td>\n",
       "      <td>35</td>\n",
       "      <td>33</td>\n",
       "      <td>26</td>\n",
       "      <td>27</td>\n",
       "    </tr>\n",
       "    <tr>\n",
       "      <th>30</th>\n",
       "      <td>1</td>\n",
       "      <td>3</td>\n",
       "      <td>0</td>\n",
       "      <td>52</td>\n",
       "      <td>58</td>\n",
       "      <td>71</td>\n",
       "      <td>51</td>\n",
       "      <td>42</td>\n",
       "      <td>48</td>\n",
       "      <td>45</td>\n",
       "      <td>55</td>\n",
       "    </tr>\n",
       "    <tr>\n",
       "      <th>31</th>\n",
       "      <td>1</td>\n",
       "      <td>4</td>\n",
       "      <td>0</td>\n",
       "      <td>77</td>\n",
       "      <td>95</td>\n",
       "      <td>91</td>\n",
       "      <td>78</td>\n",
       "      <td>60</td>\n",
       "      <td>65</td>\n",
       "      <td>49</td>\n",
       "      <td>61</td>\n",
       "    </tr>\n",
       "    <tr>\n",
       "      <th>32</th>\n",
       "      <td>1</td>\n",
       "      <td>5</td>\n",
       "      <td>0</td>\n",
       "      <td>79</td>\n",
       "      <td>99</td>\n",
       "      <td>91</td>\n",
       "      <td>72</td>\n",
       "      <td>92</td>\n",
       "      <td>72</td>\n",
       "      <td>79</td>\n",
       "      <td>82</td>\n",
       "    </tr>\n",
       "    <tr>\n",
       "      <th>33</th>\n",
       "      <td>1</td>\n",
       "      <td>6</td>\n",
       "      <td>0</td>\n",
       "      <td>108</td>\n",
       "      <td>117</td>\n",
       "      <td>117</td>\n",
       "      <td>91</td>\n",
       "      <td>61</td>\n",
       "      <td>61</td>\n",
       "      <td>58</td>\n",
       "      <td>69</td>\n",
       "    </tr>\n",
       "    <tr>\n",
       "      <th>34</th>\n",
       "      <td>1</td>\n",
       "      <td>7</td>\n",
       "      <td>0</td>\n",
       "      <td>104</td>\n",
       "      <td>112</td>\n",
       "      <td>91</td>\n",
       "      <td>60</td>\n",
       "      <td>78</td>\n",
       "      <td>56</td>\n",
       "      <td>52</td>\n",
       "      <td>58</td>\n",
       "    </tr>\n",
       "    <tr>\n",
       "      <th>35</th>\n",
       "      <td>1</td>\n",
       "      <td>8</td>\n",
       "      <td>0</td>\n",
       "      <td>66</td>\n",
       "      <td>69</td>\n",
       "      <td>54</td>\n",
       "      <td>47</td>\n",
       "      <td>48</td>\n",
       "      <td>37</td>\n",
       "      <td>37</td>\n",
       "      <td>28</td>\n",
       "    </tr>\n",
       "    <tr>\n",
       "      <th>36</th>\n",
       "      <td>1</td>\n",
       "      <td>9</td>\n",
       "      <td>0</td>\n",
       "      <td>31</td>\n",
       "      <td>48</td>\n",
       "      <td>31</td>\n",
       "      <td>24</td>\n",
       "      <td>22</td>\n",
       "      <td>38</td>\n",
       "      <td>15</td>\n",
       "      <td>21</td>\n",
       "    </tr>\n",
       "    <tr>\n",
       "      <th>37</th>\n",
       "      <td>1</td>\n",
       "      <td>10</td>\n",
       "      <td>0</td>\n",
       "      <td>22</td>\n",
       "      <td>22</td>\n",
       "      <td>16</td>\n",
       "      <td>18</td>\n",
       "      <td>23</td>\n",
       "      <td>16</td>\n",
       "      <td>19</td>\n",
       "      <td>11</td>\n",
       "    </tr>\n",
       "    <tr>\n",
       "      <th>38</th>\n",
       "      <td>1</td>\n",
       "      <td>11</td>\n",
       "      <td>0</td>\n",
       "      <td>7</td>\n",
       "      <td>12</td>\n",
       "      <td>19</td>\n",
       "      <td>12</td>\n",
       "      <td>11</td>\n",
       "      <td>6</td>\n",
       "      <td>9</td>\n",
       "      <td>12</td>\n",
       "    </tr>\n",
       "    <tr>\n",
       "      <th>39</th>\n",
       "      <td>0</td>\n",
       "      <td>12</td>\n",
       "      <td>0</td>\n",
       "      <td>84</td>\n",
       "      <td>91</td>\n",
       "      <td>85</td>\n",
       "      <td>94</td>\n",
       "      <td>69</td>\n",
       "      <td>55</td>\n",
       "      <td>63</td>\n",
       "      <td>39</td>\n",
       "    </tr>\n",
       "    <tr>\n",
       "      <th>40</th>\n",
       "      <td>0</td>\n",
       "      <td>0</td>\n",
       "      <td>0</td>\n",
       "      <td>1</td>\n",
       "      <td>0</td>\n",
       "      <td>0</td>\n",
       "      <td>1</td>\n",
       "      <td>1</td>\n",
       "      <td>0</td>\n",
       "      <td>0</td>\n",
       "      <td>1</td>\n",
       "    </tr>\n",
       "    <tr>\n",
       "      <th>41</th>\n",
       "      <td>0</td>\n",
       "      <td>1</td>\n",
       "      <td>0</td>\n",
       "      <td>0</td>\n",
       "      <td>6</td>\n",
       "      <td>5</td>\n",
       "      <td>0</td>\n",
       "      <td>4</td>\n",
       "      <td>2</td>\n",
       "      <td>5</td>\n",
       "      <td>0</td>\n",
       "    </tr>\n",
       "    <tr>\n",
       "      <th>42</th>\n",
       "      <td>0</td>\n",
       "      <td>2</td>\n",
       "      <td>0</td>\n",
       "      <td>7</td>\n",
       "      <td>6</td>\n",
       "      <td>5</td>\n",
       "      <td>10</td>\n",
       "      <td>2</td>\n",
       "      <td>7</td>\n",
       "      <td>6</td>\n",
       "      <td>6</td>\n",
       "    </tr>\n",
       "    <tr>\n",
       "      <th>43</th>\n",
       "      <td>0</td>\n",
       "      <td>3</td>\n",
       "      <td>0</td>\n",
       "      <td>14</td>\n",
       "      <td>11</td>\n",
       "      <td>11</td>\n",
       "      <td>9</td>\n",
       "      <td>14</td>\n",
       "      <td>10</td>\n",
       "      <td>11</td>\n",
       "      <td>2</td>\n",
       "    </tr>\n",
       "    <tr>\n",
       "      <th>44</th>\n",
       "      <td>0</td>\n",
       "      <td>4</td>\n",
       "      <td>0</td>\n",
       "      <td>10</td>\n",
       "      <td>11</td>\n",
       "      <td>16</td>\n",
       "      <td>23</td>\n",
       "      <td>11</td>\n",
       "      <td>8</td>\n",
       "      <td>9</td>\n",
       "      <td>5</td>\n",
       "    </tr>\n",
       "    <tr>\n",
       "      <th>45</th>\n",
       "      <td>0</td>\n",
       "      <td>5</td>\n",
       "      <td>0</td>\n",
       "      <td>22</td>\n",
       "      <td>21</td>\n",
       "      <td>13</td>\n",
       "      <td>18</td>\n",
       "      <td>8</td>\n",
       "      <td>8</td>\n",
       "      <td>13</td>\n",
       "      <td>6</td>\n",
       "    </tr>\n",
       "    <tr>\n",
       "      <th>46</th>\n",
       "      <td>0</td>\n",
       "      <td>6</td>\n",
       "      <td>0</td>\n",
       "      <td>13</td>\n",
       "      <td>10</td>\n",
       "      <td>13</td>\n",
       "      <td>11</td>\n",
       "      <td>11</td>\n",
       "      <td>8</td>\n",
       "      <td>6</td>\n",
       "      <td>9</td>\n",
       "    </tr>\n",
       "    <tr>\n",
       "      <th>47</th>\n",
       "      <td>0</td>\n",
       "      <td>7</td>\n",
       "      <td>0</td>\n",
       "      <td>13</td>\n",
       "      <td>14</td>\n",
       "      <td>5</td>\n",
       "      <td>9</td>\n",
       "      <td>13</td>\n",
       "      <td>4</td>\n",
       "      <td>6</td>\n",
       "      <td>1</td>\n",
       "    </tr>\n",
       "    <tr>\n",
       "      <th>48</th>\n",
       "      <td>0</td>\n",
       "      <td>8</td>\n",
       "      <td>0</td>\n",
       "      <td>3</td>\n",
       "      <td>6</td>\n",
       "      <td>8</td>\n",
       "      <td>4</td>\n",
       "      <td>1</td>\n",
       "      <td>2</td>\n",
       "      <td>2</td>\n",
       "      <td>4</td>\n",
       "    </tr>\n",
       "    <tr>\n",
       "      <th>49</th>\n",
       "      <td>0</td>\n",
       "      <td>9</td>\n",
       "      <td>0</td>\n",
       "      <td>1</td>\n",
       "      <td>6</td>\n",
       "      <td>4</td>\n",
       "      <td>4</td>\n",
       "      <td>1</td>\n",
       "      <td>4</td>\n",
       "      <td>2</td>\n",
       "      <td>2</td>\n",
       "    </tr>\n",
       "    <tr>\n",
       "      <th>50</th>\n",
       "      <td>0</td>\n",
       "      <td>10</td>\n",
       "      <td>0</td>\n",
       "      <td>0</td>\n",
       "      <td>1</td>\n",
       "      <td>0</td>\n",
       "      <td>4</td>\n",
       "      <td>1</td>\n",
       "      <td>0</td>\n",
       "      <td>0</td>\n",
       "      <td>1</td>\n",
       "    </tr>\n",
       "  </tbody>\n",
       "</table>\n",
       "</div>"
      ],
      "text/plain": [
       "    cinsiyet  yas  olum_turu  ikibinyirmi  ikibinondokuz  ikibinonsekiz  \\\n",
       "0          1   12          1          430            497            478   \n",
       "1          1    0          1            2              1              6   \n",
       "2          1    1          1           11             11             16   \n",
       "3          1    2          1           28             26             23   \n",
       "4          1    3          1           37             42             53   \n",
       "5          1    4          1           55             69             68   \n",
       "6          1    5          1           56             72             68   \n",
       "7          1    6          1           77             85             87   \n",
       "8          1    7          1           74             81             68   \n",
       "9          1    8          1           47             50             40   \n",
       "10         1    9          1           22             35             23   \n",
       "11         1   10          1           16             16             12   \n",
       "12         1   11          1            5              9             14   \n",
       "13         0   12          1           60             66             63   \n",
       "14         0    0          1            1              0              0   \n",
       "15         0    1          1            0              4              4   \n",
       "16         0    2          1            5              4              4   \n",
       "17         0    3          1           10              8              8   \n",
       "18         0    4          1            7              8             12   \n",
       "19         0    5          1           16             15             10   \n",
       "20         0    6          1            9              7             10   \n",
       "21         0    7          1            9             10              4   \n",
       "22         0    8          1            2              4              6   \n",
       "23         0    9          1            1              4              3   \n",
       "24         0   10          1            0              1              0   \n",
       "25         0   11          1            0              1              2   \n",
       "26         1   12          0          604            687            641   \n",
       "27         1    0          0            3              1              8   \n",
       "28         1    1          0           15             15             21   \n",
       "29         1    2          0           39             36             31   \n",
       "30         1    3          0           52             58             71   \n",
       "31         1    4          0           77             95             91   \n",
       "32         1    5          0           79             99             91   \n",
       "33         1    6          0          108            117            117   \n",
       "34         1    7          0          104            112             91   \n",
       "35         1    8          0           66             69             54   \n",
       "36         1    9          0           31             48             31   \n",
       "37         1   10          0           22             22             16   \n",
       "38         1   11          0            7             12             19   \n",
       "39         0   12          0           84             91             85   \n",
       "40         0    0          0            1              0              0   \n",
       "41         0    1          0            0              6              5   \n",
       "42         0    2          0            7              6              5   \n",
       "43         0    3          0           14             11             11   \n",
       "44         0    4          0           10             11             16   \n",
       "45         0    5          0           22             21             13   \n",
       "46         0    6          0           13             10             13   \n",
       "47         0    7          0           13             14              5   \n",
       "48         0    8          0            3              6              8   \n",
       "49         0    9          0            1              6              4   \n",
       "50         0   10          0            0              1              0   \n",
       "\n",
       "    ikibinonyedi  ikibinonalti  ikibinonbes  ikibinondort  ikibinonuc  \n",
       "0            414           414          379           348         360  \n",
       "1              2             6            2             5           3  \n",
       "2             10            15           16            14          11  \n",
       "3             29            29           28            22          22  \n",
       "4             42            35           40            38          45  \n",
       "5             64            50           54            41          50  \n",
       "6             59            77           60            67          67  \n",
       "7             75            51           51            49          56  \n",
       "8             49            65           47            44          47  \n",
       "9             39            40           31            31          23  \n",
       "10            20            18           32            13          17  \n",
       "11            15            19           13            16           9  \n",
       "12            10             9            5             8          10  \n",
       "13            77            58           46            53          32  \n",
       "14             1             1            0             0           1  \n",
       "15             0             3            2             4           0  \n",
       "16             8             2            6             5           5  \n",
       "17             7            12            8             9           2  \n",
       "18            19             9            7             8           4  \n",
       "19            15             7            7            11           5  \n",
       "20             9             9            7             5           7  \n",
       "21             7            11            3             5           1  \n",
       "22             3             1            2             2           3  \n",
       "23             3             1            3             2           2  \n",
       "24             3             1            0             0           1  \n",
       "25             2             1            1             2           1  \n",
       "26           503           496          453           412         443  \n",
       "27             2             7            2             6           4  \n",
       "28            12            18           19            17          14  \n",
       "29            35            35           33            26          27  \n",
       "30            51            42           48            45          55  \n",
       "31            78            60           65            49          61  \n",
       "32            72            92           72            79          82  \n",
       "33            91            61           61            58          69  \n",
       "34            60            78           56            52          58  \n",
       "35            47            48           37            37          28  \n",
       "36            24            22           38            15          21  \n",
       "37            18            23           16            19          11  \n",
       "38            12            11            6             9          12  \n",
       "39            94            69           55            63          39  \n",
       "40             1             1            0             0           1  \n",
       "41             0             4            2             5           0  \n",
       "42            10             2            7             6           6  \n",
       "43             9            14           10            11           2  \n",
       "44            23            11            8             9           5  \n",
       "45            18             8            8            13           6  \n",
       "46            11            11            8             6           9  \n",
       "47             9            13            4             6           1  \n",
       "48             4             1            2             2           4  \n",
       "49             4             1            4             2           2  \n",
       "50             4             1            0             0           1  "
      ]
     },
     "execution_count": 10,
     "metadata": {},
     "output_type": "execute_result"
    }
   ],
   "source": [
    "bg.head(51)"
   ]
  },
  {
   "cell_type": "code",
   "execution_count": 11,
   "id": "c36d58fa-80b8-470b-b9c3-ec626356f633",
   "metadata": {},
   "outputs": [
    {
     "name": "stdout",
     "output_type": "stream",
     "text": [
      "<class 'pandas.core.frame.DataFrame'>\n",
      "RangeIndex: 52 entries, 0 to 51\n",
      "Data columns (total 11 columns):\n",
      " #   Column         Non-Null Count  Dtype\n",
      "---  ------         --------------  -----\n",
      " 0   cinsiyet       52 non-null     int32\n",
      " 1   yas            52 non-null     int32\n",
      " 2   olum_turu      52 non-null     int32\n",
      " 3   ikibinyirmi    52 non-null     int64\n",
      " 4   ikibinondokuz  52 non-null     int64\n",
      " 5   ikibinonsekiz  52 non-null     int64\n",
      " 6   ikibinonyedi   52 non-null     int64\n",
      " 7   ikibinonalti   52 non-null     int64\n",
      " 8   ikibinonbes    52 non-null     int64\n",
      " 9   ikibinondort   52 non-null     int64\n",
      " 10  ikibinonuc     52 non-null     int64\n",
      "dtypes: int32(3), int64(8)\n",
      "memory usage: 4.0 KB\n"
     ]
    }
   ],
   "source": [
    "bg.info()"
   ]
  },
  {
   "cell_type": "code",
   "execution_count": 12,
   "id": "54b1ea80-a9c8-4554-bb46-9d7bf4107571",
   "metadata": {},
   "outputs": [
    {
     "data": {
      "text/html": [
       "<div>\n",
       "<style scoped>\n",
       "    .dataframe tbody tr th:only-of-type {\n",
       "        vertical-align: middle;\n",
       "    }\n",
       "\n",
       "    .dataframe tbody tr th {\n",
       "        vertical-align: top;\n",
       "    }\n",
       "\n",
       "    .dataframe thead th {\n",
       "        text-align: right;\n",
       "    }\n",
       "</style>\n",
       "<table border=\"1\" class=\"dataframe\">\n",
       "  <thead>\n",
       "    <tr style=\"text-align: right;\">\n",
       "      <th></th>\n",
       "      <th>count</th>\n",
       "      <th>mean</th>\n",
       "      <th>std</th>\n",
       "      <th>min</th>\n",
       "      <th>25%</th>\n",
       "      <th>50%</th>\n",
       "      <th>75%</th>\n",
       "      <th>max</th>\n",
       "    </tr>\n",
       "  </thead>\n",
       "  <tbody>\n",
       "    <tr>\n",
       "      <th>cinsiyet</th>\n",
       "      <td>52.0</td>\n",
       "      <td>0.500000</td>\n",
       "      <td>0.504878</td>\n",
       "      <td>0.0</td>\n",
       "      <td>0.00</td>\n",
       "      <td>0.5</td>\n",
       "      <td>1.00</td>\n",
       "      <td>1.0</td>\n",
       "    </tr>\n",
       "    <tr>\n",
       "      <th>yas</th>\n",
       "      <td>52.0</td>\n",
       "      <td>6.000000</td>\n",
       "      <td>3.778162</td>\n",
       "      <td>0.0</td>\n",
       "      <td>3.00</td>\n",
       "      <td>6.0</td>\n",
       "      <td>9.00</td>\n",
       "      <td>12.0</td>\n",
       "    </tr>\n",
       "    <tr>\n",
       "      <th>olum_turu</th>\n",
       "      <td>52.0</td>\n",
       "      <td>0.500000</td>\n",
       "      <td>0.504878</td>\n",
       "      <td>0.0</td>\n",
       "      <td>0.00</td>\n",
       "      <td>0.5</td>\n",
       "      <td>1.00</td>\n",
       "      <td>1.0</td>\n",
       "    </tr>\n",
       "    <tr>\n",
       "      <th>ikibinyirmi</th>\n",
       "      <td>52.0</td>\n",
       "      <td>45.288462</td>\n",
       "      <td>101.292691</td>\n",
       "      <td>0.0</td>\n",
       "      <td>3.00</td>\n",
       "      <td>13.5</td>\n",
       "      <td>52.75</td>\n",
       "      <td>604.0</td>\n",
       "    </tr>\n",
       "    <tr>\n",
       "      <th>ikibinondokuz</th>\n",
       "      <td>52.0</td>\n",
       "      <td>51.557692</td>\n",
       "      <td>115.730826</td>\n",
       "      <td>0.0</td>\n",
       "      <td>6.00</td>\n",
       "      <td>13.0</td>\n",
       "      <td>60.00</td>\n",
       "      <td>687.0</td>\n",
       "    </tr>\n",
       "    <tr>\n",
       "      <th>ikibinonsekiz</th>\n",
       "      <td>52.0</td>\n",
       "      <td>48.692308</td>\n",
       "      <td>108.981657</td>\n",
       "      <td>0.0</td>\n",
       "      <td>5.00</td>\n",
       "      <td>13.5</td>\n",
       "      <td>56.25</td>\n",
       "      <td>641.0</td>\n",
       "    </tr>\n",
       "    <tr>\n",
       "      <th>ikibinonyedi</th>\n",
       "      <td>52.0</td>\n",
       "      <td>41.846154</td>\n",
       "      <td>88.693874</td>\n",
       "      <td>0.0</td>\n",
       "      <td>4.00</td>\n",
       "      <td>13.5</td>\n",
       "      <td>47.50</td>\n",
       "      <td>503.0</td>\n",
       "    </tr>\n",
       "    <tr>\n",
       "      <th>ikibinonalti</th>\n",
       "      <td>52.0</td>\n",
       "      <td>39.884615</td>\n",
       "      <td>87.741075</td>\n",
       "      <td>1.0</td>\n",
       "      <td>3.75</td>\n",
       "      <td>12.5</td>\n",
       "      <td>43.50</td>\n",
       "      <td>496.0</td>\n",
       "    </tr>\n",
       "    <tr>\n",
       "      <th>ikibinonbes</th>\n",
       "      <td>52.0</td>\n",
       "      <td>35.865385</td>\n",
       "      <td>80.077910</td>\n",
       "      <td>0.0</td>\n",
       "      <td>3.00</td>\n",
       "      <td>8.0</td>\n",
       "      <td>41.50</td>\n",
       "      <td>453.0</td>\n",
       "    </tr>\n",
       "    <tr>\n",
       "      <th>ikibinondort</th>\n",
       "      <td>52.0</td>\n",
       "      <td>33.673077</td>\n",
       "      <td>73.221052</td>\n",
       "      <td>0.0</td>\n",
       "      <td>5.00</td>\n",
       "      <td>11.0</td>\n",
       "      <td>38.75</td>\n",
       "      <td>412.0</td>\n",
       "    </tr>\n",
       "    <tr>\n",
       "      <th>ikibinonuc</th>\n",
       "      <td>52.0</td>\n",
       "      <td>33.576923</td>\n",
       "      <td>77.977962</td>\n",
       "      <td>0.0</td>\n",
       "      <td>2.00</td>\n",
       "      <td>9.0</td>\n",
       "      <td>33.75</td>\n",
       "      <td>443.0</td>\n",
       "    </tr>\n",
       "  </tbody>\n",
       "</table>\n",
       "</div>"
      ],
      "text/plain": [
       "               count       mean         std  min   25%   50%    75%    max\n",
       "cinsiyet        52.0   0.500000    0.504878  0.0  0.00   0.5   1.00    1.0\n",
       "yas             52.0   6.000000    3.778162  0.0  3.00   6.0   9.00   12.0\n",
       "olum_turu       52.0   0.500000    0.504878  0.0  0.00   0.5   1.00    1.0\n",
       "ikibinyirmi     52.0  45.288462  101.292691  0.0  3.00  13.5  52.75  604.0\n",
       "ikibinondokuz   52.0  51.557692  115.730826  0.0  6.00  13.0  60.00  687.0\n",
       "ikibinonsekiz   52.0  48.692308  108.981657  0.0  5.00  13.5  56.25  641.0\n",
       "ikibinonyedi    52.0  41.846154   88.693874  0.0  4.00  13.5  47.50  503.0\n",
       "ikibinonalti    52.0  39.884615   87.741075  1.0  3.75  12.5  43.50  496.0\n",
       "ikibinonbes     52.0  35.865385   80.077910  0.0  3.00   8.0  41.50  453.0\n",
       "ikibinondort    52.0  33.673077   73.221052  0.0  5.00  11.0  38.75  412.0\n",
       "ikibinonuc      52.0  33.576923   77.977962  0.0  2.00   9.0  33.75  443.0"
      ]
     },
     "execution_count": 12,
     "metadata": {},
     "output_type": "execute_result"
    }
   ],
   "source": [
    "bg.describe().T"
   ]
  },
  {
   "cell_type": "code",
   "execution_count": 13,
   "id": "e8dd977f-b237-4c89-a8b7-51b79d96dd5f",
   "metadata": {},
   "outputs": [],
   "source": [
    "y = bg[\"cinsiyet\"]\n",
    "X = bg.drop([\"cinsiyet\"], axis=1)"
   ]
  },
  {
   "cell_type": "code",
   "execution_count": 14,
   "id": "4031984a-b916-4dd3-b6e5-2fa40b623f84",
   "metadata": {},
   "outputs": [
    {
     "name": "stdout",
     "output_type": "stream",
     "text": [
      "Requirement already satisfied: skompiler in c:\\users\\büşra\\appdata\\local\\programs\\python\\python310\\lib\\site-packages (0.6)\n",
      "Requirement already satisfied: scikit-learn>=0.22 in c:\\users\\büşra\\appdata\\local\\programs\\python\\python310\\lib\\site-packages (from skompiler) (1.1.1)\n",
      "Requirement already satisfied: threadpoolctl>=2.0.0 in c:\\users\\büşra\\appdata\\local\\programs\\python\\python310\\lib\\site-packages (from scikit-learn>=0.22->skompiler) (3.1.0)\n",
      "Requirement already satisfied: joblib>=1.0.0 in c:\\users\\büşra\\appdata\\local\\programs\\python\\python310\\lib\\site-packages (from scikit-learn>=0.22->skompiler) (1.1.0)\n",
      "Requirement already satisfied: numpy>=1.17.3 in c:\\users\\büşra\\appdata\\local\\programs\\python\\python310\\lib\\site-packages (from scikit-learn>=0.22->skompiler) (1.22.4)\n",
      "Requirement already satisfied: scipy>=1.3.2 in c:\\users\\büşra\\appdata\\local\\programs\\python\\python310\\lib\\site-packages (from scikit-learn>=0.22->skompiler) (1.8.1)\n"
     ]
    },
    {
     "name": "stderr",
     "output_type": "stream",
     "text": [
      "WARNING: You are using pip version 22.0.4; however, version 22.1.2 is available.\n",
      "You should consider upgrading via the 'C:\\Users\\BÜŞRA\\AppData\\Local\\Programs\\Python\\Python310\\python.exe -m pip install --upgrade pip' command.\n"
     ]
    },
    {
     "name": "stdout",
     "output_type": "stream",
     "text": [
      "Requirement already satisfied: astor in c:\\users\\büşra\\appdata\\local\\programs\\python\\python310\\lib\\site-packages (0.8.1)\n"
     ]
    },
    {
     "name": "stderr",
     "output_type": "stream",
     "text": [
      "WARNING: You are using pip version 22.0.4; however, version 22.1.2 is available.\n",
      "You should consider upgrading via the 'C:\\Users\\BÜŞRA\\AppData\\Local\\Programs\\Python\\Python310\\python.exe -m pip install --upgrade pip' command.\n"
     ]
    },
    {
     "name": "stdout",
     "output_type": "stream",
     "text": [
      "Requirement already satisfied: xgboost in c:\\users\\büşra\\appdata\\local\\programs\\python\\python310\\lib\\site-packages (1.6.1)\n",
      "Requirement already satisfied: scipy in c:\\users\\büşra\\appdata\\local\\programs\\python\\python310\\lib\\site-packages (from xgboost) (1.8.1)\n",
      "Requirement already satisfied: numpy in c:\\users\\büşra\\appdata\\local\\programs\\python\\python310\\lib\\site-packages (from xgboost) (1.22.4)\n"
     ]
    },
    {
     "name": "stderr",
     "output_type": "stream",
     "text": [
      "WARNING: You are using pip version 22.0.4; however, version 22.1.2 is available.\n",
      "You should consider upgrading via the 'C:\\Users\\BÜŞRA\\AppData\\Local\\Programs\\Python\\Python310\\python.exe -m pip install --upgrade pip' command.\n"
     ]
    },
    {
     "name": "stdout",
     "output_type": "stream",
     "text": [
      "Requirement already satisfied: catboost in c:\\users\\büşra\\appdata\\local\\programs\\python\\python310\\lib\\site-packages (1.0.6)\n",
      "Requirement already satisfied: graphviz in c:\\users\\büşra\\appdata\\local\\programs\\python\\python310\\lib\\site-packages (from catboost) (0.20)\n",
      "Requirement already satisfied: matplotlib in c:\\users\\büşra\\appdata\\local\\programs\\python\\python310\\lib\\site-packages (from catboost) (3.5.2)\n",
      "Requirement already satisfied: scipy in c:\\users\\büşra\\appdata\\local\\programs\\python\\python310\\lib\\site-packages (from catboost) (1.8.1)\n",
      "Requirement already satisfied: plotly in c:\\users\\büşra\\appdata\\local\\programs\\python\\python310\\lib\\site-packages (from catboost) (5.8.0)\n",
      "Requirement already satisfied: numpy>=1.16.0 in c:\\users\\büşra\\appdata\\local\\programs\\python\\python310\\lib\\site-packages (from catboost) (1.22.4)\n",
      "Requirement already satisfied: six in c:\\users\\büşra\\appdata\\local\\programs\\python\\python310\\lib\\site-packages (from catboost) (1.16.0)\n",
      "Requirement already satisfied: pandas>=0.24.0 in c:\\users\\büşra\\appdata\\local\\programs\\python\\python310\\lib\\site-packages (from catboost) (1.4.2)\n",
      "Requirement already satisfied: python-dateutil>=2.8.1 in c:\\users\\büşra\\appdata\\local\\programs\\python\\python310\\lib\\site-packages (from pandas>=0.24.0->catboost) (2.8.2)\n",
      "Requirement already satisfied: pytz>=2020.1 in c:\\users\\büşra\\appdata\\local\\programs\\python\\python310\\lib\\site-packages (from pandas>=0.24.0->catboost) (2022.1)\n",
      "Requirement already satisfied: kiwisolver>=1.0.1 in c:\\users\\büşra\\appdata\\local\\programs\\python\\python310\\lib\\site-packages (from matplotlib->catboost) (1.4.2)\n",
      "Requirement already satisfied: packaging>=20.0 in c:\\users\\büşra\\appdata\\local\\programs\\python\\python310\\lib\\site-packages (from matplotlib->catboost) (21.3)\n",
      "Requirement already satisfied: pyparsing>=2.2.1 in c:\\users\\büşra\\appdata\\local\\programs\\python\\python310\\lib\\site-packages (from matplotlib->catboost) (3.0.9)\n",
      "Requirement already satisfied: cycler>=0.10 in c:\\users\\büşra\\appdata\\local\\programs\\python\\python310\\lib\\site-packages (from matplotlib->catboost) (0.11.0)\n",
      "Requirement already satisfied: fonttools>=4.22.0 in c:\\users\\büşra\\appdata\\local\\programs\\python\\python310\\lib\\site-packages (from matplotlib->catboost) (4.33.3)\n",
      "Requirement already satisfied: pillow>=6.2.0 in c:\\users\\büşra\\appdata\\local\\programs\\python\\python310\\lib\\site-packages (from matplotlib->catboost) (9.1.1)\n",
      "Requirement already satisfied: tenacity>=6.2.0 in c:\\users\\büşra\\appdata\\local\\programs\\python\\python310\\lib\\site-packages (from plotly->catboost) (8.0.1)\n"
     ]
    },
    {
     "name": "stderr",
     "output_type": "stream",
     "text": [
      "WARNING: You are using pip version 22.0.4; however, version 22.1.2 is available.\n",
      "You should consider upgrading via the 'C:\\Users\\BÜŞRA\\AppData\\Local\\Programs\\Python\\Python310\\python.exe -m pip install --upgrade pip' command.\n"
     ]
    },
    {
     "name": "stdout",
     "output_type": "stream",
     "text": [
      "Requirement already satisfied: lightgbm in c:\\users\\büşra\\appdata\\local\\programs\\python\\python310\\lib\\site-packages (3.3.2)\n",
      "Requirement already satisfied: scikit-learn!=0.22.0 in c:\\users\\büşra\\appdata\\local\\programs\\python\\python310\\lib\\site-packages (from lightgbm) (1.1.1)\n",
      "Requirement already satisfied: numpy in c:\\users\\büşra\\appdata\\local\\programs\\python\\python310\\lib\\site-packages (from lightgbm) (1.22.4)\n",
      "Requirement already satisfied: wheel in c:\\users\\büşra\\appdata\\local\\programs\\python\\python310\\lib\\site-packages (from lightgbm) (0.37.1)\n",
      "Requirement already satisfied: scipy in c:\\users\\büşra\\appdata\\local\\programs\\python\\python310\\lib\\site-packages (from lightgbm) (1.8.1)\n",
      "Requirement already satisfied: joblib>=1.0.0 in c:\\users\\büşra\\appdata\\local\\programs\\python\\python310\\lib\\site-packages (from scikit-learn!=0.22.0->lightgbm) (1.1.0)\n",
      "Requirement already satisfied: threadpoolctl>=2.0.0 in c:\\users\\büşra\\appdata\\local\\programs\\python\\python310\\lib\\site-packages (from scikit-learn!=0.22.0->lightgbm) (3.1.0)\n"
     ]
    },
    {
     "name": "stderr",
     "output_type": "stream",
     "text": [
      "WARNING: You are using pip version 22.0.4; however, version 22.1.2 is available.\n",
      "You should consider upgrading via the 'C:\\Users\\BÜŞRA\\AppData\\Local\\Programs\\Python\\Python310\\python.exe -m pip install --upgrade pip' command.\n"
     ]
    }
   ],
   "source": [
    "!pip install skompiler\n",
    "!pip install astor\n",
    "!pip install xgboost\n",
    "!pip install catboost\n",
    "!pip install lightgbm\n",
    "#conda install -c conda-forge lightgbm"
   ]
  },
  {
   "cell_type": "code",
   "execution_count": 15,
   "id": "33fad23d-653e-49fd-aa34-f061c7f1e11d",
   "metadata": {},
   "outputs": [
    {
     "name": "stdout",
     "output_type": "stream",
     "text": [
      "Optimization terminated successfully.\n",
      "         Current function value: 0.119769\n",
      "         Iterations 13\n"
     ]
    },
    {
     "data": {
      "text/html": [
       "<table class=\"simpletable\">\n",
       "<caption>Logit Regression Results</caption>\n",
       "<tr>\n",
       "  <th>Dep. Variable:</th>       <td>cinsiyet</td>     <th>  No. Observations:  </th>  <td>    52</td>  \n",
       "</tr>\n",
       "<tr>\n",
       "  <th>Model:</th>                 <td>Logit</td>      <th>  Df Residuals:      </th>  <td>    42</td>  \n",
       "</tr>\n",
       "<tr>\n",
       "  <th>Method:</th>                 <td>MLE</td>       <th>  Df Model:          </th>  <td>     9</td>  \n",
       "</tr>\n",
       "<tr>\n",
       "  <th>Date:</th>            <td>Wed, 08 Jun 2022</td> <th>  Pseudo R-squ.:     </th>  <td>0.8272</td>  \n",
       "</tr>\n",
       "<tr>\n",
       "  <th>Time:</th>                <td>01:56:46</td>     <th>  Log-Likelihood:    </th> <td> -6.2280</td> \n",
       "</tr>\n",
       "<tr>\n",
       "  <th>converged:</th>             <td>True</td>       <th>  LL-Null:           </th> <td> -36.044</td> \n",
       "</tr>\n",
       "<tr>\n",
       "  <th>Covariance Type:</th>     <td>nonrobust</td>    <th>  LLR p-value:       </th> <td>1.579e-09</td>\n",
       "</tr>\n",
       "</table>\n",
       "<table class=\"simpletable\">\n",
       "<tr>\n",
       "        <td></td>           <th>coef</th>     <th>std err</th>      <th>z</th>      <th>P>|z|</th>  <th>[0.025</th>    <th>0.975]</th>  \n",
       "</tr>\n",
       "<tr>\n",
       "  <th>yas</th>           <td>   -0.5193</td> <td>    0.466</td> <td>   -1.114</td> <td> 0.265</td> <td>   -1.432</td> <td>    0.394</td>\n",
       "</tr>\n",
       "<tr>\n",
       "  <th>olum_turu</th>     <td>   -2.0378</td> <td>    1.594</td> <td>   -1.278</td> <td> 0.201</td> <td>   -5.163</td> <td>    1.087</td>\n",
       "</tr>\n",
       "<tr>\n",
       "  <th>ikibinyirmi</th>   <td>   -0.2558</td> <td>    0.782</td> <td>   -0.327</td> <td> 0.743</td> <td>   -1.788</td> <td>    1.276</td>\n",
       "</tr>\n",
       "<tr>\n",
       "  <th>ikibinondokuz</th> <td>    0.7162</td> <td>    0.572</td> <td>    1.253</td> <td> 0.210</td> <td>   -0.404</td> <td>    1.837</td>\n",
       "</tr>\n",
       "<tr>\n",
       "  <th>ikibinonsekiz</th> <td>   -1.2425</td> <td>    0.833</td> <td>   -1.492</td> <td> 0.136</td> <td>   -2.874</td> <td>    0.389</td>\n",
       "</tr>\n",
       "<tr>\n",
       "  <th>ikibinonyedi</th>  <td>   -1.2716</td> <td>    1.186</td> <td>   -1.072</td> <td> 0.284</td> <td>   -3.596</td> <td>    1.053</td>\n",
       "</tr>\n",
       "<tr>\n",
       "  <th>ikibinonalti</th>  <td>    0.6065</td> <td>    0.656</td> <td>    0.925</td> <td> 0.355</td> <td>   -0.679</td> <td>    1.892</td>\n",
       "</tr>\n",
       "<tr>\n",
       "  <th>ikibinonbes</th>   <td>   -0.6141</td> <td>    0.579</td> <td>   -1.061</td> <td> 0.289</td> <td>   -1.749</td> <td>    0.520</td>\n",
       "</tr>\n",
       "<tr>\n",
       "  <th>ikibinondort</th>  <td>    0.4854</td> <td>    0.709</td> <td>    0.684</td> <td> 0.494</td> <td>   -0.905</td> <td>    1.876</td>\n",
       "</tr>\n",
       "<tr>\n",
       "  <th>ikibinonuc</th>    <td>    2.7661</td> <td>    1.599</td> <td>    1.730</td> <td> 0.084</td> <td>   -0.368</td> <td>    5.901</td>\n",
       "</tr>\n",
       "</table><br/><br/>Possibly complete quasi-separation: A fraction 0.40 of observations can be<br/>perfectly predicted. This might indicate that there is complete<br/>quasi-separation. In this case some parameters will not be identified."
      ],
      "text/plain": [
       "<class 'statsmodels.iolib.summary.Summary'>\n",
       "\"\"\"\n",
       "                           Logit Regression Results                           \n",
       "==============================================================================\n",
       "Dep. Variable:               cinsiyet   No. Observations:                   52\n",
       "Model:                          Logit   Df Residuals:                       42\n",
       "Method:                           MLE   Df Model:                            9\n",
       "Date:                Wed, 08 Jun 2022   Pseudo R-squ.:                  0.8272\n",
       "Time:                        01:56:46   Log-Likelihood:                -6.2280\n",
       "converged:                       True   LL-Null:                       -36.044\n",
       "Covariance Type:            nonrobust   LLR p-value:                 1.579e-09\n",
       "=================================================================================\n",
       "                    coef    std err          z      P>|z|      [0.025      0.975]\n",
       "---------------------------------------------------------------------------------\n",
       "yas              -0.5193      0.466     -1.114      0.265      -1.432       0.394\n",
       "olum_turu        -2.0378      1.594     -1.278      0.201      -5.163       1.087\n",
       "ikibinyirmi      -0.2558      0.782     -0.327      0.743      -1.788       1.276\n",
       "ikibinondokuz     0.7162      0.572      1.253      0.210      -0.404       1.837\n",
       "ikibinonsekiz    -1.2425      0.833     -1.492      0.136      -2.874       0.389\n",
       "ikibinonyedi     -1.2716      1.186     -1.072      0.284      -3.596       1.053\n",
       "ikibinonalti      0.6065      0.656      0.925      0.355      -0.679       1.892\n",
       "ikibinonbes      -0.6141      0.579     -1.061      0.289      -1.749       0.520\n",
       "ikibinondort      0.4854      0.709      0.684      0.494      -0.905       1.876\n",
       "ikibinonuc        2.7661      1.599      1.730      0.084      -0.368       5.901\n",
       "=================================================================================\n",
       "\n",
       "Possibly complete quasi-separation: A fraction 0.40 of observations can be\n",
       "perfectly predicted. This might indicate that there is complete\n",
       "quasi-separation. In this case some parameters will not be identified.\n",
       "\"\"\""
      ]
     },
     "execution_count": 15,
     "metadata": {},
     "output_type": "execute_result"
    }
   ],
   "source": [
    "#statsmodels\n",
    "loj = sm.Logit(y, X)\n",
    "loj_model= loj.fit()\n",
    "loj_model.summary()"
   ]
  },
  {
   "cell_type": "code",
   "execution_count": 16,
   "id": "11928e6b-5bf5-4c2d-b5af-1af619b2b487",
   "metadata": {},
   "outputs": [
    {
     "data": {
      "text/html": [
       "<style>#sk-container-id-1 {color: black;background-color: white;}#sk-container-id-1 pre{padding: 0;}#sk-container-id-1 div.sk-toggleable {background-color: white;}#sk-container-id-1 label.sk-toggleable__label {cursor: pointer;display: block;width: 100%;margin-bottom: 0;padding: 0.3em;box-sizing: border-box;text-align: center;}#sk-container-id-1 label.sk-toggleable__label-arrow:before {content: \"▸\";float: left;margin-right: 0.25em;color: #696969;}#sk-container-id-1 label.sk-toggleable__label-arrow:hover:before {color: black;}#sk-container-id-1 div.sk-estimator:hover label.sk-toggleable__label-arrow:before {color: black;}#sk-container-id-1 div.sk-toggleable__content {max-height: 0;max-width: 0;overflow: hidden;text-align: left;background-color: #f0f8ff;}#sk-container-id-1 div.sk-toggleable__content pre {margin: 0.2em;color: black;border-radius: 0.25em;background-color: #f0f8ff;}#sk-container-id-1 input.sk-toggleable__control:checked~div.sk-toggleable__content {max-height: 200px;max-width: 100%;overflow: auto;}#sk-container-id-1 input.sk-toggleable__control:checked~label.sk-toggleable__label-arrow:before {content: \"▾\";}#sk-container-id-1 div.sk-estimator input.sk-toggleable__control:checked~label.sk-toggleable__label {background-color: #d4ebff;}#sk-container-id-1 div.sk-label input.sk-toggleable__control:checked~label.sk-toggleable__label {background-color: #d4ebff;}#sk-container-id-1 input.sk-hidden--visually {border: 0;clip: rect(1px 1px 1px 1px);clip: rect(1px, 1px, 1px, 1px);height: 1px;margin: -1px;overflow: hidden;padding: 0;position: absolute;width: 1px;}#sk-container-id-1 div.sk-estimator {font-family: monospace;background-color: #f0f8ff;border: 1px dotted black;border-radius: 0.25em;box-sizing: border-box;margin-bottom: 0.5em;}#sk-container-id-1 div.sk-estimator:hover {background-color: #d4ebff;}#sk-container-id-1 div.sk-parallel-item::after {content: \"\";width: 100%;border-bottom: 1px solid gray;flex-grow: 1;}#sk-container-id-1 div.sk-label:hover label.sk-toggleable__label {background-color: #d4ebff;}#sk-container-id-1 div.sk-serial::before {content: \"\";position: absolute;border-left: 1px solid gray;box-sizing: border-box;top: 0;bottom: 0;left: 50%;z-index: 0;}#sk-container-id-1 div.sk-serial {display: flex;flex-direction: column;align-items: center;background-color: white;padding-right: 0.2em;padding-left: 0.2em;position: relative;}#sk-container-id-1 div.sk-item {position: relative;z-index: 1;}#sk-container-id-1 div.sk-parallel {display: flex;align-items: stretch;justify-content: center;background-color: white;position: relative;}#sk-container-id-1 div.sk-item::before, #sk-container-id-1 div.sk-parallel-item::before {content: \"\";position: absolute;border-left: 1px solid gray;box-sizing: border-box;top: 0;bottom: 0;left: 50%;z-index: -1;}#sk-container-id-1 div.sk-parallel-item {display: flex;flex-direction: column;z-index: 1;position: relative;background-color: white;}#sk-container-id-1 div.sk-parallel-item:first-child::after {align-self: flex-end;width: 50%;}#sk-container-id-1 div.sk-parallel-item:last-child::after {align-self: flex-start;width: 50%;}#sk-container-id-1 div.sk-parallel-item:only-child::after {width: 0;}#sk-container-id-1 div.sk-dashed-wrapped {border: 1px dashed gray;margin: 0 0.4em 0.5em 0.4em;box-sizing: border-box;padding-bottom: 0.4em;background-color: white;}#sk-container-id-1 div.sk-label label {font-family: monospace;font-weight: bold;display: inline-block;line-height: 1.2em;}#sk-container-id-1 div.sk-label-container {text-align: center;}#sk-container-id-1 div.sk-container {/* jupyter's `normalize.less` sets `[hidden] { display: none; }` but bootstrap.min.css set `[hidden] { display: none !important; }` so we also need the `!important` here to be able to override the default hidden behavior on the sphinx rendered scikit-learn.org. See: https://github.com/scikit-learn/scikit-learn/issues/21755 */display: inline-block !important;position: relative;}#sk-container-id-1 div.sk-text-repr-fallback {display: none;}</style><div id=\"sk-container-id-1\" class=\"sk-top-container\"><div class=\"sk-text-repr-fallback\"><pre>LogisticRegression(solver=&#x27;liblinear&#x27;)</pre><b>In a Jupyter environment, please rerun this cell to show the HTML representation or trust the notebook. <br />On GitHub, the HTML representation is unable to render, please try loading this page with nbviewer.org.</b></div><div class=\"sk-container\" hidden><div class=\"sk-item\"><div class=\"sk-estimator sk-toggleable\"><input class=\"sk-toggleable__control sk-hidden--visually\" id=\"sk-estimator-id-1\" type=\"checkbox\" checked><label for=\"sk-estimator-id-1\" class=\"sk-toggleable__label sk-toggleable__label-arrow\">LogisticRegression</label><div class=\"sk-toggleable__content\"><pre>LogisticRegression(solver=&#x27;liblinear&#x27;)</pre></div></div></div></div></div>"
      ],
      "text/plain": [
       "LogisticRegression(solver='liblinear')"
      ]
     },
     "execution_count": 16,
     "metadata": {},
     "output_type": "execute_result"
    }
   ],
   "source": [
    "#scikit-learn\n",
    "loj = LogisticRegression(solver = \"liblinear\")\n",
    "loj_model = loj.fit(X,y)\n",
    "loj_model"
   ]
  },
  {
   "cell_type": "code",
   "execution_count": 17,
   "id": "11a9f49d-fd17-4b12-9b4c-a03b20aa2a22",
   "metadata": {},
   "outputs": [
    {
     "data": {
      "text/plain": [
       "array([-1.58750234])"
      ]
     },
     "execution_count": 17,
     "metadata": {},
     "output_type": "execute_result"
    }
   ],
   "source": [
    "loj_model.intercept_"
   ]
  },
  {
   "cell_type": "code",
   "execution_count": 18,
   "id": "3666bec0-12a9-4673-b344-d16197b181b4",
   "metadata": {},
   "outputs": [
    {
     "data": {
      "text/plain": [
       "array([[-0.3040503 , -0.38144698, -0.28507805,  0.18574331, -0.32512967,\n",
       "        -0.48622232,  0.39497586, -0.13867316,  0.23233462,  1.10554163]])"
      ]
     },
     "execution_count": 18,
     "metadata": {},
     "output_type": "execute_result"
    }
   ],
   "source": [
    "loj_model.coef_"
   ]
  },
  {
   "cell_type": "code",
   "execution_count": 19,
   "id": "b7c2181a-ee85-48c8-8b70-e80bb0e550bd",
   "metadata": {},
   "outputs": [
    {
     "data": {
      "text/plain": [
       "array([[-0.3040503 , -0.38144698, -0.28507805,  0.18574331, -0.32512967,\n",
       "        -0.48622232,  0.39497586, -0.13867316,  0.23233462,  1.10554163]])"
      ]
     },
     "execution_count": 19,
     "metadata": {},
     "output_type": "execute_result"
    }
   ],
   "source": [
    "loj_model.coef_"
   ]
  },
  {
   "cell_type": "code",
   "execution_count": 20,
   "id": "cb1491f7-402a-4e02-846e-0e814e4f0ce2",
   "metadata": {},
   "outputs": [],
   "source": [
    "#Tahmin & Model Tuning\n",
    "##Lojistik regresyon için girilebilecek bir hiperparametre olmadığından model tuning değil de model doğrulama \n",
    "##yapacağız."
   ]
  },
  {
   "cell_type": "code",
   "execution_count": 21,
   "id": "3883ec82-f28f-4dc1-88a1-e2d2c267f2db",
   "metadata": {},
   "outputs": [
    {
     "data": {
      "text/plain": [
       "array([[25,  1],\n",
       "       [ 0, 26]], dtype=int64)"
      ]
     },
     "execution_count": 21,
     "metadata": {},
     "output_type": "execute_result"
    }
   ],
   "source": [
    "y_pred = loj_model.predict(X)\n",
    "confusion_matrix(y, y_pred)"
   ]
  },
  {
   "cell_type": "code",
   "execution_count": 22,
   "id": "1a03b686-bebc-42dd-b578-242cd5feb532",
   "metadata": {},
   "outputs": [],
   "source": [
    "#TP=25\n",
    "\n",
    "#FN=1\n",
    "\n",
    "#FP=0\n",
    "\n",
    "#TN=26"
   ]
  },
  {
   "cell_type": "code",
   "execution_count": 23,
   "id": "162d320b-158f-489b-b5bd-b6fa66862d72",
   "metadata": {},
   "outputs": [
    {
     "data": {
      "text/plain": [
       "0.9807692307692307"
      ]
     },
     "execution_count": 23,
     "metadata": {},
     "output_type": "execute_result"
    }
   ],
   "source": [
    "accuracy_score(y, y_pred)"
   ]
  },
  {
   "cell_type": "code",
   "execution_count": 24,
   "id": "d0eb8736-b147-49f5-bdf2-3d781b47fe1b",
   "metadata": {},
   "outputs": [
    {
     "name": "stdout",
     "output_type": "stream",
     "text": [
      "              precision    recall  f1-score   support\n",
      "\n",
      "           0       1.00      0.96      0.98        26\n",
      "           1       0.96      1.00      0.98        26\n",
      "\n",
      "    accuracy                           0.98        52\n",
      "   macro avg       0.98      0.98      0.98        52\n",
      "weighted avg       0.98      0.98      0.98        52\n",
      "\n"
     ]
    }
   ],
   "source": [
    "print(classification_report(y, y_pred))"
   ]
  },
  {
   "cell_type": "code",
   "execution_count": 25,
   "id": "ea7e6af7-5d13-40e8-8bd4-99915859d3dc",
   "metadata": {},
   "outputs": [],
   "source": [
    "# **modele ilişkin olasılık değerleri**"
   ]
  },
  {
   "cell_type": "code",
   "execution_count": 26,
   "id": "400a3c03-e8c3-48a2-bbf3-0f528da57090",
   "metadata": {},
   "outputs": [
    {
     "data": {
      "text/plain": [
       "array([1, 1, 1, 1, 1, 1, 1, 1, 1, 1])"
      ]
     },
     "execution_count": 26,
     "metadata": {},
     "output_type": "execute_result"
    }
   ],
   "source": [
    "loj_model.predict(X)[0:10]"
   ]
  },
  {
   "cell_type": "code",
   "execution_count": 27,
   "id": "cd7437ed-b03d-426f-bfb6-78dd9b241023",
   "metadata": {},
   "outputs": [
    {
     "data": {
      "text/plain": [
       "0    1\n",
       "1    1\n",
       "2    1\n",
       "3    1\n",
       "4    1\n",
       "5    1\n",
       "6    1\n",
       "7    1\n",
       "8    1\n",
       "9    1\n",
       "Name: cinsiyet, dtype: int32"
      ]
     },
     "execution_count": 27,
     "metadata": {},
     "output_type": "execute_result"
    }
   ],
   "source": [
    "y[0:10]"
   ]
  },
  {
   "cell_type": "code",
   "execution_count": 28,
   "id": "66510cb1-9967-499c-a27e-f3788c168bc9",
   "metadata": {},
   "outputs": [
    {
     "data": {
      "text/plain": [
       "array([[0.00000000e+00, 1.00000000e+00],\n",
       "       [2.15139038e-01, 7.84860962e-01],\n",
       "       [3.36978670e-03, 9.96630213e-01],\n",
       "       [6.15013317e-05, 9.99938499e-01],\n",
       "       [5.77822235e-11, 1.00000000e+00],\n",
       "       [1.88257018e-08, 9.99999981e-01],\n",
       "       [0.00000000e+00, 1.00000000e+00],\n",
       "       [8.65702402e-06, 9.99991343e-01],\n",
       "       [1.07363007e-11, 1.00000000e+00],\n",
       "       [2.53503484e-02, 9.74649652e-01]])"
      ]
     },
     "execution_count": 28,
     "metadata": {},
     "output_type": "execute_result"
    }
   ],
   "source": [
    "#modele ilişkin olasılık değerleri. ilk sutun '0' ikinci sutun '1' sınıfına ait olma olasılık\n",
    "loj_model.predict_proba(X)[0:10]"
   ]
  },
  {
   "cell_type": "code",
   "execution_count": 29,
   "id": "f0991b50-24d4-44cf-8c56-b85f04783115",
   "metadata": {},
   "outputs": [],
   "source": [
    "# **esikleme isleminin el ile yapilmasi**"
   ]
  },
  {
   "cell_type": "code",
   "execution_count": 30,
   "id": "9594b6fa-5699-4b15-8bd0-52d46c5592c9",
   "metadata": {},
   "outputs": [],
   "source": [
    "y_probs = loj_model.predict_proba(X)\n",
    "y_probs = y_probs[:,1]"
   ]
  },
  {
   "cell_type": "code",
   "execution_count": 31,
   "id": "736350f1-1939-4356-8f00-b368cf203c1f",
   "metadata": {},
   "outputs": [
    {
     "data": {
      "text/plain": [
       "array([1.        , 0.78486096, 0.99663021, 0.9999385 , 1.        ,\n",
       "       0.99999998, 1.        , 0.99999134, 1.        , 0.97464965])"
      ]
     },
     "execution_count": 31,
     "metadata": {},
     "output_type": "execute_result"
    }
   ],
   "source": [
    "y_probs[0:10]"
   ]
  },
  {
   "cell_type": "code",
   "execution_count": 32,
   "id": "34fbf645-a8ee-4985-9184-3644fc4aae81",
   "metadata": {},
   "outputs": [],
   "source": [
    "#esikleme isleminin el ile yapilmasi\n",
    "y_pred = [1 if i > 0.5 else 0 for i in y_probs]"
   ]
  },
  {
   "cell_type": "code",
   "execution_count": 33,
   "id": "c3ef6e93-b331-40f2-9205-7071f4e2ad5e",
   "metadata": {},
   "outputs": [
    {
     "data": {
      "text/plain": [
       "[1, 1, 1, 1, 1, 1, 1, 1, 1, 1]"
      ]
     },
     "execution_count": 33,
     "metadata": {},
     "output_type": "execute_result"
    }
   ],
   "source": [
    "y_pred[0:10]"
   ]
  },
  {
   "cell_type": "code",
   "execution_count": 34,
   "id": "bd8bda2a-2c85-49b9-beb5-6b8166fa9777",
   "metadata": {},
   "outputs": [],
   "source": [
    "# **raporlama**"
   ]
  },
  {
   "cell_type": "code",
   "execution_count": 35,
   "id": "1a24ad5a-4f36-413b-9573-5153225033c3",
   "metadata": {},
   "outputs": [
    {
     "data": {
      "text/plain": [
       "array([[25,  1],\n",
       "       [ 0, 26]], dtype=int64)"
      ]
     },
     "execution_count": 35,
     "metadata": {},
     "output_type": "execute_result"
    }
   ],
   "source": [
    "confusion_matrix(y, y_pred)"
   ]
  },
  {
   "cell_type": "code",
   "execution_count": 36,
   "id": "bc98d3a2-f94f-44ab-b49c-ec97b7694f2f",
   "metadata": {},
   "outputs": [
    {
     "data": {
      "text/plain": [
       "0.9807692307692307"
      ]
     },
     "execution_count": 36,
     "metadata": {},
     "output_type": "execute_result"
    }
   ],
   "source": [
    "accuracy_score(y, y_pred)"
   ]
  },
  {
   "cell_type": "code",
   "execution_count": 37,
   "id": "58051ee6-b43e-44f0-9965-6da3307bd4b2",
   "metadata": {},
   "outputs": [
    {
     "name": "stdout",
     "output_type": "stream",
     "text": [
      "              precision    recall  f1-score   support\n",
      "\n",
      "           0       1.00      0.96      0.98        26\n",
      "           1       0.96      1.00      0.98        26\n",
      "\n",
      "    accuracy                           0.98        52\n",
      "   macro avg       0.98      0.98      0.98        52\n",
      "weighted avg       0.98      0.98      0.98        52\n",
      "\n"
     ]
    }
   ],
   "source": [
    "print(classification_report(y, y_pred))"
   ]
  },
  {
   "cell_type": "code",
   "execution_count": 38,
   "id": "7911bdb6-8192-4aaa-93b7-523323b20f51",
   "metadata": {},
   "outputs": [
    {
     "data": {
      "text/plain": [
       "array([1.        , 0.78486096, 0.99663021, 0.9999385 , 1.        ])"
      ]
     },
     "execution_count": 38,
     "metadata": {},
     "output_type": "execute_result"
    }
   ],
   "source": [
    "loj_model.predict_proba(X)[:,1][0:5]"
   ]
  },
  {
   "cell_type": "code",
   "execution_count": 39,
   "id": "4ae0b678-4ebc-42ad-92fe-02d5e2c8ea85",
   "metadata": {},
   "outputs": [
    {
     "data": {
      "image/png": "[encoded data removed]",
      "text/plain": [
       "<Figure size 432x288 with 1 Axes>"
      ]
     },
     "metadata": {
      "needs_background": "light"
     },
     "output_type": "display_data"
    },
    {
     "name": "stdout",
     "output_type": "stream",
     "text": [
      "AUC= 0.9807692307692308\n"
     ]
    }
   ],
   "source": [
    "logit_roc_auc = roc_auc_score(y, loj_model.predict(X))\n",
    "\n",
    "fpr, tpr, thresholds = roc_curve(y, loj_model.predict_proba(X)[:,1])\n",
    "plt.figure()\n",
    "plt.plot(fpr, tpr, label='AUC (area = %0.2f)' % logit_roc_auc)\n",
    "plt.plot([0, 1], [0, 1],'r--')\n",
    "plt.xlim([0.0, 1.0])\n",
    "plt.ylim([0.0, 1.05])\n",
    "plt.xlabel('False Positive Oranı')\n",
    "plt.ylabel('True Positive Oranı')\n",
    "plt.title('ROC')\n",
    "plt.show()\n",
    "print(\"AUC=\",logit_roc_auc)"
   ]
  },
  {
   "cell_type": "code",
   "execution_count": 40,
   "id": "222cc514-3f90-4c11-93d4-8c17f357f681",
   "metadata": {},
   "outputs": [],
   "source": [
    "#test train ayırma işlemi\n",
    "#verisetindeki verisetinin azlığından, sınıfların eşit dağılmamasından dolayı\n",
    "#test setini 30% olarak ayarladık\n",
    "X_train, X_test, y_train, y_test = train_test_split(X, y, \n",
    "                                                    test_size = 0.30, \n",
    "                                                    random_state = 42)"
   ]
  },
  {
   "cell_type": "code",
   "execution_count": 41,
   "id": "97698c31-efe0-4e08-9270-29787e0c82e5",
   "metadata": {},
   "outputs": [
    {
     "data": {
      "text/html": [
       "<style>#sk-container-id-2 {color: black;background-color: white;}#sk-container-id-2 pre{padding: 0;}#sk-container-id-2 div.sk-toggleable {background-color: white;}#sk-container-id-2 label.sk-toggleable__label {cursor: pointer;display: block;width: 100%;margin-bottom: 0;padding: 0.3em;box-sizing: border-box;text-align: center;}#sk-container-id-2 label.sk-toggleable__label-arrow:before {content: \"▸\";float: left;margin-right: 0.25em;color: #696969;}#sk-container-id-2 label.sk-toggleable__label-arrow:hover:before {color: black;}#sk-container-id-2 div.sk-estimator:hover label.sk-toggleable__label-arrow:before {color: black;}#sk-container-id-2 div.sk-toggleable__content {max-height: 0;max-width: 0;overflow: hidden;text-align: left;background-color: #f0f8ff;}#sk-container-id-2 div.sk-toggleable__content pre {margin: 0.2em;color: black;border-radius: 0.25em;background-color: #f0f8ff;}#sk-container-id-2 input.sk-toggleable__control:checked~div.sk-toggleable__content {max-height: 200px;max-width: 100%;overflow: auto;}#sk-container-id-2 input.sk-toggleable__control:checked~label.sk-toggleable__label-arrow:before {content: \"▾\";}#sk-container-id-2 div.sk-estimator input.sk-toggleable__control:checked~label.sk-toggleable__label {background-color: #d4ebff;}#sk-container-id-2 div.sk-label input.sk-toggleable__control:checked~label.sk-toggleable__label {background-color: #d4ebff;}#sk-container-id-2 input.sk-hidden--visually {border: 0;clip: rect(1px 1px 1px 1px);clip: rect(1px, 1px, 1px, 1px);height: 1px;margin: -1px;overflow: hidden;padding: 0;position: absolute;width: 1px;}#sk-container-id-2 div.sk-estimator {font-family: monospace;background-color: #f0f8ff;border: 1px dotted black;border-radius: 0.25em;box-sizing: border-box;margin-bottom: 0.5em;}#sk-container-id-2 div.sk-estimator:hover {background-color: #d4ebff;}#sk-container-id-2 div.sk-parallel-item::after {content: \"\";width: 100%;border-bottom: 1px solid gray;flex-grow: 1;}#sk-container-id-2 div.sk-label:hover label.sk-toggleable__label {background-color: #d4ebff;}#sk-container-id-2 div.sk-serial::before {content: \"\";position: absolute;border-left: 1px solid gray;box-sizing: border-box;top: 0;bottom: 0;left: 50%;z-index: 0;}#sk-container-id-2 div.sk-serial {display: flex;flex-direction: column;align-items: center;background-color: white;padding-right: 0.2em;padding-left: 0.2em;position: relative;}#sk-container-id-2 div.sk-item {position: relative;z-index: 1;}#sk-container-id-2 div.sk-parallel {display: flex;align-items: stretch;justify-content: center;background-color: white;position: relative;}#sk-container-id-2 div.sk-item::before, #sk-container-id-2 div.sk-parallel-item::before {content: \"\";position: absolute;border-left: 1px solid gray;box-sizing: border-box;top: 0;bottom: 0;left: 50%;z-index: -1;}#sk-container-id-2 div.sk-parallel-item {display: flex;flex-direction: column;z-index: 1;position: relative;background-color: white;}#sk-container-id-2 div.sk-parallel-item:first-child::after {align-self: flex-end;width: 50%;}#sk-container-id-2 div.sk-parallel-item:last-child::after {align-self: flex-start;width: 50%;}#sk-container-id-2 div.sk-parallel-item:only-child::after {width: 0;}#sk-container-id-2 div.sk-dashed-wrapped {border: 1px dashed gray;margin: 0 0.4em 0.5em 0.4em;box-sizing: border-box;padding-bottom: 0.4em;background-color: white;}#sk-container-id-2 div.sk-label label {font-family: monospace;font-weight: bold;display: inline-block;line-height: 1.2em;}#sk-container-id-2 div.sk-label-container {text-align: center;}#sk-container-id-2 div.sk-container {/* jupyter's `normalize.less` sets `[hidden] { display: none; }` but bootstrap.min.css set `[hidden] { display: none !important; }` so we also need the `!important` here to be able to override the default hidden behavior on the sphinx rendered scikit-learn.org. See: https://github.com/scikit-learn/scikit-learn/issues/21755 */display: inline-block !important;position: relative;}#sk-container-id-2 div.sk-text-repr-fallback {display: none;}</style><div id=\"sk-container-id-2\" class=\"sk-top-container\"><div class=\"sk-text-repr-fallback\"><pre>LogisticRegression(solver=&#x27;liblinear&#x27;)</pre><b>In a Jupyter environment, please rerun this cell to show the HTML representation or trust the notebook. <br />On GitHub, the HTML representation is unable to render, please try loading this page with nbviewer.org.</b></div><div class=\"sk-container\" hidden><div class=\"sk-item\"><div class=\"sk-estimator sk-toggleable\"><input class=\"sk-toggleable__control sk-hidden--visually\" id=\"sk-estimator-id-2\" type=\"checkbox\" checked><label for=\"sk-estimator-id-2\" class=\"sk-toggleable__label sk-toggleable__label-arrow\">LogisticRegression</label><div class=\"sk-toggleable__content\"><pre>LogisticRegression(solver=&#x27;liblinear&#x27;)</pre></div></div></div></div></div>"
      ],
      "text/plain": [
       "LogisticRegression(solver='liblinear')"
      ]
     },
     "execution_count": 41,
     "metadata": {},
     "output_type": "execute_result"
    }
   ],
   "source": [
    "loj = LogisticRegression(solver = \"liblinear\")\n",
    "loj_model = loj.fit(X_train,y_train)\n",
    "loj_model"
   ]
  },
  {
   "cell_type": "code",
   "execution_count": 42,
   "id": "71f851ba-78a7-472a-88db-2ed1781de589",
   "metadata": {},
   "outputs": [
    {
     "data": {
      "text/plain": [
       "0.9375"
      ]
     },
     "execution_count": 42,
     "metadata": {},
     "output_type": "execute_result"
    }
   ],
   "source": [
    "accuracy_score(y_test, loj_model.predict(X_test))"
   ]
  },
  {
   "cell_type": "code",
   "execution_count": 43,
   "id": "2fd70031-8b9e-4e20-98f0-8445e4c21eb5",
   "metadata": {},
   "outputs": [
    {
     "data": {
      "text/plain": [
       "array([0.75, 0.5 ])"
      ]
     },
     "execution_count": 43,
     "metadata": {},
     "output_type": "execute_result"
    }
   ],
   "source": [
    "cross_val_score(loj_model, X_test, y_test, cv = 2)"
   ]
  },
  {
   "cell_type": "code",
   "execution_count": 44,
   "id": "94a62141-4830-416c-972d-4b54df984afe",
   "metadata": {},
   "outputs": [
    {
     "data": {
      "text/plain": [
       "0.625"
      ]
     },
     "execution_count": 44,
     "metadata": {},
     "output_type": "execute_result"
    }
   ],
   "source": [
    "cross_val_score(loj_model, X_test, y_test, cv = 2).mean()"
   ]
  },
  {
   "cell_type": "code",
   "execution_count": 45,
   "id": "b38e94f9-70e7-49dd-b2fb-1518c280b9a9",
   "metadata": {},
   "outputs": [],
   "source": [
    "                                      1.2 Gaussian Naive Bayes\n",
    "#Olasılık temelli bir modelleme tekniğidir. Temel amaç belirli bir örneğin her bir sınıfa ait olma olasılığının \n",
    "#koşullu olasılık temelli hesaplanmasıdır."
   ]
  },
  {
   "cell_type": "code",
   "execution_count": 46,
   "id": "f9d12d41-02a1-499d-8a24-6b6aadbed904",
   "metadata": {},
   "outputs": [],
   "source": [
    "#  Model"
   ]
  },
  {
   "cell_type": "code",
   "execution_count": 47,
   "id": "27b81173-47e7-436e-86d5-b6a7322ad4ef",
   "metadata": {},
   "outputs": [],
   "source": [
    "X_train, X_test, y_train, y_test = train_test_split(X, y, \n",
    "                                                    test_size=0.30, \n",
    "                                                    random_state=42)"
   ]
  },
  {
   "cell_type": "code",
   "execution_count": 48,
   "id": "62376d7c-1558-46d7-b5b6-33d3a5d8593e",
   "metadata": {},
   "outputs": [
    {
     "data": {
      "text/html": [
       "<style>#sk-container-id-3 {color: black;background-color: white;}#sk-container-id-3 pre{padding: 0;}#sk-container-id-3 div.sk-toggleable {background-color: white;}#sk-container-id-3 label.sk-toggleable__label {cursor: pointer;display: block;width: 100%;margin-bottom: 0;padding: 0.3em;box-sizing: border-box;text-align: center;}#sk-container-id-3 label.sk-toggleable__label-arrow:before {content: \"▸\";float: left;margin-right: 0.25em;color: #696969;}#sk-container-id-3 label.sk-toggleable__label-arrow:hover:before {color: black;}#sk-container-id-3 div.sk-estimator:hover label.sk-toggleable__label-arrow:before {color: black;}#sk-container-id-3 div.sk-toggleable__content {max-height: 0;max-width: 0;overflow: hidden;text-align: left;background-color: #f0f8ff;}#sk-container-id-3 div.sk-toggleable__content pre {margin: 0.2em;color: black;border-radius: 0.25em;background-color: #f0f8ff;}#sk-container-id-3 input.sk-toggleable__control:checked~div.sk-toggleable__content {max-height: 200px;max-width: 100%;overflow: auto;}#sk-container-id-3 input.sk-toggleable__control:checked~label.sk-toggleable__label-arrow:before {content: \"▾\";}#sk-container-id-3 div.sk-estimator input.sk-toggleable__control:checked~label.sk-toggleable__label {background-color: #d4ebff;}#sk-container-id-3 div.sk-label input.sk-toggleable__control:checked~label.sk-toggleable__label {background-color: #d4ebff;}#sk-container-id-3 input.sk-hidden--visually {border: 0;clip: rect(1px 1px 1px 1px);clip: rect(1px, 1px, 1px, 1px);height: 1px;margin: -1px;overflow: hidden;padding: 0;position: absolute;width: 1px;}#sk-container-id-3 div.sk-estimator {font-family: monospace;background-color: #f0f8ff;border: 1px dotted black;border-radius: 0.25em;box-sizing: border-box;margin-bottom: 0.5em;}#sk-container-id-3 div.sk-estimator:hover {background-color: #d4ebff;}#sk-container-id-3 div.sk-parallel-item::after {content: \"\";width: 100%;border-bottom: 1px solid gray;flex-grow: 1;}#sk-container-id-3 div.sk-label:hover label.sk-toggleable__label {background-color: #d4ebff;}#sk-container-id-3 div.sk-serial::before {content: \"\";position: absolute;border-left: 1px solid gray;box-sizing: border-box;top: 0;bottom: 0;left: 50%;z-index: 0;}#sk-container-id-3 div.sk-serial {display: flex;flex-direction: column;align-items: center;background-color: white;padding-right: 0.2em;padding-left: 0.2em;position: relative;}#sk-container-id-3 div.sk-item {position: relative;z-index: 1;}#sk-container-id-3 div.sk-parallel {display: flex;align-items: stretch;justify-content: center;background-color: white;position: relative;}#sk-container-id-3 div.sk-item::before, #sk-container-id-3 div.sk-parallel-item::before {content: \"\";position: absolute;border-left: 1px solid gray;box-sizing: border-box;top: 0;bottom: 0;left: 50%;z-index: -1;}#sk-container-id-3 div.sk-parallel-item {display: flex;flex-direction: column;z-index: 1;position: relative;background-color: white;}#sk-container-id-3 div.sk-parallel-item:first-child::after {align-self: flex-end;width: 50%;}#sk-container-id-3 div.sk-parallel-item:last-child::after {align-self: flex-start;width: 50%;}#sk-container-id-3 div.sk-parallel-item:only-child::after {width: 0;}#sk-container-id-3 div.sk-dashed-wrapped {border: 1px dashed gray;margin: 0 0.4em 0.5em 0.4em;box-sizing: border-box;padding-bottom: 0.4em;background-color: white;}#sk-container-id-3 div.sk-label label {font-family: monospace;font-weight: bold;display: inline-block;line-height: 1.2em;}#sk-container-id-3 div.sk-label-container {text-align: center;}#sk-container-id-3 div.sk-container {/* jupyter's `normalize.less` sets `[hidden] { display: none; }` but bootstrap.min.css set `[hidden] { display: none !important; }` so we also need the `!important` here to be able to override the default hidden behavior on the sphinx rendered scikit-learn.org. See: https://github.com/scikit-learn/scikit-learn/issues/21755 */display: inline-block !important;position: relative;}#sk-container-id-3 div.sk-text-repr-fallback {display: none;}</style><div id=\"sk-container-id-3\" class=\"sk-top-container\"><div class=\"sk-text-repr-fallback\"><pre>GaussianNB()</pre><b>In a Jupyter environment, please rerun this cell to show the HTML representation or trust the notebook. <br />On GitHub, the HTML representation is unable to render, please try loading this page with nbviewer.org.</b></div><div class=\"sk-container\" hidden><div class=\"sk-item\"><div class=\"sk-estimator sk-toggleable\"><input class=\"sk-toggleable__control sk-hidden--visually\" id=\"sk-estimator-id-3\" type=\"checkbox\" checked><label for=\"sk-estimator-id-3\" class=\"sk-toggleable__label sk-toggleable__label-arrow\">GaussianNB</label><div class=\"sk-toggleable__content\"><pre>GaussianNB()</pre></div></div></div></div></div>"
      ],
      "text/plain": [
       "GaussianNB()"
      ]
     },
     "execution_count": 48,
     "metadata": {},
     "output_type": "execute_result"
    }
   ],
   "source": [
    "nb = GaussianNB()\n",
    "nb_model = nb.fit(X_train, y_train)\n",
    "nb_model"
   ]
  },
  {
   "cell_type": "code",
   "execution_count": 49,
   "id": "a4ce8c5b-c14a-48cc-96d2-f991c956bec1",
   "metadata": {},
   "outputs": [
    {
     "data": {
      "text/plain": [
       "array([0, 0, 0, 0, 0, 1, 0, 0, 0, 1])"
      ]
     },
     "execution_count": 49,
     "metadata": {},
     "output_type": "execute_result"
    }
   ],
   "source": [
    "nb_model.predict(X_test)[0:10]"
   ]
  },
  {
   "cell_type": "code",
   "execution_count": 50,
   "id": "6fd820b2-9930-4253-9190-0ed7503710aa",
   "metadata": {},
   "outputs": [
    {
     "data": {
      "text/plain": [
       "array([[9.99999843e-01, 1.56725260e-07],\n",
       "       [9.99999665e-01, 3.35255360e-07],\n",
       "       [9.99999747e-01, 2.53274285e-07],\n",
       "       [9.99999838e-01, 1.62344673e-07],\n",
       "       [9.99999702e-01, 2.98432107e-07],\n",
       "       [5.07643672e-14, 1.00000000e+00],\n",
       "       [9.99999849e-01, 1.51124618e-07],\n",
       "       [9.99999633e-01, 3.67031949e-07],\n",
       "       [9.99785420e-01, 2.14580469e-04],\n",
       "       [4.97863671e-46, 1.00000000e+00]])"
      ]
     },
     "execution_count": 50,
     "metadata": {},
     "output_type": "execute_result"
    }
   ],
   "source": [
    "nb_model.predict_proba(X_test)[0:10]"
   ]
  },
  {
   "cell_type": "code",
   "execution_count": 51,
   "id": "92e087be-c05d-4a74-b26f-ea61d87136ab",
   "metadata": {},
   "outputs": [],
   "source": [
    "y_pred = nb_model.predict(X_test)"
   ]
  },
  {
   "cell_type": "code",
   "execution_count": 52,
   "id": "f017d76f-30cb-4f05-a6b4-8cb6f347f78d",
   "metadata": {},
   "outputs": [
    {
     "data": {
      "text/plain": [
       "0.8125"
      ]
     },
     "execution_count": 52,
     "metadata": {},
     "output_type": "execute_result"
    }
   ],
   "source": [
    "accuracy_score(y_test, y_pred)"
   ]
  },
  {
   "cell_type": "code",
   "execution_count": 53,
   "id": "9669fb3f-1231-4349-8356-e433a0ec2c34",
   "metadata": {},
   "outputs": [
    {
     "data": {
      "text/plain": [
       "0.75"
      ]
     },
     "execution_count": 53,
     "metadata": {},
     "output_type": "execute_result"
    }
   ],
   "source": [
    "cross_val_score(nb_model, X_test, y_test, cv = 2).mean()"
   ]
  },
  {
   "cell_type": "code",
   "execution_count": 54,
   "id": "5d9cec69-c82e-4206-8b3e-ded4f6dad790",
   "metadata": {},
   "outputs": [],
   "source": [
    "                                              1.3 KNN\n",
    "#KNN en basit anlamı ile içerisinde tahmin edilecek değerin bağımsız değişkenlerinin oluşturduğu vektörün en \n",
    "#yakın komşularının hangi sınıfta yoğun olduğu bilgisi üzerinden sınıfını tahmin etmeye dayanır.\n",
    "\n",
    "#İşlem Adımları\n",
    "\n",
    "#    Komşu sayısını belirle (k)\n",
    "#    Bilinmeyen nokta ile diğer tüm noktalar arasındaki uzaklıkları hesapla\n",
    "#    Uzaklıkları sırala ve belirlenen k değerine göre en yakın k sayıda gözlemi seç\n",
    "#    Sınıflandırma yapılıyorsa en sık karşılaşılan sınıf, regresyon yapılıyor ise ortalama değeri tahmin değeri \n",
    "#olarak belirle"
   ]
  },
  {
   "cell_type": "code",
   "execution_count": 55,
   "id": "1cd2eb2b-1334-46e8-a685-0a5b03114aac",
   "metadata": {},
   "outputs": [],
   "source": [
    "#  Model"
   ]
  },
  {
   "cell_type": "code",
   "execution_count": 56,
   "id": "4bf6a762-e916-47c0-971e-b80bf3235877",
   "metadata": {},
   "outputs": [],
   "source": [
    "X_train, X_test, y_train, y_test = train_test_split(X, y, \n",
    "                                                    test_size=0.30, \n",
    "                                                    random_state=42)"
   ]
  },
  {
   "cell_type": "code",
   "execution_count": 57,
   "id": "e7402316-7a68-48aa-a050-304e269ae83d",
   "metadata": {},
   "outputs": [
    {
     "data": {
      "text/html": [
       "<style>#sk-container-id-4 {color: black;background-color: white;}#sk-container-id-4 pre{padding: 0;}#sk-container-id-4 div.sk-toggleable {background-color: white;}#sk-container-id-4 label.sk-toggleable__label {cursor: pointer;display: block;width: 100%;margin-bottom: 0;padding: 0.3em;box-sizing: border-box;text-align: center;}#sk-container-id-4 label.sk-toggleable__label-arrow:before {content: \"▸\";float: left;margin-right: 0.25em;color: #696969;}#sk-container-id-4 label.sk-toggleable__label-arrow:hover:before {color: black;}#sk-container-id-4 div.sk-estimator:hover label.sk-toggleable__label-arrow:before {color: black;}#sk-container-id-4 div.sk-toggleable__content {max-height: 0;max-width: 0;overflow: hidden;text-align: left;background-color: #f0f8ff;}#sk-container-id-4 div.sk-toggleable__content pre {margin: 0.2em;color: black;border-radius: 0.25em;background-color: #f0f8ff;}#sk-container-id-4 input.sk-toggleable__control:checked~div.sk-toggleable__content {max-height: 200px;max-width: 100%;overflow: auto;}#sk-container-id-4 input.sk-toggleable__control:checked~label.sk-toggleable__label-arrow:before {content: \"▾\";}#sk-container-id-4 div.sk-estimator input.sk-toggleable__control:checked~label.sk-toggleable__label {background-color: #d4ebff;}#sk-container-id-4 div.sk-label input.sk-toggleable__control:checked~label.sk-toggleable__label {background-color: #d4ebff;}#sk-container-id-4 input.sk-hidden--visually {border: 0;clip: rect(1px 1px 1px 1px);clip: rect(1px, 1px, 1px, 1px);height: 1px;margin: -1px;overflow: hidden;padding: 0;position: absolute;width: 1px;}#sk-container-id-4 div.sk-estimator {font-family: monospace;background-color: #f0f8ff;border: 1px dotted black;border-radius: 0.25em;box-sizing: border-box;margin-bottom: 0.5em;}#sk-container-id-4 div.sk-estimator:hover {background-color: #d4ebff;}#sk-container-id-4 div.sk-parallel-item::after {content: \"\";width: 100%;border-bottom: 1px solid gray;flex-grow: 1;}#sk-container-id-4 div.sk-label:hover label.sk-toggleable__label {background-color: #d4ebff;}#sk-container-id-4 div.sk-serial::before {content: \"\";position: absolute;border-left: 1px solid gray;box-sizing: border-box;top: 0;bottom: 0;left: 50%;z-index: 0;}#sk-container-id-4 div.sk-serial {display: flex;flex-direction: column;align-items: center;background-color: white;padding-right: 0.2em;padding-left: 0.2em;position: relative;}#sk-container-id-4 div.sk-item {position: relative;z-index: 1;}#sk-container-id-4 div.sk-parallel {display: flex;align-items: stretch;justify-content: center;background-color: white;position: relative;}#sk-container-id-4 div.sk-item::before, #sk-container-id-4 div.sk-parallel-item::before {content: \"\";position: absolute;border-left: 1px solid gray;box-sizing: border-box;top: 0;bottom: 0;left: 50%;z-index: -1;}#sk-container-id-4 div.sk-parallel-item {display: flex;flex-direction: column;z-index: 1;position: relative;background-color: white;}#sk-container-id-4 div.sk-parallel-item:first-child::after {align-self: flex-end;width: 50%;}#sk-container-id-4 div.sk-parallel-item:last-child::after {align-self: flex-start;width: 50%;}#sk-container-id-4 div.sk-parallel-item:only-child::after {width: 0;}#sk-container-id-4 div.sk-dashed-wrapped {border: 1px dashed gray;margin: 0 0.4em 0.5em 0.4em;box-sizing: border-box;padding-bottom: 0.4em;background-color: white;}#sk-container-id-4 div.sk-label label {font-family: monospace;font-weight: bold;display: inline-block;line-height: 1.2em;}#sk-container-id-4 div.sk-label-container {text-align: center;}#sk-container-id-4 div.sk-container {/* jupyter's `normalize.less` sets `[hidden] { display: none; }` but bootstrap.min.css set `[hidden] { display: none !important; }` so we also need the `!important` here to be able to override the default hidden behavior on the sphinx rendered scikit-learn.org. See: https://github.com/scikit-learn/scikit-learn/issues/21755 */display: inline-block !important;position: relative;}#sk-container-id-4 div.sk-text-repr-fallback {display: none;}</style><div id=\"sk-container-id-4\" class=\"sk-top-container\"><div class=\"sk-text-repr-fallback\"><pre>KNeighborsClassifier()</pre><b>In a Jupyter environment, please rerun this cell to show the HTML representation or trust the notebook. <br />On GitHub, the HTML representation is unable to render, please try loading this page with nbviewer.org.</b></div><div class=\"sk-container\" hidden><div class=\"sk-item\"><div class=\"sk-estimator sk-toggleable\"><input class=\"sk-toggleable__control sk-hidden--visually\" id=\"sk-estimator-id-4\" type=\"checkbox\" checked><label for=\"sk-estimator-id-4\" class=\"sk-toggleable__label sk-toggleable__label-arrow\">KNeighborsClassifier</label><div class=\"sk-toggleable__content\"><pre>KNeighborsClassifier()</pre></div></div></div></div></div>"
      ],
      "text/plain": [
       "KNeighborsClassifier()"
      ]
     },
     "execution_count": 57,
     "metadata": {},
     "output_type": "execute_result"
    }
   ],
   "source": [
    "knn = KNeighborsClassifier()\n",
    "knn_model = knn.fit(X_train, y_train)\n",
    "knn_model"
   ]
  },
  {
   "cell_type": "code",
   "execution_count": 58,
   "id": "f22254e6-788f-4639-ba53-6f5c8f938ce0",
   "metadata": {},
   "outputs": [],
   "source": [
    "# Tahmin"
   ]
  },
  {
   "cell_type": "code",
   "execution_count": 59,
   "id": "a4e1f7d4-b31e-4a69-b613-90a2d1b011dc",
   "metadata": {},
   "outputs": [],
   "source": [
    "y_pred = knn_model.predict(X_test)"
   ]
  },
  {
   "cell_type": "code",
   "execution_count": 60,
   "id": "20a2a41c-524f-4db0-a56e-7639ba6e29bc",
   "metadata": {},
   "outputs": [
    {
     "data": {
      "text/plain": [
       "0.875"
      ]
     },
     "execution_count": 60,
     "metadata": {},
     "output_type": "execute_result"
    }
   ],
   "source": [
    "accuracy_score(y_test, y_pred)"
   ]
  },
  {
   "cell_type": "code",
   "execution_count": 61,
   "id": "9d3ce8ea-19a2-44c8-b272-5473bd5f61d4",
   "metadata": {},
   "outputs": [
    {
     "name": "stdout",
     "output_type": "stream",
     "text": [
      "              precision    recall  f1-score   support\n",
      "\n",
      "           0       0.86      0.86      0.86         7\n",
      "           1       0.89      0.89      0.89         9\n",
      "\n",
      "    accuracy                           0.88        16\n",
      "   macro avg       0.87      0.87      0.87        16\n",
      "weighted avg       0.88      0.88      0.88        16\n",
      "\n"
     ]
    }
   ],
   "source": [
    "print(classification_report(y_test, y_pred))"
   ]
  },
  {
   "cell_type": "code",
   "execution_count": 62,
   "id": "a150624f-0c5e-4e9d-91d1-03e5add1bd15",
   "metadata": {},
   "outputs": [],
   "source": [
    "# Model Tuning"
   ]
  },
  {
   "cell_type": "code",
   "execution_count": 63,
   "id": "abefe2b9-2262-4cbb-8605-51210adf82bf",
   "metadata": {},
   "outputs": [],
   "source": [
    "knn_params = {\"n_neighbors\": np.arange(1,50)}"
   ]
  },
  {
   "cell_type": "code",
   "execution_count": 64,
   "id": "b9f2fc22-8aa5-41b0-adf5-386276e77a7f",
   "metadata": {},
   "outputs": [
    {
     "data": {
      "text/html": [
       "<style>#sk-container-id-5 {color: black;background-color: white;}#sk-container-id-5 pre{padding: 0;}#sk-container-id-5 div.sk-toggleable {background-color: white;}#sk-container-id-5 label.sk-toggleable__label {cursor: pointer;display: block;width: 100%;margin-bottom: 0;padding: 0.3em;box-sizing: border-box;text-align: center;}#sk-container-id-5 label.sk-toggleable__label-arrow:before {content: \"▸\";float: left;margin-right: 0.25em;color: #696969;}#sk-container-id-5 label.sk-toggleable__label-arrow:hover:before {color: black;}#sk-container-id-5 div.sk-estimator:hover label.sk-toggleable__label-arrow:before {color: black;}#sk-container-id-5 div.sk-toggleable__content {max-height: 0;max-width: 0;overflow: hidden;text-align: left;background-color: #f0f8ff;}#sk-container-id-5 div.sk-toggleable__content pre {margin: 0.2em;color: black;border-radius: 0.25em;background-color: #f0f8ff;}#sk-container-id-5 input.sk-toggleable__control:checked~div.sk-toggleable__content {max-height: 200px;max-width: 100%;overflow: auto;}#sk-container-id-5 input.sk-toggleable__control:checked~label.sk-toggleable__label-arrow:before {content: \"▾\";}#sk-container-id-5 div.sk-estimator input.sk-toggleable__control:checked~label.sk-toggleable__label {background-color: #d4ebff;}#sk-container-id-5 div.sk-label input.sk-toggleable__control:checked~label.sk-toggleable__label {background-color: #d4ebff;}#sk-container-id-5 input.sk-hidden--visually {border: 0;clip: rect(1px 1px 1px 1px);clip: rect(1px, 1px, 1px, 1px);height: 1px;margin: -1px;overflow: hidden;padding: 0;position: absolute;width: 1px;}#sk-container-id-5 div.sk-estimator {font-family: monospace;background-color: #f0f8ff;border: 1px dotted black;border-radius: 0.25em;box-sizing: border-box;margin-bottom: 0.5em;}#sk-container-id-5 div.sk-estimator:hover {background-color: #d4ebff;}#sk-container-id-5 div.sk-parallel-item::after {content: \"\";width: 100%;border-bottom: 1px solid gray;flex-grow: 1;}#sk-container-id-5 div.sk-label:hover label.sk-toggleable__label {background-color: #d4ebff;}#sk-container-id-5 div.sk-serial::before {content: \"\";position: absolute;border-left: 1px solid gray;box-sizing: border-box;top: 0;bottom: 0;left: 50%;z-index: 0;}#sk-container-id-5 div.sk-serial {display: flex;flex-direction: column;align-items: center;background-color: white;padding-right: 0.2em;padding-left: 0.2em;position: relative;}#sk-container-id-5 div.sk-item {position: relative;z-index: 1;}#sk-container-id-5 div.sk-parallel {display: flex;align-items: stretch;justify-content: center;background-color: white;position: relative;}#sk-container-id-5 div.sk-item::before, #sk-container-id-5 div.sk-parallel-item::before {content: \"\";position: absolute;border-left: 1px solid gray;box-sizing: border-box;top: 0;bottom: 0;left: 50%;z-index: -1;}#sk-container-id-5 div.sk-parallel-item {display: flex;flex-direction: column;z-index: 1;position: relative;background-color: white;}#sk-container-id-5 div.sk-parallel-item:first-child::after {align-self: flex-end;width: 50%;}#sk-container-id-5 div.sk-parallel-item:last-child::after {align-self: flex-start;width: 50%;}#sk-container-id-5 div.sk-parallel-item:only-child::after {width: 0;}#sk-container-id-5 div.sk-dashed-wrapped {border: 1px dashed gray;margin: 0 0.4em 0.5em 0.4em;box-sizing: border-box;padding-bottom: 0.4em;background-color: white;}#sk-container-id-5 div.sk-label label {font-family: monospace;font-weight: bold;display: inline-block;line-height: 1.2em;}#sk-container-id-5 div.sk-label-container {text-align: center;}#sk-container-id-5 div.sk-container {/* jupyter's `normalize.less` sets `[hidden] { display: none; }` but bootstrap.min.css set `[hidden] { display: none !important; }` so we also need the `!important` here to be able to override the default hidden behavior on the sphinx rendered scikit-learn.org. See: https://github.com/scikit-learn/scikit-learn/issues/21755 */display: inline-block !important;position: relative;}#sk-container-id-5 div.sk-text-repr-fallback {display: none;}</style><div id=\"sk-container-id-5\" class=\"sk-top-container\"><div class=\"sk-text-repr-fallback\"><pre>GridSearchCV(cv=10, estimator=KNeighborsClassifier(),\n",
       "             param_grid={&#x27;n_neighbors&#x27;: array([ 1,  2,  3,  4,  5,  6,  7,  8,  9, 10, 11, 12, 13, 14, 15, 16, 17,\n",
       "       18, 19, 20, 21, 22, 23, 24, 25, 26, 27, 28, 29, 30, 31, 32, 33, 34,\n",
       "       35, 36, 37, 38, 39, 40, 41, 42, 43, 44, 45, 46, 47, 48, 49])})</pre><b>In a Jupyter environment, please rerun this cell to show the HTML representation or trust the notebook. <br />On GitHub, the HTML representation is unable to render, please try loading this page with nbviewer.org.</b></div><div class=\"sk-container\" hidden><div class=\"sk-item sk-dashed-wrapped\"><div class=\"sk-label-container\"><div class=\"sk-label sk-toggleable\"><input class=\"sk-toggleable__control sk-hidden--visually\" id=\"sk-estimator-id-5\" type=\"checkbox\" ><label for=\"sk-estimator-id-5\" class=\"sk-toggleable__label sk-toggleable__label-arrow\">GridSearchCV</label><div class=\"sk-toggleable__content\"><pre>GridSearchCV(cv=10, estimator=KNeighborsClassifier(),\n",
       "             param_grid={&#x27;n_neighbors&#x27;: array([ 1,  2,  3,  4,  5,  6,  7,  8,  9, 10, 11, 12, 13, 14, 15, 16, 17,\n",
       "       18, 19, 20, 21, 22, 23, 24, 25, 26, 27, 28, 29, 30, 31, 32, 33, 34,\n",
       "       35, 36, 37, 38, 39, 40, 41, 42, 43, 44, 45, 46, 47, 48, 49])})</pre></div></div></div><div class=\"sk-parallel\"><div class=\"sk-parallel-item\"><div class=\"sk-item\"><div class=\"sk-label-container\"><div class=\"sk-label sk-toggleable\"><input class=\"sk-toggleable__control sk-hidden--visually\" id=\"sk-estimator-id-6\" type=\"checkbox\" ><label for=\"sk-estimator-id-6\" class=\"sk-toggleable__label sk-toggleable__label-arrow\">estimator: KNeighborsClassifier</label><div class=\"sk-toggleable__content\"><pre>KNeighborsClassifier()</pre></div></div></div><div class=\"sk-serial\"><div class=\"sk-item\"><div class=\"sk-estimator sk-toggleable\"><input class=\"sk-toggleable__control sk-hidden--visually\" id=\"sk-estimator-id-7\" type=\"checkbox\" ><label for=\"sk-estimator-id-7\" class=\"sk-toggleable__label sk-toggleable__label-arrow\">KNeighborsClassifier</label><div class=\"sk-toggleable__content\"><pre>KNeighborsClassifier()</pre></div></div></div></div></div></div></div></div></div></div>"
      ],
      "text/plain": [
       "GridSearchCV(cv=10, estimator=KNeighborsClassifier(),\n",
       "             param_grid={'n_neighbors': array([ 1,  2,  3,  4,  5,  6,  7,  8,  9, 10, 11, 12, 13, 14, 15, 16, 17,\n",
       "       18, 19, 20, 21, 22, 23, 24, 25, 26, 27, 28, 29, 30, 31, 32, 33, 34,\n",
       "       35, 36, 37, 38, 39, 40, 41, 42, 43, 44, 45, 46, 47, 48, 49])})"
      ]
     },
     "execution_count": 64,
     "metadata": {},
     "output_type": "execute_result"
    }
   ],
   "source": [
    "knn = KNeighborsClassifier()\n",
    "knn_cv = GridSearchCV(knn, knn_params, cv=10)\n",
    "knn_cv.fit(X_train, y_train)"
   ]
  },
  {
   "cell_type": "code",
   "execution_count": 65,
   "id": "21fb38ec-1d0c-4004-ac7a-13ede79a8e6d",
   "metadata": {},
   "outputs": [
    {
     "name": "stdout",
     "output_type": "stream",
     "text": [
      "En iyi skor:0.8916666666666666\n",
      "En iyi parametreler: {'n_neighbors': 1}\n"
     ]
    }
   ],
   "source": [
    "print(\"En iyi skor:\" + str(knn_cv.best_score_))\n",
    "print(\"En iyi parametreler: \" + str(knn_cv.best_params_))"
   ]
  },
  {
   "cell_type": "code",
   "execution_count": 66,
   "id": "16992cae-5a39-42fb-aa65-f44cfd9cb002",
   "metadata": {},
   "outputs": [],
   "source": [
    "knn = KNeighborsClassifier(11)\n",
    "knn_tuned = knn.fit(X_train, y_train)"
   ]
  },
  {
   "cell_type": "code",
   "execution_count": 67,
   "id": "f5e382a5-81e0-4b5e-9f3a-9ea0b5ec6811",
   "metadata": {},
   "outputs": [
    {
     "data": {
      "text/plain": [
       "0.875"
      ]
     },
     "execution_count": 67,
     "metadata": {},
     "output_type": "execute_result"
    }
   ],
   "source": [
    "knn_tuned.score(X_test, y_test)"
   ]
  },
  {
   "cell_type": "code",
   "execution_count": 68,
   "id": "da965394-2433-4951-ad16-0ad8d54094f2",
   "metadata": {},
   "outputs": [],
   "source": [
    "y_pred = knn_tuned.predict(X_test)"
   ]
  },
  {
   "cell_type": "code",
   "execution_count": 69,
   "id": "cb3c11a1-fb3d-408e-9148-75a9519c304d",
   "metadata": {},
   "outputs": [
    {
     "data": {
      "text/plain": [
       "0.875"
      ]
     },
     "execution_count": 69,
     "metadata": {},
     "output_type": "execute_result"
    }
   ],
   "source": [
    "accuracy_score(y_test, y_pred)"
   ]
  },
  {
   "cell_type": "code",
   "execution_count": 70,
   "id": "0a68eeb7-8d1c-4748-a690-bfb034c0e444",
   "metadata": {},
   "outputs": [],
   "source": [
    "                                            1.4  SVC\n",
    "#Temel amaç iki sınıf arasındaki ayrımın optimumm olmasını sağlayacak hiper düzlemi bulmaktır."
   ]
  },
  {
   "cell_type": "code",
   "execution_count": 71,
   "id": "21fc39d1-887b-4aa1-b8a3-86844772f9ed",
   "metadata": {},
   "outputs": [],
   "source": [
    "# Model"
   ]
  },
  {
   "cell_type": "code",
   "execution_count": 72,
   "id": "f931ecbd-3cfa-40c2-a91b-54ee90b9b71f",
   "metadata": {},
   "outputs": [],
   "source": [
    "X_train, X_test, y_train, y_test = train_test_split(X, y, \n",
    "                                                    test_size=0.30, \n",
    "                                                    random_state=42)"
   ]
  },
  {
   "cell_type": "code",
   "execution_count": 73,
   "id": "4330485a-905d-4c16-881d-9860abdf753d",
   "metadata": {},
   "outputs": [],
   "source": [
    "svm_model = SVC(kernel = \"linear\").fit(X_train, y_train)"
   ]
  },
  {
   "cell_type": "code",
   "execution_count": 74,
   "id": "c15eeb6d-077a-45ee-a4e0-66baf1798a10",
   "metadata": {},
   "outputs": [
    {
     "data": {
      "text/html": [
       "<style>#sk-container-id-6 {color: black;background-color: white;}#sk-container-id-6 pre{padding: 0;}#sk-container-id-6 div.sk-toggleable {background-color: white;}#sk-container-id-6 label.sk-toggleable__label {cursor: pointer;display: block;width: 100%;margin-bottom: 0;padding: 0.3em;box-sizing: border-box;text-align: center;}#sk-container-id-6 label.sk-toggleable__label-arrow:before {content: \"▸\";float: left;margin-right: 0.25em;color: #696969;}#sk-container-id-6 label.sk-toggleable__label-arrow:hover:before {color: black;}#sk-container-id-6 div.sk-estimator:hover label.sk-toggleable__label-arrow:before {color: black;}#sk-container-id-6 div.sk-toggleable__content {max-height: 0;max-width: 0;overflow: hidden;text-align: left;background-color: #f0f8ff;}#sk-container-id-6 div.sk-toggleable__content pre {margin: 0.2em;color: black;border-radius: 0.25em;background-color: #f0f8ff;}#sk-container-id-6 input.sk-toggleable__control:checked~div.sk-toggleable__content {max-height: 200px;max-width: 100%;overflow: auto;}#sk-container-id-6 input.sk-toggleable__control:checked~label.sk-toggleable__label-arrow:before {content: \"▾\";}#sk-container-id-6 div.sk-estimator input.sk-toggleable__control:checked~label.sk-toggleable__label {background-color: #d4ebff;}#sk-container-id-6 div.sk-label input.sk-toggleable__control:checked~label.sk-toggleable__label {background-color: #d4ebff;}#sk-container-id-6 input.sk-hidden--visually {border: 0;clip: rect(1px 1px 1px 1px);clip: rect(1px, 1px, 1px, 1px);height: 1px;margin: -1px;overflow: hidden;padding: 0;position: absolute;width: 1px;}#sk-container-id-6 div.sk-estimator {font-family: monospace;background-color: #f0f8ff;border: 1px dotted black;border-radius: 0.25em;box-sizing: border-box;margin-bottom: 0.5em;}#sk-container-id-6 div.sk-estimator:hover {background-color: #d4ebff;}#sk-container-id-6 div.sk-parallel-item::after {content: \"\";width: 100%;border-bottom: 1px solid gray;flex-grow: 1;}#sk-container-id-6 div.sk-label:hover label.sk-toggleable__label {background-color: #d4ebff;}#sk-container-id-6 div.sk-serial::before {content: \"\";position: absolute;border-left: 1px solid gray;box-sizing: border-box;top: 0;bottom: 0;left: 50%;z-index: 0;}#sk-container-id-6 div.sk-serial {display: flex;flex-direction: column;align-items: center;background-color: white;padding-right: 0.2em;padding-left: 0.2em;position: relative;}#sk-container-id-6 div.sk-item {position: relative;z-index: 1;}#sk-container-id-6 div.sk-parallel {display: flex;align-items: stretch;justify-content: center;background-color: white;position: relative;}#sk-container-id-6 div.sk-item::before, #sk-container-id-6 div.sk-parallel-item::before {content: \"\";position: absolute;border-left: 1px solid gray;box-sizing: border-box;top: 0;bottom: 0;left: 50%;z-index: -1;}#sk-container-id-6 div.sk-parallel-item {display: flex;flex-direction: column;z-index: 1;position: relative;background-color: white;}#sk-container-id-6 div.sk-parallel-item:first-child::after {align-self: flex-end;width: 50%;}#sk-container-id-6 div.sk-parallel-item:last-child::after {align-self: flex-start;width: 50%;}#sk-container-id-6 div.sk-parallel-item:only-child::after {width: 0;}#sk-container-id-6 div.sk-dashed-wrapped {border: 1px dashed gray;margin: 0 0.4em 0.5em 0.4em;box-sizing: border-box;padding-bottom: 0.4em;background-color: white;}#sk-container-id-6 div.sk-label label {font-family: monospace;font-weight: bold;display: inline-block;line-height: 1.2em;}#sk-container-id-6 div.sk-label-container {text-align: center;}#sk-container-id-6 div.sk-container {/* jupyter's `normalize.less` sets `[hidden] { display: none; }` but bootstrap.min.css set `[hidden] { display: none !important; }` so we also need the `!important` here to be able to override the default hidden behavior on the sphinx rendered scikit-learn.org. See: https://github.com/scikit-learn/scikit-learn/issues/21755 */display: inline-block !important;position: relative;}#sk-container-id-6 div.sk-text-repr-fallback {display: none;}</style><div id=\"sk-container-id-6\" class=\"sk-top-container\"><div class=\"sk-text-repr-fallback\"><pre>SVC(kernel=&#x27;linear&#x27;)</pre><b>In a Jupyter environment, please rerun this cell to show the HTML representation or trust the notebook. <br />On GitHub, the HTML representation is unable to render, please try loading this page with nbviewer.org.</b></div><div class=\"sk-container\" hidden><div class=\"sk-item\"><div class=\"sk-estimator sk-toggleable\"><input class=\"sk-toggleable__control sk-hidden--visually\" id=\"sk-estimator-id-8\" type=\"checkbox\" checked><label for=\"sk-estimator-id-8\" class=\"sk-toggleable__label sk-toggleable__label-arrow\">SVC</label><div class=\"sk-toggleable__content\"><pre>SVC(kernel=&#x27;linear&#x27;)</pre></div></div></div></div></div>"
      ],
      "text/plain": [
       "SVC(kernel='linear')"
      ]
     },
     "execution_count": 74,
     "metadata": {},
     "output_type": "execute_result"
    }
   ],
   "source": [
    "svm_model"
   ]
  },
  {
   "cell_type": "code",
   "execution_count": 75,
   "id": "40684771-b2dc-48fb-9fdf-953bcde47bbf",
   "metadata": {},
   "outputs": [],
   "source": [
    "# Tahmin"
   ]
  },
  {
   "cell_type": "code",
   "execution_count": 76,
   "id": "60addb5b-d567-4aa3-a95e-b900b6d6a7f3",
   "metadata": {},
   "outputs": [],
   "source": [
    "y_pred = svm_model.predict(X_test)"
   ]
  },
  {
   "cell_type": "code",
   "execution_count": 77,
   "id": "ddbbb443-0c24-475d-ad3d-bbfa6580cc5d",
   "metadata": {},
   "outputs": [
    {
     "data": {
      "text/plain": [
       "0.9375"
      ]
     },
     "execution_count": 77,
     "metadata": {},
     "output_type": "execute_result"
    }
   ],
   "source": [
    "accuracy_score(y_test, y_pred)"
   ]
  },
  {
   "cell_type": "code",
   "execution_count": 78,
   "id": "2dc2ebb9-9fda-4d42-8040-411866206679",
   "metadata": {},
   "outputs": [],
   "source": [
    "# Model Tuning"
   ]
  },
  {
   "cell_type": "code",
   "execution_count": 79,
   "id": "43ba82c6-606c-47c8-a6fd-c2afbf72bab8",
   "metadata": {},
   "outputs": [
    {
     "name": "stdout",
     "output_type": "stream",
     "text": [
      "Fitting 10 folds for each of 9 candidates, totalling 90 fits\n"
     ]
    },
    {
     "data": {
      "text/html": [
       "<style>#sk-container-id-7 {color: black;background-color: white;}#sk-container-id-7 pre{padding: 0;}#sk-container-id-7 div.sk-toggleable {background-color: white;}#sk-container-id-7 label.sk-toggleable__label {cursor: pointer;display: block;width: 100%;margin-bottom: 0;padding: 0.3em;box-sizing: border-box;text-align: center;}#sk-container-id-7 label.sk-toggleable__label-arrow:before {content: \"▸\";float: left;margin-right: 0.25em;color: #696969;}#sk-container-id-7 label.sk-toggleable__label-arrow:hover:before {color: black;}#sk-container-id-7 div.sk-estimator:hover label.sk-toggleable__label-arrow:before {color: black;}#sk-container-id-7 div.sk-toggleable__content {max-height: 0;max-width: 0;overflow: hidden;text-align: left;background-color: #f0f8ff;}#sk-container-id-7 div.sk-toggleable__content pre {margin: 0.2em;color: black;border-radius: 0.25em;background-color: #f0f8ff;}#sk-container-id-7 input.sk-toggleable__control:checked~div.sk-toggleable__content {max-height: 200px;max-width: 100%;overflow: auto;}#sk-container-id-7 input.sk-toggleable__control:checked~label.sk-toggleable__label-arrow:before {content: \"▾\";}#sk-container-id-7 div.sk-estimator input.sk-toggleable__control:checked~label.sk-toggleable__label {background-color: #d4ebff;}#sk-container-id-7 div.sk-label input.sk-toggleable__control:checked~label.sk-toggleable__label {background-color: #d4ebff;}#sk-container-id-7 input.sk-hidden--visually {border: 0;clip: rect(1px 1px 1px 1px);clip: rect(1px, 1px, 1px, 1px);height: 1px;margin: -1px;overflow: hidden;padding: 0;position: absolute;width: 1px;}#sk-container-id-7 div.sk-estimator {font-family: monospace;background-color: #f0f8ff;border: 1px dotted black;border-radius: 0.25em;box-sizing: border-box;margin-bottom: 0.5em;}#sk-container-id-7 div.sk-estimator:hover {background-color: #d4ebff;}#sk-container-id-7 div.sk-parallel-item::after {content: \"\";width: 100%;border-bottom: 1px solid gray;flex-grow: 1;}#sk-container-id-7 div.sk-label:hover label.sk-toggleable__label {background-color: #d4ebff;}#sk-container-id-7 div.sk-serial::before {content: \"\";position: absolute;border-left: 1px solid gray;box-sizing: border-box;top: 0;bottom: 0;left: 50%;z-index: 0;}#sk-container-id-7 div.sk-serial {display: flex;flex-direction: column;align-items: center;background-color: white;padding-right: 0.2em;padding-left: 0.2em;position: relative;}#sk-container-id-7 div.sk-item {position: relative;z-index: 1;}#sk-container-id-7 div.sk-parallel {display: flex;align-items: stretch;justify-content: center;background-color: white;position: relative;}#sk-container-id-7 div.sk-item::before, #sk-container-id-7 div.sk-parallel-item::before {content: \"\";position: absolute;border-left: 1px solid gray;box-sizing: border-box;top: 0;bottom: 0;left: 50%;z-index: -1;}#sk-container-id-7 div.sk-parallel-item {display: flex;flex-direction: column;z-index: 1;position: relative;background-color: white;}#sk-container-id-7 div.sk-parallel-item:first-child::after {align-self: flex-end;width: 50%;}#sk-container-id-7 div.sk-parallel-item:last-child::after {align-self: flex-start;width: 50%;}#sk-container-id-7 div.sk-parallel-item:only-child::after {width: 0;}#sk-container-id-7 div.sk-dashed-wrapped {border: 1px dashed gray;margin: 0 0.4em 0.5em 0.4em;box-sizing: border-box;padding-bottom: 0.4em;background-color: white;}#sk-container-id-7 div.sk-label label {font-family: monospace;font-weight: bold;display: inline-block;line-height: 1.2em;}#sk-container-id-7 div.sk-label-container {text-align: center;}#sk-container-id-7 div.sk-container {/* jupyter's `normalize.less` sets `[hidden] { display: none; }` but bootstrap.min.css set `[hidden] { display: none !important; }` so we also need the `!important` here to be able to override the default hidden behavior on the sphinx rendered scikit-learn.org. See: https://github.com/scikit-learn/scikit-learn/issues/21755 */display: inline-block !important;position: relative;}#sk-container-id-7 div.sk-text-repr-fallback {display: none;}</style><div id=\"sk-container-id-7\" class=\"sk-top-container\"><div class=\"sk-text-repr-fallback\"><pre>GridSearchCV(cv=10, estimator=SVC(kernel=&#x27;linear&#x27;), n_jobs=-1,\n",
       "             param_grid={&#x27;C&#x27;: array([1, 2, 3, 4, 5, 6, 7, 8, 9])}, verbose=2)</pre><b>In a Jupyter environment, please rerun this cell to show the HTML representation or trust the notebook. <br />On GitHub, the HTML representation is unable to render, please try loading this page with nbviewer.org.</b></div><div class=\"sk-container\" hidden><div class=\"sk-item sk-dashed-wrapped\"><div class=\"sk-label-container\"><div class=\"sk-label sk-toggleable\"><input class=\"sk-toggleable__control sk-hidden--visually\" id=\"sk-estimator-id-9\" type=\"checkbox\" ><label for=\"sk-estimator-id-9\" class=\"sk-toggleable__label sk-toggleable__label-arrow\">GridSearchCV</label><div class=\"sk-toggleable__content\"><pre>GridSearchCV(cv=10, estimator=SVC(kernel=&#x27;linear&#x27;), n_jobs=-1,\n",
       "             param_grid={&#x27;C&#x27;: array([1, 2, 3, 4, 5, 6, 7, 8, 9])}, verbose=2)</pre></div></div></div><div class=\"sk-parallel\"><div class=\"sk-parallel-item\"><div class=\"sk-item\"><div class=\"sk-label-container\"><div class=\"sk-label sk-toggleable\"><input class=\"sk-toggleable__control sk-hidden--visually\" id=\"sk-estimator-id-10\" type=\"checkbox\" ><label for=\"sk-estimator-id-10\" class=\"sk-toggleable__label sk-toggleable__label-arrow\">estimator: SVC</label><div class=\"sk-toggleable__content\"><pre>SVC(kernel=&#x27;linear&#x27;)</pre></div></div></div><div class=\"sk-serial\"><div class=\"sk-item\"><div class=\"sk-estimator sk-toggleable\"><input class=\"sk-toggleable__control sk-hidden--visually\" id=\"sk-estimator-id-11\" type=\"checkbox\" ><label for=\"sk-estimator-id-11\" class=\"sk-toggleable__label sk-toggleable__label-arrow\">SVC</label><div class=\"sk-toggleable__content\"><pre>SVC(kernel=&#x27;linear&#x27;)</pre></div></div></div></div></div></div></div></div></div></div>"
      ],
      "text/plain": [
       "GridSearchCV(cv=10, estimator=SVC(kernel='linear'), n_jobs=-1,\n",
       "             param_grid={'C': array([1, 2, 3, 4, 5, 6, 7, 8, 9])}, verbose=2)"
      ]
     },
     "execution_count": 79,
     "metadata": {},
     "output_type": "execute_result"
    }
   ],
   "source": [
    "svc_params = {\"C\": np.arange(1,10)}\n",
    "\n",
    "svc = SVC(kernel = \"linear\")\n",
    "\n",
    "svc_cv_model = GridSearchCV(svc,svc_params, \n",
    "                            cv = 10, \n",
    "                            n_jobs = -1, \n",
    "                            verbose = 2 )\n",
    "\n",
    "svc_cv_model.fit(X_train, y_train)"
   ]
  },
  {
   "cell_type": "code",
   "execution_count": 80,
   "id": "a5ba1b89-efff-4e16-ab97-3ee5ee2e277c",
   "metadata": {},
   "outputs": [
    {
     "name": "stdout",
     "output_type": "stream",
     "text": [
      "En iyi parametreler: {'C': 1}\n"
     ]
    }
   ],
   "source": [
    "print(\"En iyi parametreler: \" + str(svc_cv_model.best_params_))"
   ]
  },
  {
   "cell_type": "code",
   "execution_count": 81,
   "id": "62cddf35-d10f-42fb-a780-1bd784b7e1fb",
   "metadata": {},
   "outputs": [],
   "source": [
    "svc_tuned = SVC(kernel = \"linear\", C = 5).fit(X_train, y_train)"
   ]
  },
  {
   "cell_type": "code",
   "execution_count": 82,
   "id": "5e9ba115-fc98-469a-a40c-de4f036ec41d",
   "metadata": {},
   "outputs": [
    {
     "data": {
      "text/plain": [
       "0.9375"
      ]
     },
     "execution_count": 82,
     "metadata": {},
     "output_type": "execute_result"
    }
   ],
   "source": [
    "y_pred = svc_tuned.predict(X_test)\n",
    "accuracy_score(y_test, y_pred)"
   ]
  },
  {
   "cell_type": "code",
   "execution_count": 83,
   "id": "d0575bcb-a8b2-4d41-aca1-a006921ae185",
   "metadata": {},
   "outputs": [],
   "source": [
    "                                        1.5  RBF SVC\n",
    "#RBF: Radial Bases Function"
   ]
  },
  {
   "cell_type": "code",
   "execution_count": 84,
   "id": "27bec0dd-1036-4821-898d-8fad4f9ac8bc",
   "metadata": {},
   "outputs": [],
   "source": [
    "#  Model"
   ]
  },
  {
   "cell_type": "code",
   "execution_count": 85,
   "id": "d3ab03ce-8603-467a-b8b9-79e76c23e913",
   "metadata": {},
   "outputs": [],
   "source": [
    "X_train, X_test, y_train, y_test = train_test_split(X, y, \n",
    "                                                    test_size=0.30, \n",
    "                                                    random_state=42)"
   ]
  },
  {
   "cell_type": "code",
   "execution_count": 86,
   "id": "883023b2-7cea-47d5-ae37-73bc598e5f3f",
   "metadata": {},
   "outputs": [],
   "source": [
    "svc_model = SVC(kernel = \"rbf\").fit(X_train, y_train)"
   ]
  },
  {
   "cell_type": "code",
   "execution_count": 87,
   "id": "587bcd3c-5a59-422e-86ff-4c0f82d3fb61",
   "metadata": {},
   "outputs": [],
   "source": [
    "# Tahmin"
   ]
  },
  {
   "cell_type": "code",
   "execution_count": 88,
   "id": "adb251e8-9313-4135-ba17-16ecf0d99389",
   "metadata": {},
   "outputs": [
    {
     "data": {
      "text/plain": [
       "0.875"
      ]
     },
     "execution_count": 88,
     "metadata": {},
     "output_type": "execute_result"
    }
   ],
   "source": [
    "y_pred = svc_model.predict(X_test)\n",
    "accuracy_score(y_test, y_pred)"
   ]
  },
  {
   "cell_type": "code",
   "execution_count": 89,
   "id": "6a61d87a-c40b-4012-b118-7f02515d4956",
   "metadata": {},
   "outputs": [],
   "source": [
    "#  Model Tuning"
   ]
  },
  {
   "cell_type": "code",
   "execution_count": 90,
   "id": "55914fbb-5a85-4e8b-9bce-101ad88337ed",
   "metadata": {},
   "outputs": [],
   "source": [
    "svc_params = {\"C\": [0.0001, 0.001, 0.1, 1, 5, 10 ,50 ,100],\n",
    "             \"gamma\": [0.0001, 0.001, 0.1, 1, 5, 10 ,50 ,100]}"
   ]
  },
  {
   "cell_type": "code",
   "execution_count": 91,
   "id": "a376e349-ad6f-44df-b942-d96c910f2047",
   "metadata": {},
   "outputs": [
    {
     "name": "stdout",
     "output_type": "stream",
     "text": [
      "Fitting 10 folds for each of 64 candidates, totalling 640 fits\n"
     ]
    },
    {
     "data": {
      "text/html": [
       "<style>#sk-container-id-8 {color: black;background-color: white;}#sk-container-id-8 pre{padding: 0;}#sk-container-id-8 div.sk-toggleable {background-color: white;}#sk-container-id-8 label.sk-toggleable__label {cursor: pointer;display: block;width: 100%;margin-bottom: 0;padding: 0.3em;box-sizing: border-box;text-align: center;}#sk-container-id-8 label.sk-toggleable__label-arrow:before {content: \"▸\";float: left;margin-right: 0.25em;color: #696969;}#sk-container-id-8 label.sk-toggleable__label-arrow:hover:before {color: black;}#sk-container-id-8 div.sk-estimator:hover label.sk-toggleable__label-arrow:before {color: black;}#sk-container-id-8 div.sk-toggleable__content {max-height: 0;max-width: 0;overflow: hidden;text-align: left;background-color: #f0f8ff;}#sk-container-id-8 div.sk-toggleable__content pre {margin: 0.2em;color: black;border-radius: 0.25em;background-color: #f0f8ff;}#sk-container-id-8 input.sk-toggleable__control:checked~div.sk-toggleable__content {max-height: 200px;max-width: 100%;overflow: auto;}#sk-container-id-8 input.sk-toggleable__control:checked~label.sk-toggleable__label-arrow:before {content: \"▾\";}#sk-container-id-8 div.sk-estimator input.sk-toggleable__control:checked~label.sk-toggleable__label {background-color: #d4ebff;}#sk-container-id-8 div.sk-label input.sk-toggleable__control:checked~label.sk-toggleable__label {background-color: #d4ebff;}#sk-container-id-8 input.sk-hidden--visually {border: 0;clip: rect(1px 1px 1px 1px);clip: rect(1px, 1px, 1px, 1px);height: 1px;margin: -1px;overflow: hidden;padding: 0;position: absolute;width: 1px;}#sk-container-id-8 div.sk-estimator {font-family: monospace;background-color: #f0f8ff;border: 1px dotted black;border-radius: 0.25em;box-sizing: border-box;margin-bottom: 0.5em;}#sk-container-id-8 div.sk-estimator:hover {background-color: #d4ebff;}#sk-container-id-8 div.sk-parallel-item::after {content: \"\";width: 100%;border-bottom: 1px solid gray;flex-grow: 1;}#sk-container-id-8 div.sk-label:hover label.sk-toggleable__label {background-color: #d4ebff;}#sk-container-id-8 div.sk-serial::before {content: \"\";position: absolute;border-left: 1px solid gray;box-sizing: border-box;top: 0;bottom: 0;left: 50%;z-index: 0;}#sk-container-id-8 div.sk-serial {display: flex;flex-direction: column;align-items: center;background-color: white;padding-right: 0.2em;padding-left: 0.2em;position: relative;}#sk-container-id-8 div.sk-item {position: relative;z-index: 1;}#sk-container-id-8 div.sk-parallel {display: flex;align-items: stretch;justify-content: center;background-color: white;position: relative;}#sk-container-id-8 div.sk-item::before, #sk-container-id-8 div.sk-parallel-item::before {content: \"\";position: absolute;border-left: 1px solid gray;box-sizing: border-box;top: 0;bottom: 0;left: 50%;z-index: -1;}#sk-container-id-8 div.sk-parallel-item {display: flex;flex-direction: column;z-index: 1;position: relative;background-color: white;}#sk-container-id-8 div.sk-parallel-item:first-child::after {align-self: flex-end;width: 50%;}#sk-container-id-8 div.sk-parallel-item:last-child::after {align-self: flex-start;width: 50%;}#sk-container-id-8 div.sk-parallel-item:only-child::after {width: 0;}#sk-container-id-8 div.sk-dashed-wrapped {border: 1px dashed gray;margin: 0 0.4em 0.5em 0.4em;box-sizing: border-box;padding-bottom: 0.4em;background-color: white;}#sk-container-id-8 div.sk-label label {font-family: monospace;font-weight: bold;display: inline-block;line-height: 1.2em;}#sk-container-id-8 div.sk-label-container {text-align: center;}#sk-container-id-8 div.sk-container {/* jupyter's `normalize.less` sets `[hidden] { display: none; }` but bootstrap.min.css set `[hidden] { display: none !important; }` so we also need the `!important` here to be able to override the default hidden behavior on the sphinx rendered scikit-learn.org. See: https://github.com/scikit-learn/scikit-learn/issues/21755 */display: inline-block !important;position: relative;}#sk-container-id-8 div.sk-text-repr-fallback {display: none;}</style><div id=\"sk-container-id-8\" class=\"sk-top-container\"><div class=\"sk-text-repr-fallback\"><pre>GridSearchCV(cv=10, estimator=SVC(), n_jobs=-1,\n",
       "             param_grid={&#x27;C&#x27;: [0.0001, 0.001, 0.1, 1, 5, 10, 50, 100],\n",
       "                         &#x27;gamma&#x27;: [0.0001, 0.001, 0.1, 1, 5, 10, 50, 100]},\n",
       "             verbose=2)</pre><b>In a Jupyter environment, please rerun this cell to show the HTML representation or trust the notebook. <br />On GitHub, the HTML representation is unable to render, please try loading this page with nbviewer.org.</b></div><div class=\"sk-container\" hidden><div class=\"sk-item sk-dashed-wrapped\"><div class=\"sk-label-container\"><div class=\"sk-label sk-toggleable\"><input class=\"sk-toggleable__control sk-hidden--visually\" id=\"sk-estimator-id-12\" type=\"checkbox\" ><label for=\"sk-estimator-id-12\" class=\"sk-toggleable__label sk-toggleable__label-arrow\">GridSearchCV</label><div class=\"sk-toggleable__content\"><pre>GridSearchCV(cv=10, estimator=SVC(), n_jobs=-1,\n",
       "             param_grid={&#x27;C&#x27;: [0.0001, 0.001, 0.1, 1, 5, 10, 50, 100],\n",
       "                         &#x27;gamma&#x27;: [0.0001, 0.001, 0.1, 1, 5, 10, 50, 100]},\n",
       "             verbose=2)</pre></div></div></div><div class=\"sk-parallel\"><div class=\"sk-parallel-item\"><div class=\"sk-item\"><div class=\"sk-label-container\"><div class=\"sk-label sk-toggleable\"><input class=\"sk-toggleable__control sk-hidden--visually\" id=\"sk-estimator-id-13\" type=\"checkbox\" ><label for=\"sk-estimator-id-13\" class=\"sk-toggleable__label sk-toggleable__label-arrow\">estimator: SVC</label><div class=\"sk-toggleable__content\"><pre>SVC()</pre></div></div></div><div class=\"sk-serial\"><div class=\"sk-item\"><div class=\"sk-estimator sk-toggleable\"><input class=\"sk-toggleable__control sk-hidden--visually\" id=\"sk-estimator-id-14\" type=\"checkbox\" ><label for=\"sk-estimator-id-14\" class=\"sk-toggleable__label sk-toggleable__label-arrow\">SVC</label><div class=\"sk-toggleable__content\"><pre>SVC()</pre></div></div></div></div></div></div></div></div></div></div>"
      ],
      "text/plain": [
       "GridSearchCV(cv=10, estimator=SVC(), n_jobs=-1,\n",
       "             param_grid={'C': [0.0001, 0.001, 0.1, 1, 5, 10, 50, 100],\n",
       "                         'gamma': [0.0001, 0.001, 0.1, 1, 5, 10, 50, 100]},\n",
       "             verbose=2)"
      ]
     },
     "execution_count": 91,
     "metadata": {},
     "output_type": "execute_result"
    }
   ],
   "source": [
    "svc = SVC()\n",
    "svc_cv_model = GridSearchCV(svc, svc_params, \n",
    "                         cv = 10, \n",
    "                         n_jobs = -1,\n",
    "                         verbose = 2)\n",
    "\n",
    "svc_cv_model.fit(X_train, y_train)"
   ]
  },
  {
   "cell_type": "code",
   "execution_count": 92,
   "id": "bfc62f8c-083f-454c-905e-2806f952a4c4",
   "metadata": {},
   "outputs": [
    {
     "name": "stdout",
     "output_type": "stream",
     "text": [
      "En iyi parametreler: {'C': 50, 'gamma': 0.001}\n"
     ]
    }
   ],
   "source": [
    "print(\"En iyi parametreler: \" + str(svc_cv_model.best_params_))"
   ]
  },
  {
   "cell_type": "code",
   "execution_count": 93,
   "id": "d872d75a-e1ef-4421-86dd-73cf98a28f7e",
   "metadata": {},
   "outputs": [],
   "source": [
    "svc_tuned = SVC(C = 10, gamma = 0.0001).fit(X_train, y_train)"
   ]
  },
  {
   "cell_type": "code",
   "execution_count": 94,
   "id": "123bac4d-9e9b-4d7e-ba48-aef2c2634590",
   "metadata": {},
   "outputs": [
    {
     "data": {
      "text/plain": [
       "0.875"
      ]
     },
     "execution_count": 94,
     "metadata": {},
     "output_type": "execute_result"
    }
   ],
   "source": [
    "y_pred = svc_tuned.predict(X_test)\n",
    "accuracy_score(y_test, y_pred)"
   ]
  },
  {
   "cell_type": "code",
   "execution_count": 95,
   "id": "fba6eb70-89c0-4294-abf3-6849d9f9d7c4",
   "metadata": {},
   "outputs": [],
   "source": [
    "                                     1.6 Yapay Sinir Ağları\n",
    "#İnsan beyninin bilgiyi işleme şeklini referans alan sınıflandırma ve regresyon problemleri için kullanılabilen\n",
    "#kuvvetli makine öğrenmesi algoritmalarından bir tanesidir."
   ]
  },
  {
   "cell_type": "code",
   "execution_count": 96,
   "id": "53cd8454-a144-4cc8-8ecb-a9724d28646b",
   "metadata": {},
   "outputs": [],
   "source": [
    "#  Model "
   ]
  },
  {
   "cell_type": "code",
   "execution_count": 97,
   "id": "6a19227b-7d5f-483e-a236-d1b82658cb70",
   "metadata": {},
   "outputs": [],
   "source": [
    "X_train, X_test, y_train, y_test = train_test_split(X, y, \n",
    "                                                    test_size=0.30, \n",
    "                                                    random_state=42)"
   ]
  },
  {
   "cell_type": "code",
   "execution_count": 98,
   "id": "8b06fcf2-d368-4db6-aa79-74e7b39d6f6b",
   "metadata": {},
   "outputs": [],
   "source": [
    "scaler = StandardScaler()"
   ]
  },
  {
   "cell_type": "code",
   "execution_count": 99,
   "id": "0661bba4-adc1-47b7-a173-50952a90a63f",
   "metadata": {},
   "outputs": [],
   "source": [
    "#veri standardizasyonu\n",
    "scaler.fit(X_train)\n",
    "X_train_scaled = scaler.transform(X_train)\n",
    "X_test_scaled = scaler.transform(X_test)"
   ]
  },
  {
   "cell_type": "code",
   "execution_count": 100,
   "id": "06d1a531-9771-4400-8f69-40cee06f78a7",
   "metadata": {},
   "outputs": [
    {
     "data": {
      "text/plain": [
       "array([[-0.25173342,  1.05718828, -0.23864512, -0.27359219, -0.32977755,\n",
       "        -0.25083205, -0.31956231, -0.32045587, -0.24087434, -0.32553999],\n",
       "       [-1.28743666, -0.9459053 , -0.45893293, -0.38130041, -0.39206502,\n",
       "        -0.46685965, -0.36369624, -0.40045872, -0.34556017, -0.40937002],\n",
       "       [ 0.26611819, -0.9459053 , -0.27994909, -0.28555977, -0.39206502,\n",
       "        -0.33724309, -0.23129446, -0.36845758, -0.32811253, -0.39260402],\n",
       "       [ 1.30182142,  1.05718828, -0.39009299, -0.34539767, -0.27994757,\n",
       "        -0.32284125, -0.2901397 , -0.35245701, -0.29321725, -0.24170995],\n",
       "       [-0.76958504, -0.9459053 , -0.2661811 , -0.32146251, -0.31732005,\n",
       "        -0.33724309, -0.21658315, -0.27245416, -0.24087434, -0.37583801]])"
      ]
     },
     "execution_count": 100,
     "metadata": {},
     "output_type": "execute_result"
    }
   ],
   "source": [
    "X_test_scaled[0:5]"
   ]
  },
  {
   "cell_type": "code",
   "execution_count": 101,
   "id": "46d034c1-96d1-4bb2-902c-3aa146ede148",
   "metadata": {},
   "outputs": [],
   "source": [
    "mlpc = MLPClassifier().fit(X_train_scaled, y_train)"
   ]
  },
  {
   "cell_type": "code",
   "execution_count": 102,
   "id": "3a5f3225-bc22-4682-abf6-3eb778de126e",
   "metadata": {},
   "outputs": [
    {
     "data": {
      "text/plain": [
       "['__abstractmethods__',\n",
       " '__class__',\n",
       " '__delattr__',\n",
       " '__dict__',\n",
       " '__dir__',\n",
       " '__doc__',\n",
       " '__eq__',\n",
       " '__format__',\n",
       " '__ge__',\n",
       " '__getattribute__',\n",
       " '__getstate__',\n",
       " '__gt__',\n",
       " '__hash__',\n",
       " '__init__',\n",
       " '__init_subclass__',\n",
       " '__le__',\n",
       " '__lt__',\n",
       " '__module__',\n",
       " '__ne__',\n",
       " '__new__',\n",
       " '__reduce__',\n",
       " '__reduce_ex__',\n",
       " '__repr__',\n",
       " '__setattr__',\n",
       " '__setstate__',\n",
       " '__sizeof__',\n",
       " '__str__',\n",
       " '__subclasshook__',\n",
       " '__weakref__',\n",
       " '_abc_impl',\n",
       " '_backprop',\n",
       " '_check_feature_names',\n",
       " '_check_n_features',\n",
       " '_check_solver',\n",
       " '_compute_loss_grad',\n",
       " '_estimator_type',\n",
       " '_fit',\n",
       " '_fit_lbfgs',\n",
       " '_fit_stochastic',\n",
       " '_forward_pass',\n",
       " '_forward_pass_fast',\n",
       " '_get_param_names',\n",
       " '_get_tags',\n",
       " '_init_coef',\n",
       " '_initialize',\n",
       " '_label_binarizer',\n",
       " '_loss_grad_lbfgs',\n",
       " '_more_tags',\n",
       " '_no_improvement_count',\n",
       " '_optimizer',\n",
       " '_random_state',\n",
       " '_repr_html_',\n",
       " '_repr_html_inner',\n",
       " '_repr_mimebundle_',\n",
       " '_unpack',\n",
       " '_update_no_improvement_count',\n",
       " '_validate_data',\n",
       " '_validate_hyperparameters',\n",
       " '_validate_input',\n",
       " 'activation',\n",
       " 'alpha',\n",
       " 'batch_size',\n",
       " 'best_loss_',\n",
       " 'beta_1',\n",
       " 'beta_2',\n",
       " 'classes_',\n",
       " 'coefs_',\n",
       " 'early_stopping',\n",
       " 'epsilon',\n",
       " 'fit',\n",
       " 'get_params',\n",
       " 'hidden_layer_sizes',\n",
       " 'intercepts_',\n",
       " 'learning_rate',\n",
       " 'learning_rate_init',\n",
       " 'loss',\n",
       " 'loss_',\n",
       " 'loss_curve_',\n",
       " 'max_fun',\n",
       " 'max_iter',\n",
       " 'momentum',\n",
       " 'n_features_in_',\n",
       " 'n_iter_',\n",
       " 'n_iter_no_change',\n",
       " 'n_layers_',\n",
       " 'n_outputs_',\n",
       " 'nesterovs_momentum',\n",
       " 'out_activation_',\n",
       " 'partial_fit',\n",
       " 'power_t',\n",
       " 'predict',\n",
       " 'predict_log_proba',\n",
       " 'predict_proba',\n",
       " 'random_state',\n",
       " 'score',\n",
       " 'set_params',\n",
       " 'shuffle',\n",
       " 'solver',\n",
       " 't_',\n",
       " 'tol',\n",
       " 'validation_fraction',\n",
       " 'verbose',\n",
       " 'warm_start']"
      ]
     },
     "execution_count": 102,
     "metadata": {},
     "output_type": "execute_result"
    }
   ],
   "source": [
    "#modelden neler ogrenebiliriz? \n",
    "dir(mlpc)"
   ]
  },
  {
   "cell_type": "code",
   "execution_count": 103,
   "id": "75a0707e-5fb0-46c8-b6cb-0b32878dc9ba",
   "metadata": {},
   "outputs": [],
   "source": [
    "# Tahmin"
   ]
  },
  {
   "cell_type": "code",
   "execution_count": 104,
   "id": "2921f33e-8016-4256-bc76-ae00bbde8a96",
   "metadata": {},
   "outputs": [
    {
     "data": {
      "text/plain": [
       "0.875"
      ]
     },
     "execution_count": 104,
     "metadata": {},
     "output_type": "execute_result"
    }
   ],
   "source": [
    "y_pred = mlpc.predict(X_test_scaled)\n",
    "accuracy_score(y_test, y_pred)"
   ]
  },
  {
   "cell_type": "code",
   "execution_count": 105,
   "id": "95100c55-b769-47ba-b5ec-64a427e97d03",
   "metadata": {},
   "outputs": [],
   "source": [
    "# Model Tuning"
   ]
  },
  {
   "cell_type": "code",
   "execution_count": 106,
   "id": "1d2b8041-d9ff-4cf6-860a-33f88e1ccfa0",
   "metadata": {},
   "outputs": [
    {
     "data": {
      "text/html": [
       "<style>#sk-container-id-9 {color: black;background-color: white;}#sk-container-id-9 pre{padding: 0;}#sk-container-id-9 div.sk-toggleable {background-color: white;}#sk-container-id-9 label.sk-toggleable__label {cursor: pointer;display: block;width: 100%;margin-bottom: 0;padding: 0.3em;box-sizing: border-box;text-align: center;}#sk-container-id-9 label.sk-toggleable__label-arrow:before {content: \"▸\";float: left;margin-right: 0.25em;color: #696969;}#sk-container-id-9 label.sk-toggleable__label-arrow:hover:before {color: black;}#sk-container-id-9 div.sk-estimator:hover label.sk-toggleable__label-arrow:before {color: black;}#sk-container-id-9 div.sk-toggleable__content {max-height: 0;max-width: 0;overflow: hidden;text-align: left;background-color: #f0f8ff;}#sk-container-id-9 div.sk-toggleable__content pre {margin: 0.2em;color: black;border-radius: 0.25em;background-color: #f0f8ff;}#sk-container-id-9 input.sk-toggleable__control:checked~div.sk-toggleable__content {max-height: 200px;max-width: 100%;overflow: auto;}#sk-container-id-9 input.sk-toggleable__control:checked~label.sk-toggleable__label-arrow:before {content: \"▾\";}#sk-container-id-9 div.sk-estimator input.sk-toggleable__control:checked~label.sk-toggleable__label {background-color: #d4ebff;}#sk-container-id-9 div.sk-label input.sk-toggleable__control:checked~label.sk-toggleable__label {background-color: #d4ebff;}#sk-container-id-9 input.sk-hidden--visually {border: 0;clip: rect(1px 1px 1px 1px);clip: rect(1px, 1px, 1px, 1px);height: 1px;margin: -1px;overflow: hidden;padding: 0;position: absolute;width: 1px;}#sk-container-id-9 div.sk-estimator {font-family: monospace;background-color: #f0f8ff;border: 1px dotted black;border-radius: 0.25em;box-sizing: border-box;margin-bottom: 0.5em;}#sk-container-id-9 div.sk-estimator:hover {background-color: #d4ebff;}#sk-container-id-9 div.sk-parallel-item::after {content: \"\";width: 100%;border-bottom: 1px solid gray;flex-grow: 1;}#sk-container-id-9 div.sk-label:hover label.sk-toggleable__label {background-color: #d4ebff;}#sk-container-id-9 div.sk-serial::before {content: \"\";position: absolute;border-left: 1px solid gray;box-sizing: border-box;top: 0;bottom: 0;left: 50%;z-index: 0;}#sk-container-id-9 div.sk-serial {display: flex;flex-direction: column;align-items: center;background-color: white;padding-right: 0.2em;padding-left: 0.2em;position: relative;}#sk-container-id-9 div.sk-item {position: relative;z-index: 1;}#sk-container-id-9 div.sk-parallel {display: flex;align-items: stretch;justify-content: center;background-color: white;position: relative;}#sk-container-id-9 div.sk-item::before, #sk-container-id-9 div.sk-parallel-item::before {content: \"\";position: absolute;border-left: 1px solid gray;box-sizing: border-box;top: 0;bottom: 0;left: 50%;z-index: -1;}#sk-container-id-9 div.sk-parallel-item {display: flex;flex-direction: column;z-index: 1;position: relative;background-color: white;}#sk-container-id-9 div.sk-parallel-item:first-child::after {align-self: flex-end;width: 50%;}#sk-container-id-9 div.sk-parallel-item:last-child::after {align-self: flex-start;width: 50%;}#sk-container-id-9 div.sk-parallel-item:only-child::after {width: 0;}#sk-container-id-9 div.sk-dashed-wrapped {border: 1px dashed gray;margin: 0 0.4em 0.5em 0.4em;box-sizing: border-box;padding-bottom: 0.4em;background-color: white;}#sk-container-id-9 div.sk-label label {font-family: monospace;font-weight: bold;display: inline-block;line-height: 1.2em;}#sk-container-id-9 div.sk-label-container {text-align: center;}#sk-container-id-9 div.sk-container {/* jupyter's `normalize.less` sets `[hidden] { display: none; }` but bootstrap.min.css set `[hidden] { display: none !important; }` so we also need the `!important` here to be able to override the default hidden behavior on the sphinx rendered scikit-learn.org. See: https://github.com/scikit-learn/scikit-learn/issues/21755 */display: inline-block !important;position: relative;}#sk-container-id-9 div.sk-text-repr-fallback {display: none;}</style><div id=\"sk-container-id-9\" class=\"sk-top-container\"><div class=\"sk-text-repr-fallback\"><pre>MLPClassifier()</pre><b>In a Jupyter environment, please rerun this cell to show the HTML representation or trust the notebook. <br />On GitHub, the HTML representation is unable to render, please try loading this page with nbviewer.org.</b></div><div class=\"sk-container\" hidden><div class=\"sk-item\"><div class=\"sk-estimator sk-toggleable\"><input class=\"sk-toggleable__control sk-hidden--visually\" id=\"sk-estimator-id-15\" type=\"checkbox\" checked><label for=\"sk-estimator-id-15\" class=\"sk-toggleable__label sk-toggleable__label-arrow\">MLPClassifier</label><div class=\"sk-toggleable__content\"><pre>MLPClassifier()</pre></div></div></div></div></div>"
      ],
      "text/plain": [
       "MLPClassifier()"
      ]
     },
     "execution_count": 106,
     "metadata": {},
     "output_type": "execute_result"
    }
   ],
   "source": [
    "mlpc"
   ]
  },
  {
   "cell_type": "code",
   "execution_count": 107,
   "id": "c52dcf7d-663a-412c-95ca-7c390e588427",
   "metadata": {},
   "outputs": [],
   "source": [
    "mlpc_params = {\"alpha\": [0.1, 0.01, 0.02, 0.005, 0.0001,0.00001],\n",
    "              \"hidden_layer_sizes\": [(10,10,10),\n",
    "                                     (100,100,100),\n",
    "                                     (100,100),\n",
    "                                     (3,5), \n",
    "                                     (5, 3)],\n",
    "              \"solver\" : [\"lbfgs\",\"adam\",\"sgd\"],\n",
    "              \"activation\": [\"relu\",\"logistic\"]}"
   ]
  },
  {
   "cell_type": "code",
   "execution_count": 108,
   "id": "7396ddd9-121e-445c-ba8d-8880ac2eb595",
   "metadata": {},
   "outputs": [
    {
     "name": "stdout",
     "output_type": "stream",
     "text": [
      "Fitting 10 folds for each of 180 candidates, totalling 1800 fits\n"
     ]
    },
    {
     "data": {
      "text/html": [
       "<style>#sk-container-id-10 {color: black;background-color: white;}#sk-container-id-10 pre{padding: 0;}#sk-container-id-10 div.sk-toggleable {background-color: white;}#sk-container-id-10 label.sk-toggleable__label {cursor: pointer;display: block;width: 100%;margin-bottom: 0;padding: 0.3em;box-sizing: border-box;text-align: center;}#sk-container-id-10 label.sk-toggleable__label-arrow:before {content: \"▸\";float: left;margin-right: 0.25em;color: #696969;}#sk-container-id-10 label.sk-toggleable__label-arrow:hover:before {color: black;}#sk-container-id-10 div.sk-estimator:hover label.sk-toggleable__label-arrow:before {color: black;}#sk-container-id-10 div.sk-toggleable__content {max-height: 0;max-width: 0;overflow: hidden;text-align: left;background-color: #f0f8ff;}#sk-container-id-10 div.sk-toggleable__content pre {margin: 0.2em;color: black;border-radius: 0.25em;background-color: #f0f8ff;}#sk-container-id-10 input.sk-toggleable__control:checked~div.sk-toggleable__content {max-height: 200px;max-width: 100%;overflow: auto;}#sk-container-id-10 input.sk-toggleable__control:checked~label.sk-toggleable__label-arrow:before {content: \"▾\";}#sk-container-id-10 div.sk-estimator input.sk-toggleable__control:checked~label.sk-toggleable__label {background-color: #d4ebff;}#sk-container-id-10 div.sk-label input.sk-toggleable__control:checked~label.sk-toggleable__label {background-color: #d4ebff;}#sk-container-id-10 input.sk-hidden--visually {border: 0;clip: rect(1px 1px 1px 1px);clip: rect(1px, 1px, 1px, 1px);height: 1px;margin: -1px;overflow: hidden;padding: 0;position: absolute;width: 1px;}#sk-container-id-10 div.sk-estimator {font-family: monospace;background-color: #f0f8ff;border: 1px dotted black;border-radius: 0.25em;box-sizing: border-box;margin-bottom: 0.5em;}#sk-container-id-10 div.sk-estimator:hover {background-color: #d4ebff;}#sk-container-id-10 div.sk-parallel-item::after {content: \"\";width: 100%;border-bottom: 1px solid gray;flex-grow: 1;}#sk-container-id-10 div.sk-label:hover label.sk-toggleable__label {background-color: #d4ebff;}#sk-container-id-10 div.sk-serial::before {content: \"\";position: absolute;border-left: 1px solid gray;box-sizing: border-box;top: 0;bottom: 0;left: 50%;z-index: 0;}#sk-container-id-10 div.sk-serial {display: flex;flex-direction: column;align-items: center;background-color: white;padding-right: 0.2em;padding-left: 0.2em;position: relative;}#sk-container-id-10 div.sk-item {position: relative;z-index: 1;}#sk-container-id-10 div.sk-parallel {display: flex;align-items: stretch;justify-content: center;background-color: white;position: relative;}#sk-container-id-10 div.sk-item::before, #sk-container-id-10 div.sk-parallel-item::before {content: \"\";position: absolute;border-left: 1px solid gray;box-sizing: border-box;top: 0;bottom: 0;left: 50%;z-index: -1;}#sk-container-id-10 div.sk-parallel-item {display: flex;flex-direction: column;z-index: 1;position: relative;background-color: white;}#sk-container-id-10 div.sk-parallel-item:first-child::after {align-self: flex-end;width: 50%;}#sk-container-id-10 div.sk-parallel-item:last-child::after {align-self: flex-start;width: 50%;}#sk-container-id-10 div.sk-parallel-item:only-child::after {width: 0;}#sk-container-id-10 div.sk-dashed-wrapped {border: 1px dashed gray;margin: 0 0.4em 0.5em 0.4em;box-sizing: border-box;padding-bottom: 0.4em;background-color: white;}#sk-container-id-10 div.sk-label label {font-family: monospace;font-weight: bold;display: inline-block;line-height: 1.2em;}#sk-container-id-10 div.sk-label-container {text-align: center;}#sk-container-id-10 div.sk-container {/* jupyter's `normalize.less` sets `[hidden] { display: none; }` but bootstrap.min.css set `[hidden] { display: none !important; }` so we also need the `!important` here to be able to override the default hidden behavior on the sphinx rendered scikit-learn.org. See: https://github.com/scikit-learn/scikit-learn/issues/21755 */display: inline-block !important;position: relative;}#sk-container-id-10 div.sk-text-repr-fallback {display: none;}</style><div id=\"sk-container-id-10\" class=\"sk-top-container\"><div class=\"sk-text-repr-fallback\"><pre>GridSearchCV(cv=10, estimator=MLPClassifier(), n_jobs=-1,\n",
       "             param_grid={&#x27;activation&#x27;: [&#x27;relu&#x27;, &#x27;logistic&#x27;],\n",
       "                         &#x27;alpha&#x27;: [0.1, 0.01, 0.02, 0.005, 0.0001, 1e-05],\n",
       "                         &#x27;hidden_layer_sizes&#x27;: [(10, 10, 10), (100, 100, 100),\n",
       "                                                (100, 100), (3, 5), (5, 3)],\n",
       "                         &#x27;solver&#x27;: [&#x27;lbfgs&#x27;, &#x27;adam&#x27;, &#x27;sgd&#x27;]},\n",
       "             verbose=2)</pre><b>In a Jupyter environment, please rerun this cell to show the HTML representation or trust the notebook. <br />On GitHub, the HTML representation is unable to render, please try loading this page with nbviewer.org.</b></div><div class=\"sk-container\" hidden><div class=\"sk-item sk-dashed-wrapped\"><div class=\"sk-label-container\"><div class=\"sk-label sk-toggleable\"><input class=\"sk-toggleable__control sk-hidden--visually\" id=\"sk-estimator-id-16\" type=\"checkbox\" ><label for=\"sk-estimator-id-16\" class=\"sk-toggleable__label sk-toggleable__label-arrow\">GridSearchCV</label><div class=\"sk-toggleable__content\"><pre>GridSearchCV(cv=10, estimator=MLPClassifier(), n_jobs=-1,\n",
       "             param_grid={&#x27;activation&#x27;: [&#x27;relu&#x27;, &#x27;logistic&#x27;],\n",
       "                         &#x27;alpha&#x27;: [0.1, 0.01, 0.02, 0.005, 0.0001, 1e-05],\n",
       "                         &#x27;hidden_layer_sizes&#x27;: [(10, 10, 10), (100, 100, 100),\n",
       "                                                (100, 100), (3, 5), (5, 3)],\n",
       "                         &#x27;solver&#x27;: [&#x27;lbfgs&#x27;, &#x27;adam&#x27;, &#x27;sgd&#x27;]},\n",
       "             verbose=2)</pre></div></div></div><div class=\"sk-parallel\"><div class=\"sk-parallel-item\"><div class=\"sk-item\"><div class=\"sk-label-container\"><div class=\"sk-label sk-toggleable\"><input class=\"sk-toggleable__control sk-hidden--visually\" id=\"sk-estimator-id-17\" type=\"checkbox\" ><label for=\"sk-estimator-id-17\" class=\"sk-toggleable__label sk-toggleable__label-arrow\">estimator: MLPClassifier</label><div class=\"sk-toggleable__content\"><pre>MLPClassifier()</pre></div></div></div><div class=\"sk-serial\"><div class=\"sk-item\"><div class=\"sk-estimator sk-toggleable\"><input class=\"sk-toggleable__control sk-hidden--visually\" id=\"sk-estimator-id-18\" type=\"checkbox\" ><label for=\"sk-estimator-id-18\" class=\"sk-toggleable__label sk-toggleable__label-arrow\">MLPClassifier</label><div class=\"sk-toggleable__content\"><pre>MLPClassifier()</pre></div></div></div></div></div></div></div></div></div></div>"
      ],
      "text/plain": [
       "GridSearchCV(cv=10, estimator=MLPClassifier(), n_jobs=-1,\n",
       "             param_grid={'activation': ['relu', 'logistic'],\n",
       "                         'alpha': [0.1, 0.01, 0.02, 0.005, 0.0001, 1e-05],\n",
       "                         'hidden_layer_sizes': [(10, 10, 10), (100, 100, 100),\n",
       "                                                (100, 100), (3, 5), (5, 3)],\n",
       "                         'solver': ['lbfgs', 'adam', 'sgd']},\n",
       "             verbose=2)"
      ]
     },
     "execution_count": 108,
     "metadata": {},
     "output_type": "execute_result"
    }
   ],
   "source": [
    "mlpc = MLPClassifier()\n",
    "mlpc_cv_model = GridSearchCV(mlpc, mlpc_params, \n",
    "                         cv = 10, \n",
    "                         n_jobs = -1,\n",
    "                         verbose = 2)\n",
    "\n",
    "mlpc_cv_model.fit(X_train_scaled, y_train)"
   ]
  },
  {
   "cell_type": "code",
   "execution_count": 109,
   "id": "a1126cac-4a90-45b6-ac69-cbbc1da8f099",
   "metadata": {},
   "outputs": [
    {
     "name": "stdout",
     "output_type": "stream",
     "text": [
      "En iyi parametreler: {'activation': 'relu', 'alpha': 0.01, 'hidden_layer_sizes': (100, 100), 'solver': 'lbfgs'}\n"
     ]
    }
   ],
   "source": [
    "print(\"En iyi parametreler: \" + str(mlpc_cv_model.best_params_))"
   ]
  },
  {
   "cell_type": "code",
   "execution_count": 110,
   "id": "1cfa7306-3d0c-4516-ab27-fd4a8059a430",
   "metadata": {},
   "outputs": [],
   "source": [
    "mlpc_tuned = MLPClassifier(activation = \"logistic\", \n",
    "                           alpha = 0.1, \n",
    "                           hidden_layer_sizes = (100, 100, 100),\n",
    "                          solver = \"adam\")"
   ]
  },
  {
   "cell_type": "code",
   "execution_count": 111,
   "id": "2ef83fdb-867e-4a57-90f5-5f87e6e1a71d",
   "metadata": {},
   "outputs": [
    {
     "data": {
      "text/html": [
       "<style>#sk-container-id-11 {color: black;background-color: white;}#sk-container-id-11 pre{padding: 0;}#sk-container-id-11 div.sk-toggleable {background-color: white;}#sk-container-id-11 label.sk-toggleable__label {cursor: pointer;display: block;width: 100%;margin-bottom: 0;padding: 0.3em;box-sizing: border-box;text-align: center;}#sk-container-id-11 label.sk-toggleable__label-arrow:before {content: \"▸\";float: left;margin-right: 0.25em;color: #696969;}#sk-container-id-11 label.sk-toggleable__label-arrow:hover:before {color: black;}#sk-container-id-11 div.sk-estimator:hover label.sk-toggleable__label-arrow:before {color: black;}#sk-container-id-11 div.sk-toggleable__content {max-height: 0;max-width: 0;overflow: hidden;text-align: left;background-color: #f0f8ff;}#sk-container-id-11 div.sk-toggleable__content pre {margin: 0.2em;color: black;border-radius: 0.25em;background-color: #f0f8ff;}#sk-container-id-11 input.sk-toggleable__control:checked~div.sk-toggleable__content {max-height: 200px;max-width: 100%;overflow: auto;}#sk-container-id-11 input.sk-toggleable__control:checked~label.sk-toggleable__label-arrow:before {content: \"▾\";}#sk-container-id-11 div.sk-estimator input.sk-toggleable__control:checked~label.sk-toggleable__label {background-color: #d4ebff;}#sk-container-id-11 div.sk-label input.sk-toggleable__control:checked~label.sk-toggleable__label {background-color: #d4ebff;}#sk-container-id-11 input.sk-hidden--visually {border: 0;clip: rect(1px 1px 1px 1px);clip: rect(1px, 1px, 1px, 1px);height: 1px;margin: -1px;overflow: hidden;padding: 0;position: absolute;width: 1px;}#sk-container-id-11 div.sk-estimator {font-family: monospace;background-color: #f0f8ff;border: 1px dotted black;border-radius: 0.25em;box-sizing: border-box;margin-bottom: 0.5em;}#sk-container-id-11 div.sk-estimator:hover {background-color: #d4ebff;}#sk-container-id-11 div.sk-parallel-item::after {content: \"\";width: 100%;border-bottom: 1px solid gray;flex-grow: 1;}#sk-container-id-11 div.sk-label:hover label.sk-toggleable__label {background-color: #d4ebff;}#sk-container-id-11 div.sk-serial::before {content: \"\";position: absolute;border-left: 1px solid gray;box-sizing: border-box;top: 0;bottom: 0;left: 50%;z-index: 0;}#sk-container-id-11 div.sk-serial {display: flex;flex-direction: column;align-items: center;background-color: white;padding-right: 0.2em;padding-left: 0.2em;position: relative;}#sk-container-id-11 div.sk-item {position: relative;z-index: 1;}#sk-container-id-11 div.sk-parallel {display: flex;align-items: stretch;justify-content: center;background-color: white;position: relative;}#sk-container-id-11 div.sk-item::before, #sk-container-id-11 div.sk-parallel-item::before {content: \"\";position: absolute;border-left: 1px solid gray;box-sizing: border-box;top: 0;bottom: 0;left: 50%;z-index: -1;}#sk-container-id-11 div.sk-parallel-item {display: flex;flex-direction: column;z-index: 1;position: relative;background-color: white;}#sk-container-id-11 div.sk-parallel-item:first-child::after {align-self: flex-end;width: 50%;}#sk-container-id-11 div.sk-parallel-item:last-child::after {align-self: flex-start;width: 50%;}#sk-container-id-11 div.sk-parallel-item:only-child::after {width: 0;}#sk-container-id-11 div.sk-dashed-wrapped {border: 1px dashed gray;margin: 0 0.4em 0.5em 0.4em;box-sizing: border-box;padding-bottom: 0.4em;background-color: white;}#sk-container-id-11 div.sk-label label {font-family: monospace;font-weight: bold;display: inline-block;line-height: 1.2em;}#sk-container-id-11 div.sk-label-container {text-align: center;}#sk-container-id-11 div.sk-container {/* jupyter's `normalize.less` sets `[hidden] { display: none; }` but bootstrap.min.css set `[hidden] { display: none !important; }` so we also need the `!important` here to be able to override the default hidden behavior on the sphinx rendered scikit-learn.org. See: https://github.com/scikit-learn/scikit-learn/issues/21755 */display: inline-block !important;position: relative;}#sk-container-id-11 div.sk-text-repr-fallback {display: none;}</style><div id=\"sk-container-id-11\" class=\"sk-top-container\"><div class=\"sk-text-repr-fallback\"><pre>MLPClassifier(activation=&#x27;logistic&#x27;, alpha=0.1,\n",
       "              hidden_layer_sizes=(100, 100, 100))</pre><b>In a Jupyter environment, please rerun this cell to show the HTML representation or trust the notebook. <br />On GitHub, the HTML representation is unable to render, please try loading this page with nbviewer.org.</b></div><div class=\"sk-container\" hidden><div class=\"sk-item\"><div class=\"sk-estimator sk-toggleable\"><input class=\"sk-toggleable__control sk-hidden--visually\" id=\"sk-estimator-id-19\" type=\"checkbox\" checked><label for=\"sk-estimator-id-19\" class=\"sk-toggleable__label sk-toggleable__label-arrow\">MLPClassifier</label><div class=\"sk-toggleable__content\"><pre>MLPClassifier(activation=&#x27;logistic&#x27;, alpha=0.1,\n",
       "              hidden_layer_sizes=(100, 100, 100))</pre></div></div></div></div></div>"
      ],
      "text/plain": [
       "MLPClassifier(activation='logistic', alpha=0.1,\n",
       "              hidden_layer_sizes=(100, 100, 100))"
      ]
     },
     "execution_count": 111,
     "metadata": {},
     "output_type": "execute_result"
    }
   ],
   "source": [
    "mlpc_tuned.fit(X_train_scaled, y_train)"
   ]
  },
  {
   "cell_type": "code",
   "execution_count": 112,
   "id": "b9f3ab12-3ec6-41fc-a212-131bd57bc58b",
   "metadata": {},
   "outputs": [
    {
     "data": {
      "text/plain": [
       "0.4375"
      ]
     },
     "execution_count": 112,
     "metadata": {},
     "output_type": "execute_result"
    }
   ],
   "source": [
    "y_pred = mlpc_tuned.predict(X_test_scaled)\n",
    "accuracy_score(y_test, y_pred)"
   ]
  },
  {
   "cell_type": "code",
   "execution_count": 113,
   "id": "70b5f60b-8e9a-4cd9-a758-4fda3719f3ae",
   "metadata": {},
   "outputs": [],
   "source": [
    "                  1.7 Karar Ağaçları / Classification and Regression Trees (CART)\n",
    "#Temel amaç veriseti içerisindeki karmaşık yapıları basit karar yapılarına dönüştürmektir.\n",
    "#Heterojen verisetleri belirlenmiş bir hedef değişkene göre homojen alt gruplara ayrılır."
   ]
  },
  {
   "cell_type": "code",
   "execution_count": 114,
   "id": "2e008a23-8b5c-4ad6-834e-354e2bc3d996",
   "metadata": {},
   "outputs": [],
   "source": [
    "# Model"
   ]
  },
  {
   "cell_type": "code",
   "execution_count": 115,
   "id": "fb80cb31-d2d6-4be0-bb8c-db8ff49616c2",
   "metadata": {},
   "outputs": [],
   "source": [
    "X_train, X_test, y_train, y_test = train_test_split(X, y, \n",
    "                                                    test_size=0.30, \n",
    "                                                    random_state=42)"
   ]
  },
  {
   "cell_type": "code",
   "execution_count": 116,
   "id": "bef75faf-03fe-4768-b674-4ea71bc86c68",
   "metadata": {},
   "outputs": [],
   "source": [
    "cart = DecisionTreeClassifier()\n",
    "cart_model = cart.fit(X_train, y_train)"
   ]
  },
  {
   "cell_type": "code",
   "execution_count": 117,
   "id": "84e700b0-3d65-4b31-939c-f8459e05cd70",
   "metadata": {},
   "outputs": [],
   "source": [
    "# Tahmin"
   ]
  },
  {
   "cell_type": "code",
   "execution_count": 118,
   "id": "dea63a74-0509-4a99-a2c6-7cb440209709",
   "metadata": {},
   "outputs": [
    {
     "data": {
      "text/html": [
       "<style>#sk-container-id-12 {color: black;background-color: white;}#sk-container-id-12 pre{padding: 0;}#sk-container-id-12 div.sk-toggleable {background-color: white;}#sk-container-id-12 label.sk-toggleable__label {cursor: pointer;display: block;width: 100%;margin-bottom: 0;padding: 0.3em;box-sizing: border-box;text-align: center;}#sk-container-id-12 label.sk-toggleable__label-arrow:before {content: \"▸\";float: left;margin-right: 0.25em;color: #696969;}#sk-container-id-12 label.sk-toggleable__label-arrow:hover:before {color: black;}#sk-container-id-12 div.sk-estimator:hover label.sk-toggleable__label-arrow:before {color: black;}#sk-container-id-12 div.sk-toggleable__content {max-height: 0;max-width: 0;overflow: hidden;text-align: left;background-color: #f0f8ff;}#sk-container-id-12 div.sk-toggleable__content pre {margin: 0.2em;color: black;border-radius: 0.25em;background-color: #f0f8ff;}#sk-container-id-12 input.sk-toggleable__control:checked~div.sk-toggleable__content {max-height: 200px;max-width: 100%;overflow: auto;}#sk-container-id-12 input.sk-toggleable__control:checked~label.sk-toggleable__label-arrow:before {content: \"▾\";}#sk-container-id-12 div.sk-estimator input.sk-toggleable__control:checked~label.sk-toggleable__label {background-color: #d4ebff;}#sk-container-id-12 div.sk-label input.sk-toggleable__control:checked~label.sk-toggleable__label {background-color: #d4ebff;}#sk-container-id-12 input.sk-hidden--visually {border: 0;clip: rect(1px 1px 1px 1px);clip: rect(1px, 1px, 1px, 1px);height: 1px;margin: -1px;overflow: hidden;padding: 0;position: absolute;width: 1px;}#sk-container-id-12 div.sk-estimator {font-family: monospace;background-color: #f0f8ff;border: 1px dotted black;border-radius: 0.25em;box-sizing: border-box;margin-bottom: 0.5em;}#sk-container-id-12 div.sk-estimator:hover {background-color: #d4ebff;}#sk-container-id-12 div.sk-parallel-item::after {content: \"\";width: 100%;border-bottom: 1px solid gray;flex-grow: 1;}#sk-container-id-12 div.sk-label:hover label.sk-toggleable__label {background-color: #d4ebff;}#sk-container-id-12 div.sk-serial::before {content: \"\";position: absolute;border-left: 1px solid gray;box-sizing: border-box;top: 0;bottom: 0;left: 50%;z-index: 0;}#sk-container-id-12 div.sk-serial {display: flex;flex-direction: column;align-items: center;background-color: white;padding-right: 0.2em;padding-left: 0.2em;position: relative;}#sk-container-id-12 div.sk-item {position: relative;z-index: 1;}#sk-container-id-12 div.sk-parallel {display: flex;align-items: stretch;justify-content: center;background-color: white;position: relative;}#sk-container-id-12 div.sk-item::before, #sk-container-id-12 div.sk-parallel-item::before {content: \"\";position: absolute;border-left: 1px solid gray;box-sizing: border-box;top: 0;bottom: 0;left: 50%;z-index: -1;}#sk-container-id-12 div.sk-parallel-item {display: flex;flex-direction: column;z-index: 1;position: relative;background-color: white;}#sk-container-id-12 div.sk-parallel-item:first-child::after {align-self: flex-end;width: 50%;}#sk-container-id-12 div.sk-parallel-item:last-child::after {align-self: flex-start;width: 50%;}#sk-container-id-12 div.sk-parallel-item:only-child::after {width: 0;}#sk-container-id-12 div.sk-dashed-wrapped {border: 1px dashed gray;margin: 0 0.4em 0.5em 0.4em;box-sizing: border-box;padding-bottom: 0.4em;background-color: white;}#sk-container-id-12 div.sk-label label {font-family: monospace;font-weight: bold;display: inline-block;line-height: 1.2em;}#sk-container-id-12 div.sk-label-container {text-align: center;}#sk-container-id-12 div.sk-container {/* jupyter's `normalize.less` sets `[hidden] { display: none; }` but bootstrap.min.css set `[hidden] { display: none !important; }` so we also need the `!important` here to be able to override the default hidden behavior on the sphinx rendered scikit-learn.org. See: https://github.com/scikit-learn/scikit-learn/issues/21755 */display: inline-block !important;position: relative;}#sk-container-id-12 div.sk-text-repr-fallback {display: none;}</style><div id=\"sk-container-id-12\" class=\"sk-top-container\"><div class=\"sk-text-repr-fallback\"><pre>DecisionTreeClassifier()</pre><b>In a Jupyter environment, please rerun this cell to show the HTML representation or trust the notebook. <br />On GitHub, the HTML representation is unable to render, please try loading this page with nbviewer.org.</b></div><div class=\"sk-container\" hidden><div class=\"sk-item\"><div class=\"sk-estimator sk-toggleable\"><input class=\"sk-toggleable__control sk-hidden--visually\" id=\"sk-estimator-id-20\" type=\"checkbox\" checked><label for=\"sk-estimator-id-20\" class=\"sk-toggleable__label sk-toggleable__label-arrow\">DecisionTreeClassifier</label><div class=\"sk-toggleable__content\"><pre>DecisionTreeClassifier()</pre></div></div></div></div></div>"
      ],
      "text/plain": [
       "DecisionTreeClassifier()"
      ]
     },
     "execution_count": 118,
     "metadata": {},
     "output_type": "execute_result"
    }
   ],
   "source": [
    "cart_model"
   ]
  },
  {
   "cell_type": "code",
   "execution_count": 119,
   "id": "c14a8a9c-3810-4fce-982b-a4be4a461596",
   "metadata": {},
   "outputs": [
    {
     "name": "stdout",
     "output_type": "stream",
     "text": [
      "((((0 if x[5] <= 1.5 else 1) if x[0] <= 0.5 else 0) if x[6] <= 15.0 else 1) if\n",
      "    x[9] <= 10.0 else 1 if x[5] <= 92.5 else 0 if x[9] <= 199.5 else 1)\n",
      "\n"
     ]
    }
   ],
   "source": [
    "#modelin python koduna donusturulmesi\n",
    "print(skompile(cart_model.predict).to(\"python/code\"))"
   ]
  },
  {
   "cell_type": "code",
   "execution_count": 120,
   "id": "8bb73f17-f18b-43cc-b89b-4f43d799ba3b",
   "metadata": {},
   "outputs": [
    {
     "data": {
      "text/plain": [
       "0.875"
      ]
     },
     "execution_count": 120,
     "metadata": {},
     "output_type": "execute_result"
    }
   ],
   "source": [
    "y_pred = cart_model.predict(X_test)\n",
    "accuracy_score(y_test, y_pred)"
   ]
  },
  {
   "cell_type": "code",
   "execution_count": 121,
   "id": "f647da4b-e244-4257-81b8-ab09e268fc40",
   "metadata": {},
   "outputs": [],
   "source": [
    "# Model Tuning"
   ]
  },
  {
   "cell_type": "code",
   "execution_count": 122,
   "id": "7b781b9c-9c1b-4630-b050-c8ce57215e2a",
   "metadata": {},
   "outputs": [
    {
     "data": {
      "text/html": [
       "<style>#sk-container-id-13 {color: black;background-color: white;}#sk-container-id-13 pre{padding: 0;}#sk-container-id-13 div.sk-toggleable {background-color: white;}#sk-container-id-13 label.sk-toggleable__label {cursor: pointer;display: block;width: 100%;margin-bottom: 0;padding: 0.3em;box-sizing: border-box;text-align: center;}#sk-container-id-13 label.sk-toggleable__label-arrow:before {content: \"▸\";float: left;margin-right: 0.25em;color: #696969;}#sk-container-id-13 label.sk-toggleable__label-arrow:hover:before {color: black;}#sk-container-id-13 div.sk-estimator:hover label.sk-toggleable__label-arrow:before {color: black;}#sk-container-id-13 div.sk-toggleable__content {max-height: 0;max-width: 0;overflow: hidden;text-align: left;background-color: #f0f8ff;}#sk-container-id-13 div.sk-toggleable__content pre {margin: 0.2em;color: black;border-radius: 0.25em;background-color: #f0f8ff;}#sk-container-id-13 input.sk-toggleable__control:checked~div.sk-toggleable__content {max-height: 200px;max-width: 100%;overflow: auto;}#sk-container-id-13 input.sk-toggleable__control:checked~label.sk-toggleable__label-arrow:before {content: \"▾\";}#sk-container-id-13 div.sk-estimator input.sk-toggleable__control:checked~label.sk-toggleable__label {background-color: #d4ebff;}#sk-container-id-13 div.sk-label input.sk-toggleable__control:checked~label.sk-toggleable__label {background-color: #d4ebff;}#sk-container-id-13 input.sk-hidden--visually {border: 0;clip: rect(1px 1px 1px 1px);clip: rect(1px, 1px, 1px, 1px);height: 1px;margin: -1px;overflow: hidden;padding: 0;position: absolute;width: 1px;}#sk-container-id-13 div.sk-estimator {font-family: monospace;background-color: #f0f8ff;border: 1px dotted black;border-radius: 0.25em;box-sizing: border-box;margin-bottom: 0.5em;}#sk-container-id-13 div.sk-estimator:hover {background-color: #d4ebff;}#sk-container-id-13 div.sk-parallel-item::after {content: \"\";width: 100%;border-bottom: 1px solid gray;flex-grow: 1;}#sk-container-id-13 div.sk-label:hover label.sk-toggleable__label {background-color: #d4ebff;}#sk-container-id-13 div.sk-serial::before {content: \"\";position: absolute;border-left: 1px solid gray;box-sizing: border-box;top: 0;bottom: 0;left: 50%;z-index: 0;}#sk-container-id-13 div.sk-serial {display: flex;flex-direction: column;align-items: center;background-color: white;padding-right: 0.2em;padding-left: 0.2em;position: relative;}#sk-container-id-13 div.sk-item {position: relative;z-index: 1;}#sk-container-id-13 div.sk-parallel {display: flex;align-items: stretch;justify-content: center;background-color: white;position: relative;}#sk-container-id-13 div.sk-item::before, #sk-container-id-13 div.sk-parallel-item::before {content: \"\";position: absolute;border-left: 1px solid gray;box-sizing: border-box;top: 0;bottom: 0;left: 50%;z-index: -1;}#sk-container-id-13 div.sk-parallel-item {display: flex;flex-direction: column;z-index: 1;position: relative;background-color: white;}#sk-container-id-13 div.sk-parallel-item:first-child::after {align-self: flex-end;width: 50%;}#sk-container-id-13 div.sk-parallel-item:last-child::after {align-self: flex-start;width: 50%;}#sk-container-id-13 div.sk-parallel-item:only-child::after {width: 0;}#sk-container-id-13 div.sk-dashed-wrapped {border: 1px dashed gray;margin: 0 0.4em 0.5em 0.4em;box-sizing: border-box;padding-bottom: 0.4em;background-color: white;}#sk-container-id-13 div.sk-label label {font-family: monospace;font-weight: bold;display: inline-block;line-height: 1.2em;}#sk-container-id-13 div.sk-label-container {text-align: center;}#sk-container-id-13 div.sk-container {/* jupyter's `normalize.less` sets `[hidden] { display: none; }` but bootstrap.min.css set `[hidden] { display: none !important; }` so we also need the `!important` here to be able to override the default hidden behavior on the sphinx rendered scikit-learn.org. See: https://github.com/scikit-learn/scikit-learn/issues/21755 */display: inline-block !important;position: relative;}#sk-container-id-13 div.sk-text-repr-fallback {display: none;}</style><div id=\"sk-container-id-13\" class=\"sk-top-container\"><div class=\"sk-text-repr-fallback\"><pre>DecisionTreeClassifier()</pre><b>In a Jupyter environment, please rerun this cell to show the HTML representation or trust the notebook. <br />On GitHub, the HTML representation is unable to render, please try loading this page with nbviewer.org.</b></div><div class=\"sk-container\" hidden><div class=\"sk-item\"><div class=\"sk-estimator sk-toggleable\"><input class=\"sk-toggleable__control sk-hidden--visually\" id=\"sk-estimator-id-21\" type=\"checkbox\" checked><label for=\"sk-estimator-id-21\" class=\"sk-toggleable__label sk-toggleable__label-arrow\">DecisionTreeClassifier</label><div class=\"sk-toggleable__content\"><pre>DecisionTreeClassifier()</pre></div></div></div></div></div>"
      ],
      "text/plain": [
       "DecisionTreeClassifier()"
      ]
     },
     "execution_count": 122,
     "metadata": {},
     "output_type": "execute_result"
    }
   ],
   "source": [
    "cart_model"
   ]
  },
  {
   "cell_type": "code",
   "execution_count": 123,
   "id": "5399527d-dfd5-4b34-8e16-4d62cf09c397",
   "metadata": {},
   "outputs": [],
   "source": [
    "cart_grid = {\"max_depth\": range(1,10),\n",
    "            \"min_samples_split\" : list(range(2,50)) }"
   ]
  },
  {
   "cell_type": "code",
   "execution_count": 124,
   "id": "8a4c4a34-587f-4020-b6ba-946448f04f97",
   "metadata": {},
   "outputs": [
    {
     "name": "stdout",
     "output_type": "stream",
     "text": [
      "Fitting 10 folds for each of 432 candidates, totalling 4320 fits\n"
     ]
    }
   ],
   "source": [
    "cart = tree.DecisionTreeClassifier()\n",
    "cart_cv = GridSearchCV(cart, cart_grid, cv = 10, n_jobs = -1, verbose = 2)\n",
    "cart_cv_model = cart_cv.fit(X_train, y_train)"
   ]
  },
  {
   "cell_type": "code",
   "execution_count": 125,
   "id": "839ab1f3-b500-409f-95d2-98db2505e131",
   "metadata": {},
   "outputs": [
    {
     "name": "stdout",
     "output_type": "stream",
     "text": [
      "En iyi parametreler: {'max_depth': 1, 'min_samples_split': 2}\n"
     ]
    }
   ],
   "source": [
    "print(\"En iyi parametreler: \" + str(cart_cv_model.best_params_))"
   ]
  },
  {
   "cell_type": "code",
   "execution_count": 126,
   "id": "38cab02a-9c48-44a1-b1bb-60c1bc5084a2",
   "metadata": {},
   "outputs": [],
   "source": [
    "cart = tree.DecisionTreeClassifier(max_depth = 5, min_samples_split = 19)\n",
    "cart_tuned = cart.fit(X_train, y_train)"
   ]
  },
  {
   "cell_type": "code",
   "execution_count": 127,
   "id": "d9a3e5bc-cef3-418a-bc4f-2bb101a6e72f",
   "metadata": {},
   "outputs": [
    {
     "data": {
      "text/plain": [
       "0.875"
      ]
     },
     "execution_count": 127,
     "metadata": {},
     "output_type": "execute_result"
    }
   ],
   "source": [
    "y_pred = cart_tuned.predict(X_test)\n",
    "accuracy_score(y_test, y_pred)"
   ]
  },
  {
   "cell_type": "code",
   "execution_count": 128,
   "id": "3abd76d7-a9e3-4f1c-93a5-6f21fdf05fa2",
   "metadata": {},
   "outputs": [],
   "source": [
    "                                        1.8 Random Forests\n",
    "#Temeli birden çok karar ağacının ürettiği tahminlerin bir araya getirilerek değerlendirilmesidir.\n",
    "\n",
    "#Bagging (Breiman, 1996) ile Random Subspace (Ho, 1998) yöntemlerinin birleşimi ile oluşmuştur. \n",
    "\n",
    "#Ağaçlar için gözlemler bootstrap rastgele örnek seçim yöntemi ile değişkenler random subspace yöntemi ile seçilir. \n",
    "\n",
    "#Karar ağacının her bir düğümünde en iyi dallara ayırıcı (bilgi kazancı) değişken tüm değişkenler arasından \n",
    "#rastgele seçilen daha az sayıdaki değişken arasından seçilir. \n",
    "\n",
    "#Ağaç oluşturmada veri setinin 2/3'ü kullanılır. Dışarıda kalan veri ağaçların performans değerlendirmesi ve \n",
    "#değişken öneminin belirlenmesi için kullanılır. \n",
    "\n",
    "#Her düğüm noktasında rastgele değişken seçimi yapılır. (regresyon'da p/3, sınıflama'da karekök p) \n",
    "\n",
    "#Nihai tahmin için ağaçlardan tahmin değerleri talep edilirken her bir ağacın daha önce hesaplanan hata oranları \n",
    "#göz önüne alınarak ağaçlara ağırlık verilir. \n"
   ]
  },
  {
   "cell_type": "code",
   "execution_count": 129,
   "id": "bdc4eab7-750e-41bc-996d-26d0790eaaaa",
   "metadata": {},
   "outputs": [],
   "source": [
    "#  Model"
   ]
  },
  {
   "cell_type": "code",
   "execution_count": 130,
   "id": "cf5a17e1-8a29-4ab7-ae3e-1ab4b6748cc1",
   "metadata": {},
   "outputs": [],
   "source": [
    "X_train, X_test, y_train, y_test = train_test_split(X, y, \n",
    "                                                    test_size=0.30, \n",
    "                                                    random_state=42)"
   ]
  },
  {
   "cell_type": "code",
   "execution_count": 131,
   "id": "846e1ac4-4952-485a-a8b3-120526f67557",
   "metadata": {},
   "outputs": [],
   "source": [
    "rf_model = RandomForestClassifier().fit(X_train, y_train)"
   ]
  },
  {
   "cell_type": "code",
   "execution_count": 132,
   "id": "3e5857d0-dfc3-423a-a41d-b2ef16a1324b",
   "metadata": {},
   "outputs": [],
   "source": [
    "# Tahmin"
   ]
  },
  {
   "cell_type": "code",
   "execution_count": 133,
   "id": "2a5e4b4f-84ec-4016-98fa-454b28fb5f2b",
   "metadata": {},
   "outputs": [
    {
     "data": {
      "text/plain": [
       "0.875"
      ]
     },
     "execution_count": 133,
     "metadata": {},
     "output_type": "execute_result"
    }
   ],
   "source": [
    "y_pred = rf_model.predict(X_test)\n",
    "accuracy_score(y_test, y_pred)"
   ]
  },
  {
   "cell_type": "code",
   "execution_count": 134,
   "id": "7adbf52d-ab3f-4d7d-b2f4-aa33a36f20a0",
   "metadata": {},
   "outputs": [],
   "source": [
    "# Model Tuning"
   ]
  },
  {
   "cell_type": "code",
   "execution_count": 135,
   "id": "9131a6b1-d0f0-4437-8d6a-c54339e3cb22",
   "metadata": {},
   "outputs": [],
   "source": [
    "rf_params = {\"max_depth\": [2,5,8,10],\n",
    "            \"max_features\": [2,5,8],\n",
    "            \"n_estimators\": [10,500,1000],\n",
    "            \"min_samples_split\": [2,5,10]}"
   ]
  },
  {
   "cell_type": "code",
   "execution_count": 136,
   "id": "850325f1-192a-4b5a-b255-38fb8a61e44f",
   "metadata": {},
   "outputs": [],
   "source": [
    "rf_model = RandomForestClassifier()\n",
    "\n",
    "rf_cv_model = GridSearchCV(rf_model, \n",
    "                           rf_params, \n",
    "                           cv = 10, \n",
    "                           n_jobs = -1, \n",
    "                           verbose = 2) "
   ]
  },
  {
   "cell_type": "code",
   "execution_count": 137,
   "id": "b3d46ebc-ca69-49fc-818c-4b3842425598",
   "metadata": {},
   "outputs": [
    {
     "name": "stdout",
     "output_type": "stream",
     "text": [
      "Fitting 10 folds for each of 108 candidates, totalling 1080 fits\n"
     ]
    },
    {
     "data": {
      "text/html": [
       "<style>#sk-container-id-14 {color: black;background-color: white;}#sk-container-id-14 pre{padding: 0;}#sk-container-id-14 div.sk-toggleable {background-color: white;}#sk-container-id-14 label.sk-toggleable__label {cursor: pointer;display: block;width: 100%;margin-bottom: 0;padding: 0.3em;box-sizing: border-box;text-align: center;}#sk-container-id-14 label.sk-toggleable__label-arrow:before {content: \"▸\";float: left;margin-right: 0.25em;color: #696969;}#sk-container-id-14 label.sk-toggleable__label-arrow:hover:before {color: black;}#sk-container-id-14 div.sk-estimator:hover label.sk-toggleable__label-arrow:before {color: black;}#sk-container-id-14 div.sk-toggleable__content {max-height: 0;max-width: 0;overflow: hidden;text-align: left;background-color: #f0f8ff;}#sk-container-id-14 div.sk-toggleable__content pre {margin: 0.2em;color: black;border-radius: 0.25em;background-color: #f0f8ff;}#sk-container-id-14 input.sk-toggleable__control:checked~div.sk-toggleable__content {max-height: 200px;max-width: 100%;overflow: auto;}#sk-container-id-14 input.sk-toggleable__control:checked~label.sk-toggleable__label-arrow:before {content: \"▾\";}#sk-container-id-14 div.sk-estimator input.sk-toggleable__control:checked~label.sk-toggleable__label {background-color: #d4ebff;}#sk-container-id-14 div.sk-label input.sk-toggleable__control:checked~label.sk-toggleable__label {background-color: #d4ebff;}#sk-container-id-14 input.sk-hidden--visually {border: 0;clip: rect(1px 1px 1px 1px);clip: rect(1px, 1px, 1px, 1px);height: 1px;margin: -1px;overflow: hidden;padding: 0;position: absolute;width: 1px;}#sk-container-id-14 div.sk-estimator {font-family: monospace;background-color: #f0f8ff;border: 1px dotted black;border-radius: 0.25em;box-sizing: border-box;margin-bottom: 0.5em;}#sk-container-id-14 div.sk-estimator:hover {background-color: #d4ebff;}#sk-container-id-14 div.sk-parallel-item::after {content: \"\";width: 100%;border-bottom: 1px solid gray;flex-grow: 1;}#sk-container-id-14 div.sk-label:hover label.sk-toggleable__label {background-color: #d4ebff;}#sk-container-id-14 div.sk-serial::before {content: \"\";position: absolute;border-left: 1px solid gray;box-sizing: border-box;top: 0;bottom: 0;left: 50%;z-index: 0;}#sk-container-id-14 div.sk-serial {display: flex;flex-direction: column;align-items: center;background-color: white;padding-right: 0.2em;padding-left: 0.2em;position: relative;}#sk-container-id-14 div.sk-item {position: relative;z-index: 1;}#sk-container-id-14 div.sk-parallel {display: flex;align-items: stretch;justify-content: center;background-color: white;position: relative;}#sk-container-id-14 div.sk-item::before, #sk-container-id-14 div.sk-parallel-item::before {content: \"\";position: absolute;border-left: 1px solid gray;box-sizing: border-box;top: 0;bottom: 0;left: 50%;z-index: -1;}#sk-container-id-14 div.sk-parallel-item {display: flex;flex-direction: column;z-index: 1;position: relative;background-color: white;}#sk-container-id-14 div.sk-parallel-item:first-child::after {align-self: flex-end;width: 50%;}#sk-container-id-14 div.sk-parallel-item:last-child::after {align-self: flex-start;width: 50%;}#sk-container-id-14 div.sk-parallel-item:only-child::after {width: 0;}#sk-container-id-14 div.sk-dashed-wrapped {border: 1px dashed gray;margin: 0 0.4em 0.5em 0.4em;box-sizing: border-box;padding-bottom: 0.4em;background-color: white;}#sk-container-id-14 div.sk-label label {font-family: monospace;font-weight: bold;display: inline-block;line-height: 1.2em;}#sk-container-id-14 div.sk-label-container {text-align: center;}#sk-container-id-14 div.sk-container {/* jupyter's `normalize.less` sets `[hidden] { display: none; }` but bootstrap.min.css set `[hidden] { display: none !important; }` so we also need the `!important` here to be able to override the default hidden behavior on the sphinx rendered scikit-learn.org. See: https://github.com/scikit-learn/scikit-learn/issues/21755 */display: inline-block !important;position: relative;}#sk-container-id-14 div.sk-text-repr-fallback {display: none;}</style><div id=\"sk-container-id-14\" class=\"sk-top-container\"><div class=\"sk-text-repr-fallback\"><pre>GridSearchCV(cv=10, estimator=RandomForestClassifier(), n_jobs=-1,\n",
       "             param_grid={&#x27;max_depth&#x27;: [2, 5, 8, 10], &#x27;max_features&#x27;: [2, 5, 8],\n",
       "                         &#x27;min_samples_split&#x27;: [2, 5, 10],\n",
       "                         &#x27;n_estimators&#x27;: [10, 500, 1000]},\n",
       "             verbose=2)</pre><b>In a Jupyter environment, please rerun this cell to show the HTML representation or trust the notebook. <br />On GitHub, the HTML representation is unable to render, please try loading this page with nbviewer.org.</b></div><div class=\"sk-container\" hidden><div class=\"sk-item sk-dashed-wrapped\"><div class=\"sk-label-container\"><div class=\"sk-label sk-toggleable\"><input class=\"sk-toggleable__control sk-hidden--visually\" id=\"sk-estimator-id-22\" type=\"checkbox\" ><label for=\"sk-estimator-id-22\" class=\"sk-toggleable__label sk-toggleable__label-arrow\">GridSearchCV</label><div class=\"sk-toggleable__content\"><pre>GridSearchCV(cv=10, estimator=RandomForestClassifier(), n_jobs=-1,\n",
       "             param_grid={&#x27;max_depth&#x27;: [2, 5, 8, 10], &#x27;max_features&#x27;: [2, 5, 8],\n",
       "                         &#x27;min_samples_split&#x27;: [2, 5, 10],\n",
       "                         &#x27;n_estimators&#x27;: [10, 500, 1000]},\n",
       "             verbose=2)</pre></div></div></div><div class=\"sk-parallel\"><div class=\"sk-parallel-item\"><div class=\"sk-item\"><div class=\"sk-label-container\"><div class=\"sk-label sk-toggleable\"><input class=\"sk-toggleable__control sk-hidden--visually\" id=\"sk-estimator-id-23\" type=\"checkbox\" ><label for=\"sk-estimator-id-23\" class=\"sk-toggleable__label sk-toggleable__label-arrow\">estimator: RandomForestClassifier</label><div class=\"sk-toggleable__content\"><pre>RandomForestClassifier()</pre></div></div></div><div class=\"sk-serial\"><div class=\"sk-item\"><div class=\"sk-estimator sk-toggleable\"><input class=\"sk-toggleable__control sk-hidden--visually\" id=\"sk-estimator-id-24\" type=\"checkbox\" ><label for=\"sk-estimator-id-24\" class=\"sk-toggleable__label sk-toggleable__label-arrow\">RandomForestClassifier</label><div class=\"sk-toggleable__content\"><pre>RandomForestClassifier()</pre></div></div></div></div></div></div></div></div></div></div>"
      ],
      "text/plain": [
       "GridSearchCV(cv=10, estimator=RandomForestClassifier(), n_jobs=-1,\n",
       "             param_grid={'max_depth': [2, 5, 8, 10], 'max_features': [2, 5, 8],\n",
       "                         'min_samples_split': [2, 5, 10],\n",
       "                         'n_estimators': [10, 500, 1000]},\n",
       "             verbose=2)"
      ]
     },
     "execution_count": 137,
     "metadata": {},
     "output_type": "execute_result"
    }
   ],
   "source": [
    "rf_cv_model.fit(X_train, y_train)"
   ]
  },
  {
   "cell_type": "code",
   "execution_count": 138,
   "id": "76d77ddc-3323-415e-a824-b4c73111f57c",
   "metadata": {},
   "outputs": [
    {
     "name": "stdout",
     "output_type": "stream",
     "text": [
      "En iyi parametreler: {'max_depth': 8, 'max_features': 2, 'min_samples_split': 2, 'n_estimators': 500}\n"
     ]
    }
   ],
   "source": [
    "print(\"En iyi parametreler: \" + str(rf_cv_model.best_params_))"
   ]
  },
  {
   "cell_type": "code",
   "execution_count": 139,
   "id": "ad9d7e07-fdc9-4195-80cc-501ad9f3f2f8",
   "metadata": {},
   "outputs": [
    {
     "data": {
      "text/html": [
       "<style>#sk-container-id-15 {color: black;background-color: white;}#sk-container-id-15 pre{padding: 0;}#sk-container-id-15 div.sk-toggleable {background-color: white;}#sk-container-id-15 label.sk-toggleable__label {cursor: pointer;display: block;width: 100%;margin-bottom: 0;padding: 0.3em;box-sizing: border-box;text-align: center;}#sk-container-id-15 label.sk-toggleable__label-arrow:before {content: \"▸\";float: left;margin-right: 0.25em;color: #696969;}#sk-container-id-15 label.sk-toggleable__label-arrow:hover:before {color: black;}#sk-container-id-15 div.sk-estimator:hover label.sk-toggleable__label-arrow:before {color: black;}#sk-container-id-15 div.sk-toggleable__content {max-height: 0;max-width: 0;overflow: hidden;text-align: left;background-color: #f0f8ff;}#sk-container-id-15 div.sk-toggleable__content pre {margin: 0.2em;color: black;border-radius: 0.25em;background-color: #f0f8ff;}#sk-container-id-15 input.sk-toggleable__control:checked~div.sk-toggleable__content {max-height: 200px;max-width: 100%;overflow: auto;}#sk-container-id-15 input.sk-toggleable__control:checked~label.sk-toggleable__label-arrow:before {content: \"▾\";}#sk-container-id-15 div.sk-estimator input.sk-toggleable__control:checked~label.sk-toggleable__label {background-color: #d4ebff;}#sk-container-id-15 div.sk-label input.sk-toggleable__control:checked~label.sk-toggleable__label {background-color: #d4ebff;}#sk-container-id-15 input.sk-hidden--visually {border: 0;clip: rect(1px 1px 1px 1px);clip: rect(1px, 1px, 1px, 1px);height: 1px;margin: -1px;overflow: hidden;padding: 0;position: absolute;width: 1px;}#sk-container-id-15 div.sk-estimator {font-family: monospace;background-color: #f0f8ff;border: 1px dotted black;border-radius: 0.25em;box-sizing: border-box;margin-bottom: 0.5em;}#sk-container-id-15 div.sk-estimator:hover {background-color: #d4ebff;}#sk-container-id-15 div.sk-parallel-item::after {content: \"\";width: 100%;border-bottom: 1px solid gray;flex-grow: 1;}#sk-container-id-15 div.sk-label:hover label.sk-toggleable__label {background-color: #d4ebff;}#sk-container-id-15 div.sk-serial::before {content: \"\";position: absolute;border-left: 1px solid gray;box-sizing: border-box;top: 0;bottom: 0;left: 50%;z-index: 0;}#sk-container-id-15 div.sk-serial {display: flex;flex-direction: column;align-items: center;background-color: white;padding-right: 0.2em;padding-left: 0.2em;position: relative;}#sk-container-id-15 div.sk-item {position: relative;z-index: 1;}#sk-container-id-15 div.sk-parallel {display: flex;align-items: stretch;justify-content: center;background-color: white;position: relative;}#sk-container-id-15 div.sk-item::before, #sk-container-id-15 div.sk-parallel-item::before {content: \"\";position: absolute;border-left: 1px solid gray;box-sizing: border-box;top: 0;bottom: 0;left: 50%;z-index: -1;}#sk-container-id-15 div.sk-parallel-item {display: flex;flex-direction: column;z-index: 1;position: relative;background-color: white;}#sk-container-id-15 div.sk-parallel-item:first-child::after {align-self: flex-end;width: 50%;}#sk-container-id-15 div.sk-parallel-item:last-child::after {align-self: flex-start;width: 50%;}#sk-container-id-15 div.sk-parallel-item:only-child::after {width: 0;}#sk-container-id-15 div.sk-dashed-wrapped {border: 1px dashed gray;margin: 0 0.4em 0.5em 0.4em;box-sizing: border-box;padding-bottom: 0.4em;background-color: white;}#sk-container-id-15 div.sk-label label {font-family: monospace;font-weight: bold;display: inline-block;line-height: 1.2em;}#sk-container-id-15 div.sk-label-container {text-align: center;}#sk-container-id-15 div.sk-container {/* jupyter's `normalize.less` sets `[hidden] { display: none; }` but bootstrap.min.css set `[hidden] { display: none !important; }` so we also need the `!important` here to be able to override the default hidden behavior on the sphinx rendered scikit-learn.org. See: https://github.com/scikit-learn/scikit-learn/issues/21755 */display: inline-block !important;position: relative;}#sk-container-id-15 div.sk-text-repr-fallback {display: none;}</style><div id=\"sk-container-id-15\" class=\"sk-top-container\"><div class=\"sk-text-repr-fallback\"><pre>RandomForestClassifier(max_depth=10, max_features=8, n_estimators=500)</pre><b>In a Jupyter environment, please rerun this cell to show the HTML representation or trust the notebook. <br />On GitHub, the HTML representation is unable to render, please try loading this page with nbviewer.org.</b></div><div class=\"sk-container\" hidden><div class=\"sk-item\"><div class=\"sk-estimator sk-toggleable\"><input class=\"sk-toggleable__control sk-hidden--visually\" id=\"sk-estimator-id-25\" type=\"checkbox\" checked><label for=\"sk-estimator-id-25\" class=\"sk-toggleable__label sk-toggleable__label-arrow\">RandomForestClassifier</label><div class=\"sk-toggleable__content\"><pre>RandomForestClassifier(max_depth=10, max_features=8, n_estimators=500)</pre></div></div></div></div></div>"
      ],
      "text/plain": [
       "RandomForestClassifier(max_depth=10, max_features=8, n_estimators=500)"
      ]
     },
     "execution_count": 139,
     "metadata": {},
     "output_type": "execute_result"
    }
   ],
   "source": [
    "rf_tuned = RandomForestClassifier(max_depth = 10, \n",
    "                                  max_features = 8, \n",
    "                                  min_samples_split = 2,\n",
    "                                  n_estimators = 500)\n",
    "\n",
    "rf_tuned.fit(X_train, y_train)"
   ]
  },
  {
   "cell_type": "code",
   "execution_count": 140,
   "id": "2c4862a1-ec84-4b10-a450-64681ff50b10",
   "metadata": {},
   "outputs": [
    {
     "data": {
      "text/html": [
       "<style>#sk-container-id-16 {color: black;background-color: white;}#sk-container-id-16 pre{padding: 0;}#sk-container-id-16 div.sk-toggleable {background-color: white;}#sk-container-id-16 label.sk-toggleable__label {cursor: pointer;display: block;width: 100%;margin-bottom: 0;padding: 0.3em;box-sizing: border-box;text-align: center;}#sk-container-id-16 label.sk-toggleable__label-arrow:before {content: \"▸\";float: left;margin-right: 0.25em;color: #696969;}#sk-container-id-16 label.sk-toggleable__label-arrow:hover:before {color: black;}#sk-container-id-16 div.sk-estimator:hover label.sk-toggleable__label-arrow:before {color: black;}#sk-container-id-16 div.sk-toggleable__content {max-height: 0;max-width: 0;overflow: hidden;text-align: left;background-color: #f0f8ff;}#sk-container-id-16 div.sk-toggleable__content pre {margin: 0.2em;color: black;border-radius: 0.25em;background-color: #f0f8ff;}#sk-container-id-16 input.sk-toggleable__control:checked~div.sk-toggleable__content {max-height: 200px;max-width: 100%;overflow: auto;}#sk-container-id-16 input.sk-toggleable__control:checked~label.sk-toggleable__label-arrow:before {content: \"▾\";}#sk-container-id-16 div.sk-estimator input.sk-toggleable__control:checked~label.sk-toggleable__label {background-color: #d4ebff;}#sk-container-id-16 div.sk-label input.sk-toggleable__control:checked~label.sk-toggleable__label {background-color: #d4ebff;}#sk-container-id-16 input.sk-hidden--visually {border: 0;clip: rect(1px 1px 1px 1px);clip: rect(1px, 1px, 1px, 1px);height: 1px;margin: -1px;overflow: hidden;padding: 0;position: absolute;width: 1px;}#sk-container-id-16 div.sk-estimator {font-family: monospace;background-color: #f0f8ff;border: 1px dotted black;border-radius: 0.25em;box-sizing: border-box;margin-bottom: 0.5em;}#sk-container-id-16 div.sk-estimator:hover {background-color: #d4ebff;}#sk-container-id-16 div.sk-parallel-item::after {content: \"\";width: 100%;border-bottom: 1px solid gray;flex-grow: 1;}#sk-container-id-16 div.sk-label:hover label.sk-toggleable__label {background-color: #d4ebff;}#sk-container-id-16 div.sk-serial::before {content: \"\";position: absolute;border-left: 1px solid gray;box-sizing: border-box;top: 0;bottom: 0;left: 50%;z-index: 0;}#sk-container-id-16 div.sk-serial {display: flex;flex-direction: column;align-items: center;background-color: white;padding-right: 0.2em;padding-left: 0.2em;position: relative;}#sk-container-id-16 div.sk-item {position: relative;z-index: 1;}#sk-container-id-16 div.sk-parallel {display: flex;align-items: stretch;justify-content: center;background-color: white;position: relative;}#sk-container-id-16 div.sk-item::before, #sk-container-id-16 div.sk-parallel-item::before {content: \"\";position: absolute;border-left: 1px solid gray;box-sizing: border-box;top: 0;bottom: 0;left: 50%;z-index: -1;}#sk-container-id-16 div.sk-parallel-item {display: flex;flex-direction: column;z-index: 1;position: relative;background-color: white;}#sk-container-id-16 div.sk-parallel-item:first-child::after {align-self: flex-end;width: 50%;}#sk-container-id-16 div.sk-parallel-item:last-child::after {align-self: flex-start;width: 50%;}#sk-container-id-16 div.sk-parallel-item:only-child::after {width: 0;}#sk-container-id-16 div.sk-dashed-wrapped {border: 1px dashed gray;margin: 0 0.4em 0.5em 0.4em;box-sizing: border-box;padding-bottom: 0.4em;background-color: white;}#sk-container-id-16 div.sk-label label {font-family: monospace;font-weight: bold;display: inline-block;line-height: 1.2em;}#sk-container-id-16 div.sk-label-container {text-align: center;}#sk-container-id-16 div.sk-container {/* jupyter's `normalize.less` sets `[hidden] { display: none; }` but bootstrap.min.css set `[hidden] { display: none !important; }` so we also need the `!important` here to be able to override the default hidden behavior on the sphinx rendered scikit-learn.org. See: https://github.com/scikit-learn/scikit-learn/issues/21755 */display: inline-block !important;position: relative;}#sk-container-id-16 div.sk-text-repr-fallback {display: none;}</style><div id=\"sk-container-id-16\" class=\"sk-top-container\"><div class=\"sk-text-repr-fallback\"><pre>RandomForestClassifier(max_depth=10, max_features=8, n_estimators=500)</pre><b>In a Jupyter environment, please rerun this cell to show the HTML representation or trust the notebook. <br />On GitHub, the HTML representation is unable to render, please try loading this page with nbviewer.org.</b></div><div class=\"sk-container\" hidden><div class=\"sk-item\"><div class=\"sk-estimator sk-toggleable\"><input class=\"sk-toggleable__control sk-hidden--visually\" id=\"sk-estimator-id-26\" type=\"checkbox\" checked><label for=\"sk-estimator-id-26\" class=\"sk-toggleable__label sk-toggleable__label-arrow\">RandomForestClassifier</label><div class=\"sk-toggleable__content\"><pre>RandomForestClassifier(max_depth=10, max_features=8, n_estimators=500)</pre></div></div></div></div></div>"
      ],
      "text/plain": [
       "RandomForestClassifier(max_depth=10, max_features=8, n_estimators=500)"
      ]
     },
     "execution_count": 140,
     "metadata": {},
     "output_type": "execute_result"
    }
   ],
   "source": [
    "rf_tuned = RandomForestClassifier(max_depth = 10, \n",
    "                                  max_features = 8, \n",
    "                                  min_samples_split = 2,\n",
    "                                  n_estimators = 500)\n",
    "\n",
    "rf_tuned.fit(X_train, y_train)"
   ]
  },
  {
   "cell_type": "code",
   "execution_count": 141,
   "id": "eccf6ae1-15cd-4b6d-bd2b-47c75e98922e",
   "metadata": {},
   "outputs": [
    {
     "data": {
      "text/plain": [
       "0.875"
      ]
     },
     "execution_count": 141,
     "metadata": {},
     "output_type": "execute_result"
    }
   ],
   "source": [
    "y_pred = rf_tuned.predict(X_test)\n",
    "accuracy_score(y_test, y_pred)"
   ]
  },
  {
   "cell_type": "code",
   "execution_count": 142,
   "id": "f14aa6ff-d00a-413a-a60d-8058aa830569",
   "metadata": {},
   "outputs": [],
   "source": [
    "Importance = pd.DataFrame({\"Importance\": rf_tuned.feature_importances_*100},\n",
    "                         index = X_train.columns)"
   ]
  },
  {
   "cell_type": "code",
   "execution_count": 143,
   "id": "79a9f1cd-1a99-406e-969d-c64d6087f74c",
   "metadata": {},
   "outputs": [
    {
     "data": {
      "text/plain": [
       "Text(0.5, 0, 'Değişken Önem Düzeyleri')"
      ]
     },
     "execution_count": 143,
     "metadata": {},
     "output_type": "execute_result"
    },
    {
     "data": {
      "image/png": "[encoded data removed]",
      "text/plain": [
       "<Figure size 432x288 with 1 Axes>"
      ]
     },
     "metadata": {
      "needs_background": "light"
     },
     "output_type": "display_data"
    }
   ],
   "source": [
    "Importance.sort_values(by = \"Importance\", \n",
    "                       axis = 0, \n",
    "                       ascending = True).plot(kind =\"barh\", color = \"r\")\n",
    "\n",
    "plt.xlabel(\"Değişken Önem Düzeyleri\")"
   ]
  },
  {
   "cell_type": "code",
   "execution_count": 144,
   "id": "f2212409-8834-4da0-8724-1774cc1f32e4",
   "metadata": {},
   "outputs": [],
   "source": [
    "                             1.9 Gradient Boosting Machines (GBM)\n",
    "#AdaBoost'un sınıflandırma ve regresyon problemlerine kolayca uyarlanabilen genellenmiş bir versiyonudur.\n",
    "\n",
    "#Adaptive Boosting (AdaBoost) zayıf sınıflandırıcıların bir araya gelerek güçlü bir sınıflandırıcı oluşturması \n",
    "#için geliştirilen bir yöntemdir."
   ]
  },
  {
   "cell_type": "code",
   "execution_count": 145,
   "id": "fa863c14-e9ab-4cc2-8501-f968e30749ed",
   "metadata": {},
   "outputs": [],
   "source": [
    "#  Model"
   ]
  },
  {
   "cell_type": "code",
   "execution_count": 146,
   "id": "8a5f5525-67e5-4874-b183-635c4570bfc2",
   "metadata": {},
   "outputs": [],
   "source": [
    "X_train, X_test, y_train, y_test = train_test_split(X, y, \n",
    "                                                    test_size=0.30, \n",
    "                                                    random_state=42)"
   ]
  },
  {
   "cell_type": "code",
   "execution_count": 147,
   "id": "c42d7bc7-88cd-4a41-a6fd-7de2899e75df",
   "metadata": {},
   "outputs": [],
   "source": [
    "gbm_model = GradientBoostingClassifier().fit(X_train, y_train)"
   ]
  },
  {
   "cell_type": "code",
   "execution_count": 148,
   "id": "22e3ff13-99d5-45e6-a3d7-fc8e8168f22d",
   "metadata": {},
   "outputs": [],
   "source": [
    "# Tahmin"
   ]
  },
  {
   "cell_type": "code",
   "execution_count": 149,
   "id": "b9b9b142-0a34-4524-bf7f-66b379ff6c9e",
   "metadata": {},
   "outputs": [
    {
     "data": {
      "text/plain": [
       "0.875"
      ]
     },
     "execution_count": 149,
     "metadata": {},
     "output_type": "execute_result"
    }
   ],
   "source": [
    "y_pred = gbm_model.predict(X_test)\n",
    "accuracy_score(y_test, y_pred)"
   ]
  },
  {
   "cell_type": "code",
   "execution_count": 150,
   "id": "8dba4b78-0aa4-448f-8cd7-26c6e24227bc",
   "metadata": {},
   "outputs": [
    {
     "data": {
      "text/plain": [
       "0.875"
      ]
     },
     "execution_count": 150,
     "metadata": {},
     "output_type": "execute_result"
    }
   ],
   "source": [
    "y_pred = gbm_model.predict(X_test)\n",
    "accuracy_score(y_test, y_pred)"
   ]
  },
  {
   "cell_type": "code",
   "execution_count": 151,
   "id": "7b7121d8-f825-437a-8056-0e984f184324",
   "metadata": {},
   "outputs": [],
   "source": [
    "# Model Tuning"
   ]
  },
  {
   "cell_type": "code",
   "execution_count": 152,
   "id": "7d6d9dd5-15b0-454a-8cd2-8294b9c9bd92",
   "metadata": {},
   "outputs": [],
   "source": [
    "gbm_params = {\"learning_rate\" : [0.001, 0.01, 0.1, 0.05],\n",
    "             \"n_estimators\": [100,500,100],\n",
    "             \"max_depth\": [3,5,10],\n",
    "             \"min_samples_split\": [2,5,10]}"
   ]
  },
  {
   "cell_type": "code",
   "execution_count": 153,
   "id": "c474373d-2614-4798-8e7c-9ebbd9a010f2",
   "metadata": {},
   "outputs": [],
   "source": [
    "gbm = GradientBoostingClassifier()\n",
    "\n",
    "gbm_cv = GridSearchCV(gbm, gbm_params, cv = 10, n_jobs = -1, verbose = 2)"
   ]
  },
  {
   "cell_type": "code",
   "execution_count": 154,
   "id": "5ad181c7-cdb5-4525-bfe6-c453e8ef86e0",
   "metadata": {},
   "outputs": [
    {
     "name": "stdout",
     "output_type": "stream",
     "text": [
      "Fitting 10 folds for each of 108 candidates, totalling 1080 fits\n"
     ]
    },
    {
     "data": {
      "text/html": [
       "<style>#sk-container-id-17 {color: black;background-color: white;}#sk-container-id-17 pre{padding: 0;}#sk-container-id-17 div.sk-toggleable {background-color: white;}#sk-container-id-17 label.sk-toggleable__label {cursor: pointer;display: block;width: 100%;margin-bottom: 0;padding: 0.3em;box-sizing: border-box;text-align: center;}#sk-container-id-17 label.sk-toggleable__label-arrow:before {content: \"▸\";float: left;margin-right: 0.25em;color: #696969;}#sk-container-id-17 label.sk-toggleable__label-arrow:hover:before {color: black;}#sk-container-id-17 div.sk-estimator:hover label.sk-toggleable__label-arrow:before {color: black;}#sk-container-id-17 div.sk-toggleable__content {max-height: 0;max-width: 0;overflow: hidden;text-align: left;background-color: #f0f8ff;}#sk-container-id-17 div.sk-toggleable__content pre {margin: 0.2em;color: black;border-radius: 0.25em;background-color: #f0f8ff;}#sk-container-id-17 input.sk-toggleable__control:checked~div.sk-toggleable__content {max-height: 200px;max-width: 100%;overflow: auto;}#sk-container-id-17 input.sk-toggleable__control:checked~label.sk-toggleable__label-arrow:before {content: \"▾\";}#sk-container-id-17 div.sk-estimator input.sk-toggleable__control:checked~label.sk-toggleable__label {background-color: #d4ebff;}#sk-container-id-17 div.sk-label input.sk-toggleable__control:checked~label.sk-toggleable__label {background-color: #d4ebff;}#sk-container-id-17 input.sk-hidden--visually {border: 0;clip: rect(1px 1px 1px 1px);clip: rect(1px, 1px, 1px, 1px);height: 1px;margin: -1px;overflow: hidden;padding: 0;position: absolute;width: 1px;}#sk-container-id-17 div.sk-estimator {font-family: monospace;background-color: #f0f8ff;border: 1px dotted black;border-radius: 0.25em;box-sizing: border-box;margin-bottom: 0.5em;}#sk-container-id-17 div.sk-estimator:hover {background-color: #d4ebff;}#sk-container-id-17 div.sk-parallel-item::after {content: \"\";width: 100%;border-bottom: 1px solid gray;flex-grow: 1;}#sk-container-id-17 div.sk-label:hover label.sk-toggleable__label {background-color: #d4ebff;}#sk-container-id-17 div.sk-serial::before {content: \"\";position: absolute;border-left: 1px solid gray;box-sizing: border-box;top: 0;bottom: 0;left: 50%;z-index: 0;}#sk-container-id-17 div.sk-serial {display: flex;flex-direction: column;align-items: center;background-color: white;padding-right: 0.2em;padding-left: 0.2em;position: relative;}#sk-container-id-17 div.sk-item {position: relative;z-index: 1;}#sk-container-id-17 div.sk-parallel {display: flex;align-items: stretch;justify-content: center;background-color: white;position: relative;}#sk-container-id-17 div.sk-item::before, #sk-container-id-17 div.sk-parallel-item::before {content: \"\";position: absolute;border-left: 1px solid gray;box-sizing: border-box;top: 0;bottom: 0;left: 50%;z-index: -1;}#sk-container-id-17 div.sk-parallel-item {display: flex;flex-direction: column;z-index: 1;position: relative;background-color: white;}#sk-container-id-17 div.sk-parallel-item:first-child::after {align-self: flex-end;width: 50%;}#sk-container-id-17 div.sk-parallel-item:last-child::after {align-self: flex-start;width: 50%;}#sk-container-id-17 div.sk-parallel-item:only-child::after {width: 0;}#sk-container-id-17 div.sk-dashed-wrapped {border: 1px dashed gray;margin: 0 0.4em 0.5em 0.4em;box-sizing: border-box;padding-bottom: 0.4em;background-color: white;}#sk-container-id-17 div.sk-label label {font-family: monospace;font-weight: bold;display: inline-block;line-height: 1.2em;}#sk-container-id-17 div.sk-label-container {text-align: center;}#sk-container-id-17 div.sk-container {/* jupyter's `normalize.less` sets `[hidden] { display: none; }` but bootstrap.min.css set `[hidden] { display: none !important; }` so we also need the `!important` here to be able to override the default hidden behavior on the sphinx rendered scikit-learn.org. See: https://github.com/scikit-learn/scikit-learn/issues/21755 */display: inline-block !important;position: relative;}#sk-container-id-17 div.sk-text-repr-fallback {display: none;}</style><div id=\"sk-container-id-17\" class=\"sk-top-container\"><div class=\"sk-text-repr-fallback\"><pre>GridSearchCV(cv=10, estimator=GradientBoostingClassifier(), n_jobs=-1,\n",
       "             param_grid={&#x27;learning_rate&#x27;: [0.001, 0.01, 0.1, 0.05],\n",
       "                         &#x27;max_depth&#x27;: [3, 5, 10],\n",
       "                         &#x27;min_samples_split&#x27;: [2, 5, 10],\n",
       "                         &#x27;n_estimators&#x27;: [100, 500, 100]},\n",
       "             verbose=2)</pre><b>In a Jupyter environment, please rerun this cell to show the HTML representation or trust the notebook. <br />On GitHub, the HTML representation is unable to render, please try loading this page with nbviewer.org.</b></div><div class=\"sk-container\" hidden><div class=\"sk-item sk-dashed-wrapped\"><div class=\"sk-label-container\"><div class=\"sk-label sk-toggleable\"><input class=\"sk-toggleable__control sk-hidden--visually\" id=\"sk-estimator-id-27\" type=\"checkbox\" ><label for=\"sk-estimator-id-27\" class=\"sk-toggleable__label sk-toggleable__label-arrow\">GridSearchCV</label><div class=\"sk-toggleable__content\"><pre>GridSearchCV(cv=10, estimator=GradientBoostingClassifier(), n_jobs=-1,\n",
       "             param_grid={&#x27;learning_rate&#x27;: [0.001, 0.01, 0.1, 0.05],\n",
       "                         &#x27;max_depth&#x27;: [3, 5, 10],\n",
       "                         &#x27;min_samples_split&#x27;: [2, 5, 10],\n",
       "                         &#x27;n_estimators&#x27;: [100, 500, 100]},\n",
       "             verbose=2)</pre></div></div></div><div class=\"sk-parallel\"><div class=\"sk-parallel-item\"><div class=\"sk-item\"><div class=\"sk-label-container\"><div class=\"sk-label sk-toggleable\"><input class=\"sk-toggleable__control sk-hidden--visually\" id=\"sk-estimator-id-28\" type=\"checkbox\" ><label for=\"sk-estimator-id-28\" class=\"sk-toggleable__label sk-toggleable__label-arrow\">estimator: GradientBoostingClassifier</label><div class=\"sk-toggleable__content\"><pre>GradientBoostingClassifier()</pre></div></div></div><div class=\"sk-serial\"><div class=\"sk-item\"><div class=\"sk-estimator sk-toggleable\"><input class=\"sk-toggleable__control sk-hidden--visually\" id=\"sk-estimator-id-29\" type=\"checkbox\" ><label for=\"sk-estimator-id-29\" class=\"sk-toggleable__label sk-toggleable__label-arrow\">GradientBoostingClassifier</label><div class=\"sk-toggleable__content\"><pre>GradientBoostingClassifier()</pre></div></div></div></div></div></div></div></div></div></div>"
      ],
      "text/plain": [
       "GridSearchCV(cv=10, estimator=GradientBoostingClassifier(), n_jobs=-1,\n",
       "             param_grid={'learning_rate': [0.001, 0.01, 0.1, 0.05],\n",
       "                         'max_depth': [3, 5, 10],\n",
       "                         'min_samples_split': [2, 5, 10],\n",
       "                         'n_estimators': [100, 500, 100]},\n",
       "             verbose=2)"
      ]
     },
     "execution_count": 154,
     "metadata": {},
     "output_type": "execute_result"
    }
   ],
   "source": [
    "gbm_cv.fit(X_train, y_train)"
   ]
  },
  {
   "cell_type": "code",
   "execution_count": 155,
   "id": "8c14f184-5c0c-4799-a04f-2e394da94dc4",
   "metadata": {},
   "outputs": [
    {
     "name": "stdout",
     "output_type": "stream",
     "text": [
      "En iyi parametreler: {'learning_rate': 0.1, 'max_depth': 3, 'min_samples_split': 10, 'n_estimators': 100}\n"
     ]
    }
   ],
   "source": [
    "print(\"En iyi parametreler: \" + str(gbm_cv.best_params_))"
   ]
  },
  {
   "cell_type": "code",
   "execution_count": 156,
   "id": "426bcdf5-a1a6-43ef-bf26-7ef4265e277f",
   "metadata": {},
   "outputs": [],
   "source": [
    "gbm = GradientBoostingClassifier(learning_rate = 0.05, \n",
    "                                 max_depth = 5,\n",
    "                                min_samples_split = 10,\n",
    "                                n_estimators = 100)"
   ]
  },
  {
   "cell_type": "code",
   "execution_count": 157,
   "id": "616e15da-fb2f-4661-be8f-35f855740316",
   "metadata": {},
   "outputs": [],
   "source": [
    "gbm_tuned =  gbm.fit(X_train,y_train)"
   ]
  },
  {
   "cell_type": "code",
   "execution_count": 158,
   "id": "0756b49e-628f-467b-b042-c82f5bd5f8bf",
   "metadata": {},
   "outputs": [
    {
     "data": {
      "text/plain": [
       "0.875"
      ]
     },
     "execution_count": 158,
     "metadata": {},
     "output_type": "execute_result"
    }
   ],
   "source": [
    "y_pred = gbm_tuned.predict(X_test)\n",
    "accuracy_score(y_test, y_pred)"
   ]
  },
  {
   "cell_type": "code",
   "execution_count": 159,
   "id": "bccc5e19-bb14-4994-aea5-da8b7954fb08",
   "metadata": {},
   "outputs": [],
   "source": [
    "                                  1.10 XGBoost (eXtreme Gradient Boosting)\n",
    "#XGBoost, GBM'in hız ve tahmin performansını arttırmak üzere optimize edilmiş; ölçeklenebilir ve farklı \n",
    "#platformlara entegre edilebilir halidir.\n",
    "    \n",
    "    #R, Python, Hadoop, Scala, Julia ile kullanılabilir\n",
    "    #Ölçeklenebilir\n",
    "    #Hızlı\n",
    "    #Tahmin başarısı yüksek\n",
    "    #Birçok kaggle yarışmasında başarısını kanıtlamış."
   ]
  },
  {
   "cell_type": "code",
   "execution_count": 160,
   "id": "fb1ebe31-01a8-4787-b764-b93f961ba777",
   "metadata": {},
   "outputs": [],
   "source": [
    "#  Model"
   ]
  },
  {
   "cell_type": "code",
   "execution_count": 161,
   "id": "bb7d9a3a-909a-4e1f-bd30-8d5061960282",
   "metadata": {},
   "outputs": [],
   "source": [
    "X_train, X_test, y_train, y_test = train_test_split(X, y, \n",
    "                                                    test_size=0.30, \n",
    "                                                    random_state=42)"
   ]
  },
  {
   "cell_type": "code",
   "execution_count": 162,
   "id": "59038969-8051-455e-ae8f-794cb43e71a7",
   "metadata": {},
   "outputs": [],
   "source": [
    "xgb_model = XGBClassifier().fit(X_train, y_train)"
   ]
  },
  {
   "cell_type": "code",
   "execution_count": 163,
   "id": "7f604c1b-28be-4fe3-b9b0-0622eeb03142",
   "metadata": {},
   "outputs": [
    {
     "data": {
      "text/html": [
       "<style>#sk-container-id-18 {color: black;background-color: white;}#sk-container-id-18 pre{padding: 0;}#sk-container-id-18 div.sk-toggleable {background-color: white;}#sk-container-id-18 label.sk-toggleable__label {cursor: pointer;display: block;width: 100%;margin-bottom: 0;padding: 0.3em;box-sizing: border-box;text-align: center;}#sk-container-id-18 label.sk-toggleable__label-arrow:before {content: \"▸\";float: left;margin-right: 0.25em;color: #696969;}#sk-container-id-18 label.sk-toggleable__label-arrow:hover:before {color: black;}#sk-container-id-18 div.sk-estimator:hover label.sk-toggleable__label-arrow:before {color: black;}#sk-container-id-18 div.sk-toggleable__content {max-height: 0;max-width: 0;overflow: hidden;text-align: left;background-color: #f0f8ff;}#sk-container-id-18 div.sk-toggleable__content pre {margin: 0.2em;color: black;border-radius: 0.25em;background-color: #f0f8ff;}#sk-container-id-18 input.sk-toggleable__control:checked~div.sk-toggleable__content {max-height: 200px;max-width: 100%;overflow: auto;}#sk-container-id-18 input.sk-toggleable__control:checked~label.sk-toggleable__label-arrow:before {content: \"▾\";}#sk-container-id-18 div.sk-estimator input.sk-toggleable__control:checked~label.sk-toggleable__label {background-color: #d4ebff;}#sk-container-id-18 div.sk-label input.sk-toggleable__control:checked~label.sk-toggleable__label {background-color: #d4ebff;}#sk-container-id-18 input.sk-hidden--visually {border: 0;clip: rect(1px 1px 1px 1px);clip: rect(1px, 1px, 1px, 1px);height: 1px;margin: -1px;overflow: hidden;padding: 0;position: absolute;width: 1px;}#sk-container-id-18 div.sk-estimator {font-family: monospace;background-color: #f0f8ff;border: 1px dotted black;border-radius: 0.25em;box-sizing: border-box;margin-bottom: 0.5em;}#sk-container-id-18 div.sk-estimator:hover {background-color: #d4ebff;}#sk-container-id-18 div.sk-parallel-item::after {content: \"\";width: 100%;border-bottom: 1px solid gray;flex-grow: 1;}#sk-container-id-18 div.sk-label:hover label.sk-toggleable__label {background-color: #d4ebff;}#sk-container-id-18 div.sk-serial::before {content: \"\";position: absolute;border-left: 1px solid gray;box-sizing: border-box;top: 0;bottom: 0;left: 50%;z-index: 0;}#sk-container-id-18 div.sk-serial {display: flex;flex-direction: column;align-items: center;background-color: white;padding-right: 0.2em;padding-left: 0.2em;position: relative;}#sk-container-id-18 div.sk-item {position: relative;z-index: 1;}#sk-container-id-18 div.sk-parallel {display: flex;align-items: stretch;justify-content: center;background-color: white;position: relative;}#sk-container-id-18 div.sk-item::before, #sk-container-id-18 div.sk-parallel-item::before {content: \"\";position: absolute;border-left: 1px solid gray;box-sizing: border-box;top: 0;bottom: 0;left: 50%;z-index: -1;}#sk-container-id-18 div.sk-parallel-item {display: flex;flex-direction: column;z-index: 1;position: relative;background-color: white;}#sk-container-id-18 div.sk-parallel-item:first-child::after {align-self: flex-end;width: 50%;}#sk-container-id-18 div.sk-parallel-item:last-child::after {align-self: flex-start;width: 50%;}#sk-container-id-18 div.sk-parallel-item:only-child::after {width: 0;}#sk-container-id-18 div.sk-dashed-wrapped {border: 1px dashed gray;margin: 0 0.4em 0.5em 0.4em;box-sizing: border-box;padding-bottom: 0.4em;background-color: white;}#sk-container-id-18 div.sk-label label {font-family: monospace;font-weight: bold;display: inline-block;line-height: 1.2em;}#sk-container-id-18 div.sk-label-container {text-align: center;}#sk-container-id-18 div.sk-container {/* jupyter's `normalize.less` sets `[hidden] { display: none; }` but bootstrap.min.css set `[hidden] { display: none !important; }` so we also need the `!important` here to be able to override the default hidden behavior on the sphinx rendered scikit-learn.org. See: https://github.com/scikit-learn/scikit-learn/issues/21755 */display: inline-block !important;position: relative;}#sk-container-id-18 div.sk-text-repr-fallback {display: none;}</style><div id=\"sk-container-id-18\" class=\"sk-top-container\"><div class=\"sk-text-repr-fallback\"><pre>XGBClassifier(base_score=0.5, booster=&#x27;gbtree&#x27;, callbacks=None,\n",
       "              colsample_bylevel=1, colsample_bynode=1, colsample_bytree=1,\n",
       "              early_stopping_rounds=None, enable_categorical=False,\n",
       "              eval_metric=None, gamma=0, gpu_id=-1, grow_policy=&#x27;depthwise&#x27;,\n",
       "              importance_type=None, interaction_constraints=&#x27;&#x27;,\n",
       "              learning_rate=0.300000012, max_bin=256, max_cat_to_onehot=4,\n",
       "              max_delta_step=0, max_depth=6, max_leaves=0, min_child_weight=1,\n",
       "              missing=nan, monotone_constraints=&#x27;()&#x27;, n_estimators=100,\n",
       "              n_jobs=0, num_parallel_tree=1, predictor=&#x27;auto&#x27;, random_state=0,\n",
       "              reg_alpha=0, reg_lambda=1, ...)</pre><b>In a Jupyter environment, please rerun this cell to show the HTML representation or trust the notebook. <br />On GitHub, the HTML representation is unable to render, please try loading this page with nbviewer.org.</b></div><div class=\"sk-container\" hidden><div class=\"sk-item\"><div class=\"sk-estimator sk-toggleable\"><input class=\"sk-toggleable__control sk-hidden--visually\" id=\"sk-estimator-id-30\" type=\"checkbox\" checked><label for=\"sk-estimator-id-30\" class=\"sk-toggleable__label sk-toggleable__label-arrow\">XGBClassifier</label><div class=\"sk-toggleable__content\"><pre>XGBClassifier(base_score=0.5, booster=&#x27;gbtree&#x27;, callbacks=None,\n",
       "              colsample_bylevel=1, colsample_bynode=1, colsample_bytree=1,\n",
       "              early_stopping_rounds=None, enable_categorical=False,\n",
       "              eval_metric=None, gamma=0, gpu_id=-1, grow_policy=&#x27;depthwise&#x27;,\n",
       "              importance_type=None, interaction_constraints=&#x27;&#x27;,\n",
       "              learning_rate=0.300000012, max_bin=256, max_cat_to_onehot=4,\n",
       "              max_delta_step=0, max_depth=6, max_leaves=0, min_child_weight=1,\n",
       "              missing=nan, monotone_constraints=&#x27;()&#x27;, n_estimators=100,\n",
       "              n_jobs=0, num_parallel_tree=1, predictor=&#x27;auto&#x27;, random_state=0,\n",
       "              reg_alpha=0, reg_lambda=1, ...)</pre></div></div></div></div></div>"
      ],
      "text/plain": [
       "XGBClassifier(base_score=0.5, booster='gbtree', callbacks=None,\n",
       "              colsample_bylevel=1, colsample_bynode=1, colsample_bytree=1,\n",
       "              early_stopping_rounds=None, enable_categorical=False,\n",
       "              eval_metric=None, gamma=0, gpu_id=-1, grow_policy='depthwise',\n",
       "              importance_type=None, interaction_constraints='',\n",
       "              learning_rate=0.300000012, max_bin=256, max_cat_to_onehot=4,\n",
       "              max_delta_step=0, max_depth=6, max_leaves=0, min_child_weight=1,\n",
       "              missing=nan, monotone_constraints='()', n_estimators=100,\n",
       "              n_jobs=0, num_parallel_tree=1, predictor='auto', random_state=0,\n",
       "              reg_alpha=0, reg_lambda=1, ...)"
      ]
     },
     "execution_count": 163,
     "metadata": {},
     "output_type": "execute_result"
    }
   ],
   "source": [
    "xgb_model"
   ]
  },
  {
   "cell_type": "code",
   "execution_count": 164,
   "id": "7bfc734f-2e5e-462d-bde0-6832c77fc5ac",
   "metadata": {},
   "outputs": [],
   "source": [
    "#  Tahmin"
   ]
  },
  {
   "cell_type": "code",
   "execution_count": 165,
   "id": "19bb5827-81bd-4dca-94d8-42c4a655cbdb",
   "metadata": {},
   "outputs": [
    {
     "data": {
      "text/plain": [
       "0.9375"
      ]
     },
     "execution_count": 165,
     "metadata": {},
     "output_type": "execute_result"
    }
   ],
   "source": [
    "y_pred = xgb_model.predict(X_test)\n",
    "accuracy_score(y_test, y_pred)"
   ]
  },
  {
   "cell_type": "code",
   "execution_count": 166,
   "id": "0e30e7ed-22cc-42d4-b25b-6fdee5418be9",
   "metadata": {},
   "outputs": [],
   "source": [
    "#  Model Tuning"
   ]
  },
  {
   "cell_type": "code",
   "execution_count": 167,
   "id": "11a71a31-3f41-4b19-9a82-40a23660dab4",
   "metadata": {},
   "outputs": [],
   "source": [
    "xgb_params = {\n",
    "        'n_estimators': [100, 500, 1000, 2000],\n",
    "        'subsample': [0.6, 0.8, 1.0],\n",
    "        'max_depth': [3, 4, 5,6],\n",
    "        'learning_rate': [0.1,0.01,0.02,0.05],\n",
    "        \"min_samples_split\": [2,5,10]}"
   ]
  },
  {
   "cell_type": "code",
   "execution_count": 168,
   "id": "1908fe67-03d1-4ab0-9c7a-c3684af37946",
   "metadata": {},
   "outputs": [],
   "source": [
    "xgb = XGBClassifier()\n",
    "\n",
    "xgb_cv_model = GridSearchCV(xgb, xgb_params, cv = 10, n_jobs = -1, verbose = 2)"
   ]
  },
  {
   "cell_type": "code",
   "execution_count": 169,
   "id": "8e56c291-1548-4ee3-811d-172bd1fb88cd",
   "metadata": {},
   "outputs": [
    {
     "name": "stdout",
     "output_type": "stream",
     "text": [
      "Fitting 10 folds for each of 576 candidates, totalling 5760 fits\n",
      "[02:27:05] WARNING: C:/Users/Administrator/workspace/xgboost-win64_release_1.6.0/src/learner.cc:627: \n",
      "Parameters: { \"min_samples_split\" } might not be used.\n",
      "\n",
      "  This could be a false alarm, with some parameters getting used by language bindings but\n",
      "  then being mistakenly passed down to XGBoost core, or some parameter actually being used\n",
      "  but getting flagged wrongly here. Please open an issue if you find any such cases.\n",
      "\n",
      "\n"
     ]
    },
    {
     "data": {
      "text/html": [
       "<style>#sk-container-id-19 {color: black;background-color: white;}#sk-container-id-19 pre{padding: 0;}#sk-container-id-19 div.sk-toggleable {background-color: white;}#sk-container-id-19 label.sk-toggleable__label {cursor: pointer;display: block;width: 100%;margin-bottom: 0;padding: 0.3em;box-sizing: border-box;text-align: center;}#sk-container-id-19 label.sk-toggleable__label-arrow:before {content: \"▸\";float: left;margin-right: 0.25em;color: #696969;}#sk-container-id-19 label.sk-toggleable__label-arrow:hover:before {color: black;}#sk-container-id-19 div.sk-estimator:hover label.sk-toggleable__label-arrow:before {color: black;}#sk-container-id-19 div.sk-toggleable__content {max-height: 0;max-width: 0;overflow: hidden;text-align: left;background-color: #f0f8ff;}#sk-container-id-19 div.sk-toggleable__content pre {margin: 0.2em;color: black;border-radius: 0.25em;background-color: #f0f8ff;}#sk-container-id-19 input.sk-toggleable__control:checked~div.sk-toggleable__content {max-height: 200px;max-width: 100%;overflow: auto;}#sk-container-id-19 input.sk-toggleable__control:checked~label.sk-toggleable__label-arrow:before {content: \"▾\";}#sk-container-id-19 div.sk-estimator input.sk-toggleable__control:checked~label.sk-toggleable__label {background-color: #d4ebff;}#sk-container-id-19 div.sk-label input.sk-toggleable__control:checked~label.sk-toggleable__label {background-color: #d4ebff;}#sk-container-id-19 input.sk-hidden--visually {border: 0;clip: rect(1px 1px 1px 1px);clip: rect(1px, 1px, 1px, 1px);height: 1px;margin: -1px;overflow: hidden;padding: 0;position: absolute;width: 1px;}#sk-container-id-19 div.sk-estimator {font-family: monospace;background-color: #f0f8ff;border: 1px dotted black;border-radius: 0.25em;box-sizing: border-box;margin-bottom: 0.5em;}#sk-container-id-19 div.sk-estimator:hover {background-color: #d4ebff;}#sk-container-id-19 div.sk-parallel-item::after {content: \"\";width: 100%;border-bottom: 1px solid gray;flex-grow: 1;}#sk-container-id-19 div.sk-label:hover label.sk-toggleable__label {background-color: #d4ebff;}#sk-container-id-19 div.sk-serial::before {content: \"\";position: absolute;border-left: 1px solid gray;box-sizing: border-box;top: 0;bottom: 0;left: 50%;z-index: 0;}#sk-container-id-19 div.sk-serial {display: flex;flex-direction: column;align-items: center;background-color: white;padding-right: 0.2em;padding-left: 0.2em;position: relative;}#sk-container-id-19 div.sk-item {position: relative;z-index: 1;}#sk-container-id-19 div.sk-parallel {display: flex;align-items: stretch;justify-content: center;background-color: white;position: relative;}#sk-container-id-19 div.sk-item::before, #sk-container-id-19 div.sk-parallel-item::before {content: \"\";position: absolute;border-left: 1px solid gray;box-sizing: border-box;top: 0;bottom: 0;left: 50%;z-index: -1;}#sk-container-id-19 div.sk-parallel-item {display: flex;flex-direction: column;z-index: 1;position: relative;background-color: white;}#sk-container-id-19 div.sk-parallel-item:first-child::after {align-self: flex-end;width: 50%;}#sk-container-id-19 div.sk-parallel-item:last-child::after {align-self: flex-start;width: 50%;}#sk-container-id-19 div.sk-parallel-item:only-child::after {width: 0;}#sk-container-id-19 div.sk-dashed-wrapped {border: 1px dashed gray;margin: 0 0.4em 0.5em 0.4em;box-sizing: border-box;padding-bottom: 0.4em;background-color: white;}#sk-container-id-19 div.sk-label label {font-family: monospace;font-weight: bold;display: inline-block;line-height: 1.2em;}#sk-container-id-19 div.sk-label-container {text-align: center;}#sk-container-id-19 div.sk-container {/* jupyter's `normalize.less` sets `[hidden] { display: none; }` but bootstrap.min.css set `[hidden] { display: none !important; }` so we also need the `!important` here to be able to override the default hidden behavior on the sphinx rendered scikit-learn.org. See: https://github.com/scikit-learn/scikit-learn/issues/21755 */display: inline-block !important;position: relative;}#sk-container-id-19 div.sk-text-repr-fallback {display: none;}</style><div id=\"sk-container-id-19\" class=\"sk-top-container\"><div class=\"sk-text-repr-fallback\"><pre>GridSearchCV(cv=10,\n",
       "             estimator=XGBClassifier(base_score=None, booster=None,\n",
       "                                     callbacks=None, colsample_bylevel=None,\n",
       "                                     colsample_bynode=None,\n",
       "                                     colsample_bytree=None,\n",
       "                                     early_stopping_rounds=None,\n",
       "                                     enable_categorical=False, eval_metric=None,\n",
       "                                     gamma=None, gpu_id=None, grow_policy=None,\n",
       "                                     importance_type=None,\n",
       "                                     interaction_constraints=None,\n",
       "                                     learning_rate=None, max_bin=None,\n",
       "                                     max_c...\n",
       "                                     max_leaves=None, min_child_weight=None,\n",
       "                                     missing=nan, monotone_constraints=None,\n",
       "                                     n_estimators=100, n_jobs=None,\n",
       "                                     num_parallel_tree=None, predictor=None,\n",
       "                                     random_state=None, reg_alpha=None,\n",
       "                                     reg_lambda=None, ...),\n",
       "             n_jobs=-1,\n",
       "             param_grid={&#x27;learning_rate&#x27;: [0.1, 0.01, 0.02, 0.05],\n",
       "                         &#x27;max_depth&#x27;: [3, 4, 5, 6],\n",
       "                         &#x27;min_samples_split&#x27;: [2, 5, 10],\n",
       "                         &#x27;n_estimators&#x27;: [100, 500, 1000, 2000],\n",
       "                         &#x27;subsample&#x27;: [0.6, 0.8, 1.0]},\n",
       "             verbose=2)</pre><b>In a Jupyter environment, please rerun this cell to show the HTML representation or trust the notebook. <br />On GitHub, the HTML representation is unable to render, please try loading this page with nbviewer.org.</b></div><div class=\"sk-container\" hidden><div class=\"sk-item sk-dashed-wrapped\"><div class=\"sk-label-container\"><div class=\"sk-label sk-toggleable\"><input class=\"sk-toggleable__control sk-hidden--visually\" id=\"sk-estimator-id-31\" type=\"checkbox\" ><label for=\"sk-estimator-id-31\" class=\"sk-toggleable__label sk-toggleable__label-arrow\">GridSearchCV</label><div class=\"sk-toggleable__content\"><pre>GridSearchCV(cv=10,\n",
       "             estimator=XGBClassifier(base_score=None, booster=None,\n",
       "                                     callbacks=None, colsample_bylevel=None,\n",
       "                                     colsample_bynode=None,\n",
       "                                     colsample_bytree=None,\n",
       "                                     early_stopping_rounds=None,\n",
       "                                     enable_categorical=False, eval_metric=None,\n",
       "                                     gamma=None, gpu_id=None, grow_policy=None,\n",
       "                                     importance_type=None,\n",
       "                                     interaction_constraints=None,\n",
       "                                     learning_rate=None, max_bin=None,\n",
       "                                     max_c...\n",
       "                                     max_leaves=None, min_child_weight=None,\n",
       "                                     missing=nan, monotone_constraints=None,\n",
       "                                     n_estimators=100, n_jobs=None,\n",
       "                                     num_parallel_tree=None, predictor=None,\n",
       "                                     random_state=None, reg_alpha=None,\n",
       "                                     reg_lambda=None, ...),\n",
       "             n_jobs=-1,\n",
       "             param_grid={&#x27;learning_rate&#x27;: [0.1, 0.01, 0.02, 0.05],\n",
       "                         &#x27;max_depth&#x27;: [3, 4, 5, 6],\n",
       "                         &#x27;min_samples_split&#x27;: [2, 5, 10],\n",
       "                         &#x27;n_estimators&#x27;: [100, 500, 1000, 2000],\n",
       "                         &#x27;subsample&#x27;: [0.6, 0.8, 1.0]},\n",
       "             verbose=2)</pre></div></div></div><div class=\"sk-parallel\"><div class=\"sk-parallel-item\"><div class=\"sk-item\"><div class=\"sk-label-container\"><div class=\"sk-label sk-toggleable\"><input class=\"sk-toggleable__control sk-hidden--visually\" id=\"sk-estimator-id-32\" type=\"checkbox\" ><label for=\"sk-estimator-id-32\" class=\"sk-toggleable__label sk-toggleable__label-arrow\">estimator: XGBClassifier</label><div class=\"sk-toggleable__content\"><pre>XGBClassifier(base_score=None, booster=None, callbacks=None,\n",
       "              colsample_bylevel=None, colsample_bynode=None,\n",
       "              colsample_bytree=None, early_stopping_rounds=None,\n",
       "              enable_categorical=False, eval_metric=None, gamma=None,\n",
       "              gpu_id=None, grow_policy=None, importance_type=None,\n",
       "              interaction_constraints=None, learning_rate=None, max_bin=None,\n",
       "              max_cat_to_onehot=None, max_delta_step=None, max_depth=None,\n",
       "              max_leaves=None, min_child_weight=None, missing=nan,\n",
       "              monotone_constraints=None, n_estimators=100, n_jobs=None,\n",
       "              num_parallel_tree=None, predictor=None, random_state=None,\n",
       "              reg_alpha=None, reg_lambda=None, ...)</pre></div></div></div><div class=\"sk-serial\"><div class=\"sk-item\"><div class=\"sk-estimator sk-toggleable\"><input class=\"sk-toggleable__control sk-hidden--visually\" id=\"sk-estimator-id-33\" type=\"checkbox\" ><label for=\"sk-estimator-id-33\" class=\"sk-toggleable__label sk-toggleable__label-arrow\">XGBClassifier</label><div class=\"sk-toggleable__content\"><pre>XGBClassifier(base_score=None, booster=None, callbacks=None,\n",
       "              colsample_bylevel=None, colsample_bynode=None,\n",
       "              colsample_bytree=None, early_stopping_rounds=None,\n",
       "              enable_categorical=False, eval_metric=None, gamma=None,\n",
       "              gpu_id=None, grow_policy=None, importance_type=None,\n",
       "              interaction_constraints=None, learning_rate=None, max_bin=None,\n",
       "              max_cat_to_onehot=None, max_delta_step=None, max_depth=None,\n",
       "              max_leaves=None, min_child_weight=None, missing=nan,\n",
       "              monotone_constraints=None, n_estimators=100, n_jobs=None,\n",
       "              num_parallel_tree=None, predictor=None, random_state=None,\n",
       "              reg_alpha=None, reg_lambda=None, ...)</pre></div></div></div></div></div></div></div></div></div></div>"
      ],
      "text/plain": [
       "GridSearchCV(cv=10,\n",
       "             estimator=XGBClassifier(base_score=None, booster=None,\n",
       "                                     callbacks=None, colsample_bylevel=None,\n",
       "                                     colsample_bynode=None,\n",
       "                                     colsample_bytree=None,\n",
       "                                     early_stopping_rounds=None,\n",
       "                                     enable_categorical=False, eval_metric=None,\n",
       "                                     gamma=None, gpu_id=None, grow_policy=None,\n",
       "                                     importance_type=None,\n",
       "                                     interaction_constraints=None,\n",
       "                                     learning_rate=None, max_bin=None,\n",
       "                                     max_c...\n",
       "                                     max_leaves=None, min_child_weight=None,\n",
       "                                     missing=nan, monotone_constraints=None,\n",
       "                                     n_estimators=100, n_jobs=None,\n",
       "                                     num_parallel_tree=None, predictor=None,\n",
       "                                     random_state=None, reg_alpha=None,\n",
       "                                     reg_lambda=None, ...),\n",
       "             n_jobs=-1,\n",
       "             param_grid={'learning_rate': [0.1, 0.01, 0.02, 0.05],\n",
       "                         'max_depth': [3, 4, 5, 6],\n",
       "                         'min_samples_split': [2, 5, 10],\n",
       "                         'n_estimators': [100, 500, 1000, 2000],\n",
       "                         'subsample': [0.6, 0.8, 1.0]},\n",
       "             verbose=2)"
      ]
     },
     "execution_count": 169,
     "metadata": {},
     "output_type": "execute_result"
    }
   ],
   "source": [
    "xgb_cv_model.fit(X_train, y_train)"
   ]
  },
  {
   "cell_type": "code",
   "execution_count": 170,
   "id": "7521c9d2-3417-4fd3-9866-c0c0b3eb6aa8",
   "metadata": {},
   "outputs": [
    {
     "data": {
      "text/plain": [
       "{'learning_rate': 0.1,\n",
       " 'max_depth': 3,\n",
       " 'min_samples_split': 2,\n",
       " 'n_estimators': 500,\n",
       " 'subsample': 0.8}"
      ]
     },
     "execution_count": 170,
     "metadata": {},
     "output_type": "execute_result"
    }
   ],
   "source": [
    "xgb_cv_model.best_params_"
   ]
  },
  {
   "cell_type": "code",
   "execution_count": 171,
   "id": "9e835a0c-bdf2-4939-a08f-eca722d492ae",
   "metadata": {},
   "outputs": [],
   "source": [
    "xgb = XGBClassifier(learning_rate = 0.02, \n",
    "                    max_depth = 3,\n",
    "                    min_samples_split = 2,\n",
    "                    n_estimators = 100,\n",
    "                    subsample = 0.6)"
   ]
  },
  {
   "cell_type": "code",
   "execution_count": 172,
   "id": "1cb55e85-8cff-4371-b5a2-609808fd0142",
   "metadata": {},
   "outputs": [
    {
     "name": "stdout",
     "output_type": "stream",
     "text": [
      "[02:27:46] WARNING: C:/Users/Administrator/workspace/xgboost-win64_release_1.6.0/src/learner.cc:627: \n",
      "Parameters: { \"min_samples_split\" } might not be used.\n",
      "\n",
      "  This could be a false alarm, with some parameters getting used by language bindings but\n",
      "  then being mistakenly passed down to XGBoost core, or some parameter actually being used\n",
      "  but getting flagged wrongly here. Please open an issue if you find any such cases.\n",
      "\n",
      "\n"
     ]
    }
   ],
   "source": [
    "xgb_tuned =  xgb.fit(X_train,y_train)"
   ]
  },
  {
   "cell_type": "code",
   "execution_count": 173,
   "id": "b2aac485-3fe6-4627-b8ea-4a70db69d3dd",
   "metadata": {},
   "outputs": [
    {
     "data": {
      "text/plain": [
       "0.875"
      ]
     },
     "execution_count": 173,
     "metadata": {},
     "output_type": "execute_result"
    }
   ],
   "source": [
    "y_pred = xgb_tuned.predict(X_test)\n",
    "accuracy_score(y_test, y_pred)"
   ]
  },
  {
   "cell_type": "code",
   "execution_count": null,
   "id": "3bb95786-bc50-4835-8151-63a6bfc88268",
   "metadata": {},
   "outputs": [],
   "source": [
    "                                         1.11 Light GBM\n",
    "#Light GBM, XGBoost'un eğitim süresini azaltmaya yönelik geliştirilmiş bir diğer GBM türüdür.\n",
    "\n",
    "#2017 yılında Microsoft tarafından geliştirilmiştir.\n",
    "\n",
    " #   Daha performanslıdır.\n",
    "  #  Level-wise büyüme stratejisi yerine Leaf-wise büyüme stratejisi kullanır.\n",
    "   # Breadth-first search (BSF) yerine depth-first search (DFS) arama algoritmasını kullanır."
   ]
  },
  {
   "cell_type": "code",
   "execution_count": 174,
   "id": "552ce959-d8d0-4bc6-9780-77f314ae5142",
   "metadata": {},
   "outputs": [],
   "source": [
    "#  Model"
   ]
  },
  {
   "cell_type": "code",
   "execution_count": 175,
   "id": "76487411-f9f4-4a1f-b712-e796d0ea4259",
   "metadata": {},
   "outputs": [],
   "source": [
    "X_train, X_test, y_train, y_test = train_test_split(X, y, \n",
    "                                                    test_size=0.30, \n",
    "                                                    random_state=42)"
   ]
  },
  {
   "cell_type": "code",
   "execution_count": 176,
   "id": "5a379ab2-8a6a-4f97-9fe2-2fec13f630ca",
   "metadata": {},
   "outputs": [],
   "source": [
    "lgbm_model = LGBMClassifier().fit(X_train, y_train)"
   ]
  },
  {
   "cell_type": "code",
   "execution_count": 177,
   "id": "6e371c6d-e84f-4dba-86ee-248cc7cc5d13",
   "metadata": {},
   "outputs": [],
   "source": [
    "#  Tahmin"
   ]
  },
  {
   "cell_type": "code",
   "execution_count": 178,
   "id": "d579536e-5376-496f-9ae5-e5257513db78",
   "metadata": {},
   "outputs": [
    {
     "data": {
      "text/plain": [
       "0.4375"
      ]
     },
     "execution_count": 178,
     "metadata": {},
     "output_type": "execute_result"
    }
   ],
   "source": [
    "y_pred = lgbm_model.predict(X_test)\n",
    "accuracy_score(y_test, y_pred)"
   ]
  },
  {
   "cell_type": "code",
   "execution_count": 179,
   "id": "42703ec6-a026-424a-b666-313a445f7dbf",
   "metadata": {},
   "outputs": [],
   "source": [
    "# Model Tuning"
   ]
  },
  {
   "cell_type": "code",
   "execution_count": 180,
   "id": "928be8a9-c2b6-405e-a0ff-e020d284bddc",
   "metadata": {},
   "outputs": [],
   "source": [
    "lgbm_params = {\n",
    "        'n_estimators': [100, 500, 1000, 2000],\n",
    "        'subsample': [0.6, 0.8, 1.0],\n",
    "        'max_depth': [3, 4, 5,6],\n",
    "        'learning_rate': [0.1,0.01,0.02,0.05],\n",
    "        \"min_child_samples\": [5,10,20]}"
   ]
  },
  {
   "cell_type": "code",
   "execution_count": 181,
   "id": "f38159b2-c558-4a99-83ef-acba7511553e",
   "metadata": {},
   "outputs": [],
   "source": [
    "lgbm = LGBMClassifier()\n",
    "\n",
    "lgbm_cv_model = GridSearchCV(lgbm, lgbm_params, \n",
    "                             cv = 10, \n",
    "                             n_jobs = -1, \n",
    "                             verbose = 2)"
   ]
  },
  {
   "cell_type": "code",
   "execution_count": 182,
   "id": "ec7ed519-308c-4d80-b9cd-232487f0ca41",
   "metadata": {},
   "outputs": [
    {
     "name": "stdout",
     "output_type": "stream",
     "text": [
      "Fitting 10 folds for each of 576 candidates, totalling 5760 fits\n"
     ]
    },
    {
     "data": {
      "text/html": [
       "<style>#sk-container-id-20 {color: black;background-color: white;}#sk-container-id-20 pre{padding: 0;}#sk-container-id-20 div.sk-toggleable {background-color: white;}#sk-container-id-20 label.sk-toggleable__label {cursor: pointer;display: block;width: 100%;margin-bottom: 0;padding: 0.3em;box-sizing: border-box;text-align: center;}#sk-container-id-20 label.sk-toggleable__label-arrow:before {content: \"▸\";float: left;margin-right: 0.25em;color: #696969;}#sk-container-id-20 label.sk-toggleable__label-arrow:hover:before {color: black;}#sk-container-id-20 div.sk-estimator:hover label.sk-toggleable__label-arrow:before {color: black;}#sk-container-id-20 div.sk-toggleable__content {max-height: 0;max-width: 0;overflow: hidden;text-align: left;background-color: #f0f8ff;}#sk-container-id-20 div.sk-toggleable__content pre {margin: 0.2em;color: black;border-radius: 0.25em;background-color: #f0f8ff;}#sk-container-id-20 input.sk-toggleable__control:checked~div.sk-toggleable__content {max-height: 200px;max-width: 100%;overflow: auto;}#sk-container-id-20 input.sk-toggleable__control:checked~label.sk-toggleable__label-arrow:before {content: \"▾\";}#sk-container-id-20 div.sk-estimator input.sk-toggleable__control:checked~label.sk-toggleable__label {background-color: #d4ebff;}#sk-container-id-20 div.sk-label input.sk-toggleable__control:checked~label.sk-toggleable__label {background-color: #d4ebff;}#sk-container-id-20 input.sk-hidden--visually {border: 0;clip: rect(1px 1px 1px 1px);clip: rect(1px, 1px, 1px, 1px);height: 1px;margin: -1px;overflow: hidden;padding: 0;position: absolute;width: 1px;}#sk-container-id-20 div.sk-estimator {font-family: monospace;background-color: #f0f8ff;border: 1px dotted black;border-radius: 0.25em;box-sizing: border-box;margin-bottom: 0.5em;}#sk-container-id-20 div.sk-estimator:hover {background-color: #d4ebff;}#sk-container-id-20 div.sk-parallel-item::after {content: \"\";width: 100%;border-bottom: 1px solid gray;flex-grow: 1;}#sk-container-id-20 div.sk-label:hover label.sk-toggleable__label {background-color: #d4ebff;}#sk-container-id-20 div.sk-serial::before {content: \"\";position: absolute;border-left: 1px solid gray;box-sizing: border-box;top: 0;bottom: 0;left: 50%;z-index: 0;}#sk-container-id-20 div.sk-serial {display: flex;flex-direction: column;align-items: center;background-color: white;padding-right: 0.2em;padding-left: 0.2em;position: relative;}#sk-container-id-20 div.sk-item {position: relative;z-index: 1;}#sk-container-id-20 div.sk-parallel {display: flex;align-items: stretch;justify-content: center;background-color: white;position: relative;}#sk-container-id-20 div.sk-item::before, #sk-container-id-20 div.sk-parallel-item::before {content: \"\";position: absolute;border-left: 1px solid gray;box-sizing: border-box;top: 0;bottom: 0;left: 50%;z-index: -1;}#sk-container-id-20 div.sk-parallel-item {display: flex;flex-direction: column;z-index: 1;position: relative;background-color: white;}#sk-container-id-20 div.sk-parallel-item:first-child::after {align-self: flex-end;width: 50%;}#sk-container-id-20 div.sk-parallel-item:last-child::after {align-self: flex-start;width: 50%;}#sk-container-id-20 div.sk-parallel-item:only-child::after {width: 0;}#sk-container-id-20 div.sk-dashed-wrapped {border: 1px dashed gray;margin: 0 0.4em 0.5em 0.4em;box-sizing: border-box;padding-bottom: 0.4em;background-color: white;}#sk-container-id-20 div.sk-label label {font-family: monospace;font-weight: bold;display: inline-block;line-height: 1.2em;}#sk-container-id-20 div.sk-label-container {text-align: center;}#sk-container-id-20 div.sk-container {/* jupyter's `normalize.less` sets `[hidden] { display: none; }` but bootstrap.min.css set `[hidden] { display: none !important; }` so we also need the `!important` here to be able to override the default hidden behavior on the sphinx rendered scikit-learn.org. See: https://github.com/scikit-learn/scikit-learn/issues/21755 */display: inline-block !important;position: relative;}#sk-container-id-20 div.sk-text-repr-fallback {display: none;}</style><div id=\"sk-container-id-20\" class=\"sk-top-container\"><div class=\"sk-text-repr-fallback\"><pre>GridSearchCV(cv=10, estimator=LGBMClassifier(), n_jobs=-1,\n",
       "             param_grid={&#x27;learning_rate&#x27;: [0.1, 0.01, 0.02, 0.05],\n",
       "                         &#x27;max_depth&#x27;: [3, 4, 5, 6],\n",
       "                         &#x27;min_child_samples&#x27;: [5, 10, 20],\n",
       "                         &#x27;n_estimators&#x27;: [100, 500, 1000, 2000],\n",
       "                         &#x27;subsample&#x27;: [0.6, 0.8, 1.0]},\n",
       "             verbose=2)</pre><b>In a Jupyter environment, please rerun this cell to show the HTML representation or trust the notebook. <br />On GitHub, the HTML representation is unable to render, please try loading this page with nbviewer.org.</b></div><div class=\"sk-container\" hidden><div class=\"sk-item sk-dashed-wrapped\"><div class=\"sk-label-container\"><div class=\"sk-label sk-toggleable\"><input class=\"sk-toggleable__control sk-hidden--visually\" id=\"sk-estimator-id-34\" type=\"checkbox\" ><label for=\"sk-estimator-id-34\" class=\"sk-toggleable__label sk-toggleable__label-arrow\">GridSearchCV</label><div class=\"sk-toggleable__content\"><pre>GridSearchCV(cv=10, estimator=LGBMClassifier(), n_jobs=-1,\n",
       "             param_grid={&#x27;learning_rate&#x27;: [0.1, 0.01, 0.02, 0.05],\n",
       "                         &#x27;max_depth&#x27;: [3, 4, 5, 6],\n",
       "                         &#x27;min_child_samples&#x27;: [5, 10, 20],\n",
       "                         &#x27;n_estimators&#x27;: [100, 500, 1000, 2000],\n",
       "                         &#x27;subsample&#x27;: [0.6, 0.8, 1.0]},\n",
       "             verbose=2)</pre></div></div></div><div class=\"sk-parallel\"><div class=\"sk-parallel-item\"><div class=\"sk-item\"><div class=\"sk-label-container\"><div class=\"sk-label sk-toggleable\"><input class=\"sk-toggleable__control sk-hidden--visually\" id=\"sk-estimator-id-35\" type=\"checkbox\" ><label for=\"sk-estimator-id-35\" class=\"sk-toggleable__label sk-toggleable__label-arrow\">estimator: LGBMClassifier</label><div class=\"sk-toggleable__content\"><pre>LGBMClassifier()</pre></div></div></div><div class=\"sk-serial\"><div class=\"sk-item\"><div class=\"sk-estimator sk-toggleable\"><input class=\"sk-toggleable__control sk-hidden--visually\" id=\"sk-estimator-id-36\" type=\"checkbox\" ><label for=\"sk-estimator-id-36\" class=\"sk-toggleable__label sk-toggleable__label-arrow\">LGBMClassifier</label><div class=\"sk-toggleable__content\"><pre>LGBMClassifier()</pre></div></div></div></div></div></div></div></div></div></div>"
      ],
      "text/plain": [
       "GridSearchCV(cv=10, estimator=LGBMClassifier(), n_jobs=-1,\n",
       "             param_grid={'learning_rate': [0.1, 0.01, 0.02, 0.05],\n",
       "                         'max_depth': [3, 4, 5, 6],\n",
       "                         'min_child_samples': [5, 10, 20],\n",
       "                         'n_estimators': [100, 500, 1000, 2000],\n",
       "                         'subsample': [0.6, 0.8, 1.0]},\n",
       "             verbose=2)"
      ]
     },
     "execution_count": 182,
     "metadata": {},
     "output_type": "execute_result"
    }
   ],
   "source": [
    "lgbm_cv_model.fit(X_train, y_train)"
   ]
  },
  {
   "cell_type": "code",
   "execution_count": 183,
   "id": "ddeac463-6121-4578-95e0-4b89b428d7ab",
   "metadata": {},
   "outputs": [
    {
     "data": {
      "text/plain": [
       "{'learning_rate': 0.1,\n",
       " 'max_depth': 3,\n",
       " 'min_child_samples': 10,\n",
       " 'n_estimators': 100,\n",
       " 'subsample': 0.6}"
      ]
     },
     "execution_count": 183,
     "metadata": {},
     "output_type": "execute_result"
    }
   ],
   "source": [
    "lgbm_cv_model.best_params_"
   ]
  },
  {
   "cell_type": "code",
   "execution_count": 184,
   "id": "f96712b5-f794-4781-a6db-39908b056949",
   "metadata": {},
   "outputs": [],
   "source": [
    "lgbm = LGBMClassifier(learning_rate = 0.05, \n",
    "                       max_depth = 3,\n",
    "                       subsample = 0.6,\n",
    "                       n_estimators = 100,\n",
    "                       min_child_samples = 20)"
   ]
  },
  {
   "cell_type": "code",
   "execution_count": 185,
   "id": "9312a98e-141c-407b-b2c7-4af15a6febe0",
   "metadata": {},
   "outputs": [],
   "source": [
    "lgbm_tuned = lgbm.fit(X_train,y_train)"
   ]
  },
  {
   "cell_type": "code",
   "execution_count": 186,
   "id": "8d2f5d79-9b12-4873-9493-48e1a796b959",
   "metadata": {},
   "outputs": [
    {
     "data": {
      "text/plain": [
       "0.4375"
      ]
     },
     "execution_count": 186,
     "metadata": {},
     "output_type": "execute_result"
    }
   ],
   "source": [
    "y_pred = lgbm_tuned.predict(X_test)\n",
    "accuracy_score(y_test, y_pred)"
   ]
  },
  {
   "cell_type": "code",
   "execution_count": null,
   "id": "b4ed5409-bc34-4436-9094-3657725edc0d",
   "metadata": {},
   "outputs": [],
   "source": [
    "                                            3.12 CatBoost\n",
    "\n",
    "#Kategorik değişkenler ile otomatik olarak ücadele edebilen, hızlı, başarılı bir diğer GBM türevidir.\n",
    "#2017 yılında Yandex tarafından geliştirilmiştir.\n",
    "\n",
    " #   Kategorik değişken desteği vardır.\n",
    "  #  Hızlı ve ölçeklenebilir GPU desteği vardır.\n",
    "   # Hızlı train ve hızlı tahmin yapar"
   ]
  },
  {
   "cell_type": "code",
   "execution_count": 187,
   "id": "d7775fb3-b900-43c0-9225-2cebc4dc5470",
   "metadata": {},
   "outputs": [],
   "source": [
    "#  Model"
   ]
  },
  {
   "cell_type": "code",
   "execution_count": 188,
   "id": "ba26823a-3925-46dc-8dbd-3396a8554093",
   "metadata": {},
   "outputs": [],
   "source": [
    "X_train, X_test, y_train, y_test = train_test_split(X, y, \n",
    "                                                    test_size=0.30, \n",
    "                                                    random_state=42)"
   ]
  },
  {
   "cell_type": "code",
   "execution_count": 189,
   "id": "10d2c686-6833-45cf-b74d-92aab1a86dd5",
   "metadata": {},
   "outputs": [
    {
     "name": "stdout",
     "output_type": "stream",
     "text": [
      "Learning rate set to 0.002492\n",
      "0:\tlearn: 0.6911250\ttotal: 182ms\tremaining: 3m 1s\n",
      "1:\tlearn: 0.6894556\ttotal: 182ms\tremaining: 1m 31s\n",
      "2:\tlearn: 0.6872729\ttotal: 183ms\tremaining: 1m\n",
      "3:\tlearn: 0.6853228\ttotal: 184ms\tremaining: 45.7s\n",
      "4:\tlearn: 0.6832609\ttotal: 184ms\tremaining: 36.7s\n",
      "5:\tlearn: 0.6807129\ttotal: 185ms\tremaining: 30.6s\n",
      "6:\tlearn: 0.6789690\ttotal: 185ms\tremaining: 26.3s\n",
      "7:\tlearn: 0.6770722\ttotal: 186ms\tremaining: 23.1s\n",
      "8:\tlearn: 0.6754434\ttotal: 187ms\tremaining: 20.6s\n",
      "9:\tlearn: 0.6740334\ttotal: 187ms\tremaining: 18.5s\n",
      "10:\tlearn: 0.6722611\ttotal: 188ms\tremaining: 16.9s\n",
      "11:\tlearn: 0.6708857\ttotal: 188ms\tremaining: 15.5s\n",
      "12:\tlearn: 0.6686366\ttotal: 189ms\tremaining: 14.4s\n",
      "13:\tlearn: 0.6663447\ttotal: 190ms\tremaining: 13.4s\n",
      "14:\tlearn: 0.6647641\ttotal: 192ms\tremaining: 12.6s\n",
      "15:\tlearn: 0.6624889\ttotal: 192ms\tremaining: 11.8s\n",
      "16:\tlearn: 0.6604083\ttotal: 194ms\tremaining: 11.2s\n",
      "17:\tlearn: 0.6578718\ttotal: 195ms\tremaining: 10.6s\n",
      "18:\tlearn: 0.6551598\ttotal: 196ms\tremaining: 10.1s\n",
      "19:\tlearn: 0.6533440\ttotal: 197ms\tremaining: 9.64s\n",
      "20:\tlearn: 0.6515607\ttotal: 198ms\tremaining: 9.21s\n",
      "21:\tlearn: 0.6499119\ttotal: 198ms\tremaining: 8.82s\n",
      "22:\tlearn: 0.6478905\ttotal: 199ms\tremaining: 8.46s\n",
      "23:\tlearn: 0.6460911\ttotal: 200ms\tremaining: 8.14s\n",
      "24:\tlearn: 0.6443840\ttotal: 201ms\tremaining: 7.84s\n",
      "25:\tlearn: 0.6426824\ttotal: 202ms\tremaining: 7.56s\n",
      "26:\tlearn: 0.6404130\ttotal: 204ms\tremaining: 7.33s\n",
      "27:\tlearn: 0.6386657\ttotal: 204ms\tremaining: 7.09s\n",
      "28:\tlearn: 0.6370034\ttotal: 205ms\tremaining: 6.86s\n",
      "29:\tlearn: 0.6352311\ttotal: 206ms\tremaining: 6.64s\n",
      "30:\tlearn: 0.6333554\ttotal: 206ms\tremaining: 6.45s\n",
      "31:\tlearn: 0.6316149\ttotal: 207ms\tremaining: 6.26s\n",
      "32:\tlearn: 0.6298979\ttotal: 207ms\tremaining: 6.08s\n",
      "33:\tlearn: 0.6289354\ttotal: 208ms\tremaining: 5.91s\n",
      "34:\tlearn: 0.6274871\ttotal: 208ms\tremaining: 5.75s\n",
      "35:\tlearn: 0.6256822\ttotal: 209ms\tremaining: 5.6s\n",
      "36:\tlearn: 0.6234788\ttotal: 210ms\tremaining: 5.46s\n",
      "37:\tlearn: 0.6217524\ttotal: 210ms\tremaining: 5.32s\n",
      "38:\tlearn: 0.6198855\ttotal: 211ms\tremaining: 5.19s\n",
      "39:\tlearn: 0.6182632\ttotal: 211ms\tremaining: 5.06s\n",
      "40:\tlearn: 0.6160841\ttotal: 212ms\tremaining: 4.95s\n",
      "41:\tlearn: 0.6146056\ttotal: 212ms\tremaining: 4.84s\n",
      "42:\tlearn: 0.6131575\ttotal: 213ms\tremaining: 4.73s\n",
      "43:\tlearn: 0.6113345\ttotal: 213ms\tremaining: 4.63s\n",
      "44:\tlearn: 0.6099674\ttotal: 214ms\tremaining: 4.54s\n",
      "45:\tlearn: 0.6078151\ttotal: 214ms\tremaining: 4.44s\n",
      "46:\tlearn: 0.6062369\ttotal: 215ms\tremaining: 4.36s\n",
      "47:\tlearn: 0.6047049\ttotal: 215ms\tremaining: 4.27s\n",
      "48:\tlearn: 0.6026858\ttotal: 216ms\tremaining: 4.19s\n",
      "49:\tlearn: 0.6011726\ttotal: 216ms\tremaining: 4.11s\n",
      "50:\tlearn: 0.5998227\ttotal: 217ms\tremaining: 4.03s\n",
      "51:\tlearn: 0.5982344\ttotal: 217ms\tremaining: 3.96s\n",
      "52:\tlearn: 0.5967636\ttotal: 218ms\tremaining: 3.89s\n",
      "53:\tlearn: 0.5953700\ttotal: 218ms\tremaining: 3.82s\n",
      "54:\tlearn: 0.5933904\ttotal: 219ms\tremaining: 3.76s\n",
      "55:\tlearn: 0.5912630\ttotal: 219ms\tremaining: 3.7s\n",
      "56:\tlearn: 0.5899278\ttotal: 220ms\tremaining: 3.64s\n",
      "57:\tlearn: 0.5882257\ttotal: 220ms\tremaining: 3.58s\n",
      "58:\tlearn: 0.5864650\ttotal: 221ms\tremaining: 3.53s\n",
      "59:\tlearn: 0.5850291\ttotal: 222ms\tremaining: 3.47s\n",
      "60:\tlearn: 0.5835269\ttotal: 222ms\tremaining: 3.42s\n",
      "61:\tlearn: 0.5816584\ttotal: 223ms\tremaining: 3.37s\n",
      "62:\tlearn: 0.5800291\ttotal: 224ms\tremaining: 3.32s\n",
      "63:\tlearn: 0.5785194\ttotal: 224ms\tremaining: 3.28s\n",
      "64:\tlearn: 0.5769576\ttotal: 225ms\tremaining: 3.23s\n",
      "65:\tlearn: 0.5757992\ttotal: 225ms\tremaining: 3.18s\n",
      "66:\tlearn: 0.5743860\ttotal: 225ms\tremaining: 3.14s\n",
      "67:\tlearn: 0.5723603\ttotal: 226ms\tremaining: 3.1s\n",
      "68:\tlearn: 0.5713047\ttotal: 226ms\tremaining: 3.06s\n",
      "69:\tlearn: 0.5698670\ttotal: 227ms\tremaining: 3.02s\n",
      "70:\tlearn: 0.5682098\ttotal: 228ms\tremaining: 2.98s\n",
      "71:\tlearn: 0.5666823\ttotal: 228ms\tremaining: 2.94s\n",
      "72:\tlearn: 0.5653129\ttotal: 229ms\tremaining: 2.9s\n",
      "73:\tlearn: 0.5638931\ttotal: 229ms\tremaining: 2.87s\n",
      "74:\tlearn: 0.5617957\ttotal: 230ms\tremaining: 2.83s\n",
      "75:\tlearn: 0.5603045\ttotal: 230ms\tremaining: 2.8s\n",
      "76:\tlearn: 0.5579677\ttotal: 231ms\tremaining: 2.77s\n",
      "77:\tlearn: 0.5567064\ttotal: 231ms\tremaining: 2.73s\n",
      "78:\tlearn: 0.5547366\ttotal: 232ms\tremaining: 2.7s\n",
      "79:\tlearn: 0.5533569\ttotal: 232ms\tremaining: 2.67s\n",
      "80:\tlearn: 0.5516865\ttotal: 233ms\tremaining: 2.64s\n",
      "81:\tlearn: 0.5502579\ttotal: 233ms\tremaining: 2.61s\n",
      "82:\tlearn: 0.5486679\ttotal: 234ms\tremaining: 2.58s\n",
      "83:\tlearn: 0.5474740\ttotal: 235ms\tremaining: 2.56s\n",
      "84:\tlearn: 0.5460121\ttotal: 235ms\tremaining: 2.53s\n",
      "85:\tlearn: 0.5444170\ttotal: 236ms\tremaining: 2.51s\n",
      "86:\tlearn: 0.5430568\ttotal: 237ms\tremaining: 2.49s\n",
      "87:\tlearn: 0.5416107\ttotal: 238ms\tremaining: 2.46s\n",
      "88:\tlearn: 0.5401363\ttotal: 238ms\tremaining: 2.44s\n",
      "89:\tlearn: 0.5386866\ttotal: 239ms\tremaining: 2.41s\n",
      "90:\tlearn: 0.5376740\ttotal: 239ms\tremaining: 2.39s\n",
      "91:\tlearn: 0.5360753\ttotal: 240ms\tremaining: 2.37s\n",
      "92:\tlearn: 0.5342235\ttotal: 240ms\tremaining: 2.34s\n",
      "93:\tlearn: 0.5330877\ttotal: 241ms\tremaining: 2.32s\n",
      "94:\tlearn: 0.5317410\ttotal: 241ms\tremaining: 2.3s\n",
      "95:\tlearn: 0.5306036\ttotal: 242ms\tremaining: 2.28s\n",
      "96:\tlearn: 0.5292077\ttotal: 242ms\tremaining: 2.26s\n",
      "97:\tlearn: 0.5277923\ttotal: 243ms\tremaining: 2.23s\n",
      "98:\tlearn: 0.5264395\ttotal: 243ms\tremaining: 2.21s\n",
      "99:\tlearn: 0.5250123\ttotal: 244ms\tremaining: 2.2s\n",
      "100:\tlearn: 0.5237968\ttotal: 245ms\tremaining: 2.18s\n",
      "101:\tlearn: 0.5222100\ttotal: 245ms\tremaining: 2.16s\n",
      "102:\tlearn: 0.5207770\ttotal: 246ms\tremaining: 2.14s\n",
      "103:\tlearn: 0.5192430\ttotal: 247ms\tremaining: 2.12s\n",
      "104:\tlearn: 0.5180827\ttotal: 247ms\tremaining: 2.11s\n",
      "105:\tlearn: 0.5167720\ttotal: 248ms\tremaining: 2.09s\n",
      "106:\tlearn: 0.5150790\ttotal: 248ms\tremaining: 2.07s\n",
      "107:\tlearn: 0.5138501\ttotal: 249ms\tremaining: 2.06s\n",
      "108:\tlearn: 0.5126834\ttotal: 249ms\tremaining: 2.04s\n",
      "109:\tlearn: 0.5111010\ttotal: 250ms\tremaining: 2.02s\n",
      "110:\tlearn: 0.5097368\ttotal: 250ms\tremaining: 2.01s\n",
      "111:\tlearn: 0.5085391\ttotal: 251ms\tremaining: 1.99s\n",
      "112:\tlearn: 0.5071367\ttotal: 252ms\tremaining: 1.98s\n",
      "113:\tlearn: 0.5059685\ttotal: 252ms\tremaining: 1.96s\n",
      "114:\tlearn: 0.5046180\ttotal: 253ms\tremaining: 1.94s\n",
      "115:\tlearn: 0.5030744\ttotal: 253ms\tremaining: 1.93s\n",
      "116:\tlearn: 0.5019541\ttotal: 254ms\tremaining: 1.92s\n",
      "117:\tlearn: 0.5010736\ttotal: 254ms\tremaining: 1.9s\n",
      "118:\tlearn: 0.4998502\ttotal: 255ms\tremaining: 1.89s\n",
      "119:\tlearn: 0.4986706\ttotal: 255ms\tremaining: 1.87s\n",
      "120:\tlearn: 0.4974000\ttotal: 256ms\tremaining: 1.86s\n",
      "121:\tlearn: 0.4963892\ttotal: 257ms\tremaining: 1.85s\n",
      "122:\tlearn: 0.4955426\ttotal: 257ms\tremaining: 1.83s\n",
      "123:\tlearn: 0.4943927\ttotal: 258ms\tremaining: 1.82s\n",
      "124:\tlearn: 0.4934109\ttotal: 258ms\tremaining: 1.81s\n",
      "125:\tlearn: 0.4924106\ttotal: 259ms\tremaining: 1.79s\n",
      "126:\tlearn: 0.4905973\ttotal: 259ms\tremaining: 1.78s\n",
      "127:\tlearn: 0.4894790\ttotal: 260ms\tremaining: 1.77s\n",
      "128:\tlearn: 0.4883993\ttotal: 260ms\tremaining: 1.76s\n",
      "129:\tlearn: 0.4872014\ttotal: 261ms\tremaining: 1.75s\n",
      "130:\tlearn: 0.4852509\ttotal: 262ms\tremaining: 1.73s\n",
      "131:\tlearn: 0.4839099\ttotal: 262ms\tremaining: 1.72s\n",
      "132:\tlearn: 0.4828441\ttotal: 263ms\tremaining: 1.71s\n",
      "133:\tlearn: 0.4815874\ttotal: 263ms\tremaining: 1.7s\n",
      "134:\tlearn: 0.4799928\ttotal: 264ms\tremaining: 1.69s\n",
      "135:\tlearn: 0.4789423\ttotal: 264ms\tremaining: 1.68s\n",
      "136:\tlearn: 0.4779893\ttotal: 265ms\tremaining: 1.67s\n",
      "137:\tlearn: 0.4767184\ttotal: 266ms\tremaining: 1.66s\n",
      "138:\tlearn: 0.4754418\ttotal: 266ms\tremaining: 1.65s\n",
      "139:\tlearn: 0.4746731\ttotal: 267ms\tremaining: 1.64s\n",
      "140:\tlearn: 0.4732953\ttotal: 267ms\tremaining: 1.63s\n",
      "141:\tlearn: 0.4721662\ttotal: 268ms\tremaining: 1.62s\n",
      "142:\tlearn: 0.4708824\ttotal: 268ms\tremaining: 1.61s\n",
      "143:\tlearn: 0.4693919\ttotal: 269ms\tremaining: 1.6s\n",
      "144:\tlearn: 0.4681680\ttotal: 269ms\tremaining: 1.59s\n",
      "145:\tlearn: 0.4669703\ttotal: 270ms\tremaining: 1.58s\n",
      "146:\tlearn: 0.4658766\ttotal: 270ms\tremaining: 1.57s\n",
      "147:\tlearn: 0.4648915\ttotal: 271ms\tremaining: 1.56s\n",
      "148:\tlearn: 0.4638032\ttotal: 271ms\tremaining: 1.55s\n",
      "149:\tlearn: 0.4627012\ttotal: 272ms\tremaining: 1.54s\n",
      "150:\tlearn: 0.4613985\ttotal: 272ms\tremaining: 1.53s\n",
      "151:\tlearn: 0.4604878\ttotal: 273ms\tremaining: 1.52s\n",
      "152:\tlearn: 0.4596285\ttotal: 273ms\tremaining: 1.51s\n",
      "153:\tlearn: 0.4585963\ttotal: 274ms\tremaining: 1.5s\n",
      "154:\tlearn: 0.4574973\ttotal: 274ms\tremaining: 1.5s\n",
      "155:\tlearn: 0.4557959\ttotal: 275ms\tremaining: 1.49s\n",
      "156:\tlearn: 0.4547487\ttotal: 275ms\tremaining: 1.48s\n",
      "157:\tlearn: 0.4534524\ttotal: 276ms\tremaining: 1.47s\n",
      "158:\tlearn: 0.4523700\ttotal: 276ms\tremaining: 1.46s\n",
      "159:\tlearn: 0.4508746\ttotal: 277ms\tremaining: 1.45s\n",
      "160:\tlearn: 0.4500246\ttotal: 278ms\tremaining: 1.45s\n",
      "161:\tlearn: 0.4488949\ttotal: 278ms\tremaining: 1.44s\n",
      "162:\tlearn: 0.4480819\ttotal: 279ms\tremaining: 1.43s\n",
      "163:\tlearn: 0.4471117\ttotal: 280ms\tremaining: 1.43s\n",
      "164:\tlearn: 0.4461197\ttotal: 281ms\tremaining: 1.42s\n",
      "165:\tlearn: 0.4448752\ttotal: 281ms\tremaining: 1.41s\n",
      "166:\tlearn: 0.4440644\ttotal: 282ms\tremaining: 1.41s\n",
      "167:\tlearn: 0.4431555\ttotal: 282ms\tremaining: 1.4s\n",
      "168:\tlearn: 0.4420326\ttotal: 283ms\tremaining: 1.39s\n",
      "169:\tlearn: 0.4410823\ttotal: 283ms\tremaining: 1.38s\n",
      "170:\tlearn: 0.4400873\ttotal: 284ms\tremaining: 1.38s\n",
      "171:\tlearn: 0.4390511\ttotal: 285ms\tremaining: 1.37s\n",
      "172:\tlearn: 0.4374303\ttotal: 285ms\tremaining: 1.36s\n",
      "173:\tlearn: 0.4365204\ttotal: 286ms\tremaining: 1.36s\n",
      "174:\tlearn: 0.4351574\ttotal: 286ms\tremaining: 1.35s\n",
      "175:\tlearn: 0.4343618\ttotal: 287ms\tremaining: 1.34s\n",
      "176:\tlearn: 0.4332541\ttotal: 287ms\tremaining: 1.33s\n",
      "177:\tlearn: 0.4321278\ttotal: 288ms\tremaining: 1.33s\n",
      "178:\tlearn: 0.4313714\ttotal: 288ms\tremaining: 1.32s\n",
      "179:\tlearn: 0.4304545\ttotal: 289ms\tremaining: 1.31s\n",
      "180:\tlearn: 0.4294794\ttotal: 289ms\tremaining: 1.31s\n",
      "181:\tlearn: 0.4287672\ttotal: 290ms\tremaining: 1.3s\n",
      "182:\tlearn: 0.4279282\ttotal: 290ms\tremaining: 1.29s\n",
      "183:\tlearn: 0.4269341\ttotal: 291ms\tremaining: 1.29s\n",
      "184:\tlearn: 0.4258544\ttotal: 291ms\tremaining: 1.28s\n",
      "185:\tlearn: 0.4251934\ttotal: 292ms\tremaining: 1.28s\n",
      "186:\tlearn: 0.4242270\ttotal: 292ms\tremaining: 1.27s\n",
      "187:\tlearn: 0.4234016\ttotal: 293ms\tremaining: 1.27s\n",
      "188:\tlearn: 0.4223960\ttotal: 294ms\tremaining: 1.26s\n",
      "189:\tlearn: 0.4213303\ttotal: 295ms\tremaining: 1.25s\n",
      "190:\tlearn: 0.4203783\ttotal: 295ms\tremaining: 1.25s\n",
      "191:\tlearn: 0.4194802\ttotal: 296ms\tremaining: 1.25s\n",
      "192:\tlearn: 0.4183638\ttotal: 297ms\tremaining: 1.24s\n",
      "193:\tlearn: 0.4172908\ttotal: 297ms\tremaining: 1.23s\n",
      "194:\tlearn: 0.4164207\ttotal: 298ms\tremaining: 1.23s\n",
      "195:\tlearn: 0.4152756\ttotal: 298ms\tremaining: 1.22s\n",
      "196:\tlearn: 0.4143953\ttotal: 299ms\tremaining: 1.22s\n",
      "197:\tlearn: 0.4133236\ttotal: 299ms\tremaining: 1.21s\n",
      "198:\tlearn: 0.4119538\ttotal: 300ms\tremaining: 1.21s\n",
      "199:\tlearn: 0.4111473\ttotal: 300ms\tremaining: 1.2s\n",
      "200:\tlearn: 0.4101618\ttotal: 301ms\tremaining: 1.2s\n",
      "201:\tlearn: 0.4090776\ttotal: 301ms\tremaining: 1.19s\n",
      "202:\tlearn: 0.4080627\ttotal: 302ms\tremaining: 1.18s\n",
      "203:\tlearn: 0.4072618\ttotal: 302ms\tremaining: 1.18s\n",
      "204:\tlearn: 0.4066597\ttotal: 303ms\tremaining: 1.17s\n",
      "205:\tlearn: 0.4056680\ttotal: 303ms\tremaining: 1.17s\n",
      "206:\tlearn: 0.4045670\ttotal: 304ms\tremaining: 1.16s\n",
      "207:\tlearn: 0.4037071\ttotal: 304ms\tremaining: 1.16s\n",
      "208:\tlearn: 0.4026696\ttotal: 305ms\tremaining: 1.15s\n",
      "209:\tlearn: 0.4019233\ttotal: 305ms\tremaining: 1.15s\n",
      "210:\tlearn: 0.4006728\ttotal: 306ms\tremaining: 1.14s\n",
      "211:\tlearn: 0.3998211\ttotal: 306ms\tremaining: 1.14s\n",
      "212:\tlearn: 0.3991207\ttotal: 307ms\tremaining: 1.13s\n",
      "213:\tlearn: 0.3983084\ttotal: 307ms\tremaining: 1.13s\n",
      "214:\tlearn: 0.3976375\ttotal: 308ms\tremaining: 1.12s\n",
      "215:\tlearn: 0.3967570\ttotal: 308ms\tremaining: 1.12s\n",
      "216:\tlearn: 0.3961657\ttotal: 309ms\tremaining: 1.11s\n",
      "217:\tlearn: 0.3954606\ttotal: 309ms\tremaining: 1.11s\n",
      "218:\tlearn: 0.3946966\ttotal: 310ms\tremaining: 1.11s\n",
      "219:\tlearn: 0.3939318\ttotal: 311ms\tremaining: 1.1s\n",
      "220:\tlearn: 0.3930991\ttotal: 312ms\tremaining: 1.1s\n",
      "221:\tlearn: 0.3919248\ttotal: 313ms\tremaining: 1.1s\n",
      "222:\tlearn: 0.3912874\ttotal: 314ms\tremaining: 1.09s\n",
      "223:\tlearn: 0.3904207\ttotal: 314ms\tremaining: 1.09s\n",
      "224:\tlearn: 0.3891939\ttotal: 315ms\tremaining: 1.08s\n",
      "225:\tlearn: 0.3880990\ttotal: 315ms\tremaining: 1.08s\n",
      "226:\tlearn: 0.3872997\ttotal: 316ms\tremaining: 1.07s\n",
      "227:\tlearn: 0.3865136\ttotal: 316ms\tremaining: 1.07s\n",
      "228:\tlearn: 0.3858024\ttotal: 317ms\tremaining: 1.07s\n",
      "229:\tlearn: 0.3850212\ttotal: 318ms\tremaining: 1.06s\n",
      "230:\tlearn: 0.3838602\ttotal: 318ms\tremaining: 1.06s\n",
      "231:\tlearn: 0.3831032\ttotal: 319ms\tremaining: 1.06s\n",
      "232:\tlearn: 0.3822655\ttotal: 320ms\tremaining: 1.05s\n",
      "233:\tlearn: 0.3814240\ttotal: 320ms\tremaining: 1.05s\n",
      "234:\tlearn: 0.3806411\ttotal: 321ms\tremaining: 1.04s\n",
      "235:\tlearn: 0.3800116\ttotal: 321ms\tremaining: 1.04s\n",
      "236:\tlearn: 0.3790714\ttotal: 322ms\tremaining: 1.04s\n",
      "237:\tlearn: 0.3780166\ttotal: 323ms\tremaining: 1.03s\n",
      "238:\tlearn: 0.3774549\ttotal: 323ms\tremaining: 1.03s\n",
      "239:\tlearn: 0.3768264\ttotal: 324ms\tremaining: 1.02s\n",
      "240:\tlearn: 0.3762875\ttotal: 324ms\tremaining: 1.02s\n",
      "241:\tlearn: 0.3751276\ttotal: 325ms\tremaining: 1.02s\n",
      "242:\tlearn: 0.3742414\ttotal: 325ms\tremaining: 1.01s\n",
      "243:\tlearn: 0.3738628\ttotal: 326ms\tremaining: 1.01s\n",
      "244:\tlearn: 0.3729790\ttotal: 327ms\tremaining: 1.01s\n",
      "245:\tlearn: 0.3721971\ttotal: 327ms\tremaining: 1s\n",
      "246:\tlearn: 0.3713251\ttotal: 328ms\tremaining: 1s\n",
      "247:\tlearn: 0.3707674\ttotal: 329ms\tremaining: 997ms\n",
      "248:\tlearn: 0.3698872\ttotal: 329ms\tremaining: 993ms\n",
      "249:\tlearn: 0.3693333\ttotal: 330ms\tremaining: 989ms\n",
      "250:\tlearn: 0.3686746\ttotal: 330ms\tremaining: 986ms\n",
      "251:\tlearn: 0.3676313\ttotal: 331ms\tremaining: 983ms\n",
      "252:\tlearn: 0.3667505\ttotal: 332ms\tremaining: 979ms\n",
      "253:\tlearn: 0.3654557\ttotal: 332ms\tremaining: 975ms\n",
      "254:\tlearn: 0.3645460\ttotal: 333ms\tremaining: 972ms\n",
      "255:\tlearn: 0.3638010\ttotal: 333ms\tremaining: 968ms\n",
      "256:\tlearn: 0.3629665\ttotal: 334ms\tremaining: 965ms\n",
      "257:\tlearn: 0.3623645\ttotal: 334ms\tremaining: 961ms\n",
      "258:\tlearn: 0.3616753\ttotal: 335ms\tremaining: 958ms\n",
      "259:\tlearn: 0.3606889\ttotal: 336ms\tremaining: 955ms\n",
      "260:\tlearn: 0.3595684\ttotal: 336ms\tremaining: 951ms\n",
      "261:\tlearn: 0.3589860\ttotal: 337ms\tremaining: 948ms\n",
      "262:\tlearn: 0.3580791\ttotal: 337ms\tremaining: 945ms\n",
      "263:\tlearn: 0.3573818\ttotal: 338ms\tremaining: 941ms\n",
      "264:\tlearn: 0.3565423\ttotal: 338ms\tremaining: 938ms\n",
      "265:\tlearn: 0.3557597\ttotal: 339ms\tremaining: 934ms\n",
      "266:\tlearn: 0.3548744\ttotal: 339ms\tremaining: 931ms\n",
      "267:\tlearn: 0.3540899\ttotal: 340ms\tremaining: 928ms\n",
      "268:\tlearn: 0.3531957\ttotal: 340ms\tremaining: 925ms\n",
      "269:\tlearn: 0.3524945\ttotal: 341ms\tremaining: 922ms\n",
      "270:\tlearn: 0.3516085\ttotal: 341ms\tremaining: 918ms\n",
      "271:\tlearn: 0.3509414\ttotal: 342ms\tremaining: 915ms\n",
      "272:\tlearn: 0.3501333\ttotal: 343ms\tremaining: 913ms\n",
      "273:\tlearn: 0.3494942\ttotal: 343ms\tremaining: 909ms\n",
      "274:\tlearn: 0.3486012\ttotal: 344ms\tremaining: 907ms\n",
      "275:\tlearn: 0.3478736\ttotal: 345ms\tremaining: 904ms\n",
      "276:\tlearn: 0.3472046\ttotal: 345ms\tremaining: 901ms\n",
      "277:\tlearn: 0.3466380\ttotal: 346ms\tremaining: 898ms\n",
      "278:\tlearn: 0.3459444\ttotal: 346ms\tremaining: 894ms\n",
      "279:\tlearn: 0.3449186\ttotal: 347ms\tremaining: 891ms\n",
      "280:\tlearn: 0.3444790\ttotal: 347ms\tremaining: 887ms\n",
      "281:\tlearn: 0.3440119\ttotal: 347ms\tremaining: 884ms\n",
      "282:\tlearn: 0.3431107\ttotal: 348ms\tremaining: 882ms\n",
      "283:\tlearn: 0.3423939\ttotal: 348ms\tremaining: 878ms\n",
      "284:\tlearn: 0.3417223\ttotal: 349ms\tremaining: 876ms\n",
      "285:\tlearn: 0.3409414\ttotal: 349ms\tremaining: 872ms\n",
      "286:\tlearn: 0.3403641\ttotal: 350ms\tremaining: 869ms\n",
      "287:\tlearn: 0.3398507\ttotal: 350ms\tremaining: 866ms\n",
      "288:\tlearn: 0.3387815\ttotal: 351ms\tremaining: 863ms\n",
      "289:\tlearn: 0.3378997\ttotal: 351ms\tremaining: 860ms\n",
      "290:\tlearn: 0.3370358\ttotal: 352ms\tremaining: 858ms\n",
      "291:\tlearn: 0.3364590\ttotal: 353ms\tremaining: 855ms\n",
      "292:\tlearn: 0.3354432\ttotal: 353ms\tremaining: 852ms\n",
      "293:\tlearn: 0.3349544\ttotal: 354ms\tremaining: 849ms\n",
      "294:\tlearn: 0.3344892\ttotal: 354ms\tremaining: 846ms\n",
      "295:\tlearn: 0.3340156\ttotal: 355ms\tremaining: 843ms\n",
      "296:\tlearn: 0.3333841\ttotal: 355ms\tremaining: 841ms\n",
      "297:\tlearn: 0.3325206\ttotal: 356ms\tremaining: 838ms\n",
      "298:\tlearn: 0.3317828\ttotal: 356ms\tremaining: 835ms\n",
      "299:\tlearn: 0.3311210\ttotal: 357ms\tremaining: 833ms\n",
      "300:\tlearn: 0.3304904\ttotal: 358ms\tremaining: 831ms\n",
      "301:\tlearn: 0.3298471\ttotal: 358ms\tremaining: 828ms\n",
      "302:\tlearn: 0.3288928\ttotal: 359ms\tremaining: 825ms\n",
      "303:\tlearn: 0.3280851\ttotal: 359ms\tremaining: 823ms\n",
      "304:\tlearn: 0.3274633\ttotal: 360ms\tremaining: 820ms\n",
      "305:\tlearn: 0.3266282\ttotal: 361ms\tremaining: 818ms\n",
      "306:\tlearn: 0.3259057\ttotal: 361ms\tremaining: 815ms\n",
      "307:\tlearn: 0.3253531\ttotal: 362ms\tremaining: 812ms\n",
      "308:\tlearn: 0.3246331\ttotal: 362ms\tremaining: 810ms\n",
      "309:\tlearn: 0.3239295\ttotal: 363ms\tremaining: 807ms\n",
      "310:\tlearn: 0.3232042\ttotal: 363ms\tremaining: 805ms\n",
      "311:\tlearn: 0.3224006\ttotal: 364ms\tremaining: 802ms\n",
      "312:\tlearn: 0.3219297\ttotal: 364ms\tremaining: 800ms\n",
      "313:\tlearn: 0.3211678\ttotal: 365ms\tremaining: 797ms\n",
      "314:\tlearn: 0.3204192\ttotal: 366ms\tremaining: 795ms\n",
      "315:\tlearn: 0.3198074\ttotal: 366ms\tremaining: 792ms\n",
      "316:\tlearn: 0.3191285\ttotal: 367ms\tremaining: 790ms\n",
      "317:\tlearn: 0.3184641\ttotal: 367ms\tremaining: 787ms\n",
      "318:\tlearn: 0.3178079\ttotal: 368ms\tremaining: 785ms\n",
      "319:\tlearn: 0.3171804\ttotal: 369ms\tremaining: 783ms\n",
      "320:\tlearn: 0.3164993\ttotal: 369ms\tremaining: 781ms\n",
      "321:\tlearn: 0.3159055\ttotal: 370ms\tremaining: 779ms\n",
      "322:\tlearn: 0.3152545\ttotal: 370ms\tremaining: 776ms\n",
      "323:\tlearn: 0.3143496\ttotal: 371ms\tremaining: 774ms\n",
      "324:\tlearn: 0.3138162\ttotal: 371ms\tremaining: 771ms\n",
      "325:\tlearn: 0.3133649\ttotal: 372ms\tremaining: 769ms\n",
      "326:\tlearn: 0.3129526\ttotal: 373ms\tremaining: 767ms\n",
      "327:\tlearn: 0.3125045\ttotal: 373ms\tremaining: 765ms\n",
      "328:\tlearn: 0.3115796\ttotal: 374ms\tremaining: 763ms\n",
      "329:\tlearn: 0.3110902\ttotal: 374ms\tremaining: 760ms\n",
      "330:\tlearn: 0.3105649\ttotal: 375ms\tremaining: 758ms\n",
      "331:\tlearn: 0.3096189\ttotal: 375ms\tremaining: 755ms\n",
      "332:\tlearn: 0.3091971\ttotal: 376ms\tremaining: 753ms\n",
      "333:\tlearn: 0.3084989\ttotal: 377ms\tremaining: 751ms\n",
      "334:\tlearn: 0.3079623\ttotal: 377ms\tremaining: 748ms\n",
      "335:\tlearn: 0.3075337\ttotal: 377ms\tremaining: 746ms\n",
      "336:\tlearn: 0.3069305\ttotal: 378ms\tremaining: 744ms\n",
      "337:\tlearn: 0.3062424\ttotal: 379ms\tremaining: 742ms\n",
      "338:\tlearn: 0.3057336\ttotal: 379ms\tremaining: 739ms\n",
      "339:\tlearn: 0.3051190\ttotal: 380ms\tremaining: 737ms\n",
      "340:\tlearn: 0.3044563\ttotal: 380ms\tremaining: 735ms\n",
      "341:\tlearn: 0.3039280\ttotal: 381ms\tremaining: 733ms\n",
      "342:\tlearn: 0.3033910\ttotal: 381ms\tremaining: 731ms\n",
      "343:\tlearn: 0.3027718\ttotal: 382ms\tremaining: 728ms\n",
      "344:\tlearn: 0.3019837\ttotal: 383ms\tremaining: 726ms\n",
      "345:\tlearn: 0.3012091\ttotal: 383ms\tremaining: 724ms\n",
      "346:\tlearn: 0.3004330\ttotal: 384ms\tremaining: 722ms\n",
      "347:\tlearn: 0.2998943\ttotal: 384ms\tremaining: 720ms\n",
      "348:\tlearn: 0.2990751\ttotal: 385ms\tremaining: 718ms\n",
      "349:\tlearn: 0.2983828\ttotal: 385ms\tremaining: 715ms\n",
      "350:\tlearn: 0.2979019\ttotal: 387ms\tremaining: 715ms\n",
      "351:\tlearn: 0.2973097\ttotal: 388ms\tremaining: 714ms\n",
      "352:\tlearn: 0.2966262\ttotal: 389ms\tremaining: 712ms\n",
      "353:\tlearn: 0.2961833\ttotal: 389ms\tremaining: 710ms\n",
      "354:\tlearn: 0.2953887\ttotal: 390ms\tremaining: 708ms\n",
      "355:\tlearn: 0.2948971\ttotal: 390ms\tremaining: 706ms\n",
      "356:\tlearn: 0.2941021\ttotal: 391ms\tremaining: 704ms\n",
      "357:\tlearn: 0.2934973\ttotal: 391ms\tremaining: 702ms\n",
      "358:\tlearn: 0.2928472\ttotal: 392ms\tremaining: 700ms\n",
      "359:\tlearn: 0.2923259\ttotal: 392ms\tremaining: 697ms\n",
      "360:\tlearn: 0.2916517\ttotal: 393ms\tremaining: 695ms\n",
      "361:\tlearn: 0.2913589\ttotal: 393ms\tremaining: 693ms\n",
      "362:\tlearn: 0.2906602\ttotal: 394ms\tremaining: 691ms\n",
      "363:\tlearn: 0.2898954\ttotal: 394ms\tremaining: 689ms\n",
      "364:\tlearn: 0.2894003\ttotal: 395ms\tremaining: 687ms\n",
      "365:\tlearn: 0.2888527\ttotal: 396ms\tremaining: 685ms\n",
      "366:\tlearn: 0.2883811\ttotal: 396ms\tremaining: 683ms\n",
      "367:\tlearn: 0.2877311\ttotal: 397ms\tremaining: 681ms\n",
      "368:\tlearn: 0.2873461\ttotal: 397ms\tremaining: 679ms\n",
      "369:\tlearn: 0.2866496\ttotal: 398ms\tremaining: 677ms\n",
      "370:\tlearn: 0.2860676\ttotal: 398ms\tremaining: 675ms\n",
      "371:\tlearn: 0.2853219\ttotal: 399ms\tremaining: 673ms\n",
      "372:\tlearn: 0.2848692\ttotal: 399ms\tremaining: 671ms\n",
      "373:\tlearn: 0.2843962\ttotal: 400ms\tremaining: 669ms\n",
      "374:\tlearn: 0.2839352\ttotal: 400ms\tremaining: 667ms\n",
      "375:\tlearn: 0.2835769\ttotal: 401ms\tremaining: 665ms\n",
      "376:\tlearn: 0.2831562\ttotal: 401ms\tremaining: 663ms\n",
      "377:\tlearn: 0.2825740\ttotal: 402ms\tremaining: 662ms\n",
      "378:\tlearn: 0.2817118\ttotal: 403ms\tremaining: 660ms\n",
      "379:\tlearn: 0.2812254\ttotal: 403ms\tremaining: 658ms\n",
      "380:\tlearn: 0.2807378\ttotal: 404ms\tremaining: 656ms\n",
      "381:\tlearn: 0.2802389\ttotal: 405ms\tremaining: 654ms\n",
      "382:\tlearn: 0.2794111\ttotal: 405ms\tremaining: 653ms\n",
      "383:\tlearn: 0.2789347\ttotal: 406ms\tremaining: 651ms\n",
      "384:\tlearn: 0.2785383\ttotal: 406ms\tremaining: 649ms\n",
      "385:\tlearn: 0.2780502\ttotal: 407ms\tremaining: 647ms\n",
      "386:\tlearn: 0.2775695\ttotal: 407ms\tremaining: 645ms\n",
      "387:\tlearn: 0.2770371\ttotal: 408ms\tremaining: 643ms\n",
      "388:\tlearn: 0.2764159\ttotal: 408ms\tremaining: 641ms\n",
      "389:\tlearn: 0.2756700\ttotal: 409ms\tremaining: 640ms\n",
      "390:\tlearn: 0.2752127\ttotal: 410ms\tremaining: 638ms\n",
      "391:\tlearn: 0.2745861\ttotal: 410ms\tremaining: 636ms\n",
      "392:\tlearn: 0.2739728\ttotal: 411ms\tremaining: 635ms\n",
      "393:\tlearn: 0.2736271\ttotal: 412ms\tremaining: 633ms\n",
      "394:\tlearn: 0.2732827\ttotal: 412ms\tremaining: 631ms\n",
      "395:\tlearn: 0.2726774\ttotal: 413ms\tremaining: 630ms\n",
      "396:\tlearn: 0.2720643\ttotal: 413ms\tremaining: 628ms\n",
      "397:\tlearn: 0.2715840\ttotal: 414ms\tremaining: 626ms\n",
      "398:\tlearn: 0.2712610\ttotal: 414ms\tremaining: 624ms\n",
      "399:\tlearn: 0.2707054\ttotal: 415ms\tremaining: 622ms\n",
      "400:\tlearn: 0.2698939\ttotal: 415ms\tremaining: 620ms\n",
      "401:\tlearn: 0.2694684\ttotal: 416ms\tremaining: 619ms\n",
      "402:\tlearn: 0.2690968\ttotal: 416ms\tremaining: 617ms\n",
      "403:\tlearn: 0.2687328\ttotal: 417ms\tremaining: 615ms\n",
      "404:\tlearn: 0.2683104\ttotal: 417ms\tremaining: 613ms\n",
      "405:\tlearn: 0.2678795\ttotal: 418ms\tremaining: 612ms\n",
      "406:\tlearn: 0.2674127\ttotal: 419ms\tremaining: 610ms\n",
      "407:\tlearn: 0.2668459\ttotal: 419ms\tremaining: 609ms\n",
      "408:\tlearn: 0.2664327\ttotal: 420ms\tremaining: 607ms\n",
      "409:\tlearn: 0.2657074\ttotal: 421ms\tremaining: 605ms\n",
      "410:\tlearn: 0.2652370\ttotal: 421ms\tremaining: 604ms\n",
      "411:\tlearn: 0.2649742\ttotal: 422ms\tremaining: 602ms\n",
      "412:\tlearn: 0.2642609\ttotal: 423ms\tremaining: 601ms\n",
      "413:\tlearn: 0.2637968\ttotal: 423ms\tremaining: 599ms\n",
      "414:\tlearn: 0.2633183\ttotal: 424ms\tremaining: 597ms\n",
      "415:\tlearn: 0.2626692\ttotal: 424ms\tremaining: 596ms\n",
      "416:\tlearn: 0.2620754\ttotal: 425ms\tremaining: 594ms\n",
      "417:\tlearn: 0.2616907\ttotal: 426ms\tremaining: 593ms\n",
      "418:\tlearn: 0.2611087\ttotal: 426ms\tremaining: 591ms\n",
      "419:\tlearn: 0.2607025\ttotal: 427ms\tremaining: 589ms\n",
      "420:\tlearn: 0.2602041\ttotal: 427ms\tremaining: 588ms\n",
      "421:\tlearn: 0.2596228\ttotal: 429ms\tremaining: 588ms\n",
      "422:\tlearn: 0.2591758\ttotal: 430ms\tremaining: 586ms\n",
      "423:\tlearn: 0.2589091\ttotal: 430ms\tremaining: 584ms\n",
      "424:\tlearn: 0.2584390\ttotal: 431ms\tremaining: 583ms\n",
      "425:\tlearn: 0.2578461\ttotal: 432ms\tremaining: 581ms\n",
      "426:\tlearn: 0.2574305\ttotal: 432ms\tremaining: 580ms\n",
      "427:\tlearn: 0.2568940\ttotal: 433ms\tremaining: 578ms\n",
      "428:\tlearn: 0.2565429\ttotal: 433ms\tremaining: 577ms\n",
      "429:\tlearn: 0.2559373\ttotal: 434ms\tremaining: 575ms\n",
      "430:\tlearn: 0.2556109\ttotal: 435ms\tremaining: 574ms\n",
      "431:\tlearn: 0.2550853\ttotal: 435ms\tremaining: 572ms\n",
      "432:\tlearn: 0.2544478\ttotal: 436ms\tremaining: 571ms\n",
      "433:\tlearn: 0.2538399\ttotal: 436ms\tremaining: 569ms\n",
      "434:\tlearn: 0.2531341\ttotal: 437ms\tremaining: 567ms\n",
      "435:\tlearn: 0.2526512\ttotal: 438ms\tremaining: 566ms\n",
      "436:\tlearn: 0.2521937\ttotal: 438ms\tremaining: 564ms\n",
      "437:\tlearn: 0.2517683\ttotal: 439ms\tremaining: 563ms\n",
      "438:\tlearn: 0.2513011\ttotal: 439ms\tremaining: 561ms\n",
      "439:\tlearn: 0.2509972\ttotal: 440ms\tremaining: 560ms\n",
      "440:\tlearn: 0.2505760\ttotal: 440ms\tremaining: 558ms\n",
      "441:\tlearn: 0.2502353\ttotal: 441ms\tremaining: 557ms\n",
      "442:\tlearn: 0.2496978\ttotal: 441ms\tremaining: 555ms\n",
      "443:\tlearn: 0.2491460\ttotal: 442ms\tremaining: 554ms\n",
      "444:\tlearn: 0.2487541\ttotal: 443ms\tremaining: 552ms\n",
      "445:\tlearn: 0.2481589\ttotal: 443ms\tremaining: 551ms\n",
      "446:\tlearn: 0.2478464\ttotal: 444ms\tremaining: 549ms\n",
      "447:\tlearn: 0.2472356\ttotal: 445ms\tremaining: 548ms\n",
      "448:\tlearn: 0.2464759\ttotal: 445ms\tremaining: 547ms\n",
      "449:\tlearn: 0.2460014\ttotal: 446ms\tremaining: 545ms\n",
      "450:\tlearn: 0.2455815\ttotal: 447ms\tremaining: 544ms\n",
      "451:\tlearn: 0.2450811\ttotal: 448ms\tremaining: 543ms\n",
      "452:\tlearn: 0.2446294\ttotal: 449ms\tremaining: 542ms\n",
      "453:\tlearn: 0.2443251\ttotal: 450ms\tremaining: 541ms\n",
      "454:\tlearn: 0.2438993\ttotal: 450ms\tremaining: 539ms\n",
      "455:\tlearn: 0.2433627\ttotal: 451ms\tremaining: 538ms\n",
      "456:\tlearn: 0.2428151\ttotal: 451ms\tremaining: 536ms\n",
      "457:\tlearn: 0.2424073\ttotal: 452ms\tremaining: 535ms\n",
      "458:\tlearn: 0.2419977\ttotal: 453ms\tremaining: 533ms\n",
      "459:\tlearn: 0.2416720\ttotal: 453ms\tremaining: 532ms\n",
      "460:\tlearn: 0.2412664\ttotal: 454ms\tremaining: 530ms\n",
      "461:\tlearn: 0.2406205\ttotal: 454ms\tremaining: 529ms\n",
      "462:\tlearn: 0.2400663\ttotal: 455ms\tremaining: 527ms\n",
      "463:\tlearn: 0.2396968\ttotal: 455ms\tremaining: 526ms\n",
      "464:\tlearn: 0.2394930\ttotal: 456ms\tremaining: 525ms\n",
      "465:\tlearn: 0.2391651\ttotal: 457ms\tremaining: 523ms\n",
      "466:\tlearn: 0.2388589\ttotal: 457ms\tremaining: 522ms\n",
      "467:\tlearn: 0.2384852\ttotal: 458ms\tremaining: 521ms\n",
      "468:\tlearn: 0.2380975\ttotal: 459ms\tremaining: 520ms\n",
      "469:\tlearn: 0.2377227\ttotal: 460ms\tremaining: 519ms\n",
      "470:\tlearn: 0.2372391\ttotal: 461ms\tremaining: 517ms\n",
      "471:\tlearn: 0.2366612\ttotal: 461ms\tremaining: 516ms\n",
      "472:\tlearn: 0.2362252\ttotal: 462ms\tremaining: 515ms\n",
      "473:\tlearn: 0.2357454\ttotal: 462ms\tremaining: 513ms\n",
      "474:\tlearn: 0.2351213\ttotal: 463ms\tremaining: 512ms\n",
      "475:\tlearn: 0.2347210\ttotal: 464ms\tremaining: 510ms\n",
      "476:\tlearn: 0.2342460\ttotal: 464ms\tremaining: 509ms\n",
      "477:\tlearn: 0.2337526\ttotal: 465ms\tremaining: 507ms\n",
      "478:\tlearn: 0.2333819\ttotal: 465ms\tremaining: 506ms\n",
      "479:\tlearn: 0.2330156\ttotal: 466ms\tremaining: 504ms\n",
      "480:\tlearn: 0.2326745\ttotal: 466ms\tremaining: 503ms\n",
      "481:\tlearn: 0.2322634\ttotal: 467ms\tremaining: 502ms\n",
      "482:\tlearn: 0.2316539\ttotal: 467ms\tremaining: 500ms\n",
      "483:\tlearn: 0.2312155\ttotal: 468ms\tremaining: 499ms\n",
      "484:\tlearn: 0.2308079\ttotal: 468ms\tremaining: 497ms\n",
      "485:\tlearn: 0.2304176\ttotal: 469ms\tremaining: 496ms\n",
      "486:\tlearn: 0.2301079\ttotal: 469ms\tremaining: 494ms\n",
      "487:\tlearn: 0.2298183\ttotal: 470ms\tremaining: 493ms\n",
      "488:\tlearn: 0.2294300\ttotal: 470ms\tremaining: 492ms\n",
      "489:\tlearn: 0.2289628\ttotal: 471ms\tremaining: 490ms\n",
      "490:\tlearn: 0.2286393\ttotal: 471ms\tremaining: 489ms\n",
      "491:\tlearn: 0.2282887\ttotal: 472ms\tremaining: 487ms\n",
      "492:\tlearn: 0.2280286\ttotal: 472ms\tremaining: 486ms\n",
      "493:\tlearn: 0.2276988\ttotal: 473ms\tremaining: 484ms\n",
      "494:\tlearn: 0.2272829\ttotal: 473ms\tremaining: 483ms\n",
      "495:\tlearn: 0.2270233\ttotal: 474ms\tremaining: 482ms\n",
      "496:\tlearn: 0.2266250\ttotal: 475ms\tremaining: 480ms\n",
      "497:\tlearn: 0.2262729\ttotal: 475ms\tremaining: 479ms\n",
      "498:\tlearn: 0.2258521\ttotal: 476ms\tremaining: 478ms\n",
      "499:\tlearn: 0.2254431\ttotal: 476ms\tremaining: 476ms\n",
      "500:\tlearn: 0.2249123\ttotal: 477ms\tremaining: 475ms\n",
      "501:\tlearn: 0.2243030\ttotal: 478ms\tremaining: 474ms\n",
      "502:\tlearn: 0.2239987\ttotal: 478ms\tremaining: 473ms\n",
      "503:\tlearn: 0.2236937\ttotal: 479ms\tremaining: 471ms\n",
      "504:\tlearn: 0.2232909\ttotal: 479ms\tremaining: 470ms\n",
      "505:\tlearn: 0.2229977\ttotal: 480ms\tremaining: 469ms\n",
      "506:\tlearn: 0.2228234\ttotal: 480ms\tremaining: 467ms\n",
      "507:\tlearn: 0.2223971\ttotal: 481ms\tremaining: 466ms\n",
      "508:\tlearn: 0.2220100\ttotal: 481ms\tremaining: 464ms\n",
      "509:\tlearn: 0.2216421\ttotal: 482ms\tremaining: 463ms\n",
      "510:\tlearn: 0.2213822\ttotal: 483ms\tremaining: 462ms\n",
      "511:\tlearn: 0.2210560\ttotal: 483ms\tremaining: 460ms\n",
      "512:\tlearn: 0.2207890\ttotal: 484ms\tremaining: 459ms\n",
      "513:\tlearn: 0.2204585\ttotal: 484ms\tremaining: 458ms\n",
      "514:\tlearn: 0.2200893\ttotal: 485ms\tremaining: 457ms\n",
      "515:\tlearn: 0.2196512\ttotal: 486ms\tremaining: 455ms\n",
      "516:\tlearn: 0.2192359\ttotal: 486ms\tremaining: 454ms\n",
      "517:\tlearn: 0.2189637\ttotal: 488ms\tremaining: 454ms\n",
      "518:\tlearn: 0.2186302\ttotal: 488ms\tremaining: 452ms\n",
      "519:\tlearn: 0.2183733\ttotal: 489ms\tremaining: 451ms\n",
      "520:\tlearn: 0.2178744\ttotal: 489ms\tremaining: 450ms\n",
      "521:\tlearn: 0.2174075\ttotal: 490ms\tremaining: 448ms\n",
      "522:\tlearn: 0.2169712\ttotal: 490ms\tremaining: 447ms\n",
      "523:\tlearn: 0.2165761\ttotal: 491ms\tremaining: 446ms\n",
      "524:\tlearn: 0.2162717\ttotal: 491ms\tremaining: 445ms\n",
      "525:\tlearn: 0.2159607\ttotal: 492ms\tremaining: 443ms\n",
      "526:\tlearn: 0.2156070\ttotal: 493ms\tremaining: 442ms\n",
      "527:\tlearn: 0.2151986\ttotal: 494ms\tremaining: 441ms\n",
      "528:\tlearn: 0.2148756\ttotal: 494ms\tremaining: 440ms\n",
      "529:\tlearn: 0.2146266\ttotal: 495ms\tremaining: 439ms\n",
      "530:\tlearn: 0.2143913\ttotal: 495ms\tremaining: 437ms\n",
      "531:\tlearn: 0.2139864\ttotal: 496ms\tremaining: 436ms\n",
      "532:\tlearn: 0.2136069\ttotal: 496ms\tremaining: 435ms\n",
      "533:\tlearn: 0.2133902\ttotal: 497ms\tremaining: 433ms\n",
      "534:\tlearn: 0.2129260\ttotal: 497ms\tremaining: 432ms\n",
      "535:\tlearn: 0.2125066\ttotal: 498ms\tremaining: 431ms\n",
      "536:\tlearn: 0.2122591\ttotal: 498ms\tremaining: 430ms\n",
      "537:\tlearn: 0.2116466\ttotal: 499ms\tremaining: 428ms\n",
      "538:\tlearn: 0.2112818\ttotal: 499ms\tremaining: 427ms\n",
      "539:\tlearn: 0.2109310\ttotal: 500ms\tremaining: 426ms\n",
      "540:\tlearn: 0.2106498\ttotal: 501ms\tremaining: 425ms\n",
      "541:\tlearn: 0.2102951\ttotal: 501ms\tremaining: 423ms\n",
      "542:\tlearn: 0.2097012\ttotal: 502ms\tremaining: 422ms\n",
      "543:\tlearn: 0.2092557\ttotal: 502ms\tremaining: 421ms\n",
      "544:\tlearn: 0.2089711\ttotal: 503ms\tremaining: 420ms\n",
      "545:\tlearn: 0.2085028\ttotal: 503ms\tremaining: 419ms\n",
      "546:\tlearn: 0.2081173\ttotal: 504ms\tremaining: 417ms\n",
      "547:\tlearn: 0.2078398\ttotal: 504ms\tremaining: 416ms\n",
      "548:\tlearn: 0.2075113\ttotal: 505ms\tremaining: 415ms\n",
      "549:\tlearn: 0.2071176\ttotal: 506ms\tremaining: 414ms\n",
      "550:\tlearn: 0.2067512\ttotal: 506ms\tremaining: 413ms\n",
      "551:\tlearn: 0.2065366\ttotal: 507ms\tremaining: 411ms\n",
      "552:\tlearn: 0.2062338\ttotal: 507ms\tremaining: 410ms\n",
      "553:\tlearn: 0.2060034\ttotal: 508ms\tremaining: 409ms\n",
      "554:\tlearn: 0.2055640\ttotal: 509ms\tremaining: 408ms\n",
      "555:\tlearn: 0.2052240\ttotal: 509ms\tremaining: 407ms\n",
      "556:\tlearn: 0.2048856\ttotal: 510ms\tremaining: 405ms\n",
      "557:\tlearn: 0.2047072\ttotal: 510ms\tremaining: 404ms\n",
      "558:\tlearn: 0.2042388\ttotal: 511ms\tremaining: 403ms\n",
      "559:\tlearn: 0.2039687\ttotal: 512ms\tremaining: 402ms\n",
      "560:\tlearn: 0.2036564\ttotal: 512ms\tremaining: 401ms\n",
      "561:\tlearn: 0.2033673\ttotal: 513ms\tremaining: 400ms\n",
      "562:\tlearn: 0.2029692\ttotal: 513ms\tremaining: 399ms\n",
      "563:\tlearn: 0.2026209\ttotal: 514ms\tremaining: 397ms\n",
      "564:\tlearn: 0.2022373\ttotal: 515ms\tremaining: 396ms\n",
      "565:\tlearn: 0.2020264\ttotal: 515ms\tremaining: 395ms\n",
      "566:\tlearn: 0.2016104\ttotal: 516ms\tremaining: 394ms\n",
      "567:\tlearn: 0.2011517\ttotal: 516ms\tremaining: 393ms\n",
      "568:\tlearn: 0.2008719\ttotal: 517ms\tremaining: 392ms\n",
      "569:\tlearn: 0.2003899\ttotal: 517ms\tremaining: 390ms\n",
      "570:\tlearn: 0.2001805\ttotal: 518ms\tremaining: 389ms\n",
      "571:\tlearn: 0.1998544\ttotal: 519ms\tremaining: 388ms\n",
      "572:\tlearn: 0.1995860\ttotal: 519ms\tremaining: 387ms\n",
      "573:\tlearn: 0.1993172\ttotal: 520ms\tremaining: 386ms\n",
      "574:\tlearn: 0.1990030\ttotal: 520ms\tremaining: 385ms\n",
      "575:\tlearn: 0.1985659\ttotal: 521ms\tremaining: 383ms\n",
      "576:\tlearn: 0.1984032\ttotal: 521ms\tremaining: 382ms\n",
      "577:\tlearn: 0.1980727\ttotal: 522ms\tremaining: 381ms\n",
      "578:\tlearn: 0.1977345\ttotal: 522ms\tremaining: 380ms\n",
      "579:\tlearn: 0.1973417\ttotal: 523ms\tremaining: 379ms\n",
      "580:\tlearn: 0.1970811\ttotal: 524ms\tremaining: 378ms\n",
      "581:\tlearn: 0.1967732\ttotal: 524ms\tremaining: 376ms\n",
      "582:\tlearn: 0.1964937\ttotal: 525ms\tremaining: 375ms\n",
      "583:\tlearn: 0.1961112\ttotal: 525ms\tremaining: 374ms\n",
      "584:\tlearn: 0.1957859\ttotal: 526ms\tremaining: 373ms\n",
      "585:\tlearn: 0.1953067\ttotal: 526ms\tremaining: 372ms\n",
      "586:\tlearn: 0.1949695\ttotal: 527ms\tremaining: 371ms\n",
      "587:\tlearn: 0.1946008\ttotal: 527ms\tremaining: 370ms\n",
      "588:\tlearn: 0.1942346\ttotal: 528ms\tremaining: 368ms\n",
      "589:\tlearn: 0.1939559\ttotal: 529ms\tremaining: 367ms\n",
      "590:\tlearn: 0.1937736\ttotal: 529ms\tremaining: 366ms\n",
      "591:\tlearn: 0.1935199\ttotal: 530ms\tremaining: 365ms\n",
      "592:\tlearn: 0.1932461\ttotal: 530ms\tremaining: 364ms\n",
      "593:\tlearn: 0.1930351\ttotal: 531ms\tremaining: 363ms\n",
      "594:\tlearn: 0.1926792\ttotal: 531ms\tremaining: 362ms\n",
      "595:\tlearn: 0.1924741\ttotal: 532ms\tremaining: 361ms\n",
      "596:\tlearn: 0.1921906\ttotal: 533ms\tremaining: 359ms\n",
      "597:\tlearn: 0.1919296\ttotal: 533ms\tremaining: 358ms\n",
      "598:\tlearn: 0.1915131\ttotal: 534ms\tremaining: 357ms\n",
      "599:\tlearn: 0.1911504\ttotal: 534ms\tremaining: 356ms\n",
      "600:\tlearn: 0.1908725\ttotal: 535ms\tremaining: 355ms\n",
      "601:\tlearn: 0.1905569\ttotal: 536ms\tremaining: 354ms\n",
      "602:\tlearn: 0.1902839\ttotal: 536ms\tremaining: 353ms\n",
      "603:\tlearn: 0.1900032\ttotal: 537ms\tremaining: 352ms\n",
      "604:\tlearn: 0.1897697\ttotal: 537ms\tremaining: 351ms\n",
      "605:\tlearn: 0.1895758\ttotal: 538ms\tremaining: 350ms\n",
      "606:\tlearn: 0.1892533\ttotal: 538ms\tremaining: 349ms\n",
      "607:\tlearn: 0.1889156\ttotal: 539ms\tremaining: 347ms\n",
      "608:\tlearn: 0.1884751\ttotal: 539ms\tremaining: 346ms\n",
      "609:\tlearn: 0.1881299\ttotal: 540ms\tremaining: 345ms\n",
      "610:\tlearn: 0.1878010\ttotal: 541ms\tremaining: 344ms\n",
      "611:\tlearn: 0.1874350\ttotal: 541ms\tremaining: 343ms\n",
      "612:\tlearn: 0.1872204\ttotal: 542ms\tremaining: 342ms\n",
      "613:\tlearn: 0.1869589\ttotal: 542ms\tremaining: 341ms\n",
      "614:\tlearn: 0.1867503\ttotal: 543ms\tremaining: 340ms\n",
      "615:\tlearn: 0.1864212\ttotal: 543ms\tremaining: 339ms\n",
      "616:\tlearn: 0.1862620\ttotal: 544ms\tremaining: 337ms\n",
      "617:\tlearn: 0.1860685\ttotal: 544ms\tremaining: 337ms\n",
      "618:\tlearn: 0.1858655\ttotal: 545ms\tremaining: 335ms\n",
      "619:\tlearn: 0.1856425\ttotal: 546ms\tremaining: 334ms\n",
      "620:\tlearn: 0.1853353\ttotal: 546ms\tremaining: 333ms\n",
      "621:\tlearn: 0.1850603\ttotal: 547ms\tremaining: 332ms\n",
      "622:\tlearn: 0.1848399\ttotal: 548ms\tremaining: 331ms\n",
      "623:\tlearn: 0.1843158\ttotal: 548ms\tremaining: 330ms\n",
      "624:\tlearn: 0.1839957\ttotal: 549ms\tremaining: 329ms\n",
      "625:\tlearn: 0.1837551\ttotal: 550ms\tremaining: 328ms\n",
      "626:\tlearn: 0.1836533\ttotal: 550ms\tremaining: 327ms\n",
      "627:\tlearn: 0.1833040\ttotal: 551ms\tremaining: 327ms\n",
      "628:\tlearn: 0.1829499\ttotal: 552ms\tremaining: 326ms\n",
      "629:\tlearn: 0.1827128\ttotal: 553ms\tremaining: 325ms\n",
      "630:\tlearn: 0.1823602\ttotal: 553ms\tremaining: 324ms\n",
      "631:\tlearn: 0.1822094\ttotal: 554ms\tremaining: 323ms\n",
      "632:\tlearn: 0.1817469\ttotal: 555ms\tremaining: 322ms\n",
      "633:\tlearn: 0.1814770\ttotal: 555ms\tremaining: 321ms\n",
      "634:\tlearn: 0.1812222\ttotal: 556ms\tremaining: 320ms\n",
      "635:\tlearn: 0.1809888\ttotal: 557ms\tremaining: 319ms\n",
      "636:\tlearn: 0.1807809\ttotal: 557ms\tremaining: 318ms\n",
      "637:\tlearn: 0.1804378\ttotal: 558ms\tremaining: 317ms\n",
      "638:\tlearn: 0.1799940\ttotal: 559ms\tremaining: 316ms\n",
      "639:\tlearn: 0.1796695\ttotal: 559ms\tremaining: 315ms\n",
      "640:\tlearn: 0.1794778\ttotal: 560ms\tremaining: 314ms\n",
      "641:\tlearn: 0.1790344\ttotal: 560ms\tremaining: 312ms\n",
      "642:\tlearn: 0.1788588\ttotal: 561ms\tremaining: 311ms\n",
      "643:\tlearn: 0.1784714\ttotal: 561ms\tremaining: 310ms\n",
      "644:\tlearn: 0.1782667\ttotal: 562ms\tremaining: 309ms\n",
      "645:\tlearn: 0.1778803\ttotal: 563ms\tremaining: 308ms\n",
      "646:\tlearn: 0.1775936\ttotal: 563ms\tremaining: 307ms\n",
      "647:\tlearn: 0.1774159\ttotal: 564ms\tremaining: 306ms\n",
      "648:\tlearn: 0.1772764\ttotal: 564ms\tremaining: 305ms\n",
      "649:\tlearn: 0.1769634\ttotal: 565ms\tremaining: 304ms\n",
      "650:\tlearn: 0.1765909\ttotal: 566ms\tremaining: 303ms\n",
      "651:\tlearn: 0.1764204\ttotal: 567ms\tremaining: 302ms\n",
      "652:\tlearn: 0.1760892\ttotal: 567ms\tremaining: 301ms\n",
      "653:\tlearn: 0.1758521\ttotal: 568ms\tremaining: 300ms\n",
      "654:\tlearn: 0.1756626\ttotal: 569ms\tremaining: 299ms\n",
      "655:\tlearn: 0.1753625\ttotal: 569ms\tremaining: 299ms\n",
      "656:\tlearn: 0.1751524\ttotal: 570ms\tremaining: 298ms\n",
      "657:\tlearn: 0.1748422\ttotal: 571ms\tremaining: 297ms\n",
      "658:\tlearn: 0.1744941\ttotal: 572ms\tremaining: 296ms\n",
      "659:\tlearn: 0.1741333\ttotal: 573ms\tremaining: 295ms\n",
      "660:\tlearn: 0.1738388\ttotal: 573ms\tremaining: 294ms\n",
      "661:\tlearn: 0.1735946\ttotal: 574ms\tremaining: 293ms\n",
      "662:\tlearn: 0.1732279\ttotal: 574ms\tremaining: 292ms\n",
      "663:\tlearn: 0.1730079\ttotal: 575ms\tremaining: 291ms\n",
      "664:\tlearn: 0.1727298\ttotal: 576ms\tremaining: 290ms\n",
      "665:\tlearn: 0.1723544\ttotal: 576ms\tremaining: 289ms\n",
      "666:\tlearn: 0.1720383\ttotal: 577ms\tremaining: 288ms\n",
      "667:\tlearn: 0.1719206\ttotal: 577ms\tremaining: 287ms\n",
      "668:\tlearn: 0.1716586\ttotal: 578ms\tremaining: 286ms\n",
      "669:\tlearn: 0.1715080\ttotal: 578ms\tremaining: 285ms\n",
      "670:\tlearn: 0.1712741\ttotal: 579ms\tremaining: 284ms\n",
      "671:\tlearn: 0.1710212\ttotal: 579ms\tremaining: 283ms\n",
      "672:\tlearn: 0.1707349\ttotal: 581ms\tremaining: 282ms\n",
      "673:\tlearn: 0.1704174\ttotal: 582ms\tremaining: 281ms\n",
      "674:\tlearn: 0.1700968\ttotal: 582ms\tremaining: 280ms\n",
      "675:\tlearn: 0.1698456\ttotal: 583ms\tremaining: 279ms\n",
      "676:\tlearn: 0.1695771\ttotal: 583ms\tremaining: 278ms\n",
      "677:\tlearn: 0.1692891\ttotal: 584ms\tremaining: 277ms\n",
      "678:\tlearn: 0.1690423\ttotal: 584ms\tremaining: 276ms\n",
      "679:\tlearn: 0.1686963\ttotal: 585ms\tremaining: 275ms\n",
      "680:\tlearn: 0.1684813\ttotal: 585ms\tremaining: 274ms\n",
      "681:\tlearn: 0.1684175\ttotal: 586ms\tremaining: 273ms\n",
      "682:\tlearn: 0.1682670\ttotal: 586ms\tremaining: 272ms\n",
      "683:\tlearn: 0.1680009\ttotal: 587ms\tremaining: 271ms\n",
      "684:\tlearn: 0.1677780\ttotal: 588ms\tremaining: 270ms\n",
      "685:\tlearn: 0.1675284\ttotal: 588ms\tremaining: 269ms\n",
      "686:\tlearn: 0.1672881\ttotal: 589ms\tremaining: 268ms\n",
      "687:\tlearn: 0.1671390\ttotal: 589ms\tremaining: 267ms\n",
      "688:\tlearn: 0.1669377\ttotal: 590ms\tremaining: 266ms\n",
      "689:\tlearn: 0.1665553\ttotal: 591ms\tremaining: 265ms\n",
      "690:\tlearn: 0.1662661\ttotal: 591ms\tremaining: 264ms\n",
      "691:\tlearn: 0.1659262\ttotal: 592ms\tremaining: 263ms\n",
      "692:\tlearn: 0.1656270\ttotal: 592ms\tremaining: 262ms\n",
      "693:\tlearn: 0.1655740\ttotal: 593ms\tremaining: 261ms\n",
      "694:\tlearn: 0.1654509\ttotal: 593ms\tremaining: 260ms\n",
      "695:\tlearn: 0.1652411\ttotal: 593ms\tremaining: 259ms\n",
      "696:\tlearn: 0.1649921\ttotal: 594ms\tremaining: 258ms\n",
      "697:\tlearn: 0.1647857\ttotal: 595ms\tremaining: 257ms\n",
      "698:\tlearn: 0.1645756\ttotal: 595ms\tremaining: 256ms\n",
      "699:\tlearn: 0.1644218\ttotal: 596ms\tremaining: 255ms\n",
      "700:\tlearn: 0.1640818\ttotal: 597ms\tremaining: 254ms\n",
      "701:\tlearn: 0.1636993\ttotal: 597ms\tremaining: 254ms\n",
      "702:\tlearn: 0.1634622\ttotal: 598ms\tremaining: 253ms\n",
      "703:\tlearn: 0.1632538\ttotal: 599ms\tremaining: 252ms\n",
      "704:\tlearn: 0.1630204\ttotal: 600ms\tremaining: 251ms\n",
      "705:\tlearn: 0.1628466\ttotal: 600ms\tremaining: 250ms\n",
      "706:\tlearn: 0.1624975\ttotal: 601ms\tremaining: 249ms\n",
      "707:\tlearn: 0.1623200\ttotal: 602ms\tremaining: 248ms\n",
      "708:\tlearn: 0.1619442\ttotal: 602ms\tremaining: 247ms\n",
      "709:\tlearn: 0.1616844\ttotal: 603ms\tremaining: 246ms\n",
      "710:\tlearn: 0.1615184\ttotal: 603ms\tremaining: 245ms\n",
      "711:\tlearn: 0.1613635\ttotal: 604ms\tremaining: 244ms\n",
      "712:\tlearn: 0.1611593\ttotal: 605ms\tremaining: 243ms\n",
      "713:\tlearn: 0.1609220\ttotal: 605ms\tremaining: 243ms\n",
      "714:\tlearn: 0.1607205\ttotal: 606ms\tremaining: 242ms\n",
      "715:\tlearn: 0.1605003\ttotal: 607ms\tremaining: 241ms\n",
      "716:\tlearn: 0.1602061\ttotal: 608ms\tremaining: 240ms\n",
      "717:\tlearn: 0.1598966\ttotal: 609ms\tremaining: 239ms\n",
      "718:\tlearn: 0.1596672\ttotal: 610ms\tremaining: 238ms\n",
      "719:\tlearn: 0.1593707\ttotal: 611ms\tremaining: 237ms\n",
      "720:\tlearn: 0.1591301\ttotal: 611ms\tremaining: 237ms\n",
      "721:\tlearn: 0.1588494\ttotal: 612ms\tremaining: 236ms\n",
      "722:\tlearn: 0.1586289\ttotal: 612ms\tremaining: 235ms\n",
      "723:\tlearn: 0.1584168\ttotal: 613ms\tremaining: 234ms\n",
      "724:\tlearn: 0.1581543\ttotal: 613ms\tremaining: 233ms\n",
      "725:\tlearn: 0.1579906\ttotal: 614ms\tremaining: 232ms\n",
      "726:\tlearn: 0.1577832\ttotal: 614ms\tremaining: 231ms\n",
      "727:\tlearn: 0.1575839\ttotal: 615ms\tremaining: 230ms\n",
      "728:\tlearn: 0.1573675\ttotal: 616ms\tremaining: 229ms\n",
      "729:\tlearn: 0.1570581\ttotal: 616ms\tremaining: 228ms\n",
      "730:\tlearn: 0.1567635\ttotal: 617ms\tremaining: 227ms\n",
      "731:\tlearn: 0.1564522\ttotal: 617ms\tremaining: 226ms\n",
      "732:\tlearn: 0.1562143\ttotal: 618ms\tremaining: 225ms\n",
      "733:\tlearn: 0.1560213\ttotal: 619ms\tremaining: 224ms\n",
      "734:\tlearn: 0.1557273\ttotal: 619ms\tremaining: 223ms\n",
      "735:\tlearn: 0.1555720\ttotal: 620ms\tremaining: 222ms\n",
      "736:\tlearn: 0.1553892\ttotal: 620ms\tremaining: 221ms\n",
      "737:\tlearn: 0.1552512\ttotal: 621ms\tremaining: 220ms\n",
      "738:\tlearn: 0.1551149\ttotal: 622ms\tremaining: 220ms\n",
      "739:\tlearn: 0.1549218\ttotal: 622ms\tremaining: 219ms\n",
      "740:\tlearn: 0.1547333\ttotal: 623ms\tremaining: 218ms\n",
      "741:\tlearn: 0.1545605\ttotal: 623ms\tremaining: 217ms\n",
      "742:\tlearn: 0.1543399\ttotal: 624ms\tremaining: 216ms\n",
      "743:\tlearn: 0.1541386\ttotal: 625ms\tremaining: 215ms\n",
      "744:\tlearn: 0.1539440\ttotal: 625ms\tremaining: 214ms\n",
      "745:\tlearn: 0.1537488\ttotal: 626ms\tremaining: 213ms\n",
      "746:\tlearn: 0.1535833\ttotal: 626ms\tremaining: 212ms\n",
      "747:\tlearn: 0.1533087\ttotal: 627ms\tremaining: 211ms\n",
      "748:\tlearn: 0.1531635\ttotal: 628ms\tremaining: 210ms\n",
      "749:\tlearn: 0.1529227\ttotal: 628ms\tremaining: 209ms\n",
      "750:\tlearn: 0.1526884\ttotal: 629ms\tremaining: 208ms\n",
      "751:\tlearn: 0.1524234\ttotal: 629ms\tremaining: 207ms\n",
      "752:\tlearn: 0.1521790\ttotal: 630ms\tremaining: 207ms\n",
      "753:\tlearn: 0.1519828\ttotal: 630ms\tremaining: 206ms\n",
      "754:\tlearn: 0.1516721\ttotal: 631ms\tremaining: 205ms\n",
      "755:\tlearn: 0.1513208\ttotal: 631ms\tremaining: 204ms\n",
      "756:\tlearn: 0.1510798\ttotal: 632ms\tremaining: 203ms\n",
      "757:\tlearn: 0.1508684\ttotal: 632ms\tremaining: 202ms\n",
      "758:\tlearn: 0.1506964\ttotal: 632ms\tremaining: 201ms\n",
      "759:\tlearn: 0.1505227\ttotal: 633ms\tremaining: 200ms\n",
      "760:\tlearn: 0.1502940\ttotal: 633ms\tremaining: 199ms\n",
      "761:\tlearn: 0.1500870\ttotal: 634ms\tremaining: 198ms\n",
      "762:\tlearn: 0.1498818\ttotal: 635ms\tremaining: 197ms\n",
      "763:\tlearn: 0.1496196\ttotal: 635ms\tremaining: 196ms\n",
      "764:\tlearn: 0.1494233\ttotal: 636ms\tremaining: 195ms\n",
      "765:\tlearn: 0.1492339\ttotal: 636ms\tremaining: 194ms\n",
      "766:\tlearn: 0.1490260\ttotal: 637ms\tremaining: 193ms\n",
      "767:\tlearn: 0.1488299\ttotal: 637ms\tremaining: 193ms\n",
      "768:\tlearn: 0.1486670\ttotal: 638ms\tremaining: 192ms\n",
      "769:\tlearn: 0.1484782\ttotal: 639ms\tremaining: 191ms\n",
      "770:\tlearn: 0.1481753\ttotal: 639ms\tremaining: 190ms\n",
      "771:\tlearn: 0.1480158\ttotal: 640ms\tremaining: 189ms\n",
      "772:\tlearn: 0.1478552\ttotal: 640ms\tremaining: 188ms\n",
      "773:\tlearn: 0.1476312\ttotal: 641ms\tremaining: 187ms\n",
      "774:\tlearn: 0.1474621\ttotal: 641ms\tremaining: 186ms\n",
      "775:\tlearn: 0.1472698\ttotal: 642ms\tremaining: 185ms\n",
      "776:\tlearn: 0.1470844\ttotal: 642ms\tremaining: 184ms\n",
      "777:\tlearn: 0.1469060\ttotal: 643ms\tremaining: 183ms\n",
      "778:\tlearn: 0.1467745\ttotal: 644ms\tremaining: 183ms\n",
      "779:\tlearn: 0.1465287\ttotal: 644ms\tremaining: 182ms\n",
      "780:\tlearn: 0.1463127\ttotal: 645ms\tremaining: 181ms\n",
      "781:\tlearn: 0.1461037\ttotal: 645ms\tremaining: 180ms\n",
      "782:\tlearn: 0.1459720\ttotal: 646ms\tremaining: 179ms\n",
      "783:\tlearn: 0.1457580\ttotal: 646ms\tremaining: 178ms\n",
      "784:\tlearn: 0.1456845\ttotal: 647ms\tremaining: 177ms\n",
      "785:\tlearn: 0.1454969\ttotal: 647ms\tremaining: 176ms\n",
      "786:\tlearn: 0.1453199\ttotal: 648ms\tremaining: 175ms\n",
      "787:\tlearn: 0.1450997\ttotal: 648ms\tremaining: 174ms\n",
      "788:\tlearn: 0.1449327\ttotal: 649ms\tremaining: 174ms\n",
      "789:\tlearn: 0.1447624\ttotal: 649ms\tremaining: 173ms\n",
      "790:\tlearn: 0.1445220\ttotal: 650ms\tremaining: 172ms\n",
      "791:\tlearn: 0.1443801\ttotal: 650ms\tremaining: 171ms\n",
      "792:\tlearn: 0.1440681\ttotal: 651ms\tremaining: 170ms\n",
      "793:\tlearn: 0.1438278\ttotal: 651ms\tremaining: 169ms\n",
      "794:\tlearn: 0.1436217\ttotal: 652ms\tremaining: 168ms\n",
      "795:\tlearn: 0.1433615\ttotal: 652ms\tremaining: 167ms\n",
      "796:\tlearn: 0.1431920\ttotal: 653ms\tremaining: 166ms\n",
      "797:\tlearn: 0.1430239\ttotal: 653ms\tremaining: 165ms\n",
      "798:\tlearn: 0.1427951\ttotal: 654ms\tremaining: 164ms\n",
      "799:\tlearn: 0.1425922\ttotal: 654ms\tremaining: 164ms\n",
      "800:\tlearn: 0.1423189\ttotal: 655ms\tremaining: 163ms\n",
      "801:\tlearn: 0.1420818\ttotal: 655ms\tremaining: 162ms\n",
      "802:\tlearn: 0.1417689\ttotal: 656ms\tremaining: 161ms\n",
      "803:\tlearn: 0.1416185\ttotal: 657ms\tremaining: 160ms\n",
      "804:\tlearn: 0.1413865\ttotal: 657ms\tremaining: 159ms\n",
      "805:\tlearn: 0.1412334\ttotal: 658ms\tremaining: 158ms\n",
      "806:\tlearn: 0.1410471\ttotal: 659ms\tremaining: 157ms\n",
      "807:\tlearn: 0.1408683\ttotal: 659ms\tremaining: 157ms\n",
      "808:\tlearn: 0.1405952\ttotal: 660ms\tremaining: 156ms\n",
      "809:\tlearn: 0.1403517\ttotal: 660ms\tremaining: 155ms\n",
      "810:\tlearn: 0.1402126\ttotal: 661ms\tremaining: 154ms\n",
      "811:\tlearn: 0.1400574\ttotal: 661ms\tremaining: 153ms\n",
      "812:\tlearn: 0.1398980\ttotal: 662ms\tremaining: 152ms\n",
      "813:\tlearn: 0.1397374\ttotal: 662ms\tremaining: 151ms\n",
      "814:\tlearn: 0.1395944\ttotal: 663ms\tremaining: 150ms\n",
      "815:\tlearn: 0.1394163\ttotal: 663ms\tremaining: 150ms\n",
      "816:\tlearn: 0.1392259\ttotal: 664ms\tremaining: 149ms\n",
      "817:\tlearn: 0.1391338\ttotal: 664ms\tremaining: 148ms\n",
      "818:\tlearn: 0.1390380\ttotal: 664ms\tremaining: 147ms\n",
      "819:\tlearn: 0.1389153\ttotal: 665ms\tremaining: 146ms\n",
      "820:\tlearn: 0.1387701\ttotal: 665ms\tremaining: 145ms\n",
      "821:\tlearn: 0.1385835\ttotal: 666ms\tremaining: 144ms\n",
      "822:\tlearn: 0.1382630\ttotal: 667ms\tremaining: 143ms\n",
      "823:\tlearn: 0.1381166\ttotal: 667ms\tremaining: 143ms\n",
      "824:\tlearn: 0.1379505\ttotal: 668ms\tremaining: 142ms\n",
      "825:\tlearn: 0.1377394\ttotal: 670ms\tremaining: 141ms\n",
      "826:\tlearn: 0.1374625\ttotal: 670ms\tremaining: 140ms\n",
      "827:\tlearn: 0.1371851\ttotal: 671ms\tremaining: 139ms\n",
      "828:\tlearn: 0.1370655\ttotal: 671ms\tremaining: 138ms\n",
      "829:\tlearn: 0.1369247\ttotal: 672ms\tremaining: 138ms\n",
      "830:\tlearn: 0.1367595\ttotal: 672ms\tremaining: 137ms\n",
      "831:\tlearn: 0.1366190\ttotal: 673ms\tremaining: 136ms\n",
      "832:\tlearn: 0.1363891\ttotal: 674ms\tremaining: 135ms\n",
      "833:\tlearn: 0.1361852\ttotal: 674ms\tremaining: 134ms\n",
      "834:\tlearn: 0.1359471\ttotal: 675ms\tremaining: 133ms\n",
      "835:\tlearn: 0.1358143\ttotal: 675ms\tremaining: 132ms\n",
      "836:\tlearn: 0.1355173\ttotal: 676ms\tremaining: 132ms\n",
      "837:\tlearn: 0.1353156\ttotal: 676ms\tremaining: 131ms\n",
      "838:\tlearn: 0.1350869\ttotal: 677ms\tremaining: 130ms\n",
      "839:\tlearn: 0.1349277\ttotal: 677ms\tremaining: 129ms\n",
      "840:\tlearn: 0.1346809\ttotal: 678ms\tremaining: 128ms\n",
      "841:\tlearn: 0.1345604\ttotal: 679ms\tremaining: 127ms\n",
      "842:\tlearn: 0.1343955\ttotal: 679ms\tremaining: 127ms\n",
      "843:\tlearn: 0.1342796\ttotal: 680ms\tremaining: 126ms\n",
      "844:\tlearn: 0.1341595\ttotal: 681ms\tremaining: 125ms\n",
      "845:\tlearn: 0.1340135\ttotal: 681ms\tremaining: 124ms\n",
      "846:\tlearn: 0.1338254\ttotal: 682ms\tremaining: 123ms\n",
      "847:\tlearn: 0.1336699\ttotal: 683ms\tremaining: 122ms\n",
      "848:\tlearn: 0.1334930\ttotal: 684ms\tremaining: 122ms\n",
      "849:\tlearn: 0.1333745\ttotal: 685ms\tremaining: 121ms\n",
      "850:\tlearn: 0.1332076\ttotal: 685ms\tremaining: 120ms\n",
      "851:\tlearn: 0.1329359\ttotal: 686ms\tremaining: 119ms\n",
      "852:\tlearn: 0.1327639\ttotal: 687ms\tremaining: 118ms\n",
      "853:\tlearn: 0.1326596\ttotal: 687ms\tremaining: 117ms\n",
      "854:\tlearn: 0.1324897\ttotal: 688ms\tremaining: 117ms\n",
      "855:\tlearn: 0.1323625\ttotal: 688ms\tremaining: 116ms\n",
      "856:\tlearn: 0.1321829\ttotal: 689ms\tremaining: 115ms\n",
      "857:\tlearn: 0.1320451\ttotal: 689ms\tremaining: 114ms\n",
      "858:\tlearn: 0.1318994\ttotal: 690ms\tremaining: 113ms\n",
      "859:\tlearn: 0.1317666\ttotal: 691ms\tremaining: 112ms\n",
      "860:\tlearn: 0.1316328\ttotal: 691ms\tremaining: 112ms\n",
      "861:\tlearn: 0.1314376\ttotal: 692ms\tremaining: 111ms\n",
      "862:\tlearn: 0.1312937\ttotal: 692ms\tremaining: 110ms\n",
      "863:\tlearn: 0.1310713\ttotal: 693ms\tremaining: 109ms\n",
      "864:\tlearn: 0.1309101\ttotal: 694ms\tremaining: 108ms\n",
      "865:\tlearn: 0.1305706\ttotal: 694ms\tremaining: 107ms\n",
      "866:\tlearn: 0.1303763\ttotal: 695ms\tremaining: 107ms\n",
      "867:\tlearn: 0.1301969\ttotal: 696ms\tremaining: 106ms\n",
      "868:\tlearn: 0.1300042\ttotal: 696ms\tremaining: 105ms\n",
      "869:\tlearn: 0.1297872\ttotal: 697ms\tremaining: 104ms\n",
      "870:\tlearn: 0.1295700\ttotal: 698ms\tremaining: 103ms\n",
      "871:\tlearn: 0.1294324\ttotal: 699ms\tremaining: 103ms\n",
      "872:\tlearn: 0.1292316\ttotal: 699ms\tremaining: 102ms\n",
      "873:\tlearn: 0.1290733\ttotal: 700ms\tremaining: 101ms\n",
      "874:\tlearn: 0.1287749\ttotal: 701ms\tremaining: 100ms\n",
      "875:\tlearn: 0.1285336\ttotal: 702ms\tremaining: 99.3ms\n",
      "876:\tlearn: 0.1283249\ttotal: 702ms\tremaining: 98.5ms\n",
      "877:\tlearn: 0.1282161\ttotal: 703ms\tremaining: 97.6ms\n",
      "878:\tlearn: 0.1280276\ttotal: 703ms\tremaining: 96.8ms\n",
      "879:\tlearn: 0.1277318\ttotal: 704ms\tremaining: 96ms\n",
      "880:\tlearn: 0.1275615\ttotal: 704ms\tremaining: 95.1ms\n",
      "881:\tlearn: 0.1273852\ttotal: 705ms\tremaining: 94.3ms\n",
      "882:\tlearn: 0.1273121\ttotal: 705ms\tremaining: 93.5ms\n",
      "883:\tlearn: 0.1271532\ttotal: 706ms\tremaining: 92.7ms\n",
      "884:\tlearn: 0.1269779\ttotal: 707ms\tremaining: 91.8ms\n",
      "885:\tlearn: 0.1268612\ttotal: 707ms\tremaining: 91ms\n",
      "886:\tlearn: 0.1267237\ttotal: 708ms\tremaining: 90.2ms\n",
      "887:\tlearn: 0.1265905\ttotal: 708ms\tremaining: 89.3ms\n",
      "888:\tlearn: 0.1264298\ttotal: 709ms\tremaining: 88.5ms\n",
      "889:\tlearn: 0.1262416\ttotal: 709ms\tremaining: 87.7ms\n",
      "890:\tlearn: 0.1260090\ttotal: 710ms\tremaining: 86.8ms\n",
      "891:\tlearn: 0.1257905\ttotal: 710ms\tremaining: 86ms\n",
      "892:\tlearn: 0.1256344\ttotal: 711ms\tremaining: 85.2ms\n",
      "893:\tlearn: 0.1255418\ttotal: 711ms\tremaining: 84.3ms\n",
      "894:\tlearn: 0.1253588\ttotal: 712ms\tremaining: 83.5ms\n",
      "895:\tlearn: 0.1253252\ttotal: 712ms\tremaining: 82.7ms\n",
      "896:\tlearn: 0.1251514\ttotal: 713ms\tremaining: 81.9ms\n",
      "897:\tlearn: 0.1250142\ttotal: 714ms\tremaining: 81ms\n",
      "898:\tlearn: 0.1249173\ttotal: 714ms\tremaining: 80.2ms\n",
      "899:\tlearn: 0.1247959\ttotal: 715ms\tremaining: 79.4ms\n",
      "900:\tlearn: 0.1246673\ttotal: 715ms\tremaining: 78.6ms\n",
      "901:\tlearn: 0.1245474\ttotal: 716ms\tremaining: 77.8ms\n",
      "902:\tlearn: 0.1243939\ttotal: 716ms\tremaining: 76.9ms\n",
      "903:\tlearn: 0.1242551\ttotal: 717ms\tremaining: 76.1ms\n",
      "904:\tlearn: 0.1240277\ttotal: 718ms\tremaining: 75.3ms\n",
      "905:\tlearn: 0.1238906\ttotal: 718ms\tremaining: 74.5ms\n",
      "906:\tlearn: 0.1237111\ttotal: 719ms\tremaining: 73.7ms\n",
      "907:\tlearn: 0.1236124\ttotal: 719ms\tremaining: 72.9ms\n",
      "908:\tlearn: 0.1234979\ttotal: 720ms\tremaining: 72.1ms\n",
      "909:\tlearn: 0.1232840\ttotal: 720ms\tremaining: 71.2ms\n",
      "910:\tlearn: 0.1231144\ttotal: 721ms\tremaining: 70.4ms\n",
      "911:\tlearn: 0.1228821\ttotal: 721ms\tremaining: 69.6ms\n",
      "912:\tlearn: 0.1227342\ttotal: 722ms\tremaining: 68.8ms\n",
      "913:\tlearn: 0.1225313\ttotal: 722ms\tremaining: 68ms\n",
      "914:\tlearn: 0.1223571\ttotal: 723ms\tremaining: 67.2ms\n",
      "915:\tlearn: 0.1221822\ttotal: 724ms\tremaining: 66.3ms\n",
      "916:\tlearn: 0.1220046\ttotal: 724ms\tremaining: 65.5ms\n",
      "917:\tlearn: 0.1218597\ttotal: 725ms\tremaining: 64.7ms\n",
      "918:\tlearn: 0.1217383\ttotal: 725ms\tremaining: 63.9ms\n",
      "919:\tlearn: 0.1216677\ttotal: 726ms\tremaining: 63.1ms\n",
      "920:\tlearn: 0.1215743\ttotal: 726ms\tremaining: 62.3ms\n",
      "921:\tlearn: 0.1214442\ttotal: 727ms\tremaining: 61.5ms\n",
      "922:\tlearn: 0.1212770\ttotal: 728ms\tremaining: 60.7ms\n",
      "923:\tlearn: 0.1211691\ttotal: 728ms\tremaining: 59.9ms\n",
      "924:\tlearn: 0.1210463\ttotal: 729ms\tremaining: 59.1ms\n",
      "925:\tlearn: 0.1208570\ttotal: 730ms\tremaining: 58.3ms\n",
      "926:\tlearn: 0.1207011\ttotal: 730ms\tremaining: 57.5ms\n",
      "927:\tlearn: 0.1204908\ttotal: 731ms\tremaining: 56.7ms\n",
      "928:\tlearn: 0.1202711\ttotal: 731ms\tremaining: 55.9ms\n",
      "929:\tlearn: 0.1201696\ttotal: 732ms\tremaining: 55.1ms\n",
      "930:\tlearn: 0.1200488\ttotal: 732ms\tremaining: 54.3ms\n",
      "931:\tlearn: 0.1199104\ttotal: 733ms\tremaining: 53.5ms\n",
      "932:\tlearn: 0.1196868\ttotal: 733ms\tremaining: 52.7ms\n",
      "933:\tlearn: 0.1195470\ttotal: 734ms\tremaining: 51.9ms\n",
      "934:\tlearn: 0.1194379\ttotal: 734ms\tremaining: 51ms\n",
      "935:\tlearn: 0.1193393\ttotal: 735ms\tremaining: 50.2ms\n",
      "936:\tlearn: 0.1191394\ttotal: 736ms\tremaining: 49.5ms\n",
      "937:\tlearn: 0.1190155\ttotal: 736ms\tremaining: 48.6ms\n",
      "938:\tlearn: 0.1188961\ttotal: 736ms\tremaining: 47.8ms\n",
      "939:\tlearn: 0.1187553\ttotal: 737ms\tremaining: 47ms\n",
      "940:\tlearn: 0.1186257\ttotal: 737ms\tremaining: 46.2ms\n",
      "941:\tlearn: 0.1184529\ttotal: 738ms\tremaining: 45.4ms\n",
      "942:\tlearn: 0.1182905\ttotal: 738ms\tremaining: 44.6ms\n",
      "943:\tlearn: 0.1180956\ttotal: 739ms\tremaining: 43.8ms\n",
      "944:\tlearn: 0.1179213\ttotal: 740ms\tremaining: 43ms\n",
      "945:\tlearn: 0.1177873\ttotal: 740ms\tremaining: 42.2ms\n",
      "946:\tlearn: 0.1176624\ttotal: 741ms\tremaining: 41.4ms\n",
      "947:\tlearn: 0.1175398\ttotal: 741ms\tremaining: 40.7ms\n",
      "948:\tlearn: 0.1173822\ttotal: 742ms\tremaining: 39.9ms\n",
      "949:\tlearn: 0.1172151\ttotal: 742ms\tremaining: 39.1ms\n",
      "950:\tlearn: 0.1171168\ttotal: 743ms\tremaining: 38.3ms\n",
      "951:\tlearn: 0.1169951\ttotal: 744ms\tremaining: 37.5ms\n",
      "952:\tlearn: 0.1169297\ttotal: 744ms\tremaining: 36.7ms\n",
      "953:\tlearn: 0.1168274\ttotal: 744ms\tremaining: 35.9ms\n",
      "954:\tlearn: 0.1166176\ttotal: 745ms\tremaining: 35.1ms\n",
      "955:\tlearn: 0.1164352\ttotal: 745ms\tremaining: 34.3ms\n",
      "956:\tlearn: 0.1162727\ttotal: 746ms\tremaining: 33.5ms\n",
      "957:\tlearn: 0.1161031\ttotal: 747ms\tremaining: 32.7ms\n",
      "958:\tlearn: 0.1159589\ttotal: 747ms\tremaining: 31.9ms\n",
      "959:\tlearn: 0.1158307\ttotal: 748ms\tremaining: 31.2ms\n",
      "960:\tlearn: 0.1156400\ttotal: 748ms\tremaining: 30.4ms\n",
      "961:\tlearn: 0.1154314\ttotal: 749ms\tremaining: 29.6ms\n",
      "962:\tlearn: 0.1153089\ttotal: 749ms\tremaining: 28.8ms\n",
      "963:\tlearn: 0.1152227\ttotal: 750ms\tremaining: 28ms\n",
      "964:\tlearn: 0.1151739\ttotal: 751ms\tremaining: 27.2ms\n",
      "965:\tlearn: 0.1150684\ttotal: 751ms\tremaining: 26.4ms\n",
      "966:\tlearn: 0.1148958\ttotal: 752ms\tremaining: 25.7ms\n",
      "967:\tlearn: 0.1146984\ttotal: 753ms\tremaining: 24.9ms\n",
      "968:\tlearn: 0.1145269\ttotal: 753ms\tremaining: 24.1ms\n",
      "969:\tlearn: 0.1144303\ttotal: 754ms\tremaining: 23.3ms\n",
      "970:\tlearn: 0.1143041\ttotal: 754ms\tremaining: 22.5ms\n",
      "971:\tlearn: 0.1141550\ttotal: 754ms\tremaining: 21.7ms\n",
      "972:\tlearn: 0.1140294\ttotal: 755ms\tremaining: 20.9ms\n",
      "973:\tlearn: 0.1138674\ttotal: 755ms\tremaining: 20.2ms\n",
      "974:\tlearn: 0.1136773\ttotal: 756ms\tremaining: 19.4ms\n",
      "975:\tlearn: 0.1135955\ttotal: 757ms\tremaining: 18.6ms\n",
      "976:\tlearn: 0.1134140\ttotal: 757ms\tremaining: 17.8ms\n",
      "977:\tlearn: 0.1133072\ttotal: 758ms\tremaining: 17ms\n",
      "978:\tlearn: 0.1131301\ttotal: 758ms\tremaining: 16.3ms\n",
      "979:\tlearn: 0.1129292\ttotal: 759ms\tremaining: 15.5ms\n",
      "980:\tlearn: 0.1127554\ttotal: 759ms\tremaining: 14.7ms\n",
      "981:\tlearn: 0.1126390\ttotal: 760ms\tremaining: 13.9ms\n",
      "982:\tlearn: 0.1125332\ttotal: 760ms\tremaining: 13.1ms\n",
      "983:\tlearn: 0.1124166\ttotal: 761ms\tremaining: 12.4ms\n",
      "984:\tlearn: 0.1122549\ttotal: 761ms\tremaining: 11.6ms\n",
      "985:\tlearn: 0.1120828\ttotal: 762ms\tremaining: 10.8ms\n",
      "986:\tlearn: 0.1119303\ttotal: 762ms\tremaining: 10ms\n",
      "987:\tlearn: 0.1118189\ttotal: 763ms\tremaining: 9.26ms\n",
      "988:\tlearn: 0.1116146\ttotal: 763ms\tremaining: 8.49ms\n",
      "989:\tlearn: 0.1113802\ttotal: 764ms\tremaining: 7.71ms\n",
      "990:\tlearn: 0.1112490\ttotal: 764ms\tremaining: 6.94ms\n",
      "991:\tlearn: 0.1111517\ttotal: 765ms\tremaining: 6.17ms\n",
      "992:\tlearn: 0.1111013\ttotal: 765ms\tremaining: 5.39ms\n",
      "993:\tlearn: 0.1109912\ttotal: 766ms\tremaining: 4.62ms\n",
      "994:\tlearn: 0.1108726\ttotal: 766ms\tremaining: 3.85ms\n",
      "995:\tlearn: 0.1107009\ttotal: 767ms\tremaining: 3.08ms\n",
      "996:\tlearn: 0.1105837\ttotal: 767ms\tremaining: 2.31ms\n",
      "997:\tlearn: 0.1103920\ttotal: 768ms\tremaining: 1.54ms\n",
      "998:\tlearn: 0.1102492\ttotal: 768ms\tremaining: 769us\n",
      "999:\tlearn: 0.1101497\ttotal: 769ms\tremaining: 0us\n"
     ]
    }
   ],
   "source": [
    "cat_model = CatBoostClassifier().fit(X_train, y_train)"
   ]
  },
  {
   "cell_type": "code",
   "execution_count": 190,
   "id": "c660f241-4b3e-45e1-8297-f0725640bbbc",
   "metadata": {},
   "outputs": [],
   "source": [
    "# Tahmin"
   ]
  },
  {
   "cell_type": "code",
   "execution_count": 191,
   "id": "af91e50c-6ce7-4ded-bf88-c1745012be9b",
   "metadata": {},
   "outputs": [
    {
     "data": {
      "text/plain": [
       "0.875"
      ]
     },
     "execution_count": 191,
     "metadata": {},
     "output_type": "execute_result"
    }
   ],
   "source": [
    "y_pred = cat_model.predict(X_test)\n",
    "accuracy_score(y_test, y_pred)"
   ]
  },
  {
   "cell_type": "code",
   "execution_count": 192,
   "id": "71d31adc-c43f-48bd-aeb2-df752f2cc15e",
   "metadata": {},
   "outputs": [],
   "source": [
    "catb_params = {\n",
    "    'iterations': [200,500],\n",
    "    'learning_rate': [0.01,0.05, 0.1],\n",
    "    'depth': [3,5,8] }"
   ]
  },
  {
   "cell_type": "code",
   "execution_count": 193,
   "id": "2cdc9cc6-8775-4fb8-86cf-2d3f8d008fa2",
   "metadata": {},
   "outputs": [
    {
     "name": "stdout",
     "output_type": "stream",
     "text": [
      "Fitting 5 folds for each of 18 candidates, totalling 90 fits\n",
      "0:\tlearn: 0.6858581\ttotal: 575us\tremaining: 287ms\n",
      "1:\tlearn: 0.6777369\ttotal: 1.38ms\tremaining: 342ms\n",
      "2:\tlearn: 0.6705868\ttotal: 1.91ms\tremaining: 316ms\n",
      "3:\tlearn: 0.6617456\ttotal: 2.43ms\tremaining: 301ms\n",
      "4:\tlearn: 0.6538686\ttotal: 2.88ms\tremaining: 285ms\n",
      "5:\tlearn: 0.6445889\ttotal: 3.3ms\tremaining: 272ms\n",
      "6:\tlearn: 0.6360035\ttotal: 3.73ms\tremaining: 263ms\n",
      "7:\tlearn: 0.6294038\ttotal: 4.21ms\tremaining: 259ms\n",
      "8:\tlearn: 0.6227539\ttotal: 4.76ms\tremaining: 260ms\n",
      "9:\tlearn: 0.6156269\ttotal: 5.23ms\tremaining: 256ms\n",
      "10:\tlearn: 0.6076617\ttotal: 5.71ms\tremaining: 254ms\n",
      "11:\tlearn: 0.6012881\ttotal: 6.11ms\tremaining: 248ms\n",
      "12:\tlearn: 0.5944655\ttotal: 6.55ms\tremaining: 246ms\n",
      "13:\tlearn: 0.5895727\ttotal: 6.92ms\tremaining: 240ms\n",
      "14:\tlearn: 0.5836092\ttotal: 7.35ms\tremaining: 238ms\n",
      "15:\tlearn: 0.5777713\ttotal: 8.12ms\tremaining: 246ms\n",
      "16:\tlearn: 0.5700408\ttotal: 8.72ms\tremaining: 248ms\n",
      "17:\tlearn: 0.5627588\ttotal: 9.17ms\tremaining: 245ms\n",
      "18:\tlearn: 0.5564631\ttotal: 9.65ms\tremaining: 244ms\n",
      "19:\tlearn: 0.5508530\ttotal: 10.1ms\tremaining: 241ms\n",
      "20:\tlearn: 0.5463969\ttotal: 10.5ms\tremaining: 239ms\n",
      "21:\tlearn: 0.5407021\ttotal: 10.8ms\tremaining: 236ms\n",
      "22:\tlearn: 0.5354051\ttotal: 11.3ms\tremaining: 234ms\n",
      "23:\tlearn: 0.5303751\ttotal: 11.8ms\tremaining: 234ms\n",
      "24:\tlearn: 0.5254881\ttotal: 12.2ms\tremaining: 231ms\n",
      "25:\tlearn: 0.5204316\ttotal: 12.5ms\tremaining: 229ms\n",
      "26:\tlearn: 0.5135576\ttotal: 13ms\tremaining: 227ms\n",
      "27:\tlearn: 0.5094485\ttotal: 13.4ms\tremaining: 226ms\n",
      "28:\tlearn: 0.5048116\ttotal: 13.8ms\tremaining: 223ms\n",
      "29:\tlearn: 0.4976189\ttotal: 14.2ms\tremaining: 223ms\n",
      "30:\tlearn: 0.4925680\ttotal: 14.7ms\tremaining: 222ms\n",
      "31:\tlearn: 0.4865387\ttotal: 15.1ms\tremaining: 221ms\n",
      "32:\tlearn: 0.4800385\ttotal: 15.6ms\tremaining: 220ms\n",
      "33:\tlearn: 0.4760528\ttotal: 15.9ms\tremaining: 218ms\n",
      "34:\tlearn: 0.4719239\ttotal: 16.3ms\tremaining: 216ms\n",
      "35:\tlearn: 0.4667864\ttotal: 16.6ms\tremaining: 214ms\n",
      "36:\tlearn: 0.4631579\ttotal: 17ms\tremaining: 213ms\n",
      "37:\tlearn: 0.4601333\ttotal: 17.3ms\tremaining: 211ms\n",
      "38:\tlearn: 0.4568076\ttotal: 17.6ms\tremaining: 208ms\n",
      "39:\tlearn: 0.4536201\ttotal: 18ms\tremaining: 207ms\n",
      "40:\tlearn: 0.4500438\ttotal: 18.4ms\tremaining: 206ms\n",
      "41:\tlearn: 0.4446330\ttotal: 18.8ms\tremaining: 205ms\n",
      "42:\tlearn: 0.4417968\ttotal: 19.1ms\tremaining: 203ms\n",
      "43:\tlearn: 0.4372288\ttotal: 19.5ms\tremaining: 202ms\n",
      "44:\tlearn: 0.4336683\ttotal: 19.8ms\tremaining: 200ms\n",
      "45:\tlearn: 0.4292395\ttotal: 20.2ms\tremaining: 199ms\n",
      "46:\tlearn: 0.4239267\ttotal: 20.5ms\tremaining: 198ms\n",
      "47:\tlearn: 0.4204940\ttotal: 20.9ms\tremaining: 196ms\n",
      "48:\tlearn: 0.4177765\ttotal: 21.2ms\tremaining: 195ms\n",
      "49:\tlearn: 0.4147748\ttotal: 21.6ms\tremaining: 195ms\n",
      "50:\tlearn: 0.4116540\ttotal: 22ms\tremaining: 194ms\n",
      "51:\tlearn: 0.4082051\ttotal: 22.5ms\tremaining: 194ms\n",
      "52:\tlearn: 0.4051693\ttotal: 22.9ms\tremaining: 193ms\n",
      "53:\tlearn: 0.4018310\ttotal: 23.3ms\tremaining: 192ms\n",
      "54:\tlearn: 0.3986747\ttotal: 23.7ms\tremaining: 192ms\n",
      "55:\tlearn: 0.3950102\ttotal: 24.1ms\tremaining: 191ms\n",
      "56:\tlearn: 0.3928681\ttotal: 24.5ms\tremaining: 190ms\n",
      "57:\tlearn: 0.3898730\ttotal: 25ms\tremaining: 190ms\n",
      "58:\tlearn: 0.3869433\ttotal: 25.4ms\tremaining: 190ms\n",
      "59:\tlearn: 0.3834465\ttotal: 25.8ms\tremaining: 190ms\n",
      "60:\tlearn: 0.3797581\ttotal: 26.2ms\tremaining: 189ms\n",
      "61:\tlearn: 0.3765506\ttotal: 26.6ms\tremaining: 188ms\n",
      "62:\tlearn: 0.3743353\ttotal: 27ms\tremaining: 187ms\n",
      "63:\tlearn: 0.3711016\ttotal: 27.5ms\tremaining: 187ms\n",
      "64:\tlearn: 0.3674087\ttotal: 27.9ms\tremaining: 187ms\n",
      "65:\tlearn: 0.3641654\ttotal: 28.3ms\tremaining: 186ms\n",
      "66:\tlearn: 0.3601198\ttotal: 28.7ms\tremaining: 186ms\n",
      "67:\tlearn: 0.3567813\ttotal: 29.1ms\tremaining: 185ms\n",
      "68:\tlearn: 0.3547998\ttotal: 29.5ms\tremaining: 184ms\n",
      "69:\tlearn: 0.3517582\ttotal: 29.8ms\tremaining: 183ms\n",
      "70:\tlearn: 0.3493043\ttotal: 30.2ms\tremaining: 183ms\n",
      "71:\tlearn: 0.3468930\ttotal: 30.6ms\tremaining: 182ms\n",
      "72:\tlearn: 0.3442182\ttotal: 31ms\tremaining: 181ms\n",
      "73:\tlearn: 0.3412626\ttotal: 31.4ms\tremaining: 181ms\n",
      "74:\tlearn: 0.3396860\ttotal: 31.8ms\tremaining: 180ms\n",
      "75:\tlearn: 0.3377535\ttotal: 32.2ms\tremaining: 179ms\n",
      "76:\tlearn: 0.3353265\ttotal: 32.6ms\tremaining: 179ms\n",
      "77:\tlearn: 0.3311629\ttotal: 32.9ms\tremaining: 178ms\n",
      "78:\tlearn: 0.3281888\ttotal: 33.3ms\tremaining: 177ms\n",
      "79:\tlearn: 0.3254218\ttotal: 33.7ms\tremaining: 177ms\n",
      "80:\tlearn: 0.3224041\ttotal: 34ms\tremaining: 176ms\n",
      "81:\tlearn: 0.3208156\ttotal: 34.5ms\tremaining: 176ms\n",
      "82:\tlearn: 0.3189218\ttotal: 34.9ms\tremaining: 175ms\n",
      "83:\tlearn: 0.3165660\ttotal: 35.3ms\tremaining: 175ms\n",
      "84:\tlearn: 0.3140808\ttotal: 35.7ms\tremaining: 174ms\n",
      "85:\tlearn: 0.3119483\ttotal: 36.1ms\tremaining: 174ms\n",
      "86:\tlearn: 0.3095352\ttotal: 36.4ms\tremaining: 173ms\n",
      "87:\tlearn: 0.3081522\ttotal: 36.8ms\tremaining: 172ms\n",
      "88:\tlearn: 0.3058724\ttotal: 37.3ms\tremaining: 172ms\n",
      "89:\tlearn: 0.3036931\ttotal: 37.7ms\tremaining: 172ms\n",
      "90:\tlearn: 0.3009732\ttotal: 38.2ms\tremaining: 172ms\n",
      "91:\tlearn: 0.2974096\ttotal: 38.6ms\tremaining: 171ms\n",
      "92:\tlearn: 0.2956909\ttotal: 39ms\tremaining: 171ms\n",
      "93:\tlearn: 0.2933980\ttotal: 39.6ms\tremaining: 171ms\n",
      "94:\tlearn: 0.2907438\ttotal: 40ms\tremaining: 171ms\n",
      "95:\tlearn: 0.2884409\ttotal: 40.4ms\tremaining: 170ms\n",
      "96:\tlearn: 0.2851404\ttotal: 40.8ms\tremaining: 170ms\n",
      "97:\tlearn: 0.2821825\ttotal: 41.2ms\tremaining: 169ms\n",
      "98:\tlearn: 0.2800951\ttotal: 41.7ms\tremaining: 169ms\n",
      "99:\tlearn: 0.2775473\ttotal: 42.1ms\tremaining: 168ms\n",
      "100:\tlearn: 0.2752723\ttotal: 50.6ms\tremaining: 200ms\n",
      "101:\tlearn: 0.2735861\ttotal: 51.1ms\tremaining: 199ms\n",
      "102:\tlearn: 0.2712475\ttotal: 51.5ms\tremaining: 198ms\n",
      "103:\tlearn: 0.2695349\ttotal: 51.9ms\tremaining: 198ms\n",
      "104:\tlearn: 0.2674138\ttotal: 52.3ms\tremaining: 197ms\n",
      "105:\tlearn: 0.2655180\ttotal: 52.8ms\tremaining: 196ms\n",
      "106:\tlearn: 0.2641205\ttotal: 53.2ms\tremaining: 196ms\n",
      "107:\tlearn: 0.2627467\ttotal: 53.6ms\tremaining: 195ms\n",
      "108:\tlearn: 0.2605535\ttotal: 54.1ms\tremaining: 194ms\n",
      "109:\tlearn: 0.2575844\ttotal: 54.6ms\tremaining: 193ms\n",
      "110:\tlearn: 0.2562496\ttotal: 55.1ms\tremaining: 193ms\n",
      "111:\tlearn: 0.2548616\ttotal: 55.5ms\tremaining: 192ms\n",
      "112:\tlearn: 0.2532371\ttotal: 55.9ms\tremaining: 191ms\n",
      "113:\tlearn: 0.2515960\ttotal: 56.3ms\tremaining: 191ms\n",
      "114:\tlearn: 0.2500743\ttotal: 56.7ms\tremaining: 190ms\n",
      "115:\tlearn: 0.2487209\ttotal: 57.1ms\tremaining: 189ms\n",
      "116:\tlearn: 0.2466724\ttotal: 57.6ms\tremaining: 189ms\n",
      "117:\tlearn: 0.2446047\ttotal: 58.1ms\tremaining: 188ms\n",
      "118:\tlearn: 0.2423336\ttotal: 58.5ms\tremaining: 187ms\n",
      "119:\tlearn: 0.2402171\ttotal: 58.9ms\tremaining: 186ms\n",
      "120:\tlearn: 0.2385168\ttotal: 59.2ms\tremaining: 186ms\n",
      "121:\tlearn: 0.2377802\ttotal: 59.6ms\tremaining: 185ms\n",
      "122:\tlearn: 0.2363996\ttotal: 60.1ms\tremaining: 184ms\n",
      "123:\tlearn: 0.2352374\ttotal: 60.5ms\tremaining: 183ms\n",
      "124:\tlearn: 0.2337238\ttotal: 60.9ms\tremaining: 183ms\n",
      "125:\tlearn: 0.2326386\ttotal: 61.4ms\tremaining: 182ms\n",
      "126:\tlearn: 0.2314824\ttotal: 61.9ms\tremaining: 182ms\n",
      "127:\tlearn: 0.2302950\ttotal: 62.3ms\tremaining: 181ms\n",
      "128:\tlearn: 0.2289458\ttotal: 62.7ms\tremaining: 180ms\n",
      "129:\tlearn: 0.2276663\ttotal: 63.1ms\tremaining: 180ms\n",
      "130:\tlearn: 0.2264465\ttotal: 63.5ms\tremaining: 179ms\n",
      "131:\tlearn: 0.2251965\ttotal: 63.9ms\tremaining: 178ms\n",
      "132:\tlearn: 0.2232158\ttotal: 64.4ms\tremaining: 178ms\n",
      "133:\tlearn: 0.2218681\ttotal: 64.9ms\tremaining: 177ms\n",
      "134:\tlearn: 0.2207555\ttotal: 65.4ms\tremaining: 177ms\n",
      "135:\tlearn: 0.2195083\ttotal: 65.8ms\tremaining: 176ms\n",
      "136:\tlearn: 0.2182193\ttotal: 66.2ms\tremaining: 175ms\n",
      "137:\tlearn: 0.2174677\ttotal: 66.6ms\tremaining: 175ms\n",
      "138:\tlearn: 0.2161362\ttotal: 66.9ms\tremaining: 174ms\n",
      "139:\tlearn: 0.2145213\ttotal: 67.4ms\tremaining: 173ms\n",
      "140:\tlearn: 0.2132762\ttotal: 67.8ms\tremaining: 173ms\n",
      "141:\tlearn: 0.2117661\ttotal: 68.2ms\tremaining: 172ms\n",
      "142:\tlearn: 0.2098298\ttotal: 68.7ms\tremaining: 171ms\n",
      "143:\tlearn: 0.2081584\ttotal: 69.1ms\tremaining: 171ms\n",
      "144:\tlearn: 0.2073092\ttotal: 69.6ms\tremaining: 170ms\n",
      "145:\tlearn: 0.2052526\ttotal: 70ms\tremaining: 170ms\n",
      "146:\tlearn: 0.2032369\ttotal: 70.4ms\tremaining: 169ms\n",
      "147:\tlearn: 0.2015186\ttotal: 70.9ms\tremaining: 169ms\n",
      "148:\tlearn: 0.1997349\ttotal: 71.3ms\tremaining: 168ms\n",
      "149:\tlearn: 0.1986921\ttotal: 71.7ms\tremaining: 167ms\n",
      "150:\tlearn: 0.1978189\ttotal: 72.2ms\tremaining: 167ms\n",
      "151:\tlearn: 0.1969021\ttotal: 72.7ms\tremaining: 166ms\n",
      "152:\tlearn: 0.1960865\ttotal: 73.1ms\tremaining: 166ms\n",
      "153:\tlearn: 0.1950248\ttotal: 73.5ms\tremaining: 165ms\n",
      "154:\tlearn: 0.1933800\ttotal: 73.9ms\tremaining: 164ms\n",
      "155:\tlearn: 0.1922439\ttotal: 74.3ms\tremaining: 164ms\n",
      "156:\tlearn: 0.1915930\ttotal: 74.6ms\tremaining: 163ms\n",
      "157:\tlearn: 0.1908643\ttotal: 75ms\tremaining: 162ms\n",
      "158:\tlearn: 0.1892534\ttotal: 75.4ms\tremaining: 162ms\n",
      "159:\tlearn: 0.1883847\ttotal: 75.8ms\tremaining: 161ms\n",
      "160:\tlearn: 0.1874416\ttotal: 76.2ms\tremaining: 160ms\n",
      "161:\tlearn: 0.1861656\ttotal: 76.6ms\tremaining: 160ms\n",
      "162:\tlearn: 0.1853991\ttotal: 76.9ms\tremaining: 159ms\n",
      "163:\tlearn: 0.1837720\ttotal: 77.3ms\tremaining: 158ms\n",
      "164:\tlearn: 0.1831915\ttotal: 77.7ms\tremaining: 158ms\n",
      "165:\tlearn: 0.1819967\ttotal: 78ms\tremaining: 157ms\n",
      "166:\tlearn: 0.1809415\ttotal: 78.4ms\tremaining: 156ms\n",
      "167:\tlearn: 0.1791912\ttotal: 78.8ms\tremaining: 156ms\n",
      "168:\tlearn: 0.1784316\ttotal: 79.2ms\tremaining: 155ms\n",
      "169:\tlearn: 0.1774561\ttotal: 79.6ms\tremaining: 154ms\n",
      "170:\tlearn: 0.1765168\ttotal: 79.9ms\tremaining: 154ms\n",
      "171:\tlearn: 0.1753580\ttotal: 80.3ms\tremaining: 153ms\n",
      "172:\tlearn: 0.1740187\ttotal: 80.6ms\tremaining: 152ms\n",
      "173:\tlearn: 0.1725881\ttotal: 81ms\tremaining: 152ms\n",
      "174:\tlearn: 0.1712494\ttotal: 81.3ms\tremaining: 151ms\n",
      "175:\tlearn: 0.1695894\ttotal: 81.7ms\tremaining: 150ms\n",
      "176:\tlearn: 0.1686638\ttotal: 82.2ms\tremaining: 150ms\n",
      "177:\tlearn: 0.1678615\ttotal: 82.6ms\tremaining: 150ms\n",
      "178:\tlearn: 0.1670651\ttotal: 83ms\tremaining: 149ms\n",
      "179:\tlearn: 0.1667724\ttotal: 83.4ms\tremaining: 148ms\n",
      "180:\tlearn: 0.1661550\ttotal: 83.9ms\tremaining: 148ms\n",
      "181:\tlearn: 0.1655446\ttotal: 84.3ms\tremaining: 147ms\n",
      "182:\tlearn: 0.1643870\ttotal: 84.7ms\tremaining: 147ms\n",
      "183:\tlearn: 0.1634323\ttotal: 85.1ms\tremaining: 146ms\n",
      "184:\tlearn: 0.1624471\ttotal: 85.6ms\tremaining: 146ms\n",
      "185:\tlearn: 0.1613720\ttotal: 86ms\tremaining: 145ms\n",
      "186:\tlearn: 0.1606299\ttotal: 86.4ms\tremaining: 145ms\n",
      "187:\tlearn: 0.1596586\ttotal: 86.9ms\tremaining: 144ms\n",
      "188:\tlearn: 0.1588849\ttotal: 87.3ms\tremaining: 144ms\n",
      "189:\tlearn: 0.1584146\ttotal: 87.7ms\tremaining: 143ms\n",
      "190:\tlearn: 0.1574983\ttotal: 88.1ms\tremaining: 143ms\n",
      "191:\tlearn: 0.1563668\ttotal: 88.5ms\tremaining: 142ms\n",
      "192:\tlearn: 0.1555753\ttotal: 89ms\tremaining: 142ms\n",
      "193:\tlearn: 0.1546540\ttotal: 89.4ms\tremaining: 141ms\n",
      "194:\tlearn: 0.1539079\ttotal: 89.8ms\tremaining: 141ms\n",
      "195:\tlearn: 0.1529589\ttotal: 90.3ms\tremaining: 140ms\n",
      "196:\tlearn: 0.1521619\ttotal: 90.7ms\tremaining: 139ms\n",
      "197:\tlearn: 0.1514788\ttotal: 91.1ms\tremaining: 139ms\n",
      "198:\tlearn: 0.1508142\ttotal: 91.5ms\tremaining: 138ms\n",
      "199:\tlearn: 0.1501824\ttotal: 92ms\tremaining: 138ms\n",
      "200:\tlearn: 0.1491196\ttotal: 92.4ms\tremaining: 138ms\n",
      "201:\tlearn: 0.1478864\ttotal: 92.9ms\tremaining: 137ms\n",
      "202:\tlearn: 0.1475609\ttotal: 93.3ms\tremaining: 136ms\n",
      "203:\tlearn: 0.1464969\ttotal: 93.7ms\tremaining: 136ms\n",
      "204:\tlearn: 0.1457693\ttotal: 94.1ms\tremaining: 135ms\n",
      "205:\tlearn: 0.1451075\ttotal: 94.5ms\tremaining: 135ms\n",
      "206:\tlearn: 0.1444731\ttotal: 94.9ms\tremaining: 134ms\n",
      "207:\tlearn: 0.1438775\ttotal: 95.3ms\tremaining: 134ms\n",
      "208:\tlearn: 0.1432784\ttotal: 95.7ms\tremaining: 133ms\n",
      "209:\tlearn: 0.1424563\ttotal: 96.1ms\tremaining: 133ms\n",
      "210:\tlearn: 0.1419864\ttotal: 96.5ms\tremaining: 132ms\n",
      "211:\tlearn: 0.1412449\ttotal: 97ms\tremaining: 132ms\n",
      "212:\tlearn: 0.1404874\ttotal: 97.5ms\tremaining: 131ms\n",
      "213:\tlearn: 0.1397766\ttotal: 97.9ms\tremaining: 131ms\n",
      "214:\tlearn: 0.1383633\ttotal: 98.3ms\tremaining: 130ms\n",
      "215:\tlearn: 0.1377074\ttotal: 98.8ms\tremaining: 130ms\n",
      "216:\tlearn: 0.1375094\ttotal: 99.1ms\tremaining: 129ms\n",
      "217:\tlearn: 0.1366988\ttotal: 99.6ms\tremaining: 129ms\n",
      "218:\tlearn: 0.1360589\ttotal: 100ms\tremaining: 128ms\n",
      "219:\tlearn: 0.1353675\ttotal: 100ms\tremaining: 128ms\n",
      "220:\tlearn: 0.1348617\ttotal: 101ms\tremaining: 127ms\n",
      "221:\tlearn: 0.1340945\ttotal: 101ms\tremaining: 127ms\n",
      "222:\tlearn: 0.1333856\ttotal: 102ms\tremaining: 126ms\n",
      "223:\tlearn: 0.1327342\ttotal: 102ms\tremaining: 126ms\n",
      "224:\tlearn: 0.1322739\ttotal: 103ms\tremaining: 126ms\n",
      "225:\tlearn: 0.1316300\ttotal: 103ms\tremaining: 125ms\n",
      "226:\tlearn: 0.1310311\ttotal: 104ms\tremaining: 125ms\n",
      "227:\tlearn: 0.1304174\ttotal: 104ms\tremaining: 124ms\n",
      "228:\tlearn: 0.1295157\ttotal: 104ms\tremaining: 124ms\n",
      "229:\tlearn: 0.1291159\ttotal: 105ms\tremaining: 123ms\n",
      "230:\tlearn: 0.1283004\ttotal: 105ms\tremaining: 123ms\n",
      "231:\tlearn: 0.1276251\ttotal: 106ms\tremaining: 122ms\n",
      "232:\tlearn: 0.1271979\ttotal: 106ms\tremaining: 121ms\n",
      "233:\tlearn: 0.1268680\ttotal: 106ms\tremaining: 121ms\n",
      "234:\tlearn: 0.1260222\ttotal: 107ms\tremaining: 120ms\n",
      "235:\tlearn: 0.1252271\ttotal: 107ms\tremaining: 120ms\n",
      "236:\tlearn: 0.1248465\ttotal: 108ms\tremaining: 119ms\n",
      "237:\tlearn: 0.1240613\ttotal: 108ms\tremaining: 119ms\n",
      "238:\tlearn: 0.1233517\ttotal: 108ms\tremaining: 118ms\n",
      "239:\tlearn: 0.1227203\ttotal: 109ms\tremaining: 118ms\n",
      "240:\tlearn: 0.1221861\ttotal: 109ms\tremaining: 117ms\n",
      "241:\tlearn: 0.1218875\ttotal: 110ms\tremaining: 117ms\n",
      "242:\tlearn: 0.1214213\ttotal: 110ms\tremaining: 116ms\n",
      "243:\tlearn: 0.1208395\ttotal: 110ms\tremaining: 116ms\n",
      "244:\tlearn: 0.1202280\ttotal: 111ms\tremaining: 115ms\n",
      "245:\tlearn: 0.1192305\ttotal: 111ms\tremaining: 115ms\n",
      "246:\tlearn: 0.1185855\ttotal: 112ms\tremaining: 114ms\n",
      "247:\tlearn: 0.1179898\ttotal: 112ms\tremaining: 114ms\n",
      "248:\tlearn: 0.1178380\ttotal: 112ms\tremaining: 113ms\n",
      "249:\tlearn: 0.1173950\ttotal: 113ms\tremaining: 113ms\n",
      "250:\tlearn: 0.1165169\ttotal: 113ms\tremaining: 113ms\n",
      "251:\tlearn: 0.1160721\ttotal: 114ms\tremaining: 112ms\n",
      "252:\tlearn: 0.1158001\ttotal: 114ms\tremaining: 112ms\n",
      "253:\tlearn: 0.1153166\ttotal: 115ms\tremaining: 111ms\n",
      "254:\tlearn: 0.1150395\ttotal: 115ms\tremaining: 111ms\n",
      "255:\tlearn: 0.1144348\ttotal: 116ms\tremaining: 110ms\n",
      "256:\tlearn: 0.1138845\ttotal: 116ms\tremaining: 110ms\n",
      "257:\tlearn: 0.1134839\ttotal: 117ms\tremaining: 109ms\n",
      "258:\tlearn: 0.1130321\ttotal: 117ms\tremaining: 109ms\n",
      "259:\tlearn: 0.1124485\ttotal: 117ms\tremaining: 108ms\n",
      "260:\tlearn: 0.1120219\ttotal: 118ms\tremaining: 108ms\n",
      "261:\tlearn: 0.1115848\ttotal: 118ms\tremaining: 107ms\n",
      "262:\tlearn: 0.1112164\ttotal: 119ms\tremaining: 107ms\n",
      "263:\tlearn: 0.1110520\ttotal: 119ms\tremaining: 106ms\n",
      "264:\tlearn: 0.1102289\ttotal: 119ms\tremaining: 106ms\n",
      "265:\tlearn: 0.1097255\ttotal: 120ms\tremaining: 105ms\n",
      "266:\tlearn: 0.1091576\ttotal: 120ms\tremaining: 105ms\n",
      "267:\tlearn: 0.1087135\ttotal: 121ms\tremaining: 105ms\n",
      "268:\tlearn: 0.1083089\ttotal: 121ms\tremaining: 104ms\n",
      "269:\tlearn: 0.1078147\ttotal: 122ms\tremaining: 104ms\n",
      "270:\tlearn: 0.1069997\ttotal: 122ms\tremaining: 103ms\n",
      "271:\tlearn: 0.1067736\ttotal: 122ms\tremaining: 103ms\n",
      "272:\tlearn: 0.1063796\ttotal: 123ms\tremaining: 102ms\n",
      "273:\tlearn: 0.1056075\ttotal: 123ms\tremaining: 102ms\n",
      "274:\tlearn: 0.1050707\ttotal: 124ms\tremaining: 101ms\n",
      "275:\tlearn: 0.1046220\ttotal: 124ms\tremaining: 101ms\n",
      "276:\tlearn: 0.1042771\ttotal: 124ms\tremaining: 100ms\n",
      "277:\tlearn: 0.1039962\ttotal: 125ms\tremaining: 99.5ms\n",
      "278:\tlearn: 0.1036098\ttotal: 125ms\tremaining: 99.1ms\n",
      "279:\tlearn: 0.1030140\ttotal: 125ms\tremaining: 98.6ms\n",
      "280:\tlearn: 0.1026926\ttotal: 126ms\tremaining: 98.1ms\n",
      "281:\tlearn: 0.1023587\ttotal: 126ms\tremaining: 97.7ms\n",
      "282:\tlearn: 0.1016973\ttotal: 127ms\tremaining: 97.3ms\n",
      "283:\tlearn: 0.1013624\ttotal: 128ms\tremaining: 97.1ms\n",
      "284:\tlearn: 0.1011892\ttotal: 128ms\tremaining: 96.7ms\n",
      "285:\tlearn: 0.1008640\ttotal: 129ms\tremaining: 96.3ms\n",
      "286:\tlearn: 0.1005714\ttotal: 129ms\tremaining: 95.7ms\n",
      "287:\tlearn: 0.1003689\ttotal: 129ms\tremaining: 95.2ms\n",
      "288:\tlearn: 0.0999245\ttotal: 130ms\tremaining: 94.8ms\n",
      "289:\tlearn: 0.0993010\ttotal: 130ms\tremaining: 94.3ms\n",
      "290:\tlearn: 0.0988078\ttotal: 131ms\tremaining: 93.8ms\n",
      "291:\tlearn: 0.0982594\ttotal: 131ms\tremaining: 93.3ms\n",
      "292:\tlearn: 0.0975997\ttotal: 131ms\tremaining: 92.8ms\n",
      "293:\tlearn: 0.0969979\ttotal: 132ms\tremaining: 92.4ms\n",
      "294:\tlearn: 0.0965435\ttotal: 132ms\tremaining: 91.9ms\n",
      "295:\tlearn: 0.0961979\ttotal: 133ms\tremaining: 91.4ms\n",
      "296:\tlearn: 0.0960748\ttotal: 133ms\tremaining: 90.9ms\n",
      "297:\tlearn: 0.0959673\ttotal: 133ms\tremaining: 90.4ms\n",
      "298:\tlearn: 0.0957051\ttotal: 134ms\tremaining: 89.9ms\n",
      "299:\tlearn: 0.0949533\ttotal: 134ms\tremaining: 89.4ms\n",
      "300:\tlearn: 0.0943747\ttotal: 135ms\tremaining: 89ms\n",
      "301:\tlearn: 0.0939773\ttotal: 135ms\tremaining: 88.5ms\n",
      "302:\tlearn: 0.0936866\ttotal: 135ms\tremaining: 88.1ms\n",
      "303:\tlearn: 0.0932879\ttotal: 136ms\tremaining: 87.6ms\n",
      "304:\tlearn: 0.0929645\ttotal: 136ms\tremaining: 87.1ms\n",
      "305:\tlearn: 0.0925475\ttotal: 137ms\tremaining: 86.6ms\n",
      "306:\tlearn: 0.0923893\ttotal: 137ms\tremaining: 86.2ms\n",
      "307:\tlearn: 0.0920670\ttotal: 137ms\tremaining: 85.7ms\n",
      "308:\tlearn: 0.0919167\ttotal: 138ms\tremaining: 85.2ms\n",
      "309:\tlearn: 0.0915291\ttotal: 138ms\tremaining: 84.7ms\n",
      "310:\tlearn: 0.0911722\ttotal: 139ms\tremaining: 84.2ms\n",
      "311:\tlearn: 0.0908709\ttotal: 139ms\tremaining: 83.7ms\n",
      "312:\tlearn: 0.0904356\ttotal: 139ms\tremaining: 83.2ms\n",
      "313:\tlearn: 0.0899617\ttotal: 140ms\tremaining: 82.7ms\n",
      "314:\tlearn: 0.0897034\ttotal: 140ms\tremaining: 82.3ms\n",
      "315:\tlearn: 0.0891985\ttotal: 141ms\tremaining: 81.8ms\n",
      "316:\tlearn: 0.0887195\ttotal: 141ms\tremaining: 81.4ms\n",
      "317:\tlearn: 0.0883402\ttotal: 141ms\tremaining: 81ms\n",
      "318:\tlearn: 0.0881953\ttotal: 142ms\tremaining: 80.6ms\n",
      "319:\tlearn: 0.0879429\ttotal: 142ms\tremaining: 80.1ms\n",
      "320:\tlearn: 0.0876142\ttotal: 143ms\tremaining: 79.7ms\n",
      "321:\tlearn: 0.0870594\ttotal: 143ms\tremaining: 79.2ms\n",
      "322:\tlearn: 0.0867387\ttotal: 144ms\tremaining: 78.8ms\n",
      "323:\tlearn: 0.0861939\ttotal: 144ms\tremaining: 78.3ms\n",
      "324:\tlearn: 0.0858956\ttotal: 145ms\tremaining: 77.9ms\n",
      "325:\tlearn: 0.0857968\ttotal: 145ms\tremaining: 77.3ms\n",
      "326:\tlearn: 0.0853738\ttotal: 145ms\tremaining: 76.9ms\n",
      "327:\tlearn: 0.0850757\ttotal: 146ms\tremaining: 76.4ms\n",
      "328:\tlearn: 0.0846301\ttotal: 146ms\tremaining: 76ms\n",
      "329:\tlearn: 0.0844179\ttotal: 147ms\tremaining: 75.5ms\n",
      "330:\tlearn: 0.0837701\ttotal: 147ms\tremaining: 75.1ms\n",
      "331:\tlearn: 0.0836792\ttotal: 147ms\tremaining: 74.6ms\n",
      "332:\tlearn: 0.0832247\ttotal: 148ms\tremaining: 74.1ms\n",
      "333:\tlearn: 0.0828786\ttotal: 148ms\tremaining: 73.7ms\n",
      "334:\tlearn: 0.0825708\ttotal: 149ms\tremaining: 73.2ms\n",
      "335:\tlearn: 0.0822975\ttotal: 149ms\tremaining: 72.7ms\n",
      "336:\tlearn: 0.0817454\ttotal: 149ms\tremaining: 72.3ms\n",
      "337:\tlearn: 0.0814848\ttotal: 150ms\tremaining: 71.8ms\n",
      "338:\tlearn: 0.0811565\ttotal: 150ms\tremaining: 71.3ms\n",
      "339:\tlearn: 0.0808151\ttotal: 151ms\tremaining: 70.9ms\n",
      "340:\tlearn: 0.0803627\ttotal: 151ms\tremaining: 70.4ms\n",
      "341:\tlearn: 0.0799815\ttotal: 151ms\tremaining: 70ms\n",
      "342:\tlearn: 0.0795122\ttotal: 152ms\tremaining: 69.5ms\n",
      "343:\tlearn: 0.0789636\ttotal: 152ms\tremaining: 69.1ms\n",
      "344:\tlearn: 0.0786029\ttotal: 153ms\tremaining: 68.7ms\n",
      "345:\tlearn: 0.0782203\ttotal: 153ms\tremaining: 68.2ms\n",
      "346:\tlearn: 0.0780841\ttotal: 154ms\tremaining: 67.8ms\n",
      "347:\tlearn: 0.0778194\ttotal: 154ms\tremaining: 67.3ms\n",
      "348:\tlearn: 0.0777300\ttotal: 154ms\tremaining: 66.8ms\n",
      "349:\tlearn: 0.0773252\ttotal: 155ms\tremaining: 66.4ms\n",
      "350:\tlearn: 0.0768016\ttotal: 155ms\tremaining: 65.9ms\n",
      "351:\tlearn: 0.0764982\ttotal: 156ms\tremaining: 65.5ms\n",
      "352:\tlearn: 0.0760707\ttotal: 156ms\tremaining: 65.1ms\n",
      "353:\tlearn: 0.0757838\ttotal: 157ms\tremaining: 64.6ms\n",
      "354:\tlearn: 0.0755539\ttotal: 157ms\tremaining: 64.2ms\n",
      "355:\tlearn: 0.0753198\ttotal: 158ms\tremaining: 63.8ms\n",
      "356:\tlearn: 0.0752141\ttotal: 158ms\tremaining: 63.4ms\n",
      "357:\tlearn: 0.0750868\ttotal: 159ms\tremaining: 62.9ms\n",
      "358:\tlearn: 0.0747032\ttotal: 159ms\tremaining: 62.5ms\n",
      "359:\tlearn: 0.0745220\ttotal: 160ms\tremaining: 62.1ms\n",
      "360:\tlearn: 0.0743324\ttotal: 160ms\tremaining: 61.7ms\n",
      "361:\tlearn: 0.0742482\ttotal: 161ms\tremaining: 61.2ms\n",
      "362:\tlearn: 0.0740656\ttotal: 161ms\tremaining: 60.8ms\n",
      "363:\tlearn: 0.0738081\ttotal: 161ms\tremaining: 60.3ms\n",
      "364:\tlearn: 0.0735270\ttotal: 162ms\tremaining: 59.9ms\n",
      "365:\tlearn: 0.0733297\ttotal: 162ms\tremaining: 59.4ms\n",
      "366:\tlearn: 0.0732205\ttotal: 163ms\tremaining: 59ms\n",
      "367:\tlearn: 0.0727671\ttotal: 163ms\tremaining: 58.5ms\n",
      "368:\tlearn: 0.0725795\ttotal: 164ms\tremaining: 58.1ms\n",
      "369:\tlearn: 0.0724317\ttotal: 164ms\tremaining: 57.6ms\n",
      "370:\tlearn: 0.0722077\ttotal: 164ms\tremaining: 57.2ms\n",
      "371:\tlearn: 0.0718026\ttotal: 165ms\tremaining: 56.7ms\n",
      "372:\tlearn: 0.0715876\ttotal: 165ms\tremaining: 56.2ms\n",
      "373:\tlearn: 0.0711722\ttotal: 166ms\tremaining: 55.8ms\n",
      "374:\tlearn: 0.0709677\ttotal: 166ms\tremaining: 55.3ms\n",
      "375:\tlearn: 0.0707088\ttotal: 166ms\tremaining: 54.9ms\n",
      "376:\tlearn: 0.0703505\ttotal: 167ms\tremaining: 54.4ms\n",
      "377:\tlearn: 0.0700782\ttotal: 167ms\tremaining: 53.9ms\n",
      "378:\tlearn: 0.0699222\ttotal: 167ms\tremaining: 53.4ms\n",
      "379:\tlearn: 0.0696915\ttotal: 168ms\tremaining: 53ms\n",
      "380:\tlearn: 0.0693498\ttotal: 168ms\tremaining: 52.5ms\n",
      "381:\tlearn: 0.0692853\ttotal: 168ms\tremaining: 52ms\n",
      "382:\tlearn: 0.0690758\ttotal: 169ms\tremaining: 51.5ms\n",
      "383:\tlearn: 0.0689953\ttotal: 169ms\tremaining: 51.1ms\n",
      "384:\tlearn: 0.0686437\ttotal: 169ms\tremaining: 50.6ms\n",
      "385:\tlearn: 0.0683939\ttotal: 170ms\tremaining: 50.2ms\n",
      "386:\tlearn: 0.0682082\ttotal: 170ms\tremaining: 49.7ms\n",
      "387:\tlearn: 0.0678284\ttotal: 171ms\tremaining: 49.3ms\n",
      "388:\tlearn: 0.0676454\ttotal: 171ms\tremaining: 48.8ms\n",
      "389:\tlearn: 0.0674562\ttotal: 171ms\tremaining: 48.4ms\n",
      "390:\tlearn: 0.0673166\ttotal: 172ms\tremaining: 47.9ms\n",
      "391:\tlearn: 0.0670238\ttotal: 172ms\tremaining: 47.5ms\n",
      "392:\tlearn: 0.0668046\ttotal: 173ms\tremaining: 47ms\n",
      "393:\tlearn: 0.0663854\ttotal: 173ms\tremaining: 46.6ms\n",
      "394:\tlearn: 0.0661912\ttotal: 173ms\tremaining: 46.1ms\n",
      "395:\tlearn: 0.0660036\ttotal: 174ms\tremaining: 45.7ms\n",
      "396:\tlearn: 0.0657781\ttotal: 174ms\tremaining: 45.2ms\n",
      "397:\tlearn: 0.0654542\ttotal: 175ms\tremaining: 44.8ms\n",
      "398:\tlearn: 0.0651913\ttotal: 175ms\tremaining: 44.3ms\n",
      "399:\tlearn: 0.0649796\ttotal: 175ms\tremaining: 43.9ms\n",
      "400:\tlearn: 0.0647483\ttotal: 176ms\tremaining: 43.4ms\n",
      "401:\tlearn: 0.0645554\ttotal: 176ms\tremaining: 43ms\n",
      "402:\tlearn: 0.0643898\ttotal: 177ms\tremaining: 42.5ms\n",
      "403:\tlearn: 0.0642271\ttotal: 177ms\tremaining: 42.1ms\n",
      "404:\tlearn: 0.0640543\ttotal: 177ms\tremaining: 41.6ms\n",
      "405:\tlearn: 0.0637195\ttotal: 178ms\tremaining: 41.2ms\n",
      "406:\tlearn: 0.0635302\ttotal: 178ms\tremaining: 40.8ms\n",
      "407:\tlearn: 0.0632552\ttotal: 179ms\tremaining: 40.3ms\n",
      "408:\tlearn: 0.0628502\ttotal: 179ms\tremaining: 39.8ms\n",
      "409:\tlearn: 0.0626679\ttotal: 179ms\tremaining: 39.4ms\n",
      "410:\tlearn: 0.0624131\ttotal: 180ms\tremaining: 39ms\n",
      "411:\tlearn: 0.0622551\ttotal: 180ms\tremaining: 38.5ms\n",
      "412:\tlearn: 0.0619968\ttotal: 181ms\tremaining: 38.1ms\n",
      "413:\tlearn: 0.0617773\ttotal: 181ms\tremaining: 37.6ms\n",
      "414:\tlearn: 0.0615668\ttotal: 182ms\tremaining: 37.2ms\n",
      "415:\tlearn: 0.0613859\ttotal: 182ms\tremaining: 36.8ms\n",
      "416:\tlearn: 0.0611014\ttotal: 183ms\tremaining: 36.4ms\n",
      "417:\tlearn: 0.0608588\ttotal: 183ms\tremaining: 35.9ms\n",
      "418:\tlearn: 0.0605080\ttotal: 183ms\tremaining: 35.5ms\n",
      "419:\tlearn: 0.0603356\ttotal: 184ms\tremaining: 35ms\n",
      "420:\tlearn: 0.0601288\ttotal: 184ms\tremaining: 34.6ms\n",
      "421:\tlearn: 0.0599984\ttotal: 185ms\tremaining: 34.1ms\n",
      "422:\tlearn: 0.0597795\ttotal: 185ms\tremaining: 33.7ms\n",
      "423:\tlearn: 0.0595347\ttotal: 186ms\tremaining: 33.3ms\n",
      "424:\tlearn: 0.0594129\ttotal: 186ms\tremaining: 32.8ms\n",
      "425:\tlearn: 0.0592065\ttotal: 186ms\tremaining: 32.4ms\n",
      "426:\tlearn: 0.0591267\ttotal: 187ms\tremaining: 31.9ms\n",
      "427:\tlearn: 0.0589309\ttotal: 187ms\tremaining: 31.5ms\n",
      "428:\tlearn: 0.0587676\ttotal: 188ms\tremaining: 31.1ms\n",
      "429:\tlearn: 0.0586146\ttotal: 188ms\tremaining: 30.6ms\n",
      "430:\tlearn: 0.0583420\ttotal: 189ms\tremaining: 30.2ms\n",
      "431:\tlearn: 0.0579941\ttotal: 189ms\tremaining: 29.7ms\n",
      "432:\tlearn: 0.0578285\ttotal: 189ms\tremaining: 29.3ms\n",
      "433:\tlearn: 0.0575413\ttotal: 190ms\tremaining: 28.9ms\n",
      "434:\tlearn: 0.0574892\ttotal: 191ms\tremaining: 28.5ms\n",
      "435:\tlearn: 0.0573001\ttotal: 191ms\tremaining: 28.1ms\n",
      "436:\tlearn: 0.0570116\ttotal: 192ms\tremaining: 27.6ms\n",
      "437:\tlearn: 0.0567687\ttotal: 192ms\tremaining: 27.2ms\n",
      "438:\tlearn: 0.0566415\ttotal: 193ms\tremaining: 26.8ms\n",
      "439:\tlearn: 0.0562958\ttotal: 193ms\tremaining: 26.3ms\n",
      "440:\tlearn: 0.0560907\ttotal: 194ms\tremaining: 25.9ms\n",
      "441:\tlearn: 0.0558293\ttotal: 194ms\tremaining: 25.5ms\n",
      "442:\tlearn: 0.0556353\ttotal: 194ms\tremaining: 25ms\n",
      "443:\tlearn: 0.0554840\ttotal: 195ms\tremaining: 24.6ms\n",
      "444:\tlearn: 0.0553174\ttotal: 195ms\tremaining: 24.1ms\n",
      "445:\tlearn: 0.0551472\ttotal: 196ms\tremaining: 23.7ms\n",
      "446:\tlearn: 0.0549533\ttotal: 196ms\tremaining: 23.3ms\n",
      "447:\tlearn: 0.0546607\ttotal: 197ms\tremaining: 22.8ms\n",
      "448:\tlearn: 0.0544794\ttotal: 197ms\tremaining: 22.4ms\n",
      "449:\tlearn: 0.0542783\ttotal: 198ms\tremaining: 22ms\n",
      "450:\tlearn: 0.0540342\ttotal: 198ms\tremaining: 21.5ms\n",
      "451:\tlearn: 0.0538193\ttotal: 198ms\tremaining: 21.1ms\n",
      "452:\tlearn: 0.0535520\ttotal: 199ms\tremaining: 20.6ms\n",
      "453:\tlearn: 0.0533374\ttotal: 199ms\tremaining: 20.2ms\n",
      "454:\tlearn: 0.0530856\ttotal: 200ms\tremaining: 19.8ms\n",
      "455:\tlearn: 0.0529080\ttotal: 200ms\tremaining: 19.3ms\n",
      "456:\tlearn: 0.0526620\ttotal: 201ms\tremaining: 18.9ms\n",
      "457:\tlearn: 0.0523795\ttotal: 201ms\tremaining: 18.4ms\n",
      "458:\tlearn: 0.0521266\ttotal: 201ms\tremaining: 18ms\n",
      "459:\tlearn: 0.0519918\ttotal: 202ms\tremaining: 17.6ms\n",
      "460:\tlearn: 0.0518055\ttotal: 202ms\tremaining: 17.1ms\n",
      "461:\tlearn: 0.0516387\ttotal: 203ms\tremaining: 16.7ms\n",
      "462:\tlearn: 0.0515085\ttotal: 203ms\tremaining: 16.2ms\n",
      "463:\tlearn: 0.0513727\ttotal: 204ms\tremaining: 15.8ms\n",
      "464:\tlearn: 0.0511723\ttotal: 204ms\tremaining: 15.4ms\n",
      "465:\tlearn: 0.0510030\ttotal: 205ms\tremaining: 14.9ms\n",
      "466:\tlearn: 0.0508955\ttotal: 205ms\tremaining: 14.5ms\n",
      "467:\tlearn: 0.0507184\ttotal: 205ms\tremaining: 14ms\n",
      "468:\tlearn: 0.0505869\ttotal: 206ms\tremaining: 13.6ms\n",
      "469:\tlearn: 0.0504352\ttotal: 206ms\tremaining: 13.2ms\n",
      "470:\tlearn: 0.0502404\ttotal: 207ms\tremaining: 12.7ms\n",
      "471:\tlearn: 0.0499696\ttotal: 207ms\tremaining: 12.3ms\n",
      "472:\tlearn: 0.0498453\ttotal: 207ms\tremaining: 11.8ms\n",
      "473:\tlearn: 0.0496332\ttotal: 208ms\tremaining: 11.4ms\n",
      "474:\tlearn: 0.0494238\ttotal: 208ms\tremaining: 11ms\n",
      "475:\tlearn: 0.0491648\ttotal: 209ms\tremaining: 10.5ms\n",
      "476:\tlearn: 0.0490217\ttotal: 209ms\tremaining: 10.1ms\n",
      "477:\tlearn: 0.0488961\ttotal: 209ms\tremaining: 9.64ms\n",
      "478:\tlearn: 0.0486529\ttotal: 210ms\tremaining: 9.2ms\n",
      "479:\tlearn: 0.0484671\ttotal: 210ms\tremaining: 8.76ms\n",
      "480:\tlearn: 0.0484281\ttotal: 211ms\tremaining: 8.32ms\n",
      "481:\tlearn: 0.0483835\ttotal: 211ms\tremaining: 7.88ms\n",
      "482:\tlearn: 0.0482557\ttotal: 211ms\tremaining: 7.44ms\n",
      "483:\tlearn: 0.0481339\ttotal: 212ms\tremaining: 7ms\n",
      "484:\tlearn: 0.0479520\ttotal: 212ms\tremaining: 6.56ms\n",
      "485:\tlearn: 0.0478154\ttotal: 213ms\tremaining: 6.13ms\n",
      "486:\tlearn: 0.0477016\ttotal: 213ms\tremaining: 5.69ms\n",
      "487:\tlearn: 0.0475297\ttotal: 214ms\tremaining: 5.25ms\n",
      "488:\tlearn: 0.0474906\ttotal: 214ms\tremaining: 4.81ms\n",
      "489:\tlearn: 0.0474484\ttotal: 214ms\tremaining: 4.37ms\n",
      "490:\tlearn: 0.0472106\ttotal: 215ms\tremaining: 3.93ms\n",
      "491:\tlearn: 0.0469689\ttotal: 215ms\tremaining: 3.5ms\n",
      "492:\tlearn: 0.0466927\ttotal: 216ms\tremaining: 3.06ms\n",
      "493:\tlearn: 0.0465605\ttotal: 216ms\tremaining: 2.62ms\n",
      "494:\tlearn: 0.0464207\ttotal: 216ms\tremaining: 2.18ms\n",
      "495:\tlearn: 0.0461977\ttotal: 217ms\tremaining: 1.75ms\n",
      "496:\tlearn: 0.0460168\ttotal: 217ms\tremaining: 1.31ms\n",
      "497:\tlearn: 0.0458425\ttotal: 217ms\tremaining: 873us\n",
      "498:\tlearn: 0.0455943\ttotal: 218ms\tremaining: 436us\n",
      "499:\tlearn: 0.0454047\ttotal: 218ms\tremaining: 0us\n"
     ]
    },
    {
     "data": {
      "text/plain": [
       "{'depth': 5, 'iterations': 500, 'learning_rate': 0.01}"
      ]
     },
     "execution_count": 193,
     "metadata": {},
     "output_type": "execute_result"
    }
   ],
   "source": [
    "catb = CatBoostClassifier()\n",
    "catb_cv_model = GridSearchCV(catb, catb_params, cv=5, n_jobs = -1, verbose = 2)\n",
    "catb_cv_model.fit(X_train, y_train)\n",
    "catb_cv_model.best_params_"
   ]
  },
  {
   "cell_type": "code",
   "execution_count": 194,
   "id": "05cf8e33-62e3-4cd1-89ee-70032b2fb715",
   "metadata": {},
   "outputs": [
    {
     "data": {
      "text/plain": [
       "{'depth': 5, 'iterations': 500, 'learning_rate': 0.01}"
      ]
     },
     "execution_count": 194,
     "metadata": {},
     "output_type": "execute_result"
    }
   ],
   "source": [
    "catb_cv_model.best_params_"
   ]
  },
  {
   "cell_type": "code",
   "execution_count": 195,
   "id": "40dc7ff2-aec5-4599-9952-bd39d743df58",
   "metadata": {},
   "outputs": [
    {
     "name": "stdout",
     "output_type": "stream",
     "text": [
      "0:\tlearn: 0.6851756\ttotal: 1.12ms\tremaining: 222ms\n",
      "1:\tlearn: 0.6790772\ttotal: 1.87ms\tremaining: 185ms\n",
      "2:\tlearn: 0.6709545\ttotal: 2.65ms\tremaining: 174ms\n",
      "3:\tlearn: 0.6640311\ttotal: 3.65ms\tremaining: 179ms\n",
      "4:\tlearn: 0.6553357\ttotal: 4.13ms\tremaining: 161ms\n",
      "5:\tlearn: 0.6481836\ttotal: 5.08ms\tremaining: 164ms\n",
      "6:\tlearn: 0.6365344\ttotal: 5.91ms\tremaining: 163ms\n",
      "7:\tlearn: 0.6287804\ttotal: 6.73ms\tremaining: 162ms\n",
      "8:\tlearn: 0.6223706\ttotal: 7.63ms\tremaining: 162ms\n",
      "9:\tlearn: 0.6157406\ttotal: 8.53ms\tremaining: 162ms\n",
      "10:\tlearn: 0.6092663\ttotal: 8.91ms\tremaining: 153ms\n",
      "11:\tlearn: 0.6028450\ttotal: 9.63ms\tremaining: 151ms\n",
      "12:\tlearn: 0.5978960\ttotal: 10.5ms\tremaining: 151ms\n",
      "13:\tlearn: 0.5906159\ttotal: 11.3ms\tremaining: 151ms\n",
      "14:\tlearn: 0.5847321\ttotal: 12.1ms\tremaining: 149ms\n",
      "15:\tlearn: 0.5787674\ttotal: 12.6ms\tremaining: 144ms\n",
      "16:\tlearn: 0.5709182\ttotal: 13.4ms\tremaining: 144ms\n",
      "17:\tlearn: 0.5626050\ttotal: 14.2ms\tremaining: 144ms\n",
      "18:\tlearn: 0.5545809\ttotal: 15.1ms\tremaining: 144ms\n",
      "19:\tlearn: 0.5483650\ttotal: 16ms\tremaining: 144ms\n",
      "20:\tlearn: 0.5408062\ttotal: 16.6ms\tremaining: 142ms\n",
      "21:\tlearn: 0.5356544\ttotal: 17ms\tremaining: 138ms\n",
      "22:\tlearn: 0.5293676\ttotal: 17.9ms\tremaining: 138ms\n",
      "23:\tlearn: 0.5250007\ttotal: 18.7ms\tremaining: 137ms\n",
      "24:\tlearn: 0.5168622\ttotal: 19.6ms\tremaining: 137ms\n",
      "25:\tlearn: 0.5126229\ttotal: 20.5ms\tremaining: 137ms\n",
      "26:\tlearn: 0.5086014\ttotal: 21.3ms\tremaining: 136ms\n",
      "27:\tlearn: 0.5028611\ttotal: 22.1ms\tremaining: 136ms\n",
      "28:\tlearn: 0.4984628\ttotal: 23ms\tremaining: 136ms\n",
      "29:\tlearn: 0.4922783\ttotal: 23.9ms\tremaining: 135ms\n",
      "30:\tlearn: 0.4869529\ttotal: 24.8ms\tremaining: 135ms\n",
      "31:\tlearn: 0.4824461\ttotal: 25.7ms\tremaining: 135ms\n",
      "32:\tlearn: 0.4771465\ttotal: 26.6ms\tremaining: 135ms\n",
      "33:\tlearn: 0.4714254\ttotal: 27.2ms\tremaining: 133ms\n",
      "34:\tlearn: 0.4667699\ttotal: 28.1ms\tremaining: 133ms\n",
      "35:\tlearn: 0.4610070\ttotal: 29.1ms\tremaining: 132ms\n",
      "36:\tlearn: 0.4557838\ttotal: 30.1ms\tremaining: 133ms\n",
      "37:\tlearn: 0.4525738\ttotal: 30.4ms\tremaining: 130ms\n",
      "38:\tlearn: 0.4480565\ttotal: 31.1ms\tremaining: 128ms\n",
      "39:\tlearn: 0.4438785\ttotal: 31.9ms\tremaining: 128ms\n",
      "40:\tlearn: 0.4393734\ttotal: 32.8ms\tremaining: 127ms\n",
      "41:\tlearn: 0.4366344\ttotal: 33.3ms\tremaining: 125ms\n",
      "42:\tlearn: 0.4323477\ttotal: 34.2ms\tremaining: 125ms\n",
      "43:\tlearn: 0.4279630\ttotal: 35.1ms\tremaining: 125ms\n",
      "44:\tlearn: 0.4241824\ttotal: 35.6ms\tremaining: 123ms\n",
      "45:\tlearn: 0.4185852\ttotal: 36.5ms\tremaining: 122ms\n",
      "46:\tlearn: 0.4145475\ttotal: 37.3ms\tremaining: 121ms\n",
      "47:\tlearn: 0.4101893\ttotal: 38.1ms\tremaining: 121ms\n",
      "48:\tlearn: 0.4081692\ttotal: 38.5ms\tremaining: 119ms\n",
      "49:\tlearn: 0.4049983\ttotal: 38.9ms\tremaining: 117ms\n",
      "50:\tlearn: 0.4012958\ttotal: 40ms\tremaining: 117ms\n",
      "51:\tlearn: 0.3981797\ttotal: 40.7ms\tremaining: 116ms\n",
      "52:\tlearn: 0.3937938\ttotal: 41.8ms\tremaining: 116ms\n",
      "53:\tlearn: 0.3904311\ttotal: 42.7ms\tremaining: 115ms\n",
      "54:\tlearn: 0.3864839\ttotal: 43.1ms\tremaining: 114ms\n",
      "55:\tlearn: 0.3836430\ttotal: 43.9ms\tremaining: 113ms\n",
      "56:\tlearn: 0.3796491\ttotal: 44.6ms\tremaining: 112ms\n",
      "57:\tlearn: 0.3760062\ttotal: 45.4ms\tremaining: 111ms\n",
      "58:\tlearn: 0.3731656\ttotal: 46.3ms\tremaining: 111ms\n",
      "59:\tlearn: 0.3692553\ttotal: 46.8ms\tremaining: 109ms\n",
      "60:\tlearn: 0.3669600\ttotal: 47.6ms\tremaining: 109ms\n",
      "61:\tlearn: 0.3626810\ttotal: 48.6ms\tremaining: 108ms\n",
      "62:\tlearn: 0.3592345\ttotal: 49.3ms\tremaining: 107ms\n",
      "63:\tlearn: 0.3568871\ttotal: 50.1ms\tremaining: 107ms\n",
      "64:\tlearn: 0.3542556\ttotal: 50.6ms\tremaining: 105ms\n",
      "65:\tlearn: 0.3512264\ttotal: 51.5ms\tremaining: 104ms\n",
      "66:\tlearn: 0.3480473\ttotal: 51.9ms\tremaining: 103ms\n",
      "67:\tlearn: 0.3435906\ttotal: 52.5ms\tremaining: 102ms\n",
      "68:\tlearn: 0.3415617\ttotal: 53.3ms\tremaining: 101ms\n",
      "69:\tlearn: 0.3392607\ttotal: 54.1ms\tremaining: 101ms\n",
      "70:\tlearn: 0.3359295\ttotal: 54.6ms\tremaining: 99.2ms\n",
      "71:\tlearn: 0.3327545\ttotal: 55.4ms\tremaining: 98.5ms\n",
      "72:\tlearn: 0.3298406\ttotal: 56.3ms\tremaining: 98ms\n",
      "73:\tlearn: 0.3277771\ttotal: 57.1ms\tremaining: 97.3ms\n",
      "74:\tlearn: 0.3255607\ttotal: 57.5ms\tremaining: 95.9ms\n",
      "75:\tlearn: 0.3225237\ttotal: 58ms\tremaining: 94.7ms\n",
      "76:\tlearn: 0.3197911\ttotal: 58.9ms\tremaining: 94.1ms\n",
      "77:\tlearn: 0.3166056\ttotal: 59.8ms\tremaining: 93.5ms\n",
      "78:\tlearn: 0.3140988\ttotal: 60.6ms\tremaining: 92.8ms\n",
      "79:\tlearn: 0.3117700\ttotal: 61ms\tremaining: 91.5ms\n",
      "80:\tlearn: 0.3090190\ttotal: 61.7ms\tremaining: 90.6ms\n",
      "81:\tlearn: 0.3068554\ttotal: 62.5ms\tremaining: 89.9ms\n",
      "82:\tlearn: 0.3044090\ttotal: 63.4ms\tremaining: 89.3ms\n",
      "83:\tlearn: 0.3024512\ttotal: 64.2ms\tremaining: 88.7ms\n",
      "84:\tlearn: 0.2991396\ttotal: 65ms\tremaining: 88ms\n",
      "85:\tlearn: 0.2966647\ttotal: 65.5ms\tremaining: 86.8ms\n",
      "86:\tlearn: 0.2933027\ttotal: 66.1ms\tremaining: 85.8ms\n",
      "87:\tlearn: 0.2911248\ttotal: 66.9ms\tremaining: 85.2ms\n",
      "88:\tlearn: 0.2890041\ttotal: 67.5ms\tremaining: 84.1ms\n",
      "89:\tlearn: 0.2875518\ttotal: 68.3ms\tremaining: 83.5ms\n",
      "90:\tlearn: 0.2856801\ttotal: 69.5ms\tremaining: 83.2ms\n",
      "91:\tlearn: 0.2837465\ttotal: 70.4ms\tremaining: 82.6ms\n",
      "92:\tlearn: 0.2820333\ttotal: 70.8ms\tremaining: 81.5ms\n",
      "93:\tlearn: 0.2785932\ttotal: 71.8ms\tremaining: 80.9ms\n",
      "94:\tlearn: 0.2772227\ttotal: 72.3ms\tremaining: 79.9ms\n",
      "95:\tlearn: 0.2750978\ttotal: 73.2ms\tremaining: 79.3ms\n",
      "96:\tlearn: 0.2734120\ttotal: 73.6ms\tremaining: 78.1ms\n",
      "97:\tlearn: 0.2714016\ttotal: 74.6ms\tremaining: 77.6ms\n",
      "98:\tlearn: 0.2698203\ttotal: 75.5ms\tremaining: 77ms\n",
      "99:\tlearn: 0.2682059\ttotal: 76.4ms\tremaining: 76.4ms\n",
      "100:\tlearn: 0.2655458\ttotal: 77.2ms\tremaining: 75.7ms\n",
      "101:\tlearn: 0.2640091\ttotal: 77.6ms\tremaining: 74.6ms\n",
      "102:\tlearn: 0.2614423\ttotal: 78.3ms\tremaining: 73.7ms\n",
      "103:\tlearn: 0.2598614\ttotal: 78.8ms\tremaining: 72.7ms\n",
      "104:\tlearn: 0.2578389\ttotal: 79.2ms\tremaining: 71.7ms\n",
      "105:\tlearn: 0.2555033\ttotal: 80.1ms\tremaining: 71ms\n",
      "106:\tlearn: 0.2534258\ttotal: 80.6ms\tremaining: 70.1ms\n",
      "107:\tlearn: 0.2514171\ttotal: 81ms\tremaining: 69ms\n",
      "108:\tlearn: 0.2494997\ttotal: 81.9ms\tremaining: 68.3ms\n",
      "109:\tlearn: 0.2477708\ttotal: 82.4ms\tremaining: 67.4ms\n",
      "110:\tlearn: 0.2453415\ttotal: 83.3ms\tremaining: 66.8ms\n",
      "111:\tlearn: 0.2432177\ttotal: 84.6ms\tremaining: 66.4ms\n",
      "112:\tlearn: 0.2412192\ttotal: 85.3ms\tremaining: 65.6ms\n",
      "113:\tlearn: 0.2392813\ttotal: 85.9ms\tremaining: 64.8ms\n",
      "114:\tlearn: 0.2376229\ttotal: 86.6ms\tremaining: 64ms\n",
      "115:\tlearn: 0.2359478\ttotal: 87.3ms\tremaining: 63.2ms\n",
      "116:\tlearn: 0.2345380\ttotal: 87.8ms\tremaining: 62.3ms\n",
      "117:\tlearn: 0.2326313\ttotal: 88.8ms\tremaining: 61.7ms\n",
      "118:\tlearn: 0.2304196\ttotal: 89.4ms\tremaining: 60.9ms\n",
      "119:\tlearn: 0.2288401\ttotal: 90.3ms\tremaining: 60.2ms\n",
      "120:\tlearn: 0.2276444\ttotal: 91.3ms\tremaining: 59.6ms\n",
      "121:\tlearn: 0.2259457\ttotal: 92.2ms\tremaining: 59ms\n",
      "122:\tlearn: 0.2243688\ttotal: 93.1ms\tremaining: 58.3ms\n",
      "123:\tlearn: 0.2229541\ttotal: 94ms\tremaining: 57.6ms\n",
      "124:\tlearn: 0.2221533\ttotal: 94.4ms\tremaining: 56.6ms\n",
      "125:\tlearn: 0.2204308\ttotal: 95.4ms\tremaining: 56ms\n",
      "126:\tlearn: 0.2191023\ttotal: 96.3ms\tremaining: 55.4ms\n",
      "127:\tlearn: 0.2170179\ttotal: 97.3ms\tremaining: 54.7ms\n",
      "128:\tlearn: 0.2154947\ttotal: 97.8ms\tremaining: 53.8ms\n",
      "129:\tlearn: 0.2134091\ttotal: 98.8ms\tremaining: 53.2ms\n",
      "130:\tlearn: 0.2117385\ttotal: 99.7ms\tremaining: 52.5ms\n",
      "131:\tlearn: 0.2107808\ttotal: 100ms\tremaining: 51.6ms\n",
      "132:\tlearn: 0.2093966\ttotal: 101ms\tremaining: 50.9ms\n",
      "133:\tlearn: 0.2074725\ttotal: 102ms\tremaining: 50.2ms\n",
      "134:\tlearn: 0.2059620\ttotal: 102ms\tremaining: 49.3ms\n",
      "135:\tlearn: 0.2054145\ttotal: 103ms\tremaining: 48.4ms\n",
      "136:\tlearn: 0.2034120\ttotal: 104ms\tremaining: 47.7ms\n",
      "137:\tlearn: 0.2018437\ttotal: 105ms\tremaining: 47ms\n",
      "138:\tlearn: 0.2003571\ttotal: 106ms\tremaining: 46.4ms\n",
      "139:\tlearn: 0.1985109\ttotal: 107ms\tremaining: 45.7ms\n",
      "140:\tlearn: 0.1966633\ttotal: 108ms\tremaining: 45.1ms\n",
      "141:\tlearn: 0.1954121\ttotal: 108ms\tremaining: 44.2ms\n",
      "142:\tlearn: 0.1944651\ttotal: 109ms\tremaining: 43.2ms\n",
      "143:\tlearn: 0.1929487\ttotal: 109ms\tremaining: 42.5ms\n",
      "144:\tlearn: 0.1915602\ttotal: 110ms\tremaining: 41.8ms\n",
      "145:\tlearn: 0.1900852\ttotal: 111ms\tremaining: 41.1ms\n",
      "146:\tlearn: 0.1886053\ttotal: 112ms\tremaining: 40.4ms\n",
      "147:\tlearn: 0.1874822\ttotal: 113ms\tremaining: 39.5ms\n",
      "148:\tlearn: 0.1866057\ttotal: 113ms\tremaining: 38.8ms\n",
      "149:\tlearn: 0.1848340\ttotal: 114ms\tremaining: 38.1ms\n",
      "150:\tlearn: 0.1837638\ttotal: 115ms\tremaining: 37.4ms\n",
      "151:\tlearn: 0.1822130\ttotal: 116ms\tremaining: 36.6ms\n",
      "152:\tlearn: 0.1807852\ttotal: 117ms\tremaining: 35.9ms\n",
      "153:\tlearn: 0.1798612\ttotal: 118ms\tremaining: 35.2ms\n",
      "154:\tlearn: 0.1786770\ttotal: 119ms\tremaining: 34.4ms\n",
      "155:\tlearn: 0.1774531\ttotal: 119ms\tremaining: 33.7ms\n",
      "156:\tlearn: 0.1761551\ttotal: 120ms\tremaining: 33ms\n",
      "157:\tlearn: 0.1747499\ttotal: 121ms\tremaining: 32.2ms\n",
      "158:\tlearn: 0.1731095\ttotal: 122ms\tremaining: 31.4ms\n",
      "159:\tlearn: 0.1723357\ttotal: 123ms\tremaining: 30.7ms\n",
      "160:\tlearn: 0.1719715\ttotal: 123ms\tremaining: 29.8ms\n",
      "161:\tlearn: 0.1709504\ttotal: 124ms\tremaining: 29.1ms\n",
      "162:\tlearn: 0.1698965\ttotal: 124ms\tremaining: 28.2ms\n",
      "163:\tlearn: 0.1691670\ttotal: 125ms\tremaining: 27.4ms\n",
      "164:\tlearn: 0.1681914\ttotal: 126ms\tremaining: 26.6ms\n",
      "165:\tlearn: 0.1667707\ttotal: 126ms\tremaining: 25.8ms\n",
      "166:\tlearn: 0.1653182\ttotal: 127ms\tremaining: 25.1ms\n",
      "167:\tlearn: 0.1645497\ttotal: 128ms\tremaining: 24.4ms\n",
      "168:\tlearn: 0.1635649\ttotal: 129ms\tremaining: 23.6ms\n",
      "169:\tlearn: 0.1629149\ttotal: 130ms\tremaining: 22.9ms\n",
      "170:\tlearn: 0.1621562\ttotal: 130ms\tremaining: 22.1ms\n",
      "171:\tlearn: 0.1613958\ttotal: 131ms\tremaining: 21.3ms\n",
      "172:\tlearn: 0.1602280\ttotal: 132ms\tremaining: 20.6ms\n",
      "173:\tlearn: 0.1594625\ttotal: 132ms\tremaining: 19.8ms\n",
      "174:\tlearn: 0.1586102\ttotal: 133ms\tremaining: 19ms\n",
      "175:\tlearn: 0.1574796\ttotal: 134ms\tremaining: 18.2ms\n",
      "176:\tlearn: 0.1564177\ttotal: 135ms\tremaining: 17.5ms\n",
      "177:\tlearn: 0.1555125\ttotal: 135ms\tremaining: 16.7ms\n",
      "178:\tlearn: 0.1547068\ttotal: 136ms\tremaining: 16ms\n",
      "179:\tlearn: 0.1537884\ttotal: 137ms\tremaining: 15.2ms\n",
      "180:\tlearn: 0.1525917\ttotal: 138ms\tremaining: 14.5ms\n",
      "181:\tlearn: 0.1515370\ttotal: 139ms\tremaining: 13.7ms\n",
      "182:\tlearn: 0.1504274\ttotal: 140ms\tremaining: 13ms\n",
      "183:\tlearn: 0.1498034\ttotal: 141ms\tremaining: 12.2ms\n",
      "184:\tlearn: 0.1490939\ttotal: 141ms\tremaining: 11.5ms\n",
      "185:\tlearn: 0.1479882\ttotal: 142ms\tremaining: 10.7ms\n",
      "186:\tlearn: 0.1471033\ttotal: 143ms\tremaining: 9.95ms\n",
      "187:\tlearn: 0.1462012\ttotal: 144ms\tremaining: 9.16ms\n",
      "188:\tlearn: 0.1453230\ttotal: 144ms\tremaining: 8.38ms\n",
      "189:\tlearn: 0.1440943\ttotal: 145ms\tremaining: 7.62ms\n",
      "190:\tlearn: 0.1432914\ttotal: 146ms\tremaining: 6.86ms\n",
      "191:\tlearn: 0.1425446\ttotal: 147ms\tremaining: 6.11ms\n",
      "192:\tlearn: 0.1418027\ttotal: 147ms\tremaining: 5.35ms\n",
      "193:\tlearn: 0.1406679\ttotal: 148ms\tremaining: 4.59ms\n",
      "194:\tlearn: 0.1399749\ttotal: 149ms\tremaining: 3.83ms\n",
      "195:\tlearn: 0.1389557\ttotal: 150ms\tremaining: 3.06ms\n",
      "196:\tlearn: 0.1381762\ttotal: 151ms\tremaining: 2.3ms\n",
      "197:\tlearn: 0.1373809\ttotal: 152ms\tremaining: 1.53ms\n",
      "198:\tlearn: 0.1366359\ttotal: 152ms\tremaining: 766us\n",
      "199:\tlearn: 0.1358871\ttotal: 153ms\tremaining: 0us\n"
     ]
    }
   ],
   "source": [
    "catb = CatBoostClassifier(iterations = 200, \n",
    "                          learning_rate = 0.01, \n",
    "                          depth = 8)\n",
    "\n",
    "catb_tuned = catb.fit(X_train, y_train)\n",
    "y_pred = catb_tuned.predict(X_test)"
   ]
  },
  {
   "cell_type": "code",
   "execution_count": 196,
   "id": "d03678eb-4f3b-4767-b268-3d4347d79008",
   "metadata": {},
   "outputs": [
    {
     "data": {
      "text/plain": [
       "0.875"
      ]
     },
     "execution_count": 196,
     "metadata": {},
     "output_type": "execute_result"
    }
   ],
   "source": [
    "y_pred = catb_tuned.predict(X_test)\n",
    "accuracy_score(y_test, y_pred)"
   ]
  },
  {
   "cell_type": "code",
   "execution_count": null,
   "id": "880f33ab-2fe9-4fc2-b0a8-8684bf44fa0b",
   "metadata": {},
   "outputs": [],
   "source": [
    "                            2. !!! Tüm Modellerin Karşılaştırılması"
   ]
  },
  {
   "cell_type": "code",
   "execution_count": 197,
   "id": "93975fdc-9380-45c6-a066-66141676e73e",
   "metadata": {},
   "outputs": [
    {
     "name": "stdout",
     "output_type": "stream",
     "text": [
      "------------------------------\n",
      "KNeighborsClassifier:\n",
      "Accuracy: 87.5000%\n",
      "------------------------------\n",
      "LogisticRegression:\n",
      "Accuracy: 93.7500%\n",
      "------------------------------\n",
      "SVC:\n",
      "Accuracy: 87.5000%\n",
      "------------------------------\n",
      "GaussianNB:\n",
      "Accuracy: 81.2500%\n",
      "------------------------------\n",
      "MLPClassifier:\n",
      "Accuracy: 43.7500%\n",
      "------------------------------\n",
      "DecisionTreeClassifier:\n",
      "Accuracy: 87.5000%\n",
      "------------------------------\n",
      "RandomForestClassifier:\n",
      "Accuracy: 87.5000%\n",
      "------------------------------\n",
      "GradientBoostingClassifier:\n",
      "Accuracy: 87.5000%\n",
      "------------------------------\n",
      "CatBoostClassifier:\n",
      "Accuracy: 87.5000%\n",
      "------------------------------\n",
      "LGBMClassifier:\n",
      "Accuracy: 43.7500%\n",
      "------------------------------\n",
      "XGBClassifier:\n",
      "Accuracy: 87.5000%\n"
     ]
    }
   ],
   "source": [
    "modeller = [\n",
    "    knn_tuned,\n",
    "    loj_model,\n",
    "    svc_tuned,\n",
    "    nb_model,\n",
    "    mlpc_tuned,\n",
    "    cart_tuned,\n",
    "    rf_tuned,\n",
    "    gbm_tuned,\n",
    "    catb_tuned,\n",
    "    lgbm_tuned,\n",
    "    xgb_tuned\n",
    "    \n",
    "]\n",
    "\n",
    "\n",
    "for model in modeller:\n",
    "    if(model!=mlpc_tuned):\n",
    "        y_pred = model.predict(X_test)\n",
    "    else:\n",
    "        y_pred = model.predict(X_test_scaled)\n",
    "        \n",
    "    dogruluk = accuracy_score(y_test, y_pred)\n",
    "    isimler = model.__class__.__name__\n",
    "    print(\"-\"*30)\n",
    "    print(isimler + \":\" )\n",
    "    print(\"Accuracy: {:.4%}\".format(dogruluk))"
   ]
  },
  {
   "cell_type": "code",
   "execution_count": 198,
   "id": "c8437351-91ac-4640-b999-27779ee624ff",
   "metadata": {},
   "outputs": [
    {
     "data": {
      "image/png": "[encoded data removed]",
      "text/plain": [
       "<Figure size 432x288 with 1 Axes>"
      ]
     },
     "metadata": {
      "needs_background": "light"
     },
     "output_type": "display_data"
    }
   ],
   "source": [
    "sonuc = []\n",
    "\n",
    "sonuclar = pd.DataFrame(columns= [\"Modeller\",\"Accuracy\"])\n",
    "\n",
    "for model in modeller:\n",
    "    \n",
    "    if(model!=mlpc_tuned):\n",
    "        y_pred = model.predict(X_test)\n",
    "    else:\n",
    "        y_pred = model.predict(X_test_scaled)\n",
    "\n",
    "    dogruluk = accuracy_score(y_test, y_pred)    \n",
    "    isimler = model.__class__.__name__\n",
    "    sonuc = pd.DataFrame([[isimler, dogruluk*100]], columns= [\"Modeller\",\"Accuracy\"])\n",
    "    sonuclar = sonuclar.append(sonuc)\n",
    "    \n",
    "    \n",
    "sns.barplot(x= 'Accuracy', y = 'Modeller', data=sonuclar, color=\"r\")\n",
    "plt.xlabel('Accuracy %')\n",
    "plt.title('Modellerin Doğruluk Oranları');    "
   ]
  },
  {
   "cell_type": "code",
   "execution_count": null,
   "id": "5af3f5f6-96f0-4333-85b9-422caf4e1ef4",
   "metadata": {},
   "outputs": [],
   "source": [
    "                                             3. SONUÇ\n",
    "!!! En iyi sonucu Lojistik Regresyon (LR) Modeli vermiştir. Sırası yukarıdaki şekilde gözükmektedir.\n",
    "!!! En Kötü sonuçları ise   Çok Katmanlı Algılayıcılar (ANN) ve LightGBM modeli vermiştir."
   ]
  }
 ],
 "metadata": {
  "kernelspec": {
   "display_name": "Python 3 (ipykernel)",
   "language": "python",
   "name": "python3"
  },
  "language_info": {
   "codemirror_mode": {
    "name": "ipython",
    "version": 3
   },
   "file_extension": ".py",
   "mimetype": "text/x-python",
   "name": "python",
   "nbconvert_exporter": "python",
   "pygments_lexer": "ipython3",
   "version": "3.10.4"
  }
 },
 "nbformat": 4,
 "nbformat_minor": 5
}
